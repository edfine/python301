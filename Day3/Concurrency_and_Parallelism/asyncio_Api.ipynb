{
  "cells": [
    {
      "cell_type": "markdown",
      "metadata": {
        "id": "Wnu6tv6c5_6L"
      },
      "source": [
        "# ***High-level API Index***"
      ]
    },
    {
      "cell_type": "markdown",
      "metadata": {
        "id": "Cb0PWb9U6GLp"
      },
      "source": [
        "## ***Lists of all high-level async/await enabled asyncio APIs.***"
      ]
    },
    {
      "cell_type": "markdown",
      "metadata": {
        "id": "BtxYNOQo6LVp"
      },
      "source": [
        "### ***Tasks***"
      ]
    },
    {
      "cell_type": "markdown",
      "metadata": {
        "id": "xkzM5VGO6Olx"
      },
      "source": [
        "Utilities to run asyncio programs, create Tasks, and await on multiple things with timeouts"
      ]
    },
    {
      "cell_type": "markdown",
      "metadata": {
        "id": "xbUPrVJiGshx"
      },
      "source": [
        "### ***1.run()***"
      ]
    },
    {
      "cell_type": "markdown",
      "metadata": {
        "id": "usCbH53qHB56"
      },
      "source": [
        " Create event loop, run a coroutine, close the loop."
      ]
    },
    {
      "cell_type": "markdown",
      "metadata": {
        "id": "a3aecE8IHYCq"
      },
      "source": [
        "This function runs the passed coroutine, taking care of managing the asyncio event loop, finalizing asynchronous generators, and closing the threadpool.\n",
        "\n",
        "This function cannot be called when another asyncio event loop is running in the same thread.\n",
        "\n",
        "If debug is True, the event loop will be run in debug mode.\n",
        "\n",
        "This function always creates a new event loop and closes it at the end. It should be used as a main entry point for asyncio programs, and should ideally only be called once.\n",
        "\n",
        "### syntax: asyncio.run(coro, *, debug=False)"
      ]
    },
    {
      "cell_type": "markdown",
      "metadata": {
        "id": "NQhKblRdHc6Z"
      },
      "source": [
        "***Example:***"
      ]
    },
    {
      "cell_type": "code",
      "execution_count": null,
      "metadata": {
        "colab": {
          "base_uri": "https://localhost:8080/",
          "height": 322
        },
        "id": "bzSIL_jSH12T",
        "outputId": "cd1ae113-1a44-43ee-a27c-e9f59fa37649"
      },
      "outputs": [],
      "source": [
        "import asyncio \n",
        "\n",
        "async def main():\n",
        "    await asyncio.sleep(1)\n",
        "    print('hello')\n",
        "\n",
        "asyncio.run(main())"
      ]
    },
    {
      "cell_type": "markdown",
      "metadata": {
        "id": "vPxL_hkHI4_a"
      },
      "source": [
        "### ***2. create_task()***"
      ]
    },
    {
      "cell_type": "markdown",
      "metadata": {
        "id": "I84Q8Oh4I96J"
      },
      "source": [
        "Start an asyncio Task."
      ]
    },
    {
      "cell_type": "markdown",
      "metadata": {
        "id": "BZ8aN83AJL74"
      },
      "source": [
        "Wrap the coro coroutine into a Task and schedule its execution. Return the Task object.\n",
        "\n",
        "If name is not None, it is set as the name of the task using Task.set_name().\n",
        "\n",
        "The task is executed in the loop returned by get_running_loop(), RuntimeError is raised if there is no running loop in current thread."
      ]
    },
    {
      "cell_type": "code",
      "execution_count": null,
      "metadata": {
        "id": "EZA78QjlJV4h"
      },
      "outputs": [],
      "source": [
        "async def coro():\n",
        "    await asyncio.sleep(1)\n",
        "    print('hello') \n",
        "\n",
        "# In Python 3.7+\n",
        "task = asyncio.create_task(coro())\n",
        "\n",
        "# This works in all Python versions but is less readable\n",
        "task = asyncio.ensure_future(coro())"
      ]
    },
    {
      "cell_type": "markdown",
      "metadata": {
        "id": "UxOmKyE5JezQ"
      },
      "source": [
        "### ***3. await sleep()***"
      ]
    },
    {
      "cell_type": "markdown",
      "metadata": {
        "id": "ATOhN158JhbP"
      },
      "source": [
        "Sleep for a number of seconds."
      ]
    },
    {
      "cell_type": "markdown",
      "metadata": {
        "id": "-C2fbPCrJkif"
      },
      "source": [
        "If result is provided, it is returned to the caller when the coroutine completes.\n",
        "\n",
        "sleep() always suspends the current task, allowing other tasks to run.\n",
        "\n",
        "Setting the delay to 0 provides an optimized path to allow other tasks to run. This can be used by long-running functions to avoid blocking the event loop for the full duration of the function call."
      ]
    },
    {
      "cell_type": "markdown",
      "metadata": {
        "id": "yAgXwmyBJ8o3"
      },
      "source": [
        "***Example of coroutine displaying the current date every second for 5 seconds:***"
      ]
    },
    {
      "cell_type": "code",
      "execution_count": null,
      "metadata": {
        "id": "JDJXbweEKAMv"
      },
      "outputs": [],
      "source": [
        "import asyncio\n",
        "import datetime\n",
        "\n",
        "async def display_date():\n",
        "    loop = asyncio.get_running_loop()\n",
        "    end_time = loop.time() + 5.0\n",
        "    while True:\n",
        "        print(datetime.datetime.now())\n",
        "        if (loop.time() + 1.0) >= end_time:\n",
        "            break\n",
        "        await asyncio.sleep(1)\n",
        "\n",
        "asyncio.run(display_date())"
      ]
    },
    {
      "cell_type": "markdown",
      "metadata": {
        "id": "XHp3fcvRKG0I"
      },
      "source": [
        "### ***await gather()***"
      ]
    },
    {
      "cell_type": "markdown",
      "metadata": {
        "id": "1SsdoLtRKLsv"
      },
      "source": [
        "Schedule and wait for things concurrently."
      ]
    },
    {
      "cell_type": "markdown",
      "metadata": {
        "id": "rXrNWnn8KeDZ"
      },
      "source": [
        "If return_exceptions is False (default), the first raised exception is immediately propagated to the task that awaits on gather(). Other awaitables in the aws sequence won’t be cancelled and will continue to run.\n",
        "\n",
        "If return_exceptions is True, exceptions are treated the same as successful results, and aggregated in the result list.\n",
        "\n",
        "If gather() is cancelled, all submitted awaitables (that have not completed yet) are also cancelled.\n",
        "\n",
        "If any Task or Future from the aws sequence is cancelled, it is treated as if it raised CancelledError – the gather() call is not cancelled in this case. This is to prevent the cancellation of one submitted Task/Future to cause other Tasks/Futures to be cancelled."
      ]
    },
    {
      "cell_type": "markdown",
      "metadata": {
        "id": "ghQVejAQKi6Y"
      },
      "source": [
        "*** Removed the loop parameter.***"
      ]
    },
    {
      "cell_type": "code",
      "execution_count": null,
      "metadata": {
        "id": "feKJEGqQKvMO"
      },
      "outputs": [],
      "source": [
        "import asyncio\n",
        "\n",
        "async def factorial(name, number):\n",
        "    f = 1\n",
        "    for i in range(2, number + 1):\n",
        "        print(f\"Task {name}: Compute factorial({number}), currently i={i}...\")\n",
        "        await asyncio.sleep(1)\n",
        "        f *= i\n",
        "    print(f\"Task {name}: factorial({number}) = {f}\")\n",
        "    return f\n",
        "\n",
        "async def main():\n",
        "    # Schedule three calls *concurrently*:\n",
        "    L = await asyncio.gather(\n",
        "        factorial(\"A\", 2),\n",
        "        factorial(\"B\", 3),\n",
        "        factorial(\"C\", 4),\n",
        "    )\n",
        "    print(L)\n",
        "\n",
        "asyncio.run(main())\n",
        "\n",
        "# Expected output:\n",
        "#\n",
        "#     Task A: Compute factorial(2), currently i=2...\n",
        "#     Task B: Compute factorial(3), currently i=2...\n",
        "#     Task C: Compute factorial(4), currently i=2...\n",
        "#     Task A: factorial(2) = 2\n",
        "#     Task B: Compute factorial(3), currently i=3...\n",
        "#     Task C: Compute factorial(4), currently i=3...\n",
        "#     Task B: factorial(3) = 6\n",
        "#     Task C: Compute factorial(4), currently i=4...\n",
        "#     Task C: factorial(4) = 24\n",
        "#     [2, 6, 24]"
      ]
    },
    {
      "cell_type": "markdown",
      "metadata": {
        "id": "WTpuxm4iK8YO"
      },
      "source": [
        " If return_exceptions is False, cancelling gather() after it has been marked done won’t cancel any submitted awaitables. For instance, gather can be marked done after propagating an exception to the caller, therefore, calling gather.cancel() after catching an exception (raised by one of the awaitables) from gather won’t cancel any other awaitables."
      ]
    },
    {
      "cell_type": "markdown",
      "metadata": {
        "id": "w81yeWlyLAAg"
      },
      "source": [
        "### ***await wait_for()***"
      ]
    },
    {
      "cell_type": "markdown",
      "metadata": {
        "id": "FPqV0CVyLgbn"
      },
      "source": [
        "To avoid the task cancellation, wrap it in shield().\n",
        "\n",
        "The function will wait until the future is actually cancelled, so the total wait time may exceed the timeout. If an exception happens during cancellation, it is propagated.\n",
        "\n",
        "If the wait is cancelled, the future aw is also cancelled."
      ]
    },
    {
      "cell_type": "markdown",
      "metadata": {
        "id": "F7T8Iyr6Li43"
      },
      "source": [
        "### ***Example***"
      ]
    },
    {
      "cell_type": "code",
      "execution_count": null,
      "metadata": {
        "id": "Bj1t-XhoLpRg"
      },
      "outputs": [],
      "source": [
        "async def eternity():\n",
        "    # Sleep for one hour\n",
        "    await asyncio.sleep(3600)\n",
        "    print('yay!')\n",
        "\n",
        "async def main():\n",
        "    # Wait for at most 1 second\n",
        "    try:\n",
        "        await asyncio.wait_for(eternity(), timeout=1.0)\n",
        "    except asyncio.TimeoutError:\n",
        "        print('timeout!')\n",
        "\n",
        "asyncio.run(main())\n",
        "\n",
        "# Expected output:\n",
        "#\n",
        "#     timeout!"
      ]
    },
    {
      "cell_type": "markdown",
      "metadata": {
        "id": "ixrN6cgLLyiG"
      },
      "source": [
        "### ***(await shield())***"
      ]
    },
    {
      "cell_type": "markdown",
      "metadata": {
        "id": "JWJKu6VcNEgu"
      },
      "source": []
    },
    {
      "cell_type": "markdown",
      "metadata": {
        "id": "lk_aBYhWMtgd"
      },
      "source": [
        "If aw is a coroutine it is automatically scheduled as a Task.\n",
        "\n",
        "The statement:"
      ]
    },
    {
      "cell_type": "code",
      "execution_count": null,
      "metadata": {
        "id": "5lg4iFNFM129"
      },
      "outputs": [],
      "source": [
        "res = await shield(something())"
      ]
    },
    {
      "cell_type": "markdown",
      "metadata": {
        "id": "b_gER5VNM3bF"
      },
      "source": [
        "is equivalent to:"
      ]
    },
    {
      "cell_type": "code",
      "execution_count": null,
      "metadata": {
        "id": "RktOuwJ9M5P9"
      },
      "outputs": [],
      "source": [
        "res = await something()"
      ]
    },
    {
      "cell_type": "markdown",
      "metadata": {
        "id": "W7I6SFb9M7ue"
      },
      "source": [
        "except that if the coroutine containing it is cancelled, the Task running in something() is not cancelled. From the point of view of something(), the cancellation did not happen. Although its caller is still cancelled, so the “await” expression still raises a CancelledError.\n",
        "\n",
        "If something() is cancelled by other means (i.e. from within itself) that would also cancel shield().\n",
        "\n",
        "If it is desired to completely ignore cancellation (not recommended) the shield() function should be combined with a try/except clause, as follows:"
      ]
    },
    {
      "cell_type": "code",
      "execution_count": null,
      "metadata": {
        "id": "zTDsSzOCM9aA"
      },
      "outputs": [],
      "source": [
        "try:\n",
        "    res = await shield(something())\n",
        "except CancelledError:\n",
        "    res = None"
      ]
    },
    {
      "cell_type": "markdown",
      "metadata": {
        "id": "iTvNTRWlNFll"
      },
      "source": [
        "### ***await wait()***"
      ]
    },
    {
      "cell_type": "markdown",
      "metadata": {
        "id": "l4jE6hMJNIuW"
      },
      "source": [
        "\t\n",
        "Monitor for completion."
      ]
    },
    {
      "cell_type": "markdown",
      "metadata": {
        "id": "d4I6TwoFNPB9"
      },
      "source": [
        "### Syntax : coroutine asyncio.wait(aws, *, timeout=None, return_when=ALL_COMPLETED)"
      ]
    },
    {
      "cell_type": "markdown",
      "metadata": {
        "id": "gVp9H6m1Ncy8"
      },
      "source": [
        "Returns two sets of Tasks/Futures: (done, pending)."
      ]
    },
    {
      "cell_type": "code",
      "execution_count": null,
      "metadata": {
        "id": "Xqez6m4HNePP"
      },
      "outputs": [],
      "source": [
        "done, pending = await asyncio.wait(aws)"
      ]
    },
    {
      "cell_type": "markdown",
      "metadata": {
        "id": "fXnrQ3zROBhU"
      },
      "source": [
        "### ***current_task()***"
      ]
    },
    {
      "cell_type": "markdown",
      "metadata": {
        "id": "ztmKO2kNOHQ3"
      },
      "source": [
        "\t\n",
        "Return the current Task."
      ]
    },
    {
      "cell_type": "markdown",
      "metadata": {
        "id": "HW3ymFoDNm7e"
      },
      "source": [
        "***syntax : asyncio.current_task(loop=None)***"
      ]
    },
    {
      "cell_type": "markdown",
      "metadata": {
        "id": "I1dX9jOhNtGe"
      },
      "source": [
        "Return the currently running Task instance, or None if no task is running.\n",
        "\n",
        "If loop is None get_running_loop() is used to get the current loop."
      ]
    },
    {
      "cell_type": "markdown",
      "metadata": {
        "id": "_SNwEnnfN6xO"
      },
      "source": [
        "### ***all_tasks()***"
      ]
    },
    {
      "cell_type": "markdown",
      "metadata": {
        "id": "jPb5BhZVOKYG"
      },
      "source": [
        "Return all tasks for an event loop."
      ]
    },
    {
      "cell_type": "code",
      "execution_count": null,
      "metadata": {
        "id": "xIpjUdleOP4c"
      },
      "outputs": [],
      "source": [
        "asyncio.all_tasks(loop=None)"
      ]
    },
    {
      "cell_type": "markdown",
      "metadata": {
        "id": "b3Lxpo_bOYCN"
      },
      "source": [
        "Return a set of not yet finished Task objects run by the loop.\n",
        "\n",
        "If loop is None, get_running_loop() is used for getting current loop."
      ]
    },
    {
      "cell_type": "markdown",
      "metadata": {
        "id": "mSQVY5NoOccE"
      },
      "source": [
        "### ***Task***"
      ]
    },
    {
      "cell_type": "markdown",
      "metadata": {
        "id": "lXuvo3avOu53"
      },
      "source": [
        "\t\n",
        "Task object."
      ]
    },
    {
      "cell_type": "markdown",
      "metadata": {
        "id": "_tb2yxpgOjFU"
      },
      "source": [
        "### syntax : class asyncio.Task(coro, *, loop=None, name=None)"
      ]
    },
    {
      "cell_type": "markdown",
      "metadata": {
        "id": "6eReJ_QsO53k"
      },
      "source": [
        "Tasks are used to run coroutines in event loops. If a coroutine awaits on a Future, the Task suspends the execution of the coroutine and waits for the completion of the Future. When the Future is done, the execution of the wrapped coroutine resumes.\n",
        "\n",
        "Event loops use cooperative scheduling: an event loop runs one Task at a time. While a Task awaits for the completion of a Future, the event loop runs other Tasks, callbacks, or performs IO operations.\n",
        "\n",
        "Use the high-level asyncio.create_task() function to create Tasks, or the low-level loop.create_task() or ensure_future() functions. Manual instantiation of Tasks is discouraged.\n",
        "\n",
        "To cancel a running Task use the cancel() method. Calling it will cause the Task to throw a CancelledError exception into the wrapped coroutine. If a coroutine is awaiting on a Future object during cancellation, the Future object will be cancelled."
      ]
    },
    {
      "cell_type": "markdown",
      "metadata": {
        "id": "MC2tU3tNRIka"
      },
      "source": [
        "***The following example illustrates how coroutines can intercept the cancellation request:***"
      ]
    },
    {
      "cell_type": "code",
      "execution_count": null,
      "metadata": {
        "id": "4WIZZDK6QOMr"
      },
      "outputs": [],
      "source": [
        "async def cancel_me():\n",
        "    print('cancel_me(): before sleep')\n",
        "\n",
        "    try:\n",
        "        # Wait for 1 hour\n",
        "        await asyncio.sleep(3600)\n",
        "    except asyncio.CancelledError:\n",
        "        print('cancel_me(): cancel sleep')\n",
        "        raise\n",
        "    finally:\n",
        "        print('cancel_me(): after sleep')\n",
        "\n",
        "async def main():\n",
        "    # Create a \"cancel_me\" Task\n",
        "    task = asyncio.create_task(cancel_me())\n",
        "\n",
        "    # Wait for 1 second\n",
        "    await asyncio.sleep(1)\n",
        "\n",
        "    task.cancel()\n",
        "    try:\n",
        "        await task\n",
        "    except asyncio.CancelledError:\n",
        "        print(\"main(): cancel_me is cancelled now\")\n",
        "\n",
        "asyncio.run(main())"
      ]
    },
    {
      "cell_type": "markdown",
      "metadata": {
        "id": "PzFcFo63O_5k"
      },
      "source": [
        "### ***to_thread()***\n",
        "\n"
      ]
    },
    {
      "cell_type": "markdown",
      "metadata": {
        "id": "hNe7mu5dPN3O"
      },
      "source": [
        "\t\n",
        "Asynchronously run a function in a separate OS thread."
      ]
    },
    {
      "cell_type": "markdown",
      "metadata": {
        "id": "Q1ZQX-LQRR4c"
      },
      "source": [
        "### syntax : coroutine asyncio.to_thread(func, /, *args, **kwargs)"
      ]
    },
    {
      "cell_type": "markdown",
      "metadata": {
        "id": "ht52DoOpRVHs"
      },
      "source": [
        "Asynchronously run function func in a separate thread.\n",
        "\n",
        "Any *args and **kwargs supplied for this function are directly passed to func. Also, the current contextvars.Context is propagated, allowing context variables from the event loop thread to be accessed in the separate thread.\n",
        "\n",
        "Return a coroutine that can be awaited to get the eventual result of func.\n",
        "\n",
        "This coroutine function is primarily intended to be used for executing IO-bound functions/methods that would otherwise block the event loop if they were ran in the main thread. For example:"
      ]
    },
    {
      "cell_type": "code",
      "execution_count": null,
      "metadata": {
        "id": "3mKS7iSjRdhL"
      },
      "outputs": [],
      "source": [
        "def blocking_io():\n",
        "    print(f\"start blocking_io at {time.strftime('%X')}\")\n",
        "    # Note that time.sleep() can be replaced with any blocking\n",
        "    # IO-bound operation, such as file operations.\n",
        "    time.sleep(1)\n",
        "    print(f\"blocking_io complete at {time.strftime('%X')}\")\n",
        "\n",
        "async def main():\n",
        "    print(f\"started main at {time.strftime('%X')}\")\n",
        "\n",
        "    await asyncio.gather(\n",
        "        asyncio.to_thread(blocking_io),\n",
        "        asyncio.sleep(1))\n",
        "\n",
        "    print(f\"finished main at {time.strftime('%X')}\")\n",
        "\n",
        "\n",
        "asyncio.run(main())"
      ]
    },
    {
      "cell_type": "markdown",
      "metadata": {
        "id": "4VtnU-w8Rkyj"
      },
      "source": [
        "Directly calling blocking_io() in any coroutine would block the event loop for its duration, resulting in an additional 1 second of run time. Instead, by using asyncio.to_thread(), we can run it in a separate thread without blocking the event loop."
      ]
    },
    {
      "cell_type": "markdown",
      "metadata": {
        "id": "5l2kvtO1Rpsz"
      },
      "source": [
        "# ***run_coroutine_threadsafe()***"
      ]
    },
    {
      "cell_type": "markdown",
      "metadata": {
        "id": "tglrqgg_RsAm"
      },
      "source": [
        "\t\n",
        "Schedule a coroutine from another OS thread."
      ]
    },
    {
      "cell_type": "markdown",
      "metadata": {
        "id": "WGXYmVraRwS6"
      },
      "source": [
        "### syntax : asyncio.run_coroutine_threadsafe(coro, loop)"
      ]
    },
    {
      "cell_type": "markdown",
      "metadata": {
        "id": "A8QGK-EpR06L"
      },
      "source": [
        "This function is meant to be called from a different OS thread than the one where the event loop is running. Example:"
      ]
    },
    {
      "cell_type": "code",
      "execution_count": null,
      "metadata": {
        "id": "_7wFShADR3NV"
      },
      "outputs": [],
      "source": [
        "# Create a coroutine\n",
        "coro = asyncio.sleep(1, result=3)\n",
        "\n",
        "# Submit the coroutine to a given loop\n",
        "future = asyncio.run_coroutine_threadsafe(coro, loop)\n",
        "\n",
        "# Wait for the result with an optional timeout argument\n",
        "assert future.result(timeout) == 3"
      ]
    },
    {
      "cell_type": "markdown",
      "metadata": {
        "id": "6To2Ah_uR4zE"
      },
      "source": [
        "If an exception is raised in the coroutine, the returned Future will be notified. It can also be used to cancel the task in the event loop:"
      ]
    },
    {
      "cell_type": "code",
      "execution_count": null,
      "metadata": {
        "id": "WIeJHWirR6pq"
      },
      "outputs": [],
      "source": [
        "try:\n",
        "    result = future.result(timeout)\n",
        "except concurrent.futures.TimeoutError:\n",
        "    print('The coroutine took too long, cancelling the task...')\n",
        "    future.cancel()\n",
        "except Exception as exc:\n",
        "    print(f'The coroutine raised an exception: {exc!r}')\n",
        "else:\n",
        "    print(f'The coroutine returned: {result!r}')"
      ]
    },
    {
      "cell_type": "markdown",
      "metadata": {
        "id": "fPxtacXwR-Dr"
      },
      "source": [
        "# ***for in as_completed()***"
      ]
    },
    {
      "cell_type": "markdown",
      "metadata": {
        "id": "-hRCrEMaSeOa"
      },
      "source": [
        "\t\n",
        "Monitor for completion with a for loop."
      ]
    },
    {
      "cell_type": "markdown",
      "metadata": {
        "id": "3YphPWoFSCDr"
      },
      "source": [
        "### syntax: asyncio.as_completed(aws, *, timeout=None)"
      ]
    },
    {
      "cell_type": "markdown",
      "metadata": {
        "id": "xQQECBifSGni"
      },
      "source": [
        "***Example:***"
      ]
    },
    {
      "cell_type": "code",
      "execution_count": null,
      "metadata": {
        "id": "1wdPn8TWSJqK"
      },
      "outputs": [],
      "source": [
        "for coro in as_completed(aws):\n",
        "    earliest_result = await coro"
      ]
    },
    {
      "cell_type": "markdown",
      "metadata": {
        "id": "KuQ9GpNdSj7Z"
      },
      "source": [
        "# ***Queues***"
      ]
    },
    {
      "cell_type": "markdown",
      "metadata": {
        "id": "q-3juJ0rS9Ka"
      },
      "source": [
        "Queues should be used to distribute work amongst multiple asyncio Tasks, implement connection pools, and pub/sub patterns."
      ]
    },
    {
      "cell_type": "markdown",
      "metadata": {
        "id": "KfXOgQicTLj7"
      },
      "source": [
        "## ***Queue***"
      ]
    },
    {
      "cell_type": "markdown",
      "metadata": {
        "id": "YZlu5VF8TT6y"
      },
      "source": [
        "Queue is a FIFO queue.\n",
        "\n",
        "### Syntax: class asyncio.Queue(maxsize=0)."
      ]
    },
    {
      "cell_type": "markdown",
      "metadata": {
        "id": "ckyRegzwT1VJ"
      },
      "source": [
        "A first in, first out (FIFO) queue.\n",
        "\n",
        "If maxsize is less than or equal to zero, the queue size is infinite. If it is an integer greater than 0, then await put() blocks when the queue reaches maxsize until an item is removed by get().\n",
        "\n",
        "Unlike the standard library threading queue, the size of the queue is always known and can be returned by calling the qsize() method."
      ]
    },
    {
      "cell_type": "markdown",
      "metadata": {
        "id": "Jkpn1cNWUI55"
      },
      "source": [
        "***Queues can be used to distribute workload between several concurrent tasks:***"
      ]
    },
    {
      "cell_type": "code",
      "execution_count": null,
      "metadata": {
        "id": "96WB-YMOUTIy"
      },
      "outputs": [],
      "source": [
        "import asyncio\n",
        "import random\n",
        "import time\n",
        "\n",
        "\n",
        "async def worker(name, queue):\n",
        "    while True:\n",
        "        # Get a \"work item\" out of the queue.\n",
        "        sleep_for = await queue.get()\n",
        "\n",
        "        # Sleep for the \"sleep_for\" seconds.\n",
        "        await asyncio.sleep(sleep_for)\n",
        "\n",
        "        # Notify the queue that the \"work item\" has been processed.\n",
        "        queue.task_done()\n",
        "\n",
        "        print(f'{name} has slept for {sleep_for:.2f} seconds')\n",
        "\n",
        "\n",
        "async def main():\n",
        "    # Create a queue that we will use to store our \"workload\".\n",
        "    queue = asyncio.Queue()\n",
        "\n",
        "    # Generate random timings and put them into the queue.\n",
        "    total_sleep_time = 0\n",
        "    for _ in range(20):\n",
        "        sleep_for = random.uniform(0.05, 1.0)\n",
        "        total_sleep_time += sleep_for\n",
        "        queue.put_nowait(sleep_for)\n",
        "\n",
        "    # Create three worker tasks to process the queue concurrently.\n",
        "    tasks = []\n",
        "    for i in range(3):\n",
        "        task = asyncio.create_task(worker(f'worker-{i}', queue))\n",
        "        tasks.append(task)\n",
        "\n",
        "    # Wait until the queue is fully processed.\n",
        "    started_at = time.monotonic()\n",
        "    await queue.join()\n",
        "    total_slept_for = time.monotonic() - started_at\n",
        "\n",
        "    # Cancel our worker tasks.\n",
        "    for task in tasks:\n",
        "        task.cancel()\n",
        "    # Wait until all worker tasks are cancelled.\n",
        "    await asyncio.gather(*tasks, return_exceptions=True)\n",
        "\n",
        "    print('====')\n",
        "    print(f'3 workers slept in parallel for {total_slept_for:.2f} seconds')\n",
        "    print(f'total expected sleep time: {total_sleep_time:.2f} seconds')\n",
        "\n",
        "\n",
        "asyncio.run(main())"
      ]
    },
    {
      "cell_type": "markdown",
      "metadata": {
        "id": "9iYRVUB6UcUo"
      },
      "source": [
        "## ***PriorityQueue***"
      ]
    },
    {
      "cell_type": "markdown",
      "metadata": {
        "id": "WKqGfploUpOo"
      },
      "source": [
        "A priorityQueue is a priority queue.\n",
        "\n",
        "### Syntax: class asyncio.PriorityQueue"
      ]
    },
    {
      "cell_type": "markdown",
      "metadata": {
        "id": "rZNdsVdYU4b5"
      },
      "source": [
        "A variant of Queue; retrieves entries in priority order (lowest first).\n",
        "\n",
        "Entries are typically tuples of the form (priority_number, data)."
      ]
    },
    {
      "cell_type": "markdown",
      "metadata": {
        "id": "siWPAR8aU9Xx"
      },
      "source": [
        "## ***LifoQueue***"
      ]
    },
    {
      "cell_type": "markdown",
      "metadata": {
        "id": "2ONYUesCVEMZ"
      },
      "source": [
        "### ***Syntax : class asyncio.LifoQueue***"
      ]
    },
    {
      "cell_type": "markdown",
      "metadata": {
        "id": "yfe2bj95VITh"
      },
      "source": [
        "A variant of Queue that retrieves most recently added entries first (last in, first out)."
      ]
    },
    {
      "cell_type": "markdown",
      "metadata": {
        "id": "1jUYOlftVT2r"
      },
      "source": [
        "# ***Subprocesses***"
      ]
    },
    {
      "cell_type": "markdown",
      "metadata": {
        "id": "kWI142P-VmnJ"
      },
      "source": [
        "Utilities to spawn subprocesses and run shell commands.\n",
        "\n",
        "This section describes high-level async/await asyncio APIs to create and manage subprocesses.\n",
        "\n"
      ]
    },
    {
      "cell_type": "code",
      "execution_count": null,
      "metadata": {
        "id": "V8Q1x1ECWrnf"
      },
      "outputs": [],
      "source": [
        "import asyncio\n",
        "\n",
        "async def run(cmd):\n",
        "    proc = await asyncio.create_subprocess_shell(\n",
        "        cmd,\n",
        "        stdout=asyncio.subprocess.PIPE,\n",
        "        stderr=asyncio.subprocess.PIPE)\n",
        "\n",
        "    stdout, stderr = await proc.communicate()\n",
        "\n",
        "    print(f'[{cmd!r} exited with {proc.returncode}]')\n",
        "    if stdout:\n",
        "        print(f'[stdout]\\n{stdout.decode()}')\n",
        "    if stderr:\n",
        "        print(f'[stderr]\\n{stderr.decode()}')\n",
        "\n",
        "asyncio.run(run('ls /zzz'))"
      ]
    },
    {
      "cell_type": "markdown",
      "metadata": {
        "id": "KAmRw4X4Vo2r"
      },
      "source": [
        "### ***await create_subprocess_exec()***"
      ]
    },
    {
      "cell_type": "markdown",
      "metadata": {
        "id": "FaLz1IRkVs7p"
      },
      "source": [
        "### Syntax: coroutine asyncio.create_subprocess_exec(program, *args, stdin=None, stdout=None, stderr=None, limit=None, **kwds)"
      ]
    },
    {
      "cell_type": "markdown",
      "metadata": {
        "id": "Z-vquPHvXtCw"
      },
      "source": [
        "Create a subprocess from one or more string arguments specified by args.\n",
        "\n",
        "args must be a list of strings represented by:\n",
        "\n",
        "str;\n",
        "\n",
        "or bytes, encoded to the filesystem encoding.\n",
        "\n",
        "The first string specifies the program executable, and the remaining strings specify the arguments. Together, string arguments form the argv of the program.\n",
        "\n",
        "This is similar to the standard library subprocess.Popen class called with shell=False and the list of strings passed as the first argument; however, where Popen takes a single argument which is list of strings, subprocess_exec takes multiple string arguments."
      ]
    },
    {
      "cell_type": "markdown",
      "metadata": {
        "id": "wc8Ti8IsXxpP"
      },
      "source": [
        "### ***await create_subprocess_shell()***"
      ]
    },
    {
      "cell_type": "markdown",
      "metadata": {
        "id": "xtW4p2LeX44p"
      },
      "source": [
        "### Syntax: coroutine asyncio.create_subprocess_shell(cmd, stdin=None, stdout=None, stderr=None, limit=None, **kwds)"
      ]
    },
    {
      "cell_type": "markdown",
      "metadata": {
        "id": "qXA7GmdCYO5o"
      },
      "source": [
        "Run the cmd shell command.\n",
        "\n",
        "The limit argument sets the buffer limit for StreamReader wrappers for Process.stdout and Process.stderr (if subprocess.PIPE is passed to stdout and stderr arguments).\n",
        "\n",
        "Return a Process instance."
      ]
    },
    {
      "cell_type": "markdown",
      "metadata": {
        "id": "PD0Dz32cV9bI"
      },
      "source": [
        "### ***Example The subprocess is created by the create_subprocess_exec() function:***"
      ]
    },
    {
      "cell_type": "code",
      "execution_count": null,
      "metadata": {
        "id": "-ccy5YocWCxT"
      },
      "outputs": [],
      "source": [
        "import asyncio\n",
        "import sys\n",
        "\n",
        "async def get_date():\n",
        "    code = 'import datetime; print(datetime.datetime.now())'\n",
        "\n",
        "    # Create the subprocess; redirect the standard output\n",
        "    # into a pipe.\n",
        "    proc = await asyncio.create_subprocess_exec(\n",
        "        sys.executable, '-c', code,\n",
        "        stdout=asyncio.subprocess.PIPE)\n",
        "\n",
        "    # Read one line of output.\n",
        "    data = await proc.stdout.readline()\n",
        "    line = data.decode('ascii').rstrip()\n",
        "\n",
        "    # Wait for the subprocess exit.\n",
        "    await proc.wait()\n",
        "    return line\n",
        "\n",
        "date = asyncio.run(get_date())\n",
        "print(f\"Current date: {date}\")"
      ]
    },
    {
      "cell_type": "markdown",
      "metadata": {
        "id": "mwzVbU6sYfL0"
      },
      "source": [
        "# ***Streams***"
      ]
    },
    {
      "cell_type": "markdown",
      "metadata": {
        "id": "7pOUT0ooYk4o"
      },
      "source": [
        "Streams are high-level async/await-ready primitives to work with network connections. Streams allow sending and receiving data without using callbacks or low-level protocols and transports."
      ]
    },
    {
      "cell_type": "markdown",
      "metadata": {
        "id": "Pe2WrnMqh-O7"
      },
      "source": [
        "### Here is an example of a TCP echo client written using asyncio streams:"
      ]
    },
    {
      "cell_type": "code",
      "execution_count": null,
      "metadata": {
        "id": "CXxCH-r9iBUS"
      },
      "outputs": [],
      "source": [
        "import asyncio\n",
        "\n",
        "async def tcp_echo_client(message):\n",
        "    reader, writer = await asyncio.open_connection(\n",
        "        '127.0.0.1', 8888)\n",
        "\n",
        "    print(f'Send: {message!r}')\n",
        "    writer.write(message.encode())\n",
        "    await writer.drain()\n",
        "\n",
        "    data = await reader.read(100)\n",
        "    print(f'Received: {data.decode()!r}')\n",
        "\n",
        "    print('Close the connection')\n",
        "    writer.close()\n",
        "    await writer.wait_closed()\n",
        "\n",
        "asyncio.run(tcp_echo_client('Hello World!'))"
      ]
    },
    {
      "cell_type": "markdown",
      "metadata": {
        "id": "MMi5H2mIYv4k"
      },
      "source": [
        "### ***await open_connection()***"
      ]
    },
    {
      "cell_type": "markdown",
      "metadata": {
        "id": "r5_Aw9paYyEp"
      },
      "source": [
        "Establish a TCP connection."
      ]
    },
    {
      "cell_type": "markdown",
      "metadata": {
        "id": "Bd9Ogbj5aoVd"
      },
      "source": [
        "### Syntax: coroutine asyncio.open_connection(host=None, port=None, *, limit=None, ssl=None, family=0, proto=0, flags=0, sock=None, local_addr=None, server_hostname=None, ssl_handshake_timeout=None, happy_eyeballs_delay=None, interleave=None)"
      ]
    },
    {
      "cell_type": "markdown",
      "metadata": {
        "id": "kd80nd-vaq_E"
      },
      "source": [
        "Establish a network connection and return a pair of (reader, writer) objects.\n",
        "\n",
        "The returned reader and writer objects are instances of StreamReader and StreamWriter classes."
      ]
    },
    {
      "cell_type": "markdown",
      "metadata": {
        "id": "BHxCOcTnYzwH"
      },
      "source": [
        "### ***await open_unix_connection()***"
      ]
    },
    {
      "cell_type": "markdown",
      "metadata": {
        "id": "1lqE1h7aY2Gm"
      },
      "source": [
        "Establish a Unix socket connection."
      ]
    },
    {
      "cell_type": "markdown",
      "metadata": {
        "id": "wGhzZ_lOaxEU"
      },
      "source": [
        "### Syntax: coroutine asyncio.open_unix_connection(path=None, *, limit=None, ssl=None, sock=None, server_hostname=None, ssl_handshake_timeout=None) **bold text**"
      ]
    },
    {
      "cell_type": "markdown",
      "metadata": {
        "id": "YfyuP5Dza1Q_"
      },
      "source": [
        "Establish a Unix socket connection and return a pair of (reader, writer).\n",
        "\n",
        "Similar to open_connection() but operates on Unix sockets."
      ]
    },
    {
      "cell_type": "markdown",
      "metadata": {
        "id": "HA4ZHHtFY5FY"
      },
      "source": [
        "### ***await start_server()***"
      ]
    },
    {
      "cell_type": "markdown",
      "metadata": {
        "id": "VmQF4zwuY8lP"
      },
      "source": [
        "\t\n",
        "Start a TCP server."
      ]
    },
    {
      "cell_type": "markdown",
      "metadata": {
        "id": "RdtrWtT3bCBb"
      },
      "source": [
        "### Syntax: coroutine asyncio.start_server(client_connected_cb, host=None, port=None, *, limit=None, family=socket.AF_UNSPEC, flags=socket.AI_PASSIVE, sock=None, backlog=100, ssl=None, reuse_address=None, reuse_port=None, ssl_handshake_timeout=None, start_serving=True)"
      ]
    },
    {
      "cell_type": "markdown",
      "metadata": {
        "id": "xHVLv3zybH_8"
      },
      "source": [
        "Start a socket server.\n",
        "\n",
        "The client_connected_cb callback is called whenever a new client connection is established. It receives a (reader, writer) pair as two arguments, instances of the StreamReader and StreamWriter classes.\n",
        "\n",
        "client_connected_cb can be a plain callable or a coroutine function; if it is a coroutine function, it will be automatically scheduled as a Task.\n",
        "\n",
        "limit determines the buffer size limit used by the returned StreamReader instance. By default the limit is set to 64 KiB."
      ]
    },
    {
      "cell_type": "markdown",
      "metadata": {
        "id": "gmk5AANaY-2v"
      },
      "source": [
        "### ***await start_unix_server()***"
      ]
    },
    {
      "cell_type": "markdown",
      "metadata": {
        "id": "uwOmKAXMZCNW"
      },
      "source": [
        "\t\n",
        "Start a Unix socket server."
      ]
    },
    {
      "cell_type": "markdown",
      "metadata": {
        "id": "ZpyhgLYDbRru"
      },
      "source": [
        "### Syntax: coroutine asyncio.start_unix_server(client_connected_cb, path=None, *, limit=None, sock=None, backlog=100, ssl=None, ssl_handshake_timeout=None, start_serving=True) **bold text**"
      ]
    },
    {
      "cell_type": "markdown",
      "metadata": {
        "id": "3Bze-FXGbVrM"
      },
      "source": [
        "Start a Unix socket server.\n",
        "\n",
        "Similar to start_server() but works with Unix sockets.\n",
        "\n",
        "Availability: Unix."
      ]
    },
    {
      "cell_type": "markdown",
      "metadata": {
        "id": "85ow2U8pZDzu"
      },
      "source": [
        "### ***StreamReader***"
      ]
    },
    {
      "cell_type": "markdown",
      "metadata": {
        "id": "aNk4DQJgZHYs"
      },
      "source": [
        "High-level async/await object to receive network data."
      ]
    },
    {
      "cell_type": "markdown",
      "metadata": {
        "id": "yUa7MYgDbl4L"
      },
      "source": [
        "### Syntax: class asyncio.StreamReader"
      ]
    },
    {
      "cell_type": "markdown",
      "metadata": {
        "id": "lvQEM8OycF3r"
      },
      "source": [
        "Represents a reader object that provides APIs to read data from the IO stream.\n",
        "\n",
        "It is not recommended to instantiate StreamReader objects directly; use open_connection() and start_server() instead."
      ]
    },
    {
      "cell_type": "markdown",
      "metadata": {
        "id": "DIl1VKvRZJOm"
      },
      "source": [
        "### ***StreamWriter***"
      ]
    },
    {
      "cell_type": "markdown",
      "metadata": {
        "id": "gkcAX00rZL-_"
      },
      "source": [
        "High-level async/await object to send network data."
      ]
    },
    {
      "cell_type": "markdown",
      "metadata": {
        "id": "1jwpN-hDcMLM"
      },
      "source": [
        "### Syntax: class asyncio.StreamWriter"
      ]
    },
    {
      "cell_type": "markdown",
      "metadata": {
        "id": "vmaJAHAEcSFL"
      },
      "source": [
        "Represents a writer object that provides APIs to write data to the IO stream.\n",
        "\n",
        "It is not recommended to instantiate StreamWriter objects directly; use open_connection() and start_server() instead."
      ]
    },
    {
      "cell_type": "markdown",
      "metadata": {
        "id": "ROcRHlpycW77"
      },
      "source": [
        "**1. write(data)**\n",
        "\n",
        "**2. writelines(data)**"
      ]
    },
    {
      "cell_type": "markdown",
      "metadata": {
        "id": "kakZgyjkZPVf"
      },
      "source": [
        "# ***Synchronization***"
      ]
    },
    {
      "cell_type": "markdown",
      "metadata": {
        "id": "qs-ZEgwrckeM"
      },
      "source": [
        "Threading-like synchronization primitives that can be used in Tasks."
      ]
    },
    {
      "cell_type": "markdown",
      "metadata": {
        "id": "_3W4EvRrcmLF"
      },
      "source": [
        "### ***Lock***"
      ]
    },
    {
      "cell_type": "markdown",
      "metadata": {
        "id": "WQv16hFpcouE"
      },
      "source": [
        "A mutex lock."
      ]
    },
    {
      "cell_type": "markdown",
      "metadata": {
        "id": "qMGY9KMNdzxU"
      },
      "source": [
        "### Syntax: class asyncio.Lock"
      ]
    },
    {
      "cell_type": "markdown",
      "metadata": {
        "id": "_qfDDUaEd6fr"
      },
      "source": [
        "Implements a mutex lock for asyncio tasks. Not thread-safe.\n",
        "\n",
        "An asyncio lock can be used to guarantee exclusive access to a shared resource.\n",
        "\n",
        "The preferred way to use a Lock is an async with statement:"
      ]
    },
    {
      "cell_type": "code",
      "execution_count": null,
      "metadata": {
        "id": "JH-D23BSd9_D"
      },
      "outputs": [],
      "source": [
        "lock = asyncio.Lock()\n",
        "\n",
        "# ... later\n",
        "async with lock:\n",
        "    # access shared state"
      ]
    },
    {
      "cell_type": "markdown",
      "metadata": {
        "id": "hdvIp6Mfd_R8"
      },
      "source": [
        "which is equivalent to:"
      ]
    },
    {
      "cell_type": "code",
      "execution_count": null,
      "metadata": {
        "id": "WjprWO5weAkV"
      },
      "outputs": [],
      "source": [
        "lock = asyncio.Lock()\n",
        "\n",
        "# ... later\n",
        "await lock.acquire()\n",
        "try:\n",
        "    # access shared state\n",
        "finally:\n",
        "    lock.release()"
      ]
    },
    {
      "cell_type": "markdown",
      "metadata": {
        "id": "-jHs6uzGcprD"
      },
      "source": [
        "### ***Event***"
      ]
    },
    {
      "cell_type": "markdown",
      "metadata": {
        "id": "8Yv3Txgwcsfz"
      },
      "source": [
        "An event object."
      ]
    },
    {
      "cell_type": "markdown",
      "metadata": {
        "id": "ueaFmYT6eFqd"
      },
      "source": [
        "### Syntax: class asyncio.Event"
      ]
    },
    {
      "cell_type": "markdown",
      "metadata": {
        "id": "72vKC6jVeLvL"
      },
      "source": [
        "An event object. Not thread-safe.\n",
        "\n",
        "An asyncio event can be used to notify multiple asyncio tasks that some event has happened.\n",
        "\n",
        "An Event object manages an internal flag that can be set to true with the set() method and reset to false with the clear() method. The wait() method blocks until the flag is set to true. The flag is set to false initially."
      ]
    },
    {
      "cell_type": "code",
      "execution_count": null,
      "metadata": {
        "id": "9ysE5uHPeRfj"
      },
      "outputs": [],
      "source": [
        "async def waiter(event):\n",
        "    print('waiting for it ...')\n",
        "    await event.wait()\n",
        "    print('... got it!')\n",
        "\n",
        "async def main():\n",
        "    # Create an Event object.\n",
        "    event = asyncio.Event()\n",
        "\n",
        "    # Spawn a Task to wait until 'event' is set.\n",
        "    waiter_task = asyncio.create_task(waiter(event))\n",
        "\n",
        "    # Sleep for 1 second and set the event.\n",
        "    await asyncio.sleep(1)\n",
        "    event.set()\n",
        "\n",
        "    # Wait until the waiter task is finished.\n",
        "    await waiter_task\n",
        "\n",
        "asyncio.run(main())"
      ]
    },
    {
      "cell_type": "markdown",
      "metadata": {
        "id": "nFu3HmqheXT1"
      },
      "source": [
        "coroutine wait()\n",
        "Wait until the event is set.\n",
        "\n",
        "If the event is set, return True immediately. Otherwise block until another task calls set().\n",
        "\n",
        "set()\n",
        "Set the event.\n",
        "\n",
        "All tasks waiting for event to be set will be immediately awakened.\n",
        "\n",
        "clear()\n",
        "Clear (unset) the event.\n",
        "\n",
        "Tasks awaiting on wait() will now block until the set() method is called again.\n",
        "\n",
        "is_set()\n",
        "Return True if the event is set."
      ]
    },
    {
      "cell_type": "markdown",
      "metadata": {
        "id": "V7aTys6acuit"
      },
      "source": [
        "### ***Condition***"
      ]
    },
    {
      "cell_type": "markdown",
      "metadata": {
        "id": "3XfkPJmecwtg"
      },
      "source": [
        "A condition object."
      ]
    },
    {
      "cell_type": "markdown",
      "metadata": {
        "id": "tZSBiT5meaIU"
      },
      "source": [
        "### Syntax: class asyncio.Condition(lock=None)"
      ]
    },
    {
      "cell_type": "markdown",
      "metadata": {
        "id": "s4iZJzVieiGL"
      },
      "source": [
        "A Condition object. Not thread-safe.\n",
        "\n",
        "An asyncio condition primitive can be used by a task to wait for some event to happen and then get exclusive access to a shared resource.\n",
        "\n",
        "In essence, a Condition object combines the functionality of an Event and a Lock. It is possible to have multiple Condition objects share one Lock, which allows coordinating exclusive access to a shared resource between different tasks interested in particular states of that shared resource.\n",
        "\n",
        "The optional lock argument must be a Lock object or None. In the latter case a new Lock object is created automatically."
      ]
    },
    {
      "cell_type": "markdown",
      "metadata": {
        "id": "DIdlwu1kekdU"
      },
      "source": [
        "### Example"
      ]
    },
    {
      "cell_type": "code",
      "execution_count": null,
      "metadata": {
        "id": "dDbB-OkiepBS"
      },
      "outputs": [],
      "source": [
        "cond = asyncio.Condition()\n",
        "\n",
        "# ... later\n",
        "async with cond:\n",
        "    await cond.wait()"
      ]
    },
    {
      "cell_type": "markdown",
      "metadata": {
        "id": "-fpy6XDheqGV"
      },
      "source": [
        "which is equivalent to:"
      ]
    },
    {
      "cell_type": "code",
      "execution_count": null,
      "metadata": {
        "id": "yYBGvfmperRF"
      },
      "outputs": [],
      "source": [
        "cond = asyncio.Condition()\n",
        "\n",
        "# ... later\n",
        "await cond.acquire()\n",
        "try:\n",
        "    await cond.wait()\n",
        "finally:\n",
        "    cond.release()"
      ]
    },
    {
      "cell_type": "markdown",
      "metadata": {
        "id": "4PWggkTJe7wU"
      },
      "source": [
        "coroutine acquire()\n",
        "Acquire the underlying lock.\n",
        "\n",
        "This method waits until the underlying lock is unlocked, sets it to locked and returns True."
      ]
    },
    {
      "cell_type": "markdown",
      "metadata": {
        "id": "sFq-9dUTcx9b"
      },
      "source": [
        "### ***Semaphore***"
      ]
    },
    {
      "cell_type": "markdown",
      "metadata": {
        "id": "5eCvkNI5c1EU"
      },
      "source": [
        "A semaphore."
      ]
    },
    {
      "cell_type": "markdown",
      "metadata": {
        "id": "czdXx_Ile_Ur"
      },
      "source": [
        "### Syntax: class asyncio.Semaphore(value=1)"
      ]
    },
    {
      "cell_type": "markdown",
      "metadata": {
        "id": "xq9qADWffNUS"
      },
      "source": [
        "A Semaphore object. Not thread-safe.\n",
        "\n",
        "A semaphore manages an internal counter which is decremented by each acquire() call and incremented by each release() call. The counter can never go below zero; when acquire() finds that it is zero, it blocks, waiting until some task calls release().\n",
        "\n",
        "The optional value argument gives the initial value for the internal counter (1 by default). If the given value is less than 0 a ValueError is raised."
      ]
    },
    {
      "cell_type": "markdown",
      "metadata": {
        "id": "allvwGi5fO80"
      },
      "source": [
        "***Example***"
      ]
    },
    {
      "cell_type": "code",
      "execution_count": null,
      "metadata": {
        "id": "KvcPMMo7fUI2"
      },
      "outputs": [],
      "source": [
        "sem = asyncio.Semaphore(10)\n",
        "\n",
        "# ... later\n",
        "async with sem:\n",
        "    # work with shared resource"
      ]
    },
    {
      "cell_type": "markdown",
      "metadata": {
        "id": "BLrD4pXAfUqD"
      },
      "source": [
        "which is equivalent to:"
      ]
    },
    {
      "cell_type": "code",
      "execution_count": null,
      "metadata": {
        "id": "_AjGOua7fWDD"
      },
      "outputs": [],
      "source": [
        "sem = asyncio.Semaphore(10)\n",
        "\n",
        "# ... later\n",
        "await sem.acquire()\n",
        "try:\n",
        "    # work with shared resource\n",
        "finally:\n",
        "    sem.release()"
      ]
    },
    {
      "cell_type": "markdown",
      "metadata": {
        "id": "V2vHPvTLfel8"
      },
      "source": [
        "coroutine acquire()\n",
        "Acquire a semaphore.\n",
        "\n",
        "If the internal counter is greater than zero, decrement it by one and return True immediately. If it is zero, wait until a release() is called and return True.\n",
        "\n",
        "locked()\n",
        "Returns True if semaphore can not be acquired immediately.\n",
        "\n",
        "release()\n",
        "Release a semaphore, incrementing the internal counter by one. Can wake up a task waiting to acquire the semaphore."
      ]
    },
    {
      "cell_type": "markdown",
      "metadata": {
        "id": "QY_E27N3c1kF"
      },
      "source": [
        "### ***BoundedSemaphore***"
      ]
    },
    {
      "cell_type": "markdown",
      "metadata": {
        "id": "sUnrMqHoc5PV"
      },
      "source": [
        "A bounded semaphore."
      ]
    },
    {
      "cell_type": "markdown",
      "metadata": {
        "id": "zdLwncZAfhuE"
      },
      "source": [
        "### class asyncio.BoundedSemaphore(value=1)"
      ]
    },
    {
      "cell_type": "markdown",
      "metadata": {
        "id": "JpjlfU8hfklK"
      },
      "source": [
        "A bounded semaphore object. Not thread-safe.\n",
        "\n",
        "Bounded Semaphore is a version of Semaphore that raises a ValueError in release() if it increases the internal counter above the initial value."
      ]
    },
    {
      "cell_type": "markdown",
      "metadata": {
        "id": "B6K0cU1Ic75S"
      },
      "source": [
        "# ***Exceptions***"
      ]
    },
    {
      "cell_type": "markdown",
      "metadata": {
        "id": "FiZ1hIRjc_bk"
      },
      "source": [
        "### ***asyncio.TimeoutError***"
      ]
    },
    {
      "cell_type": "markdown",
      "metadata": {
        "id": "El1QwvwCdCK1"
      },
      "source": [
        "Raised on timeout by functions like wait_for(). Keep in mind that asyncio.TimeoutError is unrelated to the built-in TimeoutError exception."
      ]
    },
    {
      "cell_type": "markdown",
      "metadata": {
        "id": "oZEAyUqSfsNv"
      },
      "source": [
        "### Syntax: exception asyncio.TimeoutError"
      ]
    },
    {
      "cell_type": "markdown",
      "metadata": {
        "id": "gx1lGH-rfww-"
      },
      "source": [
        "The operation has exceeded the given deadline.\n",
        "\n",
        "Important This exception is different from the builtin TimeoutError exception."
      ]
    },
    {
      "cell_type": "markdown",
      "metadata": {
        "id": "TaSLHxsAdDu1"
      },
      "source": [
        "### ***asyncio.CancelledError***"
      ]
    },
    {
      "cell_type": "markdown",
      "metadata": {
        "id": "QoNzJdl1dHHr"
      },
      "source": [
        "Raised when a Task is cancelled. See also Task.cancel()."
      ]
    },
    {
      "cell_type": "markdown",
      "metadata": {
        "id": "29Gx-mVTf0KC"
      },
      "source": [
        "### Syntax: exception asyncio.CancelledError"
      ]
    },
    {
      "cell_type": "markdown",
      "metadata": {
        "id": "sJuxTdGzgsT6"
      },
      "source": [
        "The operation has been cancelled.\n",
        "\n",
        "This exception can be caught to perform custom operations when asyncio Tasks are cancelled. In almost all situations the exception must be re-raised."
      ]
    },
    {
      "cell_type": "markdown",
      "metadata": {
        "id": "mXTvqPL-dOE1"
      },
      "source": [
        "***The following example illustrates how coroutines can intercept the cancellation request:***"
      ]
    },
    {
      "cell_type": "code",
      "execution_count": null,
      "metadata": {
        "id": "vCNQ88lddY8d"
      },
      "outputs": [],
      "source": [
        "async def cancel_me():\n",
        "    print('cancel_me(): before sleep')\n",
        "\n",
        "    try:\n",
        "        # Wait for 1 hour\n",
        "        await asyncio.sleep(3600)\n",
        "    except asyncio.CancelledError:\n",
        "        print('cancel_me(): cancel sleep')\n",
        "        raise\n",
        "    finally:\n",
        "        print('cancel_me(): after sleep')\n",
        "\n",
        "async def main():\n",
        "    # Create a \"cancel_me\" Task\n",
        "    task = asyncio.create_task(cancel_me())\n",
        "\n",
        "    # Wait for 1 second\n",
        "    await asyncio.sleep(1)\n",
        "\n",
        "    task.cancel()\n",
        "    try:\n",
        "        await task\n",
        "    except asyncio.CancelledError:\n",
        "        print(\"main(): cancel_me is cancelled now\")\n",
        "\n",
        "asyncio.run(main())"
      ]
    }
  ],
  "metadata": {
    "colab": {
      "collapsed_sections": [],
      "name": "asyncio_Api.ipynb",
      "provenance": []
    },
    "kernelspec": {
      "display_name": "Python 3",
      "name": "python3"
    },
    "language_info": {
      "name": "python"
    }
  },
  "nbformat": 4,
  "nbformat_minor": 0
}
