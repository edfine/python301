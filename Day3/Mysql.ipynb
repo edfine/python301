{
  "cells": [
    {
      "cell_type": "markdown",
      "metadata": {
        "id": "BoERqKGO0zMp"
      },
      "source": [
        "# ***MySQL Database***\n",
        "\n"
      ]
    },
    {
      "cell_type": "markdown",
      "metadata": {
        "id": "6n4rFEeTz9dE"
      },
      "source": [
        "\n",
        "\n",
        "***Python MySQL Connector***\n",
        "\n",
        "Python MySQL Connector is a Python driver that helps to integrate Python and MySQL. This Python MySQL library allows the conversion between Python and MySQL data types. "
      ]
    },
    {
      "cell_type": "markdown",
      "metadata": {
        "id": "pc8F712H0x6s"
      },
      "source": [
        "***Installation***"
      ]
    },
    {
      "cell_type": "code",
      "execution_count": null,
      "metadata": {
        "id": "njutey181zeB"
      },
      "outputs": [],
      "source": [
        "conda install -y mysql-connector-python"
      ]
    },
    {
      "cell_type": "markdown",
      "metadata": {
        "id": "WgS-Ak231auK"
      },
      "source": [
        "![mysql.PNG](data:image/png;base64,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)"
      ]
    },
    {
      "cell_type": "markdown",
      "metadata": {
        "id": "cSIXwC2q1kHJ"
      },
      "source": [
        "***Connecting to MySQL Server***\n",
        "\n",
        "We can connect to the MySQL server using the connect() method. "
      ]
    },
    {
      "cell_type": "code",
      "execution_count": null,
      "metadata": {
        "id": "rh7JIaOJ1qrj"
      },
      "outputs": [],
      "source": [
        "# importing required libraries\n",
        "import mysql.connector\n",
        "\n",
        "dataBase = mysql.connector.connect(\n",
        "host =\"localhost\",  #Enter your localhost name\n",
        "user =\"user\",  #Enter your User Name\n",
        "passwd =\"password\" #Enter your password\n",
        ")\n",
        "\n",
        "print(dataBase)\n",
        "\n",
        "# Disconnecting from the server\n",
        "dataBase.close()\n"
      ]
    },
    {
      "cell_type": "markdown",
      "metadata": {
        "id": "iwQ6GbAT2UHA"
      },
      "source": [
        "***Output:***"
      ]
    },
    {
      "cell_type": "markdown",
      "metadata": {
        "id": "jhfZpqKZ2V_3"
      },
      "source": [
        "![output.PNG](data:image/png;base64,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)"
      ]
    },
    {
      "cell_type": "markdown",
      "metadata": {
        "id": "0ETY8qmO2fjg"
      },
      "source": [
        "***Creating Database***\n",
        "\n",
        "After connecting to the MySQL server let’s see how to create a MySQL database using Python. For this, we will first create a cursor() object and will then pass the SQL command as a string to the execute() method. The SQL command to create a database is – \n",
        "\n",
        "\n",
        "\n",
        "***CREATE DATABASE DATABASE_NAME***   #E.g ***Test*** is your database name\n",
        "\n",
        "***CREATE DATABASE Test***"
      ]
    },
    {
      "cell_type": "markdown",
      "metadata": {
        "id": "CTaXmH_T2vSg"
      },
      "source": [
        "***Example: Creating MySQL database with Python***"
      ]
    },
    {
      "cell_type": "code",
      "execution_count": null,
      "metadata": {
        "id": "Hrrdt8yt2xMC"
      },
      "outputs": [],
      "source": [
        "# importing required libraries\n",
        "import mysql.connector\n",
        "\n",
        "dataBase = mysql.connector.connect(\n",
        "host =\"localhost\",\n",
        "user =\"user\",\n",
        "passwd =\"password\"\n",
        ")\n",
        "\n",
        "# preparing a cursor object\n",
        "cursorObject = dataBase.cursor()\n",
        "\n",
        "# creating database\n",
        "cursorObject.execute(\"CREATE DATABASE Test\")\n"
      ]
    },
    {
      "cell_type": "markdown",
      "metadata": {
        "id": "8IvW4Mk43afX"
      },
      "source": [
        "***Creating Tables***\n",
        "\n",
        "For creating tables we will follow the similar approach of writing the SQL commands as strings and then passing it to the execute() method of the cursor object. SQL command for creating a table is – \n",
        "\n",
        "CREATE TABLE\n",
        "(\n",
        "    column_name_1 column_Data_type,\n",
        "\n",
        "    column_name_2 column_Data_type,\n",
        "\n",
        "    :\n",
        "\n",
        "    :\n",
        "\n",
        "    column_name_n column_Data_type\n",
        "    \n",
        ");"
      ]
    },
    {
      "cell_type": "markdown",
      "metadata": {
        "id": "6L_UKJpO3k2t"
      },
      "source": [
        "***Example: Creating MySQL table using Python***"
      ]
    },
    {
      "cell_type": "code",
      "execution_count": null,
      "metadata": {
        "id": "kwW85qTS3mzP"
      },
      "outputs": [],
      "source": [
        "# importing required libraries\n",
        "import mysql.connector\n",
        "\n",
        "dataBase = mysql.connector.connect(\n",
        "host =\"localhost\",\n",
        "user =\"user\",\n",
        "passwd =\"password\",\n",
        "database = \"Test\"\n",
        ")\n",
        "\n",
        "# preparing a cursor object\n",
        "cursorObject = dataBase.cursor()\n",
        "\n",
        "# creating table\n",
        "studentRecord = \"\"\"CREATE TABLE STUDENT (\n",
        "\t\t\t\tNAME VARCHAR(20) NOT NULL,\n",
        "\t\t\t\tBRANCH VARCHAR(50),\n",
        "\t\t\t\tROLL INT NOT NULL,\n",
        "\t\t\t\tSECTION VARCHAR(5),\n",
        "\t\t\t\tAGE INT\n",
        "\t\t\t\t)\"\"\"\n",
        "\n",
        "# table created\n",
        "cursorObject.execute(studentRecord)\n",
        "\n",
        "# disconnecting from server\n",
        "dataBase.close()\n"
      ]
    },
    {
      "cell_type": "markdown",
      "metadata": {
        "id": "pm8_qKdf3r0v"
      },
      "source": [
        "***Insert Data into Tables***\n",
        "\n",
        "To insert data into the MySQL table Insert into query is used. \n",
        "\n",
        "Syntax:\n",
        "\n",
        " INSERT INTO table_name (column_names) VALUES (data)"
      ]
    },
    {
      "cell_type": "markdown",
      "metadata": {
        "id": "FlsM1H7e3xKI"
      },
      "source": [
        "***Example 1: Inserting Single Row***"
      ]
    },
    {
      "cell_type": "code",
      "execution_count": null,
      "metadata": {
        "id": "LAXm4l1j3yUf"
      },
      "outputs": [],
      "source": [
        "# importing required libraries\n",
        "import mysql.connector\n",
        "\n",
        "dataBase = mysql.connector.connect(\n",
        "host =\"localhost\",\n",
        "user =\"user\",\n",
        "passwd =\"password\",\n",
        "database = \"Test\"\n",
        ")\n",
        "\n",
        "# preparing a cursor object\n",
        "cursorObject = dataBase.cursor()\n",
        "\n",
        "sql = \"INSERT INTO STUDENT (NAME, BRANCH, ROLL, SECTION, AGE)\\\n",
        "VALUES (%s, %s, %s, %s, %s)\"\n",
        "val = (\"Ram\", \"CSE\", \"85\", \"B\", \"19\")\n",
        "\n",
        "cursorObject.execute(sql, val)\n",
        "dataBase.commit()\n",
        "\n",
        "# disconnecting from server\n",
        "dataBase.close()\n"
      ]
    },
    {
      "cell_type": "markdown",
      "metadata": {
        "id": "QQG-J1Ka37F3"
      },
      "source": [
        "***Example 2: Inserting Multiple Rows***"
      ]
    },
    {
      "cell_type": "code",
      "execution_count": null,
      "metadata": {
        "id": "Zo7gaR9L39L4"
      },
      "outputs": [],
      "source": [
        "# importing required libraries\n",
        "import mysql.connector\n",
        "\n",
        "dataBase = mysql.connector.connect(\n",
        "host =\"localhost\",\n",
        "user =\"user\",\n",
        "passwd =\"password\",\n",
        "database = \"Test\"\n",
        ")\n",
        "\n",
        "# preparing a cursor object\n",
        "cursorObject = dataBase.cursor()\n",
        "\n",
        "sql = \"INSERT INTO STUDENT (NAME, BRANCH, ROLL, SECTION, AGE)\\\n",
        "VALUES (%s, %s, %s, %s, %s)\"\n",
        "val = [(\"Nikhil\", \"CSE\", \"98\", \"A\", \"18\"),\n",
        "\t(\"Nisha\", \"CSE\", \"99\", \"A\", \"18\"),\n",
        "\t(\"Rohan\", \"MAE\", \"43\", \"B\", \"20\"),\n",
        "\t(\"Amit\", \"ECE\", \"24\", \"A\", \"21\"),\n",
        "\t(\"Anil\", \"MAE\", \"45\", \"B\", \"20\"),\n",
        "\t(\"Megha\", \"ECE\", \"55\", \"A\", \"22\"),\n",
        "\t(\"Sita\", \"CSE\", \"95\", \"A\", \"19\")]\n",
        "\n",
        "cursorObject.executemany(sql, val)\n",
        "dataBase.commit()\n",
        "\n",
        "# disconnecting from server\n",
        "dataBase.close()\n"
      ]
    },
    {
      "cell_type": "markdown",
      "metadata": {
        "id": "8iDOzNny4BnP"
      },
      "source": [
        "***Update Data***\n",
        "\n",
        "Syntax:\n",
        "\n",
        "UPDATE tablename\n",
        "\n",
        "SET =\"new value\"\n",
        "\n",
        "WHERE =\"old value\";"
      ]
    },
    {
      "cell_type": "markdown",
      "metadata": {
        "id": "g4SsVT324R2X"
      },
      "source": [
        "***Example: Update MySQL table using Python***"
      ]
    },
    {
      "cell_type": "code",
      "execution_count": null,
      "metadata": {
        "id": "nkrMJe6h4T0I"
      },
      "outputs": [],
      "source": [
        "# importing required libraries\n",
        "import mysql.connector\n",
        "\n",
        "dataBase = mysql.connector.connect(\n",
        "host =\"localhost\",\n",
        "user =\"user\",\n",
        "passwd =\"password\",\n",
        "database = \"Test\"\n",
        ")\n",
        "\n",
        "# preparing a cursor object\n",
        "cursorObject = dataBase.cursor()\n",
        "\n",
        "query = \"UPDATE STUDENT SET AGE = 23 WHERE Name ='Ram'\"\n",
        "cursorObject.execute(query)\n",
        "dataBase.commit()\n",
        "\n",
        "# disconnecting from server\n",
        "dataBase.close()\n"
      ]
    },
    {
      "cell_type": "markdown",
      "metadata": {
        "id": "_kGjAX3L4Ypv"
      },
      "source": [
        "***Delete Data from Table***\n",
        "\n",
        "Syntax:\n",
        "\n",
        "DELETE FROM TABLE_NAME WHERE ATTRIBUTE_NAME = ATTRIBUTE_VALUE"
      ]
    },
    {
      "cell_type": "markdown",
      "metadata": {
        "id": "goDph0Xt5Ak-"
      },
      "source": [
        "# ***Excercise***\n",
        "\n",
        "1.  Write a program to delete a query from the table in the database.\n",
        "\n",
        "2. Write a Program to demonstrate drop if exists. We will try to drop a table which does not exist in the above database.\n",
        "\n",
        "3. Write a Program to drop table Test.\n",
        "\n",
        "4. Write a program to display only 2 records.\n",
        "\n",
        "5. Write a program to start from the second record and display the first two records.\n",
        "\n",
        "6. Write a Program to arrange the data in ascending order by name.\n",
        "\n",
        "\n",
        "7. Write a Program Arranging the database in descending order.\n",
        "8. write a Program to get namefrom the table, arranged in descending order by Roll no.\n",
        "\n",
        "9. Write a statement to create a table named countries including columns country_id,country_name and region_id and make sure that no duplicate data against column country_id will be allowed at the time of insertion.\n",
        "\n",
        "10. Write a query to find the addresses (location_id, street_address, city, state_province, country_name) of all the departments.\n",
        "\n",
        "11. Write a statement to change the email and commission_pct column of employees table with 'not available' and 0.10 for those employees whose department_id is 10.\n",
        "\n",
        "12. Write a statement to insert rows in the job_history table in which one column job_id is containing those values which are exists in job_id column of jobs table.\n",
        "\n",
        "13. Write a statement to rename the table countries to country_new.\n",
        "\n",
        "14. Write a statement to create a simple table countries including columns country_id,country_name and region_id.\n",
        "\n",
        "15. Write a statement to create a table job_history including columns employee_id, start_date, end_date, job_id and department_id and make sure that, the employee_id column does not contain any duplicate value at the time of insertion and the foreign key column job_id contain only those values which are exists in the jobs table.\n",
        "\n",
        "16. Find the average salary by employee title, round to 2 decimal places and order by descending order.\n",
        "\n",
        "17. Find the number of Male (M) and Female (F) employees in the database and order the counts in descending order.\n",
        "\n",
        "18. Find all the employees that have worked in at least 2 departments. Show their first name, last_name and the number of departments they work in. Display all results in ascending order.\n",
        "\n",
        "19. Display the first name, last name, and salary of the highest payed employee.\n",
        "\n",
        "20. Display the first name, last name, and salary of the second highest payed employee.\n",
        "\n",
        "21. Display each department and the age of the youngest employee at hire date.\n",
        "\n",
        "22. Find all the employees that do not contain vowels in their first name and display the department they work in."
      ]
    }
  ],
  "metadata": {
    "colab": {
      "collapsed_sections": [],
      "name": "Mysql.ipynb",
      "provenance": []
    },
    "kernelspec": {
      "display_name": "Python 3",
      "name": "python3"
    },
    "language_info": {
      "name": "python"
    }
  },
  "nbformat": 4,
  "nbformat_minor": 0
}
