{
 "cells": [
  {
   "cell_type": "markdown",
   "metadata": {},
   "source": [
    "# Object-Oriented Programming Introduction Lab\n",
    "\n",
    "For this lab, we'll start with the class we began in the demo:"
   ]
  },
  {
   "cell_type": "code",
   "execution_count": 1,
   "metadata": {},
   "outputs": [],
   "source": [
    "import numpy as np\n",
    "class OutlierFilter():\n",
    "    \"\"\"\n",
    "    Removes rows from a series or numpy array where the absolute z-score of a point\n",
    "    is greater than some threshold.\n",
    "    \"\"\"\n",
    "    \n",
    "    def __init__(self, z_threshold=5.0):\n",
    "        self._z_threshold = z_threshold\n",
    "        \n",
    "    def execute(self, values):\n",
    "        std = np.std(values)\n",
    "        mean = np.mean(values)\n",
    "        z = (values - mean) / std\n",
    "        return values[np.abs(z) <= self._z_threshold]\n",
    "        \n",
    "    def __repr__(self):\n",
    "        return f'OutlierFilter(z_threshold={self._z_threshold!r})'\n",
    "    \n",
    "    def __str__(self):\n",
    "        return f'Filter removing values with abs(z_score) > {self._z_threshold!r}'"
   ]
  },
  {
   "cell_type": "markdown",
   "metadata": {},
   "source": [
    "### Add a new method to the filter that will return the values that would be filtered out"
   ]
  },
  {
   "cell_type": "code",
   "execution_count": null,
   "metadata": {},
   "outputs": [],
   "source": []
  },
  {
   "cell_type": "markdown",
   "metadata": {},
   "source": [
    "### Create a new class that will load a .csv filename given in its `__init__` method based on the following template. \n",
    "Remember that you can load a .csv file with the following code:\n",
    "```python\n",
    "import pandas as pd\n",
    "data = pd.read_csv(filename)\n",
    "```"
   ]
  },
  {
   "cell_type": "code",
   "execution_count": null,
   "metadata": {},
   "outputs": [],
   "source": [
    "class DataLoader():\n",
    "    def __init__(self, filename):\n",
    "        \"\"\"YOUR CODE HERE\"\"\"\n",
    "    def execute(self):\n",
    "        \"\"\"YOUR CODE HERE\"\"\""
   ]
  },
  {
   "cell_type": "markdown",
   "metadata": {},
   "source": [
    "### Test that the class correctly returns a dataframe using the file `data/US_births_1994_2014.csv`"
   ]
  },
  {
   "cell_type": "code",
   "execution_count": null,
   "metadata": {},
   "outputs": [],
   "source": []
  },
  {
   "cell_type": "markdown",
   "metadata": {},
   "source": [
    "### Add a `__repr__` method to your class that shows which file is being loaded"
   ]
  },
  {
   "cell_type": "code",
   "execution_count": null,
   "metadata": {},
   "outputs": [],
   "source": []
  },
  {
   "cell_type": "markdown",
   "metadata": {},
   "source": [
    "### Create a third class which will incorporate our previous two\n",
    "\n",
    "- Its `__init__` method should handle a `config` argument of the following form:\n",
    "\n",
    "```python\n",
    "{\n",
    "    'data_loader': {'filename': 'data/US_births_1994_2014.csv'},\n",
    "    'outlier_filter': {'z_threshold': 5.0 }\n",
    "}\n",
    "```\n",
    "\n",
    "- Its `execute` method should: load the given data, filter it, and return the filtered dataframe"
   ]
  },
  {
   "cell_type": "code",
   "execution_count": null,
   "metadata": {},
   "outputs": [],
   "source": []
  },
  {
   "cell_type": "markdown",
   "metadata": {},
   "source": [
    "### Verify that your class correctly loads and filters the data"
   ]
  },
  {
   "cell_type": "code",
   "execution_count": null,
   "metadata": {},
   "outputs": [],
   "source": []
  }
 ],
 "metadata": {
  "kernelspec": {
   "display_name": "Python 3",
   "language": "python",
   "name": "python3"
  },
  "language_info": {
   "codemirror_mode": {
    "name": "ipython",
    "version": 3
   },
   "file_extension": ".py",
   "mimetype": "text/x-python",
   "name": "python",
   "nbconvert_exporter": "python",
   "pygments_lexer": "ipython3",
   "version": "3.7.2"
  }
 },
 "nbformat": 4,
 "nbformat_minor": 2
}
