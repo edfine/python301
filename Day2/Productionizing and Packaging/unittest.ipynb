{
 "cells": [
  {
   "cell_type": "markdown",
   "metadata": {},
   "source": [
    "# Testing in Python\n",
    "\n",
    "- Lint: test before you test\n",
    "- Types of testing\n",
    "- Python Unittest framework\n",
    "- `unittest.mock` for isolation\n",
    "- Using `coverage`"
   ]
  },
  {
   "cell_type": "markdown",
   "metadata": {},
   "source": [
    "# Linting: test before you test\n",
    "\n",
    "- Code style checks\n",
    "- Find undefined / unused symbols\n",
    "- Prevent classes of errors\n",
    "- Can be integrated to your editor"
   ]
  },
  {
   "cell_type": "code",
   "execution_count": 1,
   "metadata": {},
   "outputs": [
    {
     "name": "stdout",
     "output_type": "stream",
     "text": [
      "Collecting pylint\n",
      "\u001b[?25l  Downloading https://files.pythonhosted.org/packages/a5/06/ecef826f319055e6b231716730d7f9047dd7524ffda224b521d989f085b6/pylint-2.2.2-py3-none-any.whl (750kB)\n",
      "\u001b[K    100% |████████████████████████████████| 757kB 3.1MB/s ta 0:00:01\n",
      "\u001b[?25hCollecting pyflakes\n",
      "\u001b[?25l  Downloading https://files.pythonhosted.org/packages/16/3b/b6a508ad148ce1ef50bd7a9a783afbb8d775616fc4ae5e3007c8815a3c85/pyflakes-2.1.0-py2.py3-none-any.whl (62kB)\n",
      "\u001b[K    100% |████████████████████████████████| 71kB 4.4MB/s ta 0:00:011\n",
      "\u001b[?25hCollecting flake8\n",
      "\u001b[?25l  Downloading https://files.pythonhosted.org/packages/5a/d8/1377549a9b77ad6d3c8161c741e2186bc698150f639fe08123bfe53e7a27/flake8-3.7.5-py2.py3-none-any.whl (68kB)\n",
      "\u001b[K    100% |████████████████████████████████| 71kB 3.6MB/s ta 0:00:011\n",
      "\u001b[?25hCollecting isort>=4.2.5 (from pylint)\n",
      "  Using cached https://files.pythonhosted.org/packages/1f/2c/22eee714d7199ae0464beda6ad5fedec8fee6a2f7ffd1e8f1840928fe318/isort-4.3.4-py3-none-any.whl\n",
      "Collecting mccabe (from pylint)\n",
      "  Using cached https://files.pythonhosted.org/packages/87/89/479dc97e18549e21354893e4ee4ef36db1d237534982482c3681ee6e7b57/mccabe-0.6.1-py2.py3-none-any.whl\n",
      "Collecting astroid>=2.0.0 (from pylint)\n",
      "\u001b[?25l  Downloading https://files.pythonhosted.org/packages/fc/53/8809bc008bad0300897281a7b320b286dc0e84e836396c0cff6279841e8a/astroid-2.1.0-py3-none-any.whl (176kB)\n",
      "\u001b[K    100% |████████████████████████████████| 184kB 3.5MB/s ta 0:00:01\n",
      "\u001b[?25hRequirement already satisfied: entrypoints<0.4.0,>=0.3.0 in /Users/rick446/.virtualenvs/productionalizing-notebooks/lib/python3.7/site-packages (from flake8) (0.3)\n",
      "Collecting pycodestyle<2.6.0,>=2.5.0 (from flake8)\n",
      "\u001b[?25l  Downloading https://files.pythonhosted.org/packages/0e/0c/04a353e104d2f324f8ee5f4b32012618c1c86dd79e52a433b64fceed511b/pycodestyle-2.5.0-py2.py3-none-any.whl (51kB)\n",
      "\u001b[K    100% |████████████████████████████████| 51kB 12.7MB/s ta 0:00:01\n",
      "\u001b[?25hCollecting lazy-object-proxy (from astroid>=2.0.0->pylint)\n",
      "Requirement already satisfied: six in /Users/rick446/.virtualenvs/productionalizing-notebooks/lib/python3.7/site-packages (from astroid>=2.0.0->pylint) (1.12.0)\n",
      "Collecting wrapt (from astroid>=2.0.0->pylint)\n",
      "  Downloading https://files.pythonhosted.org/packages/67/b2/0f71ca90b0ade7fad27e3d20327c996c6252a2ffe88f50a95bba7434eda9/wrapt-1.11.1.tar.gz\n",
      "Installing collected packages: isort, mccabe, lazy-object-proxy, wrapt, astroid, pylint, pyflakes, pycodestyle, flake8\n",
      "  Running setup.py install for wrapt ... \u001b[?25ldone\n",
      "\u001b[?25hSuccessfully installed astroid-2.1.0 flake8-3.7.5 isort-4.3.4 lazy-object-proxy-1.3.1 mccabe-0.6.1 pycodestyle-2.5.0 pyflakes-2.1.0 pylint-2.2.2 wrapt-1.11.1\n",
      "\u001b[33mYou are using pip version 18.1, however version 19.0.2 is available.\n",
      "You should consider upgrading via the 'pip install --upgrade pip' command.\u001b[0m\n"
     ]
    }
   ],
   "source": [
    "!pip install pylint pyflakes flake8"
   ]
  },
  {
   "cell_type": "code",
   "execution_count": 4,
   "metadata": {},
   "outputs": [
    {
     "name": "stdout",
     "output_type": "stream",
     "text": [
      "Overwriting data/lint-example/badfile.py\n"
     ]
    }
   ],
   "source": [
    "%%file data/lint-example/badfile.py\n",
    "from numpy import *\n",
    "def ThisIsMyFunction():\n",
    "    return 'somestuff'\n",
    "def ThisIsAnotherFunctionAndItHas_Areallylongnamethatis_rediculous():\n",
    "    pass"
   ]
  },
  {
   "cell_type": "code",
   "execution_count": 6,
   "metadata": {},
   "outputs": [
    {
     "name": "stdout",
     "output_type": "stream",
     "text": [
      "************* Module badfile\r\n",
      "data/lint-example/badfile.py:1:0: W0622: Redefining built-in 'bytes' (redefined-builtin)\r\n",
      "data/lint-example/badfile.py:1:0: W0622: Redefining built-in 'bool' (redefined-builtin)\r\n",
      "data/lint-example/badfile.py:1:0: W0622: Redefining built-in 'int' (redefined-builtin)\r\n",
      "data/lint-example/badfile.py:1:0: W0622: Redefining built-in 'float' (redefined-builtin)\r\n",
      "data/lint-example/badfile.py:1:0: W0622: Redefining built-in 'complex' (redefined-builtin)\r\n",
      "data/lint-example/badfile.py:1:0: W0622: Redefining built-in 'object' (redefined-builtin)\r\n",
      "data/lint-example/badfile.py:1:0: W0622: Redefining built-in 'str' (redefined-builtin)\r\n",
      "data/lint-example/badfile.py:1:0: W0622: Redefining built-in 'sum' (redefined-builtin)\r\n",
      "data/lint-example/badfile.py:1:0: W0622: Redefining built-in 'any' (redefined-builtin)\r\n",
      "data/lint-example/badfile.py:1:0: W0622: Redefining built-in 'all' (redefined-builtin)\r\n",
      "data/lint-example/badfile.py:1:0: W0622: Redefining built-in 'max' (redefined-builtin)\r\n",
      "data/lint-example/badfile.py:1:0: W0622: Redefining built-in 'min' (redefined-builtin)\r\n",
      "data/lint-example/badfile.py:1:0: W0622: Redefining built-in 'round' (redefined-builtin)\r\n",
      "data/lint-example/badfile.py:1:0: W0622: Redefining built-in 'abs' (redefined-builtin)\r\n",
      "data/lint-example/badfile.py:1:0: W0622: Redefining built-in 'range' (redefined-builtin)\r\n",
      "data/lint-example/badfile.py:1:0: W0622: Redefining built-in 'format' (redefined-builtin)\r\n",
      "data/lint-example/badfile.py:1:0: W0622: Redefining built-in 'map' (redefined-builtin)\r\n",
      "data/lint-example/badfile.py:1:0: C0111: Missing module docstring (missing-docstring)\r\n",
      "data/lint-example/badfile.py:1:0: W0401: Wildcard import numpy (wildcard-import)\r\n",
      "data/lint-example/badfile.py:2:0: C0103: Function name \"ThisIsMyFunction\" doesn't conform to snake_case naming style (invalid-name)\r\n",
      "data/lint-example/badfile.py:2:0: C0111: Missing function docstring (missing-docstring)\r\n",
      "data/lint-example/badfile.py:4:0: C0103: Function name \"ThisIsAnotherFunctionAndItHas_Areallylongnamethatis_rediculous\" doesn't conform to snake_case naming style (invalid-name)\r\n",
      "data/lint-example/badfile.py:4:0: C0111: Missing function docstring (missing-docstring)\r\n",
      "data/lint-example/badfile.py:1:0: W0614: Unused import sys from wildcard import (unused-wildcard-import)\r\n",
      "data/lint-example/badfile.py:1:0: W0614: Unused import warnings from wildcard import (unused-wildcard-import)\r\n",
      "data/lint-example/badfile.py:1:0: W0614: Unused import msg from wildcard import (unused-wildcard-import)\r\n",
      "data/lint-example/badfile.py:1:0: W0614: Unused import unicode from wildcard import (unused-wildcard-import)\r\n",
      "data/lint-example/badfile.py:1:0: W0614: Unused import oldnumeric from wildcard import (unused-wildcard-import)\r\n",
      "data/lint-example/badfile.py:1:0: W0614: Unused import numarray from wildcard import (unused-wildcard-import)\r\n",
      "data/lint-example/badfile.py:1:0: W0614: Unused import test from wildcard import (unused-wildcard-import)\r\n",
      "data/lint-example/badfile.py:1:0: W0614: Unused import PytestTester from wildcard import (unused-wildcard-import)\r\n",
      "data/lint-example/badfile.py:1:0: W0614: Unused import ModuleDeprecationWarning from wildcard import (unused-wildcard-import)\r\n",
      "data/lint-example/badfile.py:1:0: W0614: Unused import VisibleDeprecationWarning from wildcard import (unused-wildcard-import)\r\n",
      "data/lint-example/badfile.py:1:0: W0614: Unused import show_config from wildcard import (unused-wildcard-import)\r\n",
      "data/lint-example/badfile.py:1:0: W0614: Unused import core from wildcard import (unused-wildcard-import)\r\n",
      "data/lint-example/badfile.py:1:0: W0614: Unused import os from wildcard import (unused-wildcard-import)\r\n",
      "data/lint-example/badfile.py:1:0: W0614: Unused import env_added from wildcard import (unused-wildcard-import)\r\n",
      "data/lint-example/badfile.py:1:0: W0614: Unused import envkey from wildcard import (unused-wildcard-import)\r\n",
      "data/lint-example/badfile.py:1:0: W0614: Unused import exc from wildcard import (unused-wildcard-import)\r\n",
      "data/lint-example/badfile.py:1:0: W0614: Unused import path from wildcard import (unused-wildcard-import)\r\n",
      "data/lint-example/badfile.py:1:0: W0614: Unused import nt from wildcard import (unused-wildcard-import)\r\n",
      "data/lint-example/badfile.py:1:0: W0614: Unused import copyreg from wildcard import (unused-wildcard-import)\r\n",
      "data/lint-example/badfile.py:1:0: W0614: Unused import multiarray from wildcard import (unused-wildcard-import)\r\n",
      "data/lint-example/badfile.py:1:0: W0614: Unused import umath from wildcard import (unused-wildcard-import)\r\n",
      "data/lint-example/badfile.py:1:0: W0614: Unused import numeric from wildcard import (unused-wildcard-import)\r\n",
      "data/lint-example/badfile.py:1:0: W0614: Unused import collections_abc from wildcard import (unused-wildcard-import)\r\n",
      "data/lint-example/badfile.py:1:0: W0614: Unused import functools from wildcard import (unused-wildcard-import)\r\n",
      "data/lint-example/badfile.py:1:0: W0614: Unused import itertools from wildcard import (unused-wildcard-import)\r\n",
      "data/lint-example/badfile.py:1:0: W0614: Unused import operator from wildcard import (unused-wildcard-import)\r\n",
      "data/lint-example/badfile.py:1:0: W0614: Unused import numbers from wildcard import (unused-wildcard-import)\r\n",
      "data/lint-example/badfile.py:1:0: W0614: Unused import np from wildcard import (unused-wildcard-import)\r\n",
      "data/lint-example/badfile.py:1:0: W0614: Unused import bitwise_not from wildcard import (unused-wildcard-import)\r\n",
      "data/lint-example/badfile.py:1:0: W0614: Unused import ufunc from wildcard import (unused-wildcard-import)\r\n",
      "data/lint-example/badfile.py:1:0: W0614: Unused import newaxis from wildcard import (unused-wildcard-import)\r\n",
      "data/lint-example/badfile.py:1:0: W0614: Unused import pickle from wildcard import (unused-wildcard-import)\r\n",
      "data/lint-example/badfile.py:1:0: W0614: Unused import basestring from wildcard import (unused-wildcard-import)\r\n",
      "data/lint-example/badfile.py:1:0: W0614: Unused import builtins from wildcard import (unused-wildcard-import)\r\n",
      "data/lint-example/badfile.py:1:0: W0614: Unused import array_function_dispatch from wildcard import (unused-wildcard-import)\r\n",
      "data/lint-example/badfile.py:1:0: W0614: Unused import loads from wildcard import (unused-wildcard-import)\r\n",
      "data/lint-example/badfile.py:1:0: W0614: Unused import ComplexWarning from wildcard import (unused-wildcard-import)\r\n",
      "data/lint-example/badfile.py:1:0: W0614: Unused import zeros_like from wildcard import (unused-wildcard-import)\r\n",
      "data/lint-example/badfile.py:1:0: W0614: Unused import ones from wildcard import (unused-wildcard-import)\r\n",
      "data/lint-example/badfile.py:1:0: W0614: Unused import ones_like from wildcard import (unused-wildcard-import)\r\n",
      "data/lint-example/badfile.py:1:0: W0614: Unused import full from wildcard import (unused-wildcard-import)\r\n",
      "data/lint-example/badfile.py:1:0: W0614: Unused import full_like from wildcard import (unused-wildcard-import)\r\n",
      "data/lint-example/badfile.py:1:0: W0614: Unused import count_nonzero from wildcard import (unused-wildcard-import)\r\n",
      "data/lint-example/badfile.py:1:0: W0614: Unused import asarray from wildcard import (unused-wildcard-import)\r\n",
      "data/lint-example/badfile.py:1:0: W0614: Unused import asanyarray from wildcard import (unused-wildcard-import)\r\n",
      "data/lint-example/badfile.py:1:0: W0614: Unused import ascontiguousarray from wildcard import (unused-wildcard-import)\r\n",
      "data/lint-example/badfile.py:1:0: W0614: Unused import asfortranarray from wildcard import (unused-wildcard-import)\r\n",
      "data/lint-example/badfile.py:1:0: W0614: Unused import require from wildcard import (unused-wildcard-import)\r\n",
      "data/lint-example/badfile.py:1:0: W0614: Unused import isfortran from wildcard import (unused-wildcard-import)\r\n",
      "data/lint-example/badfile.py:1:0: W0614: Unused import argwhere from wildcard import (unused-wildcard-import)\r\n",
      "data/lint-example/badfile.py:1:0: W0614: Unused import flatnonzero from wildcard import (unused-wildcard-import)\r\n",
      "data/lint-example/badfile.py:1:0: W0614: Unused import correlate from wildcard import (unused-wildcard-import)\r\n",
      "data/lint-example/badfile.py:1:0: W0614: Unused import convolve from wildcard import (unused-wildcard-import)\r\n",
      "data/lint-example/badfile.py:1:0: W0614: Unused import outer from wildcard import (unused-wildcard-import)\r\n",
      "data/lint-example/badfile.py:1:0: W0614: Unused import tensordot from wildcard import (unused-wildcard-import)\r\n",
      "data/lint-example/badfile.py:1:0: W0614: Unused import roll from wildcard import (unused-wildcard-import)\r\n",
      "data/lint-example/badfile.py:1:0: W0614: Unused import rollaxis from wildcard import (unused-wildcard-import)\r\n",
      "data/lint-example/badfile.py:1:0: W0614: Unused import normalize_axis_tuple from wildcard import (unused-wildcard-import)\r\n",
      "data/lint-example/badfile.py:1:0: W0614: Unused import moveaxis from wildcard import (unused-wildcard-import)\r\n",
      "data/lint-example/badfile.py:1:0: W0614: Unused import cross from wildcard import (unused-wildcard-import)\r\n",
      "data/lint-example/badfile.py:1:0: W0614: Unused import little_endian from wildcard import (unused-wildcard-import)\r\n",
      "data/lint-example/badfile.py:1:0: W0614: Unused import indices from wildcard import (unused-wildcard-import)\r\n",
      "data/lint-example/badfile.py:1:0: W0614: Unused import fromfunction from wildcard import (unused-wildcard-import)\r\n",
      "data/lint-example/badfile.py:1:0: W0614: Unused import isscalar from wildcard import (unused-wildcard-import)\r\n",
      "data/lint-example/badfile.py:1:0: W0614: Unused import binary_repr from wildcard import (unused-wildcard-import)\r\n",
      "data/lint-example/badfile.py:1:0: W0614: Unused import base_repr from wildcard import (unused-wildcard-import)\r\n",
      "data/lint-example/badfile.py:1:0: W0614: Unused import load from wildcard import (unused-wildcard-import)\r\n",
      "data/lint-example/badfile.py:1:0: W0614: Unused import identity from wildcard import (unused-wildcard-import)\r\n",
      "data/lint-example/badfile.py:1:0: W0614: Unused import allclose from wildcard import (unused-wildcard-import)\r\n",
      "data/lint-example/badfile.py:1:0: W0614: Unused import isclose from wildcard import (unused-wildcard-import)\r\n",
      "data/lint-example/badfile.py:1:0: W0614: Unused import array_equal from wildcard import (unused-wildcard-import)\r\n",
      "data/lint-example/badfile.py:1:0: W0614: Unused import array_equiv from wildcard import (unused-wildcard-import)\r\n",
      "data/lint-example/badfile.py:1:0: W0614: Unused import seterr from wildcard import (unused-wildcard-import)\r\n",
      "data/lint-example/badfile.py:1:0: W0614: Unused import geterr from wildcard import (unused-wildcard-import)\r\n",
      "data/lint-example/badfile.py:1:0: W0614: Unused import setbufsize from wildcard import (unused-wildcard-import)\r\n",
      "data/lint-example/badfile.py:1:0: W0614: Unused import getbufsize from wildcard import (unused-wildcard-import)\r\n",
      "data/lint-example/badfile.py:1:0: W0614: Unused import seterrcall from wildcard import (unused-wildcard-import)\r\n",
      "data/lint-example/badfile.py:1:0: W0614: Unused import geterrcall from wildcard import (unused-wildcard-import)\r\n",
      "data/lint-example/badfile.py:1:0: W0614: Unused import errstate from wildcard import (unused-wildcard-import)\r\n",
      "data/lint-example/badfile.py:1:0: W0614: Unused import Inf from wildcard import (unused-wildcard-import)\r\n",
      "data/lint-example/badfile.py:1:0: W0614: Unused import inf from wildcard import (unused-wildcard-import)\r\n",
      "data/lint-example/badfile.py:1:0: W0614: Unused import infty from wildcard import (unused-wildcard-import)\r\n",
      "data/lint-example/badfile.py:1:0: W0614: Unused import Infinity from wildcard import (unused-wildcard-import)\r\n",
      "data/lint-example/badfile.py:1:0: W0614: Unused import nan from wildcard import (unused-wildcard-import)\r\n",
      "data/lint-example/badfile.py:1:0: W0614: Unused import NaN from wildcard import (unused-wildcard-import)\r\n",
      "data/lint-example/badfile.py:1:0: W0614: Unused import False_ from wildcard import (unused-wildcard-import)\r\n",
      "data/lint-example/badfile.py:1:0: W0614: Unused import True_ from wildcard import (unused-wildcard-import)\r\n",
      "data/lint-example/badfile.py:1:0: W0614: Unused import extend_all from wildcard import (unused-wildcard-import)\r\n",
      "data/lint-example/badfile.py:1:0: W0614: Unused import fastCopyAndTranspose from wildcard import (unused-wildcard-import)\r\n",
      "data/lint-example/badfile.py:1:0: W0614: Unused import ALLOW_THREADS from wildcard import (unused-wildcard-import)\r\n",
      "data/lint-example/badfile.py:1:0: W0614: Unused import BUFSIZE from wildcard import (unused-wildcard-import)\r\n",
      "data/lint-example/badfile.py:1:0: W0614: Unused import CLIP from wildcard import (unused-wildcard-import)\r\n",
      "data/lint-example/badfile.py:1:0: W0614: Unused import MAXDIMS from wildcard import (unused-wildcard-import)\r\n",
      "data/lint-example/badfile.py:1:0: W0614: Unused import MAY_SHARE_BOUNDS from wildcard import (unused-wildcard-import)\r\n",
      "data/lint-example/badfile.py:1:0: W0614: Unused import MAY_SHARE_EXACT from wildcard import (unused-wildcard-import)\r\n",
      "data/lint-example/badfile.py:1:0: W0614: Unused import RAISE from wildcard import (unused-wildcard-import)\r\n",
      "data/lint-example/badfile.py:1:0: W0614: Unused import WRAP from wildcard import (unused-wildcard-import)\r\n",
      "data/lint-example/badfile.py:1:0: W0614: Unused import arange from wildcard import (unused-wildcard-import)\r\n",
      "data/lint-example/badfile.py:1:0: W0614: Unused import array from wildcard import (unused-wildcard-import)\r\n",
      "data/lint-example/badfile.py:1:0: W0614: Unused import broadcast from wildcard import (unused-wildcard-import)\r\n",
      "data/lint-example/badfile.py:1:0: W0614: Unused import can_cast from wildcard import (unused-wildcard-import)\r\n",
      "data/lint-example/badfile.py:1:0: W0614: Unused import compare_chararrays from wildcard import (unused-wildcard-import)\r\n",
      "data/lint-example/badfile.py:1:0: W0614: Unused import concatenate from wildcard import (unused-wildcard-import)\r\n",
      "data/lint-example/badfile.py:1:0: W0614: Unused import copyto from wildcard import (unused-wildcard-import)\r\n",
      "data/lint-example/badfile.py:1:0: W0614: Unused import dot from wildcard import (unused-wildcard-import)\r\n",
      "data/lint-example/badfile.py:1:0: W0614: Unused import dtype from wildcard import (unused-wildcard-import)\r\n",
      "data/lint-example/badfile.py:1:0: W0614: Unused import empty from wildcard import (unused-wildcard-import)\r\n",
      "data/lint-example/badfile.py:1:0: W0614: Unused import empty_like from wildcard import (unused-wildcard-import)\r\n",
      "data/lint-example/badfile.py:1:0: W0614: Unused import flatiter from wildcard import (unused-wildcard-import)\r\n",
      "data/lint-example/badfile.py:1:0: W0614: Unused import frombuffer from wildcard import (unused-wildcard-import)\r\n",
      "data/lint-example/badfile.py:1:0: W0614: Unused import fromfile from wildcard import (unused-wildcard-import)\r\n",
      "data/lint-example/badfile.py:1:0: W0614: Unused import fromiter from wildcard import (unused-wildcard-import)\r\n",
      "data/lint-example/badfile.py:1:0: W0614: Unused import fromstring from wildcard import (unused-wildcard-import)\r\n",
      "data/lint-example/badfile.py:1:0: W0614: Unused import inner from wildcard import (unused-wildcard-import)\r\n",
      "data/lint-example/badfile.py:1:0: W0614: Unused import int_asbuffer from wildcard import (unused-wildcard-import)\r\n",
      "data/lint-example/badfile.py:1:0: W0614: Unused import lexsort from wildcard import (unused-wildcard-import)\r\n",
      "data/lint-example/badfile.py:1:0: W0614: Unused import matmul from wildcard import (unused-wildcard-import)\r\n",
      "data/lint-example/badfile.py:1:0: W0614: Unused import may_share_memory from wildcard import (unused-wildcard-import)\r\n",
      "data/lint-example/badfile.py:1:0: W0614: Unused import min_scalar_type from wildcard import (unused-wildcard-import)\r\n",
      "data/lint-example/badfile.py:1:0: W0614: Unused import ndarray from wildcard import (unused-wildcard-import)\r\n",
      "data/lint-example/badfile.py:1:0: W0614: Unused import nditer from wildcard import (unused-wildcard-import)\r\n",
      "data/lint-example/badfile.py:1:0: W0614: Unused import nested_iters from wildcard import (unused-wildcard-import)\r\n",
      "data/lint-example/badfile.py:1:0: W0614: Unused import promote_types from wildcard import (unused-wildcard-import)\r\n",
      "data/lint-example/badfile.py:1:0: W0614: Unused import putmask from wildcard import (unused-wildcard-import)\r\n",
      "data/lint-example/badfile.py:1:0: W0614: Unused import result_type from wildcard import (unused-wildcard-import)\r\n",
      "data/lint-example/badfile.py:1:0: W0614: Unused import set_numeric_ops from wildcard import (unused-wildcard-import)\r\n",
      "data/lint-example/badfile.py:1:0: W0614: Unused import shares_memory from wildcard import (unused-wildcard-import)\r\n",
      "data/lint-example/badfile.py:1:0: W0614: Unused import vdot from wildcard import (unused-wildcard-import)\r\n",
      "data/lint-example/badfile.py:1:0: W0614: Unused import where from wildcard import (unused-wildcard-import)\r\n",
      "data/lint-example/badfile.py:1:0: W0614: Unused import zeros from wildcard import (unused-wildcard-import)\r\n",
      "data/lint-example/badfile.py:1:0: W0614: Unused import normalize_axis_index from wildcard import (unused-wildcard-import)\r\n",
      "data/lint-example/badfile.py:1:0: W0614: Unused import newbuffer from wildcard import (unused-wildcard-import)\r\n",
      "data/lint-example/badfile.py:1:0: W0614: Unused import getbuffer from wildcard import (unused-wildcard-import)\r\n",
      "data/lint-example/badfile.py:1:0: W0614: Unused import overrides from wildcard import (unused-wildcard-import)\r\n",
      "data/lint-example/badfile.py:1:0: W0614: Unused import set_module from wildcard import (unused-wildcard-import)\r\n",
      "data/lint-example/badfile.py:1:0: W0614: Unused import multiply from wildcard import (unused-wildcard-import)\r\n",
      "data/lint-example/badfile.py:1:0: W0614: Unused import invert from wildcard import (unused-wildcard-import)\r\n",
      "data/lint-example/badfile.py:1:0: W0614: Unused import sin from wildcard import (unused-wildcard-import)\r\n",
      "data/lint-example/badfile.py:1:0: W0614: Unused import UFUNC_BUFSIZE_DEFAULT from wildcard import (unused-wildcard-import)\r\n",
      "data/lint-example/badfile.py:1:0: W0614: Unused import ERR_IGNORE from wildcard import (unused-wildcard-import)\r\n",
      "data/lint-example/badfile.py:1:0: W0614: Unused import ERR_WARN from wildcard import (unused-wildcard-import)\r\n",
      "data/lint-example/badfile.py:1:0: W0614: Unused import ERR_RAISE from wildcard import (unused-wildcard-import)\r\n",
      "data/lint-example/badfile.py:1:0: W0614: Unused import ERR_CALL from wildcard import (unused-wildcard-import)\r\n",
      "data/lint-example/badfile.py:1:0: W0614: Unused import ERR_PRINT from wildcard import (unused-wildcard-import)\r\n",
      "data/lint-example/badfile.py:1:0: W0614: Unused import ERR_LOG from wildcard import (unused-wildcard-import)\r\n",
      "data/lint-example/badfile.py:1:0: W0614: Unused import ERR_DEFAULT from wildcard import (unused-wildcard-import)\r\n",
      "data/lint-example/badfile.py:1:0: W0614: Unused import PINF from wildcard import (unused-wildcard-import)\r\n",
      "data/lint-example/badfile.py:1:0: W0614: Unused import NAN from wildcard import (unused-wildcard-import)\r\n",
      "data/lint-example/badfile.py:1:0: W0614: Unused import numerictypes from wildcard import (unused-wildcard-import)\r\n",
      "data/lint-example/badfile.py:1:0: W0614: Unused import longlong from wildcard import (unused-wildcard-import)\r\n",
      "data/lint-example/badfile.py:1:0: W0614: Unused import intc from wildcard import (unused-wildcard-import)\r\n",
      "data/lint-example/badfile.py:1:0: W0614: Unused import int_ from wildcard import (unused-wildcard-import)\r\n",
      "data/lint-example/badfile.py:1:0: W0614: Unused import float_ from wildcard import (unused-wildcard-import)\r\n",
      "data/lint-example/badfile.py:1:0: W0614: Unused import complex_ from wildcard import (unused-wildcard-import)\r\n",
      "data/lint-example/badfile.py:1:0: W0614: Unused import bool_ from wildcard import (unused-wildcard-import)\r\n",
      "data/lint-example/badfile.py:1:0: W0614: Unused import TooHardError from wildcard import (unused-wildcard-import)\r\n",
      "data/lint-example/badfile.py:1:0: W0614: Unused import AxisError from wildcard import (unused-wildcard-import)\r\n",
      "data/lint-example/badfile.py:1:0: W0614: Unused import e from wildcard import (unused-wildcard-import)\r\n",
      "data/lint-example/badfile.py:1:0: W0614: Unused import euler_gamma from wildcard import (unused-wildcard-import)\r\n",
      "data/lint-example/badfile.py:1:0: W0614: Unused import geterrobj from wildcard import (unused-wildcard-import)\r\n",
      "data/lint-example/badfile.py:1:0: W0614: Unused import seterrobj from wildcard import (unused-wildcard-import)\r\n",
      "data/lint-example/badfile.py:1:0: W0614: Unused import arccos from wildcard import (unused-wildcard-import)\r\n",
      "data/lint-example/badfile.py:1:0: W0614: Unused import arccosh from wildcard import (unused-wildcard-import)\r\n",
      "data/lint-example/badfile.py:1:0: W0614: Unused import arcsin from wildcard import (unused-wildcard-import)\r\n",
      "data/lint-example/badfile.py:1:0: W0614: Unused import arcsinh from wildcard import (unused-wildcard-import)\r\n",
      "data/lint-example/badfile.py:1:0: W0614: Unused import arctan from wildcard import (unused-wildcard-import)\r\n",
      "data/lint-example/badfile.py:1:0: W0614: Unused import arctanh from wildcard import (unused-wildcard-import)\r\n",
      "data/lint-example/badfile.py:1:0: W0614: Unused import cbrt from wildcard import (unused-wildcard-import)\r\n",
      "data/lint-example/badfile.py:1:0: W0614: Unused import conj from wildcard import (unused-wildcard-import)\r\n",
      "data/lint-example/badfile.py:1:0: W0614: Unused import conjugate from wildcard import (unused-wildcard-import)\r\n",
      "data/lint-example/badfile.py:1:0: W0614: Unused import cosh from wildcard import (unused-wildcard-import)\r\n",
      "data/lint-example/badfile.py:1:0: W0614: Unused import deg2rad from wildcard import (unused-wildcard-import)\r\n",
      "data/lint-example/badfile.py:1:0: W0614: Unused import degrees from wildcard import (unused-wildcard-import)\r\n",
      "data/lint-example/badfile.py:1:0: W0614: Unused import exp2 from wildcard import (unused-wildcard-import)\r\n",
      "data/lint-example/badfile.py:1:0: W0614: Unused import expm1 from wildcard import (unused-wildcard-import)\r\n",
      "data/lint-example/badfile.py:1:0: W0614: Unused import fabs from wildcard import (unused-wildcard-import)\r\n",
      "data/lint-example/badfile.py:1:0: W0614: Unused import frexp from wildcard import (unused-wildcard-import)\r\n",
      "data/lint-example/badfile.py:1:0: W0614: Unused import isfinite from wildcard import (unused-wildcard-import)\r\n",
      "data/lint-example/badfile.py:1:0: W0614: Unused import isinf from wildcard import (unused-wildcard-import)\r\n",
      "data/lint-example/badfile.py:1:0: W0614: Unused import log from wildcard import (unused-wildcard-import)\r\n",
      "data/lint-example/badfile.py:1:0: W0614: Unused import log1p from wildcard import (unused-wildcard-import)\r\n",
      "data/lint-example/badfile.py:1:0: W0614: Unused import log2 from wildcard import (unused-wildcard-import)\r\n",
      "data/lint-example/badfile.py:1:0: W0614: Unused import logical_not from wildcard import (unused-wildcard-import)\r\n",
      "data/lint-example/badfile.py:1:0: W0614: Unused import modf from wildcard import (unused-wildcard-import)\r\n",
      "data/lint-example/badfile.py:1:0: W0614: Unused import negative from wildcard import (unused-wildcard-import)\r\n",
      "data/lint-example/badfile.py:1:0: W0614: Unused import rad2deg from wildcard import (unused-wildcard-import)\r\n",
      "data/lint-example/badfile.py:1:0: W0614: Unused import radians from wildcard import (unused-wildcard-import)\r\n",
      "data/lint-example/badfile.py:1:0: W0614: Unused import reciprocal from wildcard import (unused-wildcard-import)\r\n",
      "data/lint-example/badfile.py:1:0: W0614: Unused import rint from wildcard import (unused-wildcard-import)\r\n",
      "data/lint-example/badfile.py:1:0: W0614: Unused import sign from wildcard import (unused-wildcard-import)\r\n",
      "data/lint-example/badfile.py:1:0: W0614: Unused import signbit from wildcard import (unused-wildcard-import)\r\n",
      "data/lint-example/badfile.py:1:0: W0614: Unused import sinh from wildcard import (unused-wildcard-import)\r\n",
      "data/lint-example/badfile.py:1:0: W0614: Unused import spacing from wildcard import (unused-wildcard-import)\r\n",
      "data/lint-example/badfile.py:1:0: W0614: Unused import square from wildcard import (unused-wildcard-import)\r\n",
      "data/lint-example/badfile.py:1:0: W0614: Unused import tan from wildcard import (unused-wildcard-import)\r\n",
      "data/lint-example/badfile.py:1:0: W0614: Unused import tanh from wildcard import (unused-wildcard-import)\r\n",
      "data/lint-example/badfile.py:1:0: W0614: Unused import trunc from wildcard import (unused-wildcard-import)\r\n",
      "data/lint-example/badfile.py:1:0: W0614: Unused import bitwise_and from wildcard import (unused-wildcard-import)\r\n",
      "data/lint-example/badfile.py:1:0: W0614: Unused import bitwise_or from wildcard import (unused-wildcard-import)\r\n",
      "data/lint-example/badfile.py:1:0: W0614: Unused import bitwise_xor from wildcard import (unused-wildcard-import)\r\n",
      "data/lint-example/badfile.py:1:0: W0614: Unused import copysign from wildcard import (unused-wildcard-import)\r\n",
      "data/lint-example/badfile.py:1:0: W0614: Unused import divide from wildcard import (unused-wildcard-import)\r\n",
      "data/lint-example/badfile.py:1:0: W0614: Unused import equal from wildcard import (unused-wildcard-import)\r\n",
      "data/lint-example/badfile.py:1:0: W0614: Unused import float_power from wildcard import (unused-wildcard-import)\r\n",
      "data/lint-example/badfile.py:1:0: W0614: Unused import floor_divide from wildcard import (unused-wildcard-import)\r\n",
      "data/lint-example/badfile.py:1:0: W0614: Unused import fmax from wildcard import (unused-wildcard-import)\r\n",
      "data/lint-example/badfile.py:1:0: W0614: Unused import fmin from wildcard import (unused-wildcard-import)\r\n",
      "data/lint-example/badfile.py:1:0: W0614: Unused import fmod from wildcard import (unused-wildcard-import)\r\n",
      "data/lint-example/badfile.py:1:0: W0614: Unused import greater from wildcard import (unused-wildcard-import)\r\n",
      "data/lint-example/badfile.py:1:0: W0614: Unused import hypot from wildcard import (unused-wildcard-import)\r\n",
      "data/lint-example/badfile.py:1:0: W0614: Unused import ldexp from wildcard import (unused-wildcard-import)\r\n",
      "data/lint-example/badfile.py:1:0: W0614: Unused import left_shift from wildcard import (unused-wildcard-import)\r\n",
      "data/lint-example/badfile.py:1:0: W0614: Unused import less from wildcard import (unused-wildcard-import)\r\n",
      "data/lint-example/badfile.py:1:0: W0614: Unused import logaddexp from wildcard import (unused-wildcard-import)\r\n",
      "data/lint-example/badfile.py:1:0: W0614: Unused import logaddexp2 from wildcard import (unused-wildcard-import)\r\n",
      "data/lint-example/badfile.py:1:0: W0614: Unused import logical_and from wildcard import (unused-wildcard-import)\r\n",
      "data/lint-example/badfile.py:1:0: W0614: Unused import logical_or from wildcard import (unused-wildcard-import)\r\n",
      "data/lint-example/badfile.py:1:0: W0614: Unused import logical_xor from wildcard import (unused-wildcard-import)\r\n",
      "data/lint-example/badfile.py:1:0: W0614: Unused import maximum from wildcard import (unused-wildcard-import)\r\n",
      "data/lint-example/badfile.py:1:0: W0614: Unused import minimum from wildcard import (unused-wildcard-import)\r\n",
      "data/lint-example/badfile.py:1:0: W0614: Unused import nextafter from wildcard import (unused-wildcard-import)\r\n",
      "data/lint-example/badfile.py:1:0: W0614: Unused import not_equal from wildcard import (unused-wildcard-import)\r\n",
      "data/lint-example/badfile.py:1:0: W0614: Unused import power from wildcard import (unused-wildcard-import)\r\n",
      "data/lint-example/badfile.py:1:0: W0614: Unused import remainder from wildcard import (unused-wildcard-import)\r\n",
      "data/lint-example/badfile.py:1:0: W0614: Unused import right_shift from wildcard import (unused-wildcard-import)\r\n",
      "data/lint-example/badfile.py:1:0: W0614: Unused import subtract from wildcard import (unused-wildcard-import)\r\n",
      "data/lint-example/badfile.py:1:0: W0614: Unused import true_divide from wildcard import (unused-wildcard-import)\r\n",
      "data/lint-example/badfile.py:1:0: W0614: Unused import generic from wildcard import (unused-wildcard-import)\r\n",
      "data/lint-example/badfile.py:1:0: W0614: Unused import genericTypeRank from wildcard import (unused-wildcard-import)\r\n",
      "data/lint-example/badfile.py:1:0: W0614: Unused import maximum_sctype from wildcard import (unused-wildcard-import)\r\n",
      "data/lint-example/badfile.py:1:0: W0614: Unused import issctype from wildcard import (unused-wildcard-import)\r\n",
      "data/lint-example/badfile.py:1:0: W0614: Unused import obj2sctype from wildcard import (unused-wildcard-import)\r\n",
      "data/lint-example/badfile.py:1:0: W0614: Unused import issubclass_ from wildcard import (unused-wildcard-import)\r\n",
      "data/lint-example/badfile.py:1:0: W0614: Unused import issubsctype from wildcard import (unused-wildcard-import)\r\n",
      "data/lint-example/badfile.py:1:0: W0614: Unused import issubdtype from wildcard import (unused-wildcard-import)\r\n",
      "data/lint-example/badfile.py:1:0: W0614: Unused import nbytes from wildcard import (unused-wildcard-import)\r\n",
      "data/lint-example/badfile.py:1:0: W0614: Unused import sctype2char from wildcard import (unused-wildcard-import)\r\n",
      "data/lint-example/badfile.py:1:0: W0614: Unused import cast from wildcard import (unused-wildcard-import)\r\n",
      "data/lint-example/badfile.py:1:0: W0614: Unused import key from wildcard import (unused-wildcard-import)\r\n",
      "data/lint-example/badfile.py:1:0: W0614: Unused import ScalarType from wildcard import (unused-wildcard-import)\r\n",
      "data/lint-example/badfile.py:1:0: W0614: Unused import typecodes from wildcard import (unused-wildcard-import)\r\n",
      "data/lint-example/badfile.py:1:0: W0614: Unused import typeDict from wildcard import (unused-wildcard-import)\r\n",
      "data/lint-example/badfile.py:1:0: W0614: Unused import typeNA from wildcard import (unused-wildcard-import)\r\n",
      "data/lint-example/badfile.py:1:0: W0614: Unused import find_common_type from wildcard import (unused-wildcard-import)\r\n",
      "data/lint-example/badfile.py:1:0: W0614: Unused import bytes from wildcard import (unused-wildcard-import)\r\n",
      "data/lint-example/badfile.py:1:0: W0614: Unused import long from wildcard import (unused-wildcard-import)\r\n",
      "data/lint-example/badfile.py:1:0: W0614: Unused import typeinfo from wildcard import (unused-wildcard-import)\r\n",
      "data/lint-example/badfile.py:1:0: W0614: Unused import datetime_data from wildcard import (unused-wildcard-import)\r\n",
      "data/lint-example/badfile.py:1:0: W0614: Unused import datetime_as_string from wildcard import (unused-wildcard-import)\r\n",
      "data/lint-example/badfile.py:1:0: W0614: Unused import busday_offset from wildcard import (unused-wildcard-import)\r\n",
      "data/lint-example/badfile.py:1:0: W0614: Unused import busday_count from wildcard import (unused-wildcard-import)\r\n",
      "data/lint-example/badfile.py:1:0: W0614: Unused import is_busday from wildcard import (unused-wildcard-import)\r\n",
      "data/lint-example/badfile.py:1:0: W0614: Unused import busdaycalendar from wildcard import (unused-wildcard-import)\r\n",
      "data/lint-example/badfile.py:1:0: W0614: Unused import english_lower from wildcard import (unused-wildcard-import)\r\n",
      "data/lint-example/badfile.py:1:0: W0614: Unused import english_upper from wildcard import (unused-wildcard-import)\r\n",
      "data/lint-example/badfile.py:1:0: W0614: Unused import english_capitalize from wildcard import (unused-wildcard-import)\r\n",
      "data/lint-example/badfile.py:1:0: W0614: Unused import LOWER_TABLE from wildcard import (unused-wildcard-import)\r\n",
      "data/lint-example/badfile.py:1:0: W0614: Unused import UPPER_TABLE from wildcard import (unused-wildcard-import)\r\n",
      "data/lint-example/badfile.py:1:0: W0614: Unused import sctypeDict from wildcard import (unused-wildcard-import)\r\n",
      "data/lint-example/badfile.py:1:0: W0614: Unused import sctypeNA from wildcard import (unused-wildcard-import)\r\n",
      "data/lint-example/badfile.py:1:0: W0614: Unused import allTypes from wildcard import (unused-wildcard-import)\r\n",
      "data/lint-example/badfile.py:1:0: W0614: Unused import bitname from wildcard import (unused-wildcard-import)\r\n",
      "data/lint-example/badfile.py:1:0: W0614: Unused import sctypes from wildcard import (unused-wildcard-import)\r\n",
      "data/lint-example/badfile.py:1:0: W0614: Unused import bool from wildcard import (unused-wildcard-import)\r\n",
      "data/lint-example/badfile.py:1:0: W0614: Unused import int from wildcard import (unused-wildcard-import)\r\n",
      "data/lint-example/badfile.py:1:0: W0614: Unused import float from wildcard import (unused-wildcard-import)\r\n",
      "data/lint-example/badfile.py:1:0: W0614: Unused import complex from wildcard import (unused-wildcard-import)\r\n",
      "data/lint-example/badfile.py:1:0: W0614: Unused import object from wildcard import (unused-wildcard-import)\r\n",
      "data/lint-example/badfile.py:1:0: W0614: Unused import str from wildcard import (unused-wildcard-import)\r\n",
      "data/lint-example/badfile.py:1:0: W0614: Unused import flexible from wildcard import (unused-wildcard-import)\r\n",
      "data/lint-example/badfile.py:1:0: W0614: Unused import number from wildcard import (unused-wildcard-import)\r\n",
      "data/lint-example/badfile.py:1:0: W0614: Unused import datetime64 from wildcard import (unused-wildcard-import)\r\n",
      "data/lint-example/badfile.py:1:0: W0614: Unused import void from wildcard import (unused-wildcard-import)\r\n",
      "data/lint-example/badfile.py:1:0: W0614: Unused import character from wildcard import (unused-wildcard-import)\r\n",
      "data/lint-example/badfile.py:1:0: W0614: Unused import integer from wildcard import (unused-wildcard-import)\r\n",
      "data/lint-example/badfile.py:1:0: W0614: Unused import inexact from wildcard import (unused-wildcard-import)\r\n",
      "data/lint-example/badfile.py:1:0: W0614: Unused import str_ from wildcard import (unused-wildcard-import)\r\n",
      "data/lint-example/badfile.py:1:0: W0614: Unused import bytes_ from wildcard import (unused-wildcard-import)\r\n",
      "data/lint-example/badfile.py:1:0: W0614: Unused import signedinteger from wildcard import (unused-wildcard-import)\r\n",
      "data/lint-example/badfile.py:1:0: W0614: Unused import unsignedinteger from wildcard import (unused-wildcard-import)\r\n",
      "data/lint-example/badfile.py:1:0: W0614: Unused import complexfloating from wildcard import (unused-wildcard-import)\r\n",
      "data/lint-example/badfile.py:1:0: W0614: Unused import floating from wildcard import (unused-wildcard-import)\r\n",
      "data/lint-example/badfile.py:1:0: W0614: Unused import float64 from wildcard import (unused-wildcard-import)\r\n",
      "data/lint-example/badfile.py:1:0: W0614: Unused import uint64 from wildcard import (unused-wildcard-import)\r\n",
      "data/lint-example/badfile.py:1:0: W0614: Unused import complex64 from wildcard import (unused-wildcard-import)\r\n",
      "data/lint-example/badfile.py:1:0: W0614: Unused import int16 from wildcard import (unused-wildcard-import)\r\n",
      "data/lint-example/badfile.py:1:0: W0614: Unused import float96 from wildcard import (unused-wildcard-import)\r\n",
      "data/lint-example/badfile.py:1:0: W0614: Unused import int8 from wildcard import (unused-wildcard-import)\r\n",
      "data/lint-example/badfile.py:1:0: W0614: Unused import uint32 from wildcard import (unused-wildcard-import)\r\n",
      "data/lint-example/badfile.py:1:0: W0614: Unused import uint8 from wildcard import (unused-wildcard-import)\r\n",
      "data/lint-example/badfile.py:1:0: W0614: Unused import complex192 from wildcard import (unused-wildcard-import)\r\n",
      "data/lint-example/badfile.py:1:0: W0614: Unused import timedelta64 from wildcard import (unused-wildcard-import)\r\n",
      "data/lint-example/badfile.py:1:0: W0614: Unused import int32 from wildcard import (unused-wildcard-import)\r\n",
      "data/lint-example/badfile.py:1:0: W0614: Unused import uint16 from wildcard import (unused-wildcard-import)\r\n",
      "data/lint-example/badfile.py:1:0: W0614: Unused import float32 from wildcard import (unused-wildcard-import)\r\n",
      "data/lint-example/badfile.py:1:0: W0614: Unused import complex128 from wildcard import (unused-wildcard-import)\r\n",
      "data/lint-example/badfile.py:1:0: W0614: Unused import float16 from wildcard import (unused-wildcard-import)\r\n",
      "data/lint-example/badfile.py:1:0: W0614: Unused import int64 from wildcard import (unused-wildcard-import)\r\n",
      "data/lint-example/badfile.py:1:0: W0614: Unused import buffer_type from wildcard import (unused-wildcard-import)\r\n",
      "data/lint-example/badfile.py:1:0: W0614: Unused import bool8 from wildcard import (unused-wildcard-import)\r\n",
      "data/lint-example/badfile.py:1:0: W0614: Unused import byte from wildcard import (unused-wildcard-import)\r\n",
      "data/lint-example/badfile.py:1:0: W0614: Unused import bytes0 from wildcard import (unused-wildcard-import)\r\n",
      "data/lint-example/badfile.py:1:0: W0614: Unused import cdouble from wildcard import (unused-wildcard-import)\r\n",
      "data/lint-example/badfile.py:1:0: W0614: Unused import cfloat from wildcard import (unused-wildcard-import)\r\n",
      "data/lint-example/badfile.py:1:0: W0614: Unused import clongdouble from wildcard import (unused-wildcard-import)\r\n",
      "data/lint-example/badfile.py:1:0: W0614: Unused import clongfloat from wildcard import (unused-wildcard-import)\r\n",
      "data/lint-example/badfile.py:1:0: W0614: Unused import csingle from wildcard import (unused-wildcard-import)\r\n",
      "data/lint-example/badfile.py:1:0: W0614: Unused import double from wildcard import (unused-wildcard-import)\r\n",
      "data/lint-example/badfile.py:1:0: W0614: Unused import half from wildcard import (unused-wildcard-import)\r\n",
      "data/lint-example/badfile.py:1:0: W0614: Unused import int0 from wildcard import (unused-wildcard-import)\r\n",
      "data/lint-example/badfile.py:1:0: W0614: Unused import intp from wildcard import (unused-wildcard-import)\r\n",
      "data/lint-example/badfile.py:1:0: W0614: Unused import longcomplex from wildcard import (unused-wildcard-import)\r\n",
      "data/lint-example/badfile.py:1:0: W0614: Unused import longdouble from wildcard import (unused-wildcard-import)\r\n",
      "data/lint-example/badfile.py:1:0: W0614: Unused import longfloat from wildcard import (unused-wildcard-import)\r\n",
      "data/lint-example/badfile.py:1:0: W0614: Unused import object0 from wildcard import (unused-wildcard-import)\r\n",
      "data/lint-example/badfile.py:1:0: W0614: Unused import object_ from wildcard import (unused-wildcard-import)\r\n",
      "data/lint-example/badfile.py:1:0: W0614: Unused import short from wildcard import (unused-wildcard-import)\r\n",
      "data/lint-example/badfile.py:1:0: W0614: Unused import single from wildcard import (unused-wildcard-import)\r\n",
      "data/lint-example/badfile.py:1:0: W0614: Unused import singlecomplex from wildcard import (unused-wildcard-import)\r\n",
      "data/lint-example/badfile.py:1:0: W0614: Unused import str0 from wildcard import (unused-wildcard-import)\r\n",
      "data/lint-example/badfile.py:1:0: W0614: Unused import string_ from wildcard import (unused-wildcard-import)\r\n",
      "data/lint-example/badfile.py:1:0: W0614: Unused import ubyte from wildcard import (unused-wildcard-import)\r\n",
      "data/lint-example/badfile.py:1:0: W0614: Unused import uint from wildcard import (unused-wildcard-import)\r\n",
      "data/lint-example/badfile.py:1:0: W0614: Unused import uint0 from wildcard import (unused-wildcard-import)\r\n",
      "data/lint-example/badfile.py:1:0: W0614: Unused import uintc from wildcard import (unused-wildcard-import)\r\n",
      "data/lint-example/badfile.py:1:0: W0614: Unused import uintp from wildcard import (unused-wildcard-import)\r\n",
      "data/lint-example/badfile.py:1:0: W0614: Unused import ulonglong from wildcard import (unused-wildcard-import)\r\n",
      "data/lint-example/badfile.py:1:0: W0614: Unused import unicode_ from wildcard import (unused-wildcard-import)\r\n",
      "data/lint-example/badfile.py:1:0: W0614: Unused import ushort from wildcard import (unused-wildcard-import)\r\n",
      "data/lint-example/badfile.py:1:0: W0614: Unused import void0 from wildcard import (unused-wildcard-import)\r\n",
      "data/lint-example/badfile.py:1:0: W0614: Unused import fromnumeric from wildcard import (unused-wildcard-import)\r\n",
      "data/lint-example/badfile.py:1:0: W0614: Unused import types from wildcard import (unused-wildcard-import)\r\n",
      "data/lint-example/badfile.py:1:0: W0614: Unused import take from wildcard import (unused-wildcard-import)\r\n",
      "data/lint-example/badfile.py:1:0: W0614: Unused import reshape from wildcard import (unused-wildcard-import)\r\n",
      "data/lint-example/badfile.py:1:0: W0614: Unused import choose from wildcard import (unused-wildcard-import)\r\n",
      "data/lint-example/badfile.py:1:0: W0614: Unused import repeat from wildcard import (unused-wildcard-import)\r\n",
      "data/lint-example/badfile.py:1:0: W0614: Unused import put from wildcard import (unused-wildcard-import)\r\n",
      "data/lint-example/badfile.py:1:0: W0614: Unused import swapaxes from wildcard import (unused-wildcard-import)\r\n",
      "data/lint-example/badfile.py:1:0: W0614: Unused import transpose from wildcard import (unused-wildcard-import)\r\n",
      "data/lint-example/badfile.py:1:0: W0614: Unused import partition from wildcard import (unused-wildcard-import)\r\n",
      "data/lint-example/badfile.py:1:0: W0614: Unused import argpartition from wildcard import (unused-wildcard-import)\r\n",
      "data/lint-example/badfile.py:1:0: W0614: Unused import sort from wildcard import (unused-wildcard-import)\r\n",
      "data/lint-example/badfile.py:1:0: W0614: Unused import argsort from wildcard import (unused-wildcard-import)\r\n",
      "data/lint-example/badfile.py:1:0: W0614: Unused import argmax from wildcard import (unused-wildcard-import)\r\n",
      "data/lint-example/badfile.py:1:0: W0614: Unused import argmin from wildcard import (unused-wildcard-import)\r\n",
      "data/lint-example/badfile.py:1:0: W0614: Unused import searchsorted from wildcard import (unused-wildcard-import)\r\n",
      "data/lint-example/badfile.py:1:0: W0614: Unused import resize from wildcard import (unused-wildcard-import)\r\n",
      "data/lint-example/badfile.py:1:0: W0614: Unused import squeeze from wildcard import (unused-wildcard-import)\r\n",
      "data/lint-example/badfile.py:1:0: W0614: Unused import diagonal from wildcard import (unused-wildcard-import)\r\n",
      "data/lint-example/badfile.py:1:0: W0614: Unused import trace from wildcard import (unused-wildcard-import)\r\n",
      "data/lint-example/badfile.py:1:0: W0614: Unused import ravel from wildcard import (unused-wildcard-import)\r\n",
      "data/lint-example/badfile.py:1:0: W0614: Unused import nonzero from wildcard import (unused-wildcard-import)\r\n",
      "data/lint-example/badfile.py:1:0: W0614: Unused import shape from wildcard import (unused-wildcard-import)\r\n",
      "data/lint-example/badfile.py:1:0: W0614: Unused import compress from wildcard import (unused-wildcard-import)\r\n",
      "data/lint-example/badfile.py:1:0: W0614: Unused import clip from wildcard import (unused-wildcard-import)\r\n",
      "data/lint-example/badfile.py:1:0: W0614: Unused import sum from wildcard import (unused-wildcard-import)\r\n",
      "data/lint-example/badfile.py:1:0: W0614: Unused import any from wildcard import (unused-wildcard-import)\r\n",
      "data/lint-example/badfile.py:1:0: W0614: Unused import all from wildcard import (unused-wildcard-import)\r\n",
      "data/lint-example/badfile.py:1:0: W0614: Unused import cumsum from wildcard import (unused-wildcard-import)\r\n",
      "data/lint-example/badfile.py:1:0: W0614: Unused import ptp from wildcard import (unused-wildcard-import)\r\n",
      "data/lint-example/badfile.py:1:0: W0614: Unused import amax from wildcard import (unused-wildcard-import)\r\n",
      "data/lint-example/badfile.py:1:0: W0614: Unused import amin from wildcard import (unused-wildcard-import)\r\n",
      "data/lint-example/badfile.py:1:0: W0614: Unused import alen from wildcard import (unused-wildcard-import)\r\n",
      "data/lint-example/badfile.py:1:0: W0614: Unused import prod from wildcard import (unused-wildcard-import)\r\n",
      "data/lint-example/badfile.py:1:0: W0614: Unused import cumprod from wildcard import (unused-wildcard-import)\r\n",
      "data/lint-example/badfile.py:1:0: W0614: Unused import ndim from wildcard import (unused-wildcard-import)\r\n",
      "data/lint-example/badfile.py:1:0: W0614: Unused import size from wildcard import (unused-wildcard-import)\r\n",
      "data/lint-example/badfile.py:1:0: W0614: Unused import around from wildcard import (unused-wildcard-import)\r\n",
      "data/lint-example/badfile.py:1:0: W0614: Unused import mean from wildcard import (unused-wildcard-import)\r\n",
      "data/lint-example/badfile.py:1:0: W0614: Unused import std from wildcard import (unused-wildcard-import)\r\n",
      "data/lint-example/badfile.py:1:0: W0614: Unused import var from wildcard import (unused-wildcard-import)\r\n",
      "data/lint-example/badfile.py:1:0: W0614: Unused import round_ from wildcard import (unused-wildcard-import)\r\n",
      "data/lint-example/badfile.py:1:0: W0614: Unused import product from wildcard import (unused-wildcard-import)\r\n",
      "data/lint-example/badfile.py:1:0: W0614: Unused import cumproduct from wildcard import (unused-wildcard-import)\r\n",
      "data/lint-example/badfile.py:1:0: W0614: Unused import sometrue from wildcard import (unused-wildcard-import)\r\n",
      "data/lint-example/badfile.py:1:0: W0614: Unused import alltrue from wildcard import (unused-wildcard-import)\r\n",
      "data/lint-example/badfile.py:1:0: W0614: Unused import rank from wildcard import (unused-wildcard-import)\r\n",
      "data/lint-example/badfile.py:1:0: W0614: Unused import mu from wildcard import (unused-wildcard-import)\r\n",
      "data/lint-example/badfile.py:1:0: W0614: Unused import um from wildcard import (unused-wildcard-import)\r\n",
      "data/lint-example/badfile.py:1:0: W0614: Unused import arrayprint from wildcard import (unused-wildcard-import)\r\n",
      "data/lint-example/badfile.py:1:0: W0614: Unused import contextlib from wildcard import (unused-wildcard-import)\r\n",
      "data/lint-example/badfile.py:1:0: W0614: Unused import set_printoptions from wildcard import (unused-wildcard-import)\r\n",
      "data/lint-example/badfile.py:1:0: W0614: Unused import get_printoptions from wildcard import (unused-wildcard-import)\r\n",
      "data/lint-example/badfile.py:1:0: W0614: Unused import printoptions from wildcard import (unused-wildcard-import)\r\n",
      "data/lint-example/badfile.py:1:0: W0614: Unused import repr_format from wildcard import (unused-wildcard-import)\r\n",
      "data/lint-example/badfile.py:1:0: W0614: Unused import str_format from wildcard import (unused-wildcard-import)\r\n",
      "data/lint-example/badfile.py:1:0: W0614: Unused import array2string from wildcard import (unused-wildcard-import)\r\n",
      "data/lint-example/badfile.py:1:0: W0614: Unused import FloatingFormat from wildcard import (unused-wildcard-import)\r\n",
      "data/lint-example/badfile.py:1:0: W0614: Unused import FloatFormat from wildcard import (unused-wildcard-import)\r\n",
      "data/lint-example/badfile.py:1:0: W0614: Unused import LongFloatFormat from wildcard import (unused-wildcard-import)\r\n",
      "data/lint-example/badfile.py:1:0: W0614: Unused import format_float_scientific from wildcard import (unused-wildcard-import)\r\n",
      "data/lint-example/badfile.py:1:0: W0614: Unused import format_float_positional from wildcard import (unused-wildcard-import)\r\n",
      "data/lint-example/badfile.py:1:0: W0614: Unused import IntegerFormat from wildcard import (unused-wildcard-import)\r\n",
      "data/lint-example/badfile.py:1:0: W0614: Unused import BoolFormat from wildcard import (unused-wildcard-import)\r\n",
      "data/lint-example/badfile.py:1:0: W0614: Unused import ComplexFloatingFormat from wildcard import (unused-wildcard-import)\r\n",
      "data/lint-example/badfile.py:1:0: W0614: Unused import ComplexFormat from wildcard import (unused-wildcard-import)\r\n",
      "data/lint-example/badfile.py:1:0: W0614: Unused import LongComplexFormat from wildcard import (unused-wildcard-import)\r\n",
      "data/lint-example/badfile.py:1:0: W0614: Unused import DatetimeFormat from wildcard import (unused-wildcard-import)\r\n",
      "data/lint-example/badfile.py:1:0: W0614: Unused import TimedeltaFormat from wildcard import (unused-wildcard-import)\r\n",
      "data/lint-example/badfile.py:1:0: W0614: Unused import SubArrayFormat from wildcard import (unused-wildcard-import)\r\n",
      "data/lint-example/badfile.py:1:0: W0614: Unused import StructuredVoidFormat from wildcard import (unused-wildcard-import)\r\n",
      "data/lint-example/badfile.py:1:0: W0614: Unused import StructureFormat from wildcard import (unused-wildcard-import)\r\n",
      "data/lint-example/badfile.py:1:0: W0614: Unused import dtype_is_implied from wildcard import (unused-wildcard-import)\r\n",
      "data/lint-example/badfile.py:1:0: W0614: Unused import dtype_short_repr from wildcard import (unused-wildcard-import)\r\n",
      "data/lint-example/badfile.py:1:0: W0614: Unused import array_repr from wildcard import (unused-wildcard-import)\r\n",
      "data/lint-example/badfile.py:1:0: W0614: Unused import array_str from wildcard import (unused-wildcard-import)\r\n",
      "data/lint-example/badfile.py:1:0: W0614: Unused import set_string_function from wildcard import (unused-wildcard-import)\r\n",
      "data/lint-example/badfile.py:1:0: W0614: Unused import get_ident from wildcard import (unused-wildcard-import)\r\n",
      "data/lint-example/badfile.py:1:0: W0614: Unused import absolute from wildcard import (unused-wildcard-import)\r\n",
      "data/lint-example/badfile.py:1:0: W0614: Unused import isnan from wildcard import (unused-wildcard-import)\r\n",
      "data/lint-example/badfile.py:1:0: W0614: Unused import isnat from wildcard import (unused-wildcard-import)\r\n",
      "data/lint-example/badfile.py:1:0: W0614: Unused import dragon4_positional from wildcard import (unused-wildcard-import)\r\n",
      "data/lint-example/badfile.py:1:0: W0614: Unused import dragon4_scientific from wildcard import (unused-wildcard-import)\r\n",
      "data/lint-example/badfile.py:1:0: W0614: Unused import set_legacy_print_mode from wildcard import (unused-wildcard-import)\r\n",
      "data/lint-example/badfile.py:1:0: W0614: Unused import char from wildcard import (unused-wildcard-import)\r\n",
      "data/lint-example/badfile.py:1:0: W0614: Unused import rec from wildcard import (unused-wildcard-import)\r\n",
      "data/lint-example/badfile.py:1:0: W0614: Unused import numfmt from wildcard import (unused-wildcard-import)\r\n",
      "data/lint-example/badfile.py:1:0: W0614: Unused import find_duplicate from wildcard import (unused-wildcard-import)\r\n",
      "data/lint-example/badfile.py:1:0: W0614: Unused import format_parser from wildcard import (unused-wildcard-import)\r\n",
      "data/lint-example/badfile.py:1:0: W0614: Unused import record from wildcard import (unused-wildcard-import)\r\n",
      "data/lint-example/badfile.py:1:0: W0614: Unused import recarray from wildcard import (unused-wildcard-import)\r\n",
      "data/lint-example/badfile.py:1:0: W0614: Unused import fromarrays from wildcard import (unused-wildcard-import)\r\n",
      "data/lint-example/badfile.py:1:0: W0614: Unused import fromrecords from wildcard import (unused-wildcard-import)\r\n",
      "data/lint-example/badfile.py:1:0: W0614: Unused import get_remaining_size from wildcard import (unused-wildcard-import)\r\n",
      "data/lint-example/badfile.py:1:0: W0614: Unused import sb from wildcard import (unused-wildcard-import)\r\n",
      "data/lint-example/badfile.py:1:0: W0614: Unused import isfileobj from wildcard import (unused-wildcard-import)\r\n",
      "data/lint-example/badfile.py:1:0: W0614: Unused import os_fspath from wildcard import (unused-wildcard-import)\r\n",
      "data/lint-example/badfile.py:1:0: W0614: Unused import dtypedescr from wildcard import (unused-wildcard-import)\r\n",
      "data/lint-example/badfile.py:1:0: W0614: Unused import valid_filemodes from wildcard import (unused-wildcard-import)\r\n",
      "data/lint-example/badfile.py:1:0: W0614: Unused import writeable_filemodes from wildcard import (unused-wildcard-import)\r\n",
      "data/lint-example/badfile.py:1:0: W0614: Unused import mode_equivalents from wildcard import (unused-wildcard-import)\r\n",
      "data/lint-example/badfile.py:1:0: W0614: Unused import memmap from wildcard import (unused-wildcard-import)\r\n",
      "data/lint-example/badfile.py:1:0: W0614: Unused import contextlib_nullcontext from wildcard import (unused-wildcard-import)\r\n",
      "data/lint-example/badfile.py:1:0: W0614: Unused import is_pathlib_path from wildcard import (unused-wildcard-import)\r\n",
      "data/lint-example/badfile.py:1:0: W0614: Unused import chararray from wildcard import (unused-wildcard-import)\r\n",
      "data/lint-example/badfile.py:1:0: W0614: Unused import function_base from wildcard import (unused-wildcard-import)\r\n",
      "data/lint-example/badfile.py:1:0: W0614: Unused import linspace from wildcard import (unused-wildcard-import)\r\n",
      "data/lint-example/badfile.py:1:0: W0614: Unused import logspace from wildcard import (unused-wildcard-import)\r\n",
      "data/lint-example/badfile.py:1:0: W0614: Unused import geomspace from wildcard import (unused-wildcard-import)\r\n",
      "data/lint-example/badfile.py:1:0: W0614: Unused import add_newdoc from wildcard import (unused-wildcard-import)\r\n",
      "data/lint-example/badfile.py:1:0: W0614: Unused import add_docstring from wildcard import (unused-wildcard-import)\r\n",
      "data/lint-example/badfile.py:1:0: W0614: Unused import machar from wildcard import (unused-wildcard-import)\r\n",
      "data/lint-example/badfile.py:1:0: W0614: Unused import MachAr from wildcard import (unused-wildcard-import)\r\n",
      "data/lint-example/badfile.py:1:0: W0614: Unused import getlimits from wildcard import (unused-wildcard-import)\r\n",
      "data/lint-example/badfile.py:1:0: W0614: Unused import MachArLike from wildcard import (unused-wildcard-import)\r\n",
      "data/lint-example/badfile.py:1:0: W0614: Unused import finfo from wildcard import (unused-wildcard-import)\r\n",
      "data/lint-example/badfile.py:1:0: W0614: Unused import iinfo from wildcard import (unused-wildcard-import)\r\n",
      "data/lint-example/badfile.py:1:0: W0614: Unused import ntypes from wildcard import (unused-wildcard-import)\r\n",
      "data/lint-example/badfile.py:1:0: W0614: Unused import log10 from wildcard import (unused-wildcard-import)\r\n",
      "data/lint-example/badfile.py:1:0: W0614: Unused import shape_base from wildcard import (unused-wildcard-import)\r\n",
      "data/lint-example/badfile.py:1:0: W0614: Unused import atleast_1d from wildcard import (unused-wildcard-import)\r\n",
      "data/lint-example/badfile.py:1:0: W0614: Unused import atleast_2d from wildcard import (unused-wildcard-import)\r\n",
      "data/lint-example/badfile.py:1:0: W0614: Unused import atleast_3d from wildcard import (unused-wildcard-import)\r\n",
      "data/lint-example/badfile.py:1:0: W0614: Unused import vstack from wildcard import (unused-wildcard-import)\r\n",
      "data/lint-example/badfile.py:1:0: W0614: Unused import hstack from wildcard import (unused-wildcard-import)\r\n",
      "data/lint-example/badfile.py:1:0: W0614: Unused import stack from wildcard import (unused-wildcard-import)\r\n",
      "data/lint-example/badfile.py:1:0: W0614: Unused import block from wildcard import (unused-wildcard-import)\r\n",
      "data/lint-example/badfile.py:1:0: W0614: Unused import einsumfunc from wildcard import (unused-wildcard-import)\r\n",
      "data/lint-example/badfile.py:1:0: W0614: Unused import einsum_symbols from wildcard import (unused-wildcard-import)\r\n",
      "data/lint-example/badfile.py:1:0: W0614: Unused import einsum_symbols_set from wildcard import (unused-wildcard-import)\r\n",
      "data/lint-example/badfile.py:1:0: W0614: Unused import einsum_path from wildcard import (unused-wildcard-import)\r\n",
      "data/lint-example/badfile.py:1:0: W0614: Unused import einsum from wildcard import (unused-wildcard-import)\r\n",
      "data/lint-example/badfile.py:1:0: W0614: Unused import c_einsum from wildcard import (unused-wildcard-import)\r\n",
      "data/lint-example/badfile.py:1:0: W0614: Unused import max from wildcard import (unused-wildcard-import)\r\n",
      "data/lint-example/badfile.py:1:0: W0614: Unused import min from wildcard import (unused-wildcard-import)\r\n",
      "data/lint-example/badfile.py:1:0: W0614: Unused import round from wildcard import (unused-wildcard-import)\r\n",
      "data/lint-example/badfile.py:1:0: W0614: Unused import abs from wildcard import (unused-wildcard-import)\r\n",
      "data/lint-example/badfile.py:1:0: W0614: Unused import compat from wildcard import (unused-wildcard-import)\r\n",
      "data/lint-example/badfile.py:1:0: W0614: Unused import lib from wildcard import (unused-wildcard-import)\r\n",
      "data/lint-example/badfile.py:1:0: W0614: Unused import math from wildcard import (unused-wildcard-import)\r\n",
      "data/lint-example/badfile.py:1:0: W0614: Unused import mintypecode from wildcard import (unused-wildcard-import)\r\n",
      "data/lint-example/badfile.py:1:0: W0614: Unused import asfarray from wildcard import (unused-wildcard-import)\r\n",
      "data/lint-example/badfile.py:1:0: W0614: Unused import real from wildcard import (unused-wildcard-import)\r\n",
      "data/lint-example/badfile.py:1:0: W0614: Unused import imag from wildcard import (unused-wildcard-import)\r\n",
      "data/lint-example/badfile.py:1:0: W0614: Unused import iscomplex from wildcard import (unused-wildcard-import)\r\n",
      "data/lint-example/badfile.py:1:0: W0614: Unused import isreal from wildcard import (unused-wildcard-import)\r\n",
      "data/lint-example/badfile.py:1:0: W0614: Unused import iscomplexobj from wildcard import (unused-wildcard-import)\r\n",
      "data/lint-example/badfile.py:1:0: W0614: Unused import isrealobj from wildcard import (unused-wildcard-import)\r\n",
      "data/lint-example/badfile.py:1:0: W0614: Unused import nan_to_num from wildcard import (unused-wildcard-import)\r\n",
      "data/lint-example/badfile.py:1:0: W0614: Unused import real_if_close from wildcard import (unused-wildcard-import)\r\n",
      "data/lint-example/badfile.py:1:0: W0614: Unused import asscalar from wildcard import (unused-wildcard-import)\r\n",
      "data/lint-example/badfile.py:1:0: W0614: Unused import typename from wildcard import (unused-wildcard-import)\r\n",
      "data/lint-example/badfile.py:1:0: W0614: Unused import array_type from wildcard import (unused-wildcard-import)\r\n",
      "data/lint-example/badfile.py:1:0: W0614: Unused import array_precision from wildcard import (unused-wildcard-import)\r\n",
      "data/lint-example/badfile.py:1:0: W0614: Unused import common_type from wildcard import (unused-wildcard-import)\r\n",
      "data/lint-example/badfile.py:1:0: W0614: Unused import isneginf from wildcard import (unused-wildcard-import)\r\n",
      "data/lint-example/badfile.py:1:0: W0614: Unused import isposinf from wildcard import (unused-wildcard-import)\r\n",
      "data/lint-example/badfile.py:1:0: W0614: Unused import matrixlib from wildcard import (unused-wildcard-import)\r\n",
      "data/lint-example/badfile.py:1:0: W0614: Unused import ix_ from wildcard import (unused-wildcard-import)\r\n",
      "data/lint-example/badfile.py:1:0: W0614: Unused import nd_grid from wildcard import (unused-wildcard-import)\r\n",
      "data/lint-example/badfile.py:1:0: W0614: Unused import MGridClass from wildcard import (unused-wildcard-import)\r\n",
      "data/lint-example/badfile.py:1:0: W0614: Unused import mgrid from wildcard import (unused-wildcard-import)\r\n",
      "data/lint-example/badfile.py:1:0: W0614: Unused import OGridClass from wildcard import (unused-wildcard-import)\r\n",
      "data/lint-example/badfile.py:1:0: W0614: Unused import ogrid from wildcard import (unused-wildcard-import)\r\n",
      "data/lint-example/badfile.py:1:0: W0614: Unused import AxisConcatenator from wildcard import (unused-wildcard-import)\r\n",
      "data/lint-example/badfile.py:1:0: W0614: Unused import RClass from wildcard import (unused-wildcard-import)\r\n",
      "data/lint-example/badfile.py:1:0: W0614: Unused import r_ from wildcard import (unused-wildcard-import)\r\n",
      "data/lint-example/badfile.py:1:0: W0614: Unused import CClass from wildcard import (unused-wildcard-import)\r\n",
      "data/lint-example/badfile.py:1:0: W0614: Unused import c_ from wildcard import (unused-wildcard-import)\r\n",
      "data/lint-example/badfile.py:1:0: W0614: Unused import ndenumerate from wildcard import (unused-wildcard-import)\r\n",
      "data/lint-example/badfile.py:1:0: W0614: Unused import ndindex from wildcard import (unused-wildcard-import)\r\n",
      "data/lint-example/badfile.py:1:0: W0614: Unused import IndexExpression from wildcard import (unused-wildcard-import)\r\n",
      "data/lint-example/badfile.py:1:0: W0614: Unused import index_exp from wildcard import (unused-wildcard-import)\r\n",
      "data/lint-example/badfile.py:1:0: W0614: Unused import s_ from wildcard import (unused-wildcard-import)\r\n",
      "data/lint-example/badfile.py:1:0: W0614: Unused import fill_diagonal from wildcard import (unused-wildcard-import)\r\n",
      "data/lint-example/badfile.py:1:0: W0614: Unused import diag_indices from wildcard import (unused-wildcard-import)\r\n",
      "data/lint-example/badfile.py:1:0: W0614: Unused import diag_indices_from from wildcard import (unused-wildcard-import)\r\n",
      "data/lint-example/badfile.py:1:0: W0614: Unused import diff from wildcard import (unused-wildcard-import)\r\n",
      "data/lint-example/badfile.py:1:0: W0614: Unused import ravel_multi_index from wildcard import (unused-wildcard-import)\r\n",
      "data/lint-example/badfile.py:1:0: W0614: Unused import unravel_index from wildcard import (unused-wildcard-import)\r\n",
      "data/lint-example/badfile.py:1:0: W0614: Unused import as_strided from wildcard import (unused-wildcard-import)\r\n",
      "data/lint-example/badfile.py:1:0: W0614: Unused import re from wildcard import (unused-wildcard-import)\r\n",
      "data/lint-example/badfile.py:1:0: W0614: Unused import range from wildcard import (unused-wildcard-import)\r\n",
      "data/lint-example/badfile.py:1:0: W0614: Unused import rot90 from wildcard import (unused-wildcard-import)\r\n",
      "data/lint-example/badfile.py:1:0: W0614: Unused import flip from wildcard import (unused-wildcard-import)\r\n",
      "data/lint-example/badfile.py:1:0: W0614: Unused import iterable from wildcard import (unused-wildcard-import)\r\n",
      "data/lint-example/badfile.py:1:0: W0614: Unused import average from wildcard import (unused-wildcard-import)\r\n",
      "data/lint-example/badfile.py:1:0: W0614: Unused import asarray_chkfinite from wildcard import (unused-wildcard-import)\r\n",
      "data/lint-example/badfile.py:1:0: W0614: Unused import piecewise from wildcard import (unused-wildcard-import)\r\n",
      "data/lint-example/badfile.py:1:0: W0614: Unused import select from wildcard import (unused-wildcard-import)\r\n",
      "data/lint-example/badfile.py:1:0: W0614: Unused import copy from wildcard import (unused-wildcard-import)\r\n",
      "data/lint-example/badfile.py:1:0: W0614: Unused import gradient from wildcard import (unused-wildcard-import)\r\n",
      "data/lint-example/badfile.py:1:0: W0614: Unused import interp from wildcard import (unused-wildcard-import)\r\n",
      "data/lint-example/badfile.py:1:0: W0614: Unused import angle from wildcard import (unused-wildcard-import)\r\n",
      "data/lint-example/badfile.py:1:0: W0614: Unused import unwrap from wildcard import (unused-wildcard-import)\r\n",
      "data/lint-example/badfile.py:1:0: W0614: Unused import sort_complex from wildcard import (unused-wildcard-import)\r\n",
      "data/lint-example/badfile.py:1:0: W0614: Unused import trim_zeros from wildcard import (unused-wildcard-import)\r\n",
      "data/lint-example/badfile.py:1:0: W0614: Unused import extract from wildcard import (unused-wildcard-import)\r\n",
      "data/lint-example/badfile.py:1:0: W0614: Unused import place from wildcard import (unused-wildcard-import)\r\n",
      "data/lint-example/badfile.py:1:0: W0614: Unused import disp from wildcard import (unused-wildcard-import)\r\n",
      "data/lint-example/badfile.py:1:0: W0614: Unused import vectorize from wildcard import (unused-wildcard-import)\r\n",
      "data/lint-example/badfile.py:1:0: W0614: Unused import cov from wildcard import (unused-wildcard-import)\r\n",
      "data/lint-example/badfile.py:1:0: W0614: Unused import corrcoef from wildcard import (unused-wildcard-import)\r\n",
      "data/lint-example/badfile.py:1:0: W0614: Unused import blackman from wildcard import (unused-wildcard-import)\r\n",
      "data/lint-example/badfile.py:1:0: W0614: Unused import bartlett from wildcard import (unused-wildcard-import)\r\n",
      "data/lint-example/badfile.py:1:0: W0614: Unused import hanning from wildcard import (unused-wildcard-import)\r\n",
      "data/lint-example/badfile.py:1:0: W0614: Unused import hamming from wildcard import (unused-wildcard-import)\r\n",
      "data/lint-example/badfile.py:1:0: W0614: Unused import i0 from wildcard import (unused-wildcard-import)\r\n",
      "data/lint-example/badfile.py:1:0: W0614: Unused import kaiser from wildcard import (unused-wildcard-import)\r\n",
      "data/lint-example/badfile.py:1:0: W0614: Unused import sinc from wildcard import (unused-wildcard-import)\r\n",
      "data/lint-example/badfile.py:1:0: W0614: Unused import msort from wildcard import (unused-wildcard-import)\r\n",
      "data/lint-example/badfile.py:1:0: W0614: Unused import median from wildcard import (unused-wildcard-import)\r\n",
      "data/lint-example/badfile.py:1:0: W0614: Unused import percentile from wildcard import (unused-wildcard-import)\r\n",
      "data/lint-example/badfile.py:1:0: W0614: Unused import quantile from wildcard import (unused-wildcard-import)\r\n",
      "data/lint-example/badfile.py:1:0: W0614: Unused import trapz from wildcard import (unused-wildcard-import)\r\n",
      "data/lint-example/badfile.py:1:0: W0614: Unused import meshgrid from wildcard import (unused-wildcard-import)\r\n",
      "data/lint-example/badfile.py:1:0: W0614: Unused import delete from wildcard import (unused-wildcard-import)\r\n",
      "data/lint-example/badfile.py:1:0: W0614: Unused import insert from wildcard import (unused-wildcard-import)\r\n",
      "data/lint-example/badfile.py:1:0: W0614: Unused import append from wildcard import (unused-wildcard-import)\r\n",
      "data/lint-example/badfile.py:1:0: W0614: Unused import digitize from wildcard import (unused-wildcard-import)\r\n",
      "data/lint-example/badfile.py:1:0: W0614: Unused import floor from wildcard import (unused-wildcard-import)\r\n",
      "data/lint-example/badfile.py:1:0: W0614: Unused import ceil from wildcard import (unused-wildcard-import)\r\n",
      "data/lint-example/badfile.py:1:0: W0614: Unused import pi from wildcard import (unused-wildcard-import)\r\n",
      "data/lint-example/badfile.py:1:0: W0614: Unused import add from wildcard import (unused-wildcard-import)\r\n",
      "data/lint-example/badfile.py:1:0: W0614: Unused import arctan2 from wildcard import (unused-wildcard-import)\r\n",
      "data/lint-example/badfile.py:1:0: W0614: Unused import frompyfunc from wildcard import (unused-wildcard-import)\r\n",
      "data/lint-example/badfile.py:1:0: W0614: Unused import cos from wildcard import (unused-wildcard-import)\r\n",
      "data/lint-example/badfile.py:1:0: W0614: Unused import less_equal from wildcard import (unused-wildcard-import)\r\n",
      "data/lint-example/badfile.py:1:0: W0614: Unused import sqrt from wildcard import (unused-wildcard-import)\r\n",
      "data/lint-example/badfile.py:1:0: W0614: Unused import mod from wildcard import (unused-wildcard-import)\r\n",
      "data/lint-example/badfile.py:1:0: W0614: Unused import exp from wildcard import (unused-wildcard-import)\r\n",
      "data/lint-example/badfile.py:1:0: W0614: Unused import diag from wildcard import (unused-wildcard-import)\r\n",
      "data/lint-example/badfile.py:1:0: W0614: Unused import deprecate from wildcard import (unused-wildcard-import)\r\n",
      "data/lint-example/badfile.py:1:0: W0614: Unused import bincount from wildcard import (unused-wildcard-import)\r\n",
      "data/lint-example/badfile.py:1:0: W0614: Unused import compiled_interp from wildcard import (unused-wildcard-import)\r\n",
      "data/lint-example/badfile.py:1:0: W0614: Unused import compiled_interp_complex from wildcard import (unused-wildcard-import)\r\n",
      "data/lint-example/badfile.py:1:0: W0614: Unused import add_newdoc_ufunc from wildcard import (unused-wildcard-import)\r\n",
      "data/lint-example/badfile.py:1:0: W0614: Unused import histogram from wildcard import (unused-wildcard-import)\r\n",
      "data/lint-example/badfile.py:1:0: W0614: Unused import histogramdd from wildcard import (unused-wildcard-import)\r\n",
      "data/lint-example/badfile.py:1:0: W0614: Unused import NDArrayOperatorsMixin from wildcard import (unused-wildcard-import)\r\n",
      "data/lint-example/badfile.py:1:0: W0614: Unused import nanmin from wildcard import (unused-wildcard-import)\r\n",
      "data/lint-example/badfile.py:1:0: W0614: Unused import nanmax from wildcard import (unused-wildcard-import)\r\n",
      "data/lint-example/badfile.py:1:0: W0614: Unused import nanargmin from wildcard import (unused-wildcard-import)\r\n",
      "data/lint-example/badfile.py:1:0: W0614: Unused import nanargmax from wildcard import (unused-wildcard-import)\r\n",
      "data/lint-example/badfile.py:1:0: W0614: Unused import nansum from wildcard import (unused-wildcard-import)\r\n",
      "data/lint-example/badfile.py:1:0: W0614: Unused import nanprod from wildcard import (unused-wildcard-import)\r\n",
      "data/lint-example/badfile.py:1:0: W0614: Unused import nancumsum from wildcard import (unused-wildcard-import)\r\n",
      "data/lint-example/badfile.py:1:0: W0614: Unused import nancumprod from wildcard import (unused-wildcard-import)\r\n",
      "data/lint-example/badfile.py:1:0: W0614: Unused import nanmean from wildcard import (unused-wildcard-import)\r\n",
      "data/lint-example/badfile.py:1:0: W0614: Unused import nanmedian from wildcard import (unused-wildcard-import)\r\n",
      "data/lint-example/badfile.py:1:0: W0614: Unused import nanpercentile from wildcard import (unused-wildcard-import)\r\n",
      "data/lint-example/badfile.py:1:0: W0614: Unused import nanquantile from wildcard import (unused-wildcard-import)\r\n",
      "data/lint-example/badfile.py:1:0: W0614: Unused import nanvar from wildcard import (unused-wildcard-import)\r\n",
      "data/lint-example/badfile.py:1:0: W0614: Unused import nanstd from wildcard import (unused-wildcard-import)\r\n",
      "data/lint-example/badfile.py:1:0: W0614: Unused import take_along_axis from wildcard import (unused-wildcard-import)\r\n",
      "data/lint-example/badfile.py:1:0: W0614: Unused import put_along_axis from wildcard import (unused-wildcard-import)\r\n",
      "data/lint-example/badfile.py:1:0: W0614: Unused import apply_along_axis from wildcard import (unused-wildcard-import)\r\n",
      "data/lint-example/badfile.py:1:0: W0614: Unused import apply_over_axes from wildcard import (unused-wildcard-import)\r\n",
      "data/lint-example/badfile.py:1:0: W0614: Unused import expand_dims from wildcard import (unused-wildcard-import)\r\n",
      "data/lint-example/badfile.py:1:0: W0614: Unused import row_stack from wildcard import (unused-wildcard-import)\r\n",
      "data/lint-example/badfile.py:1:0: W0614: Unused import column_stack from wildcard import (unused-wildcard-import)\r\n",
      "data/lint-example/badfile.py:1:0: W0614: Unused import dstack from wildcard import (unused-wildcard-import)\r\n",
      "data/lint-example/badfile.py:1:0: W0614: Unused import array_split from wildcard import (unused-wildcard-import)\r\n",
      "data/lint-example/badfile.py:1:0: W0614: Unused import split from wildcard import (unused-wildcard-import)\r\n",
      "data/lint-example/badfile.py:1:0: W0614: Unused import hsplit from wildcard import (unused-wildcard-import)\r\n",
      "data/lint-example/badfile.py:1:0: W0614: Unused import vsplit from wildcard import (unused-wildcard-import)\r\n",
      "data/lint-example/badfile.py:1:0: W0614: Unused import dsplit from wildcard import (unused-wildcard-import)\r\n",
      "data/lint-example/badfile.py:1:0: W0614: Unused import get_array_prepare from wildcard import (unused-wildcard-import)\r\n",
      "data/lint-example/badfile.py:1:0: W0614: Unused import get_array_wrap from wildcard import (unused-wildcard-import)\r\n",
      "data/lint-example/badfile.py:1:0: W0614: Unused import kron from wildcard import (unused-wildcard-import)\r\n",
      "data/lint-example/badfile.py:1:0: W0614: Unused import tile from wildcard import (unused-wildcard-import)\r\n",
      "data/lint-example/badfile.py:1:0: W0614: Unused import matrix from wildcard import (unused-wildcard-import)\r\n",
      "data/lint-example/badfile.py:1:0: W0614: Unused import DummyArray from wildcard import (unused-wildcard-import)\r\n",
      "data/lint-example/badfile.py:1:0: W0614: Unused import broadcast_to from wildcard import (unused-wildcard-import)\r\n",
      "data/lint-example/badfile.py:1:0: W0614: Unused import broadcast_arrays from wildcard import (unused-wildcard-import)\r\n",
      "data/lint-example/badfile.py:1:0: W0614: Unused import i1 from wildcard import (unused-wildcard-import)\r\n",
      "data/lint-example/badfile.py:1:0: W0614: Unused import i2 from wildcard import (unused-wildcard-import)\r\n",
      "data/lint-example/badfile.py:1:0: W0614: Unused import i4 from wildcard import (unused-wildcard-import)\r\n",
      "data/lint-example/badfile.py:1:0: W0614: Unused import fliplr from wildcard import (unused-wildcard-import)\r\n",
      "data/lint-example/badfile.py:1:0: W0614: Unused import flipud from wildcard import (unused-wildcard-import)\r\n",
      "data/lint-example/badfile.py:1:0: W0614: Unused import eye from wildcard import (unused-wildcard-import)\r\n",
      "data/lint-example/badfile.py:1:0: W0614: Unused import diagflat from wildcard import (unused-wildcard-import)\r\n",
      "data/lint-example/badfile.py:1:0: W0614: Unused import tri from wildcard import (unused-wildcard-import)\r\n",
      "data/lint-example/badfile.py:1:0: W0614: Unused import tril from wildcard import (unused-wildcard-import)\r\n",
      "data/lint-example/badfile.py:1:0: W0614: Unused import triu from wildcard import (unused-wildcard-import)\r\n",
      "data/lint-example/badfile.py:1:0: W0614: Unused import vander from wildcard import (unused-wildcard-import)\r\n",
      "data/lint-example/badfile.py:1:0: W0614: Unused import histogram2d from wildcard import (unused-wildcard-import)\r\n",
      "data/lint-example/badfile.py:1:0: W0614: Unused import mask_indices from wildcard import (unused-wildcard-import)\r\n",
      "data/lint-example/badfile.py:1:0: W0614: Unused import tril_indices from wildcard import (unused-wildcard-import)\r\n",
      "data/lint-example/badfile.py:1:0: W0614: Unused import tril_indices_from from wildcard import (unused-wildcard-import)\r\n",
      "data/lint-example/badfile.py:1:0: W0614: Unused import triu_indices from wildcard import (unused-wildcard-import)\r\n",
      "data/lint-example/badfile.py:1:0: W0614: Unused import triu_indices_from from wildcard import (unused-wildcard-import)\r\n",
      "data/lint-example/badfile.py:1:0: W0614: Unused import greater_equal from wildcard import (unused-wildcard-import)\r\n",
      "data/lint-example/badfile.py:1:0: W0614: Unused import nx from wildcard import (unused-wildcard-import)\r\n",
      "data/lint-example/badfile.py:1:0: W0614: Unused import fix from wildcard import (unused-wildcard-import)\r\n",
      "data/lint-example/badfile.py:1:0: W0614: Unused import ENABLE_ARRAY_FUNCTION from wildcard import (unused-wildcard-import)\r\n",
      "data/lint-example/badfile.py:1:0: W0614: Unused import histogram_bin_edges from wildcard import (unused-wildcard-import)\r\n",
      "data/lint-example/badfile.py:1:0: W0614: Unused import emath from wildcard import (unused-wildcard-import)\r\n",
      "data/lint-example/badfile.py:1:0: W0614: Unused import NX from wildcard import (unused-wildcard-import)\r\n",
      "data/lint-example/badfile.py:1:0: W0614: Unused import RankWarning from wildcard import (unused-wildcard-import)\r\n",
      "data/lint-example/badfile.py:1:0: W0614: Unused import poly from wildcard import (unused-wildcard-import)\r\n",
      "data/lint-example/badfile.py:1:0: W0614: Unused import roots from wildcard import (unused-wildcard-import)\r\n",
      "data/lint-example/badfile.py:1:0: W0614: Unused import polyint from wildcard import (unused-wildcard-import)\r\n",
      "data/lint-example/badfile.py:1:0: W0614: Unused import polyder from wildcard import (unused-wildcard-import)\r\n",
      "data/lint-example/badfile.py:1:0: W0614: Unused import polyfit from wildcard import (unused-wildcard-import)\r\n",
      "data/lint-example/badfile.py:1:0: W0614: Unused import polyval from wildcard import (unused-wildcard-import)\r\n",
      "data/lint-example/badfile.py:1:0: W0614: Unused import polyadd from wildcard import (unused-wildcard-import)\r\n",
      "data/lint-example/badfile.py:1:0: W0614: Unused import polysub from wildcard import (unused-wildcard-import)\r\n",
      "data/lint-example/badfile.py:1:0: W0614: Unused import polymul from wildcard import (unused-wildcard-import)\r\n",
      "data/lint-example/badfile.py:1:0: W0614: Unused import polydiv from wildcard import (unused-wildcard-import)\r\n",
      "data/lint-example/badfile.py:1:0: W0614: Unused import poly1d from wildcard import (unused-wildcard-import)\r\n",
      "data/lint-example/badfile.py:1:0: W0614: Unused import eigvals from wildcard import (unused-wildcard-import)\r\n",
      "data/lint-example/badfile.py:1:0: W0614: Unused import lstsq from wildcard import (unused-wildcard-import)\r\n",
      "data/lint-example/badfile.py:1:0: W0614: Unused import inv from wildcard import (unused-wildcard-import)\r\n",
      "data/lint-example/badfile.py:1:0: W0614: Unused import get_include from wildcard import (unused-wildcard-import)\r\n",
      "data/lint-example/badfile.py:1:0: W0614: Unused import deprecate_with_doc from wildcard import (unused-wildcard-import)\r\n",
      "data/lint-example/badfile.py:1:0: W0614: Unused import byte_bounds from wildcard import (unused-wildcard-import)\r\n",
      "data/lint-example/badfile.py:1:0: W0614: Unused import who from wildcard import (unused-wildcard-import)\r\n",
      "data/lint-example/badfile.py:1:0: W0614: Unused import info from wildcard import (unused-wildcard-import)\r\n",
      "data/lint-example/badfile.py:1:0: W0614: Unused import source from wildcard import (unused-wildcard-import)\r\n",
      "data/lint-example/badfile.py:1:0: W0614: Unused import lookfor from wildcard import (unused-wildcard-import)\r\n",
      "data/lint-example/badfile.py:1:0: W0614: Unused import SafeEval from wildcard import (unused-wildcard-import)\r\n",
      "data/lint-example/badfile.py:1:0: W0614: Unused import safe_eval from wildcard import (unused-wildcard-import)\r\n",
      "data/lint-example/badfile.py:1:0: W0614: Unused import getargspec from wildcard import (unused-wildcard-import)\r\n",
      "data/lint-example/badfile.py:1:0: W0614: Unused import formatargspec from wildcard import (unused-wildcard-import)\r\n",
      "data/lint-example/badfile.py:1:0: W0614: Unused import ediff1d from wildcard import (unused-wildcard-import)\r\n",
      "data/lint-example/badfile.py:1:0: W0614: Unused import unique from wildcard import (unused-wildcard-import)\r\n",
      "data/lint-example/badfile.py:1:0: W0614: Unused import intersect1d from wildcard import (unused-wildcard-import)\r\n",
      "data/lint-example/badfile.py:1:0: W0614: Unused import setxor1d from wildcard import (unused-wildcard-import)\r\n",
      "data/lint-example/badfile.py:1:0: W0614: Unused import in1d from wildcard import (unused-wildcard-import)\r\n",
      "data/lint-example/badfile.py:1:0: W0614: Unused import isin from wildcard import (unused-wildcard-import)\r\n",
      "data/lint-example/badfile.py:1:0: W0614: Unused import union1d from wildcard import (unused-wildcard-import)\r\n",
      "data/lint-example/badfile.py:1:0: W0614: Unused import setdiff1d from wildcard import (unused-wildcard-import)\r\n",
      "data/lint-example/badfile.py:1:0: W0614: Unused import weakref from wildcard import (unused-wildcard-import)\r\n",
      "data/lint-example/badfile.py:1:0: W0614: Unused import BagObj from wildcard import (unused-wildcard-import)\r\n",
      "data/lint-example/badfile.py:1:0: W0614: Unused import zipfile_factory from wildcard import (unused-wildcard-import)\r\n",
      "data/lint-example/badfile.py:1:0: W0614: Unused import NpzFile from wildcard import (unused-wildcard-import)\r\n",
      "data/lint-example/badfile.py:1:0: W0614: Unused import save from wildcard import (unused-wildcard-import)\r\n",
      "data/lint-example/badfile.py:1:0: W0614: Unused import savez from wildcard import (unused-wildcard-import)\r\n",
      "data/lint-example/badfile.py:1:0: W0614: Unused import savez_compressed from wildcard import (unused-wildcard-import)\r\n",
      "data/lint-example/badfile.py:1:0: W0614: Unused import loadtxt from wildcard import (unused-wildcard-import)\r\n",
      "data/lint-example/badfile.py:1:0: W0614: Unused import savetxt from wildcard import (unused-wildcard-import)\r\n",
      "data/lint-example/badfile.py:1:0: W0614: Unused import fromregex from wildcard import (unused-wildcard-import)\r\n",
      "data/lint-example/badfile.py:1:0: W0614: Unused import genfromtxt from wildcard import (unused-wildcard-import)\r\n",
      "data/lint-example/badfile.py:1:0: W0614: Unused import ndfromtxt from wildcard import (unused-wildcard-import)\r\n",
      "data/lint-example/badfile.py:1:0: W0614: Unused import mafromtxt from wildcard import (unused-wildcard-import)\r\n",
      "data/lint-example/badfile.py:1:0: W0614: Unused import recfromtxt from wildcard import (unused-wildcard-import)\r\n",
      "data/lint-example/badfile.py:1:0: W0614: Unused import recfromcsv from wildcard import (unused-wildcard-import)\r\n",
      "data/lint-example/badfile.py:1:0: W0614: Unused import itemgetter from wildcard import (unused-wildcard-import)\r\n",
      "data/lint-example/badfile.py:1:0: W0614: Unused import opindex from wildcard import (unused-wildcard-import)\r\n",
      "data/lint-example/badfile.py:1:0: W0614: Unused import format from wildcard import (unused-wildcard-import)\r\n",
      "data/lint-example/badfile.py:1:0: W0614: Unused import DataSource from wildcard import (unused-wildcard-import)\r\n",
      "data/lint-example/badfile.py:1:0: W0614: Unused import packbits from wildcard import (unused-wildcard-import)\r\n",
      "data/lint-example/badfile.py:1:0: W0614: Unused import unpackbits from wildcard import (unused-wildcard-import)\r\n",
      "data/lint-example/badfile.py:1:0: W0614: Unused import recursive from wildcard import (unused-wildcard-import)\r\n",
      "data/lint-example/badfile.py:1:0: W0614: Unused import LineSplitter from wildcard import (unused-wildcard-import)\r\n",
      "data/lint-example/badfile.py:1:0: W0614: Unused import NameValidator from wildcard import (unused-wildcard-import)\r\n",
      "data/lint-example/badfile.py:1:0: W0614: Unused import StringConverter from wildcard import (unused-wildcard-import)\r\n",
      "data/lint-example/badfile.py:1:0: W0614: Unused import ConverterError from wildcard import (unused-wildcard-import)\r\n",
      "data/lint-example/badfile.py:1:0: W0614: Unused import ConverterLockError from wildcard import (unused-wildcard-import)\r\n",
      "data/lint-example/badfile.py:1:0: W0614: Unused import ConversionWarning from wildcard import (unused-wildcard-import)\r\n",
      "data/lint-example/badfile.py:1:0: W0614: Unused import has_nested_fields from wildcard import (unused-wildcard-import)\r\n",
      "data/lint-example/badfile.py:1:0: W0614: Unused import flatten_dtype from wildcard import (unused-wildcard-import)\r\n",
      "data/lint-example/badfile.py:1:0: W0614: Unused import easy_dtype from wildcard import (unused-wildcard-import)\r\n",
      "data/lint-example/badfile.py:1:0: W0614: Unused import asbytes from wildcard import (unused-wildcard-import)\r\n",
      "data/lint-example/badfile.py:1:0: W0614: Unused import asstr from wildcard import (unused-wildcard-import)\r\n",
      "data/lint-example/badfile.py:1:0: W0614: Unused import asunicode from wildcard import (unused-wildcard-import)\r\n",
      "data/lint-example/badfile.py:1:0: W0614: Unused import asbytes_nested from wildcard import (unused-wildcard-import)\r\n",
      "data/lint-example/badfile.py:1:0: W0614: Unused import os_PathLike from wildcard import (unused-wildcard-import)\r\n",
      "data/lint-example/badfile.py:1:0: W0614: Unused import Mapping from wildcard import (unused-wildcard-import)\r\n",
      "data/lint-example/badfile.py:1:0: W0614: Unused import map from wildcard import (unused-wildcard-import)\r\n",
      "data/lint-example/badfile.py:1:0: W0614: Unused import fv from wildcard import (unused-wildcard-import)\r\n",
      "data/lint-example/badfile.py:1:0: W0614: Unused import pmt from wildcard import (unused-wildcard-import)\r\n",
      "data/lint-example/badfile.py:1:0: W0614: Unused import nper from wildcard import (unused-wildcard-import)\r\n",
      "data/lint-example/badfile.py:1:0: W0614: Unused import ipmt from wildcard import (unused-wildcard-import)\r\n",
      "data/lint-example/badfile.py:1:0: W0614: Unused import ppmt from wildcard import (unused-wildcard-import)\r\n",
      "data/lint-example/badfile.py:1:0: W0614: Unused import pv from wildcard import (unused-wildcard-import)\r\n",
      "data/lint-example/badfile.py:1:0: W0614: Unused import rate from wildcard import (unused-wildcard-import)\r\n",
      "data/lint-example/badfile.py:1:0: W0614: Unused import irr from wildcard import (unused-wildcard-import)\r\n",
      "data/lint-example/badfile.py:1:0: W0614: Unused import npv from wildcard import (unused-wildcard-import)\r\n",
      "data/lint-example/badfile.py:1:0: W0614: Unused import mirr from wildcard import (unused-wildcard-import)\r\n",
      "data/lint-example/badfile.py:1:0: W0614: Unused import Decimal from wildcard import (unused-wildcard-import)\r\n",
      "data/lint-example/badfile.py:1:0: W0614: Unused import Arrayterator from wildcard import (unused-wildcard-import)\r\n",
      "data/lint-example/badfile.py:1:0: W0614: Unused import pad from wildcard import (unused-wildcard-import)\r\n",
      "data/lint-example/badfile.py:1:0: W0614: Unused import NumpyVersion from wildcard import (unused-wildcard-import)\r\n",
      "data/lint-example/badfile.py:1:0: W0614: Unused import tracemalloc_domain from wildcard import (unused-wildcard-import)\r\n",
      "data/lint-example/badfile.py:1:0: W0614: Unused import linalg from wildcard import (unused-wildcard-import)\r\n",
      "data/lint-example/badfile.py:1:0: W0614: Unused import fft from wildcard import (unused-wildcard-import)\r\n",
      "data/lint-example/badfile.py:1:0: W0614: Unused import polynomial from wildcard import (unused-wildcard-import)\r\n",
      "data/lint-example/badfile.py:1:0: W0614: Unused import random from wildcard import (unused-wildcard-import)\r\n",
      "data/lint-example/badfile.py:1:0: W0614: Unused import ctypeslib from wildcard import (unused-wildcard-import)\r\n",
      "data/lint-example/badfile.py:1:0: W0614: Unused import ma from wildcard import (unused-wildcard-import)\r\n",
      "data/lint-example/badfile.py:1:0: W0614: Unused import ast from wildcard import (unused-wildcard-import)\r\n",
      "data/lint-example/badfile.py:1:0: W0614: Unused import N from wildcard import (unused-wildcard-import)\r\n",
      "data/lint-example/badfile.py:1:0: W0614: Unused import asmatrix from wildcard import (unused-wildcard-import)\r\n",
      "data/lint-example/badfile.py:1:0: W0614: Unused import bmat from wildcard import (unused-wildcard-import)\r\n",
      "data/lint-example/badfile.py:1:0: W0614: Unused import mat from wildcard import (unused-wildcard-import)\r\n",
      "data/lint-example/badfile.py:1:0: W0614: Unused import matrix_power from wildcard import (unused-wildcard-import)\r\n",
      "data/lint-example/badfile.py:1:0: W0614: Unused import Tester from wildcard import (unused-wildcard-import)\r\n"
     ]
    },
    {
     "name": "stdout",
     "output_type": "stream",
     "text": [
      "\r\n",
      "---------------------------------------------------------------------------\r\n",
      "Your code has been rated at -1494.00/10 (previous run: -1438.00/10, -56.00)\r\n",
      "\r\n"
     ]
    }
   ],
   "source": [
    "!pylint data/lint-example/badfile.py"
   ]
  },
  {
   "cell_type": "code",
   "execution_count": 7,
   "metadata": {},
   "outputs": [
    {
     "name": "stdout",
     "output_type": "stream",
     "text": [
      "Writing data/lint-example/betterfile.py\n"
     ]
    }
   ],
   "source": [
    "%%file data/lint-example/betterfile.py\n",
    "import numpy as np\n",
    "def ThisIsMyFunction():\n",
    "    return 'somestuff'\n",
    "def ThisIsAnotherFunctionAndItHas_Areallylongnamethatis_rediculous():\n",
    "    pass"
   ]
  },
  {
   "cell_type": "code",
   "execution_count": 8,
   "metadata": {},
   "outputs": [
    {
     "name": "stdout",
     "output_type": "stream",
     "text": [
      "************* Module betterfile\n",
      "data/lint-example/betterfile.py:1:0: C0111: Missing module docstring (missing-docstring)\n",
      "data/lint-example/betterfile.py:2:0: C0103: Function name \"ThisIsMyFunction\" doesn't conform to snake_case naming style (invalid-name)\n",
      "data/lint-example/betterfile.py:2:0: C0111: Missing function docstring (missing-docstring)\n",
      "data/lint-example/betterfile.py:4:0: C0103: Function name \"ThisIsAnotherFunctionAndItHas_Areallylongnamethatis_rediculous\" doesn't conform to snake_case naming style (invalid-name)\n",
      "data/lint-example/betterfile.py:4:0: C0111: Missing function docstring (missing-docstring)\n",
      "data/lint-example/betterfile.py:1:0: W0611: Unused numpy imported as np (unused-import)\n",
      "\n",
      "--------------------------------------------------------------------\n",
      "Your code has been rated at -2.00/10 (previous run: -4.00/10, +2.00)\n",
      "\n"
     ]
    }
   ],
   "source": [
    "!pylint data/lint-example/betterfile.py"
   ]
  },
  {
   "cell_type": "code",
   "execution_count": 11,
   "metadata": {},
   "outputs": [
    {
     "name": "stdout",
     "output_type": "stream",
     "text": [
      "Overwriting data/lint-example/pylintok.py\n"
     ]
    }
   ],
   "source": [
    "%%file data/lint-example/pylintok.py\n",
    "\"\"\"This module does stuff.\"\"\"\n",
    "import numpy as np\n",
    "def this_is_my_function():\n",
    "    \"I should document this\"\n",
    "    return np.array([1, 2, 3, 4])\n",
    "def another_function():\n",
    "    'This one, too.'\n"
   ]
  },
  {
   "cell_type": "code",
   "execution_count": 12,
   "metadata": {},
   "outputs": [
    {
     "name": "stdout",
     "output_type": "stream",
     "text": [
      "\r\n",
      "-------------------------------------------------------------------\r\n",
      "Your code has been rated at 10.00/10 (previous run: 6.00/10, +4.00)\r\n",
      "\r\n"
     ]
    }
   ],
   "source": [
    "!pylint data/lint-example/pylintok.py"
   ]
  },
  {
   "cell_type": "markdown",
   "metadata": {},
   "source": [
    "# Other linters\n",
    "\n",
    "- Pyflakes - fast, integrated into idle cycle in some editors\n",
    "- Flake8 - Pyflakes + PEP8 style errors"
   ]
  },
  {
   "cell_type": "code",
   "execution_count": 14,
   "metadata": {},
   "outputs": [
    {
     "name": "stdout",
     "output_type": "stream",
     "text": [
      "data/lint-example/badfile.py:1: 'from numpy import *' used; unable to detect undefined names\r\n",
      "data/lint-example/badfile.py:1: 'numpy.*' imported but unused\r\n"
     ]
    }
   ],
   "source": [
    "!pyflakes data/lint-example/badfile.py"
   ]
  },
  {
   "cell_type": "code",
   "execution_count": 15,
   "metadata": {},
   "outputs": [
    {
     "name": "stdout",
     "output_type": "stream",
     "text": [
      "data/lint-example/betterfile.py:1: 'numpy as np' imported but unused\r\n"
     ]
    }
   ],
   "source": [
    "!pyflakes data/lint-example/betterfile.py"
   ]
  },
  {
   "cell_type": "code",
   "execution_count": 17,
   "metadata": {},
   "outputs": [],
   "source": [
    "!pyflakes data/lint-example/pylintok.py"
   ]
  },
  {
   "cell_type": "code",
   "execution_count": 18,
   "metadata": {},
   "outputs": [
    {
     "name": "stdout",
     "output_type": "stream",
     "text": [
      "data/lint-example/badfile.py:1:1: F403 'from numpy import *' used; unable to detect undefined names\r\n",
      "data/lint-example/badfile.py:1:1: F401 'numpy.*' imported but unused\r\n",
      "data/lint-example/badfile.py:2:1: E302 expected 2 blank lines, found 0\r\n",
      "data/lint-example/badfile.py:4:1: E302 expected 2 blank lines, found 0\r\n"
     ]
    }
   ],
   "source": [
    "!flake8 data/lint-example/badfile.py"
   ]
  },
  {
   "cell_type": "code",
   "execution_count": 19,
   "metadata": {},
   "outputs": [
    {
     "name": "stdout",
     "output_type": "stream",
     "text": [
      "data/lint-example/betterfile.py:1:1: F401 'numpy as np' imported but unused\r\n",
      "data/lint-example/betterfile.py:2:1: E302 expected 2 blank lines, found 0\r\n",
      "data/lint-example/betterfile.py:4:1: E302 expected 2 blank lines, found 0\r\n"
     ]
    }
   ],
   "source": [
    "!flake8 data/lint-example/betterfile.py"
   ]
  },
  {
   "cell_type": "code",
   "execution_count": 20,
   "metadata": {},
   "outputs": [
    {
     "name": "stdout",
     "output_type": "stream",
     "text": [
      "data/lint-example/pylintok.py:3:1: E302 expected 2 blank lines, found 0\r\n",
      "data/lint-example/pylintok.py:6:1: E302 expected 2 blank lines, found 0\r\n"
     ]
    }
   ],
   "source": [
    "!flake8 data/lint-example/pylintok.py"
   ]
  },
  {
   "cell_type": "code",
   "execution_count": 23,
   "metadata": {},
   "outputs": [
    {
     "name": "stdout",
     "output_type": "stream",
     "text": [
      "Overwriting data/lint-example/flake8ok.py\n"
     ]
    }
   ],
   "source": [
    "%%file data/lint-example/flake8ok.py\n",
    "\"\"\"This module does stuff.\"\"\"\n",
    "import numpy as np\n",
    "\n",
    "\n",
    "def this_is_my_function():\n",
    "    \"I should document this\"\n",
    "    return np.array([1, 2, 3, 4])\n",
    "\n",
    "\n",
    "def another_function():\n",
    "    'This one, too.'\n",
    "    pass\n"
   ]
  },
  {
   "cell_type": "code",
   "execution_count": 24,
   "metadata": {},
   "outputs": [],
   "source": [
    "!flake8 data/lint-example/flake8ok.py"
   ]
  },
  {
   "cell_type": "markdown",
   "metadata": {},
   "source": [
    "# Configuring flake8\n",
    "\n",
    "- Details: http://flake8.pycqa.org/en/latest/user/configuration.html\n",
    "- Possible to ignore warnings, but I don't recommend\n",
    "- More information on configuring editors: https://medium.com/python-pandemonium/what-is-flake8-and-why-we-should-use-it-b89bd78073f2"
   ]
  },
  {
   "cell_type": "markdown",
   "metadata": {},
   "source": [
    "# Types of testing: Unit testing\n",
    "\n",
    "- Test the smallest testable part of the system (e.g. a class or a function)\n",
    "- Minimal dependencies on external systems (best case: no dependencies)\n",
    "- Written by developers of unit under test\n",
    "- Exercise all edge cases\n",
    "- Must run *fast*\n",
    "\n",
    "### Advantages\n",
    "\n",
    "- Run fast\n",
    "- When a test fails, it's easy to pinpoint what's broken in the code\n",
    "- Can run anywhere (because no dependencies)\n",
    "\n",
    "### Disadvantages\n",
    "\n",
    "- Each test only tests a small portion of your code\n",
    "- If the units aren't well-encapsulated, unit testing is _very_ hard to do well\n",
    "- Doesn't test how your units are \"wired together\""
   ]
  },
  {
   "cell_type": "markdown",
   "metadata": {},
   "source": [
    "# Types of testing: Integration testing\n",
    "\n",
    "- Test two or more units integrated together\n",
    "- May run slower than unit tests\n",
    "- May use external dependencies\n",
    "\n",
    "### Advantages\n",
    "\n",
    "- Small amount of test code exercises a **large** amount of application/library code (easy to get high coverage statistics)\n",
    "- Provides confidence that (some) end-to-end code paths in your application actually work\n",
    "\n",
    "### Disadvantages\n",
    "\n",
    "- Can run slower than unit tests\n",
    "- Can be more difficult to isolate what went wrong when a test fails\n",
    "- May require external infrastructure to be set up / torn down with testing"
   ]
  },
  {
   "cell_type": "markdown",
   "metadata": {},
   "source": [
    "# Types of testing: User / Acceptance tests\n",
    "\n",
    "- Ideally written by *users* (maybe with developer help)\n",
    "- \"If this test passes, then the business requirement is met.\"\n",
    "- Typically very high-level tests\n",
    "\n",
    "### Advantages\n",
    "\n",
    "- Provides unambiguous way to communicate requirements\n",
    "- Documents expected behavior of system (good starting point for user documentation)\n",
    "\n",
    "### Disadvantages\n",
    "\n",
    "- Usually requires full system to run correctly\n",
    "- May require user intervention / be difficult to automate\n"
   ]
  },
  {
   "cell_type": "markdown",
   "metadata": {},
   "source": [
    "# You need all of them!\n",
    "\n",
    "- Unit tests written / run by developers frequently\n",
    "- Integration tests occasionally run by developers, frequently by CI/CD tool (Jenkins or something similar)\n",
    "- Code review helps here\n",
    "    - Don't allow untested code\n",
    "    - Don't allow test failures to go up on a commit\n",
    "- Ultimately, the business user and the developer must agree on what it means for a feature to be \"done\" (acceptance tests)"
   ]
  },
  {
   "cell_type": "markdown",
   "metadata": {},
   "source": [
    "# Python testing support in the `unittest` library\n",
    "\n",
    "Normal method of use:\n",
    "\n",
    "- Create a subclass of `unittest.TestCase`\n",
    "- Write a bunch of test methods\n",
    "- Put the following code at the bottom of your test file:\n",
    "\n",
    "```python\n",
    "if __name__ == '__main__':\n",
    "    unittest.main()\n",
    "```\n",
    "\n",
    "You can also run all the tests in a file by invoking the `unittest` module directly:\n",
    "\n",
    "```bash\n",
    "$ python -m unittest mytestfile.py\n",
    "```"
   ]
  },
  {
   "cell_type": "code",
   "execution_count": 31,
   "metadata": {},
   "outputs": [
    {
     "name": "stdout",
     "output_type": "stream",
     "text": [
      "Overwriting data/test-examples/test1.py\n"
     ]
    }
   ],
   "source": [
    "%%file data/test-examples/test1.py\n",
    "import unittest\n",
    "\n",
    "class MyTest(unittest.TestCase):\n",
    "    def test_pass(self):\n",
    "        pass"
   ]
  },
  {
   "cell_type": "code",
   "execution_count": 32,
   "metadata": {
    "scrolled": true
   },
   "outputs": [
    {
     "name": "stdout",
     "output_type": "stream",
     "text": [
      ".\r\n",
      "----------------------------------------------------------------------\r\n",
      "Ran 1 test in 0.000s\r\n",
      "\r\n",
      "OK\r\n"
     ]
    }
   ],
   "source": [
    "!python -m unittest data/test-examples/test1.py"
   ]
  },
  {
   "cell_type": "markdown",
   "metadata": {},
   "source": [
    "We can also run in 'verbose' mode to see which tests were run:"
   ]
  },
  {
   "cell_type": "code",
   "execution_count": 33,
   "metadata": {},
   "outputs": [
    {
     "name": "stdout",
     "output_type": "stream",
     "text": [
      "test_pass (data.test-examples.test1.MyTest) ... ok\n",
      "\n",
      "----------------------------------------------------------------------\n",
      "Ran 1 test in 0.000s\n",
      "\n",
      "OK\n"
     ]
    }
   ],
   "source": [
    "!python -m unittest data/test-examples/test1.py -v"
   ]
  },
  {
   "cell_type": "markdown",
   "metadata": {},
   "source": [
    "### Failures and Errors\n",
    "\n",
    "In `unittest`, an `AssertionError` is considered a test \"failure\". Any other exception raised by the test that is not handled is considered a test \"error\":"
   ]
  },
  {
   "cell_type": "code",
   "execution_count": 35,
   "metadata": {},
   "outputs": [
    {
     "name": "stdout",
     "output_type": "stream",
     "text": [
      "Overwriting data/test-examples/test2.py\n"
     ]
    }
   ],
   "source": [
    "%%file data/test-examples/test2.py\n",
    "import unittest\n",
    "\n",
    "class MyTest(unittest.TestCase):\n",
    "\n",
    "    def test_fail(self):\n",
    "        assert False\n",
    "\n",
    "    def test_fail_message(self):\n",
    "        assert False, 'This is an assertion message'\n",
    "\n",
    "    def test_math(self):\n",
    "        assert 1 + 1 == 2, 'Math is broken'"
   ]
  },
  {
   "cell_type": "code",
   "execution_count": 36,
   "metadata": {},
   "outputs": [
    {
     "name": "stdout",
     "output_type": "stream",
     "text": [
      "FF.\r\n",
      "======================================================================\r\n",
      "FAIL: test_fail (data.test-examples.test2.MyTest)\r\n",
      "----------------------------------------------------------------------\r\n",
      "Traceback (most recent call last):\r\n",
      "  File \"/Users/rick446/src/arborian-classes/src/data/test-examples/test2.py\", line 6, in test_fail\r\n",
      "    assert False\r\n",
      "AssertionError\r\n",
      "\r\n",
      "======================================================================\r\n",
      "FAIL: test_fail_message (data.test-examples.test2.MyTest)\r\n",
      "----------------------------------------------------------------------\r\n",
      "Traceback (most recent call last):\r\n",
      "  File \"/Users/rick446/src/arborian-classes/src/data/test-examples/test2.py\", line 9, in test_fail_message\r\n",
      "    assert False, 'This is an assertion message'\r\n",
      "AssertionError: This is an assertion message\r\n",
      "\r\n",
      "----------------------------------------------------------------------\r\n",
      "Ran 3 tests in 0.001s\r\n",
      "\r\n",
      "FAILED (failures=2)\r\n"
     ]
    }
   ],
   "source": [
    "!python -m unittest data/test-examples/test2.py"
   ]
  },
  {
   "cell_type": "code",
   "execution_count": 37,
   "metadata": {},
   "outputs": [
    {
     "name": "stdout",
     "output_type": "stream",
     "text": [
      "test_fail (data.test-examples.test2.MyTest) ... FAIL\r\n",
      "test_fail_message (data.test-examples.test2.MyTest) ... FAIL\r\n",
      "test_math (data.test-examples.test2.MyTest) ... ok\r\n",
      "\r\n",
      "======================================================================\r\n",
      "FAIL: test_fail (data.test-examples.test2.MyTest)\r\n",
      "----------------------------------------------------------------------\r\n",
      "Traceback (most recent call last):\r\n",
      "  File \"/Users/rick446/src/arborian-classes/src/data/test-examples/test2.py\", line 6, in test_fail\r\n",
      "    assert False\r\n",
      "AssertionError\r\n",
      "\r\n",
      "======================================================================\r\n",
      "FAIL: test_fail_message (data.test-examples.test2.MyTest)\r\n",
      "----------------------------------------------------------------------\r\n",
      "Traceback (most recent call last):\r\n",
      "  File \"/Users/rick446/src/arborian-classes/src/data/test-examples/test2.py\", line 9, in test_fail_message\r\n",
      "    assert False, 'This is an assertion message'\r\n",
      "AssertionError: This is an assertion message\r\n",
      "\r\n",
      "----------------------------------------------------------------------\r\n",
      "Ran 3 tests in 0.001s\r\n",
      "\r\n",
      "FAILED (failures=2)\r\n"
     ]
    }
   ],
   "source": [
    "!python -m unittest data/test-examples/test2.py -v"
   ]
  },
  {
   "cell_type": "markdown",
   "metadata": {},
   "source": [
    "### Using assertion helpers\n",
    "\n",
    "While we can use bare `assert` statements or manually raise `AssertionError`, it's usually better to use `unittest.TestCase`'s helper methods:"
   ]
  },
  {
   "cell_type": "code",
   "execution_count": 43,
   "metadata": {},
   "outputs": [
    {
     "name": "stdout",
     "output_type": "stream",
     "text": [
      "Overwriting data/test-examples/simple_math.py\n"
     ]
    }
   ],
   "source": [
    "%%file data/test-examples/simple_math.py\n",
    "def add(a, b):\n",
    "    return a + b\n",
    "\n",
    "def subtract(a, b):\n",
    "    return a - b\n",
    "\n",
    "def multiply(a, b):\n",
    "    return a * b\n",
    "\n",
    "def divide(a, b):\n",
    "    return a / b\n"
   ]
  },
  {
   "cell_type": "code",
   "execution_count": 48,
   "metadata": {},
   "outputs": [
    {
     "name": "stdout",
     "output_type": "stream",
     "text": [
      "Overwriting data/test-examples/test3.py\n"
     ]
    }
   ],
   "source": [
    "%%file data/test-examples/test3.py\n",
    "import unittest\n",
    "from . import simple_math\n",
    "\n",
    "class MyTest(unittest.TestCase):\n",
    "\n",
    "    def test_one_and_one(self):\n",
    "        self.assertEqual(simple_math.add(1, 1), 2)\n",
    "\n",
    "    def test_one_and_one_fail(self):\n",
    "        self.assertEqual(simple_math.add(1, 1), 4)\n",
    "\n",
    "    def test_one_and_one_fail_assert(self):\n",
    "        assert simple_math.add(1,1) == 4\n",
    "\n",
    "    def test_lists(self):\n",
    "        self.assertEqual([1, 2, 3], [1, 2, 3, 4])"
   ]
  },
  {
   "cell_type": "code",
   "execution_count": 50,
   "metadata": {},
   "outputs": [
    {
     "name": "stdout",
     "output_type": "stream",
     "text": [
      "test_lists (data.test-examples.test3.MyTest) ... FAIL\n",
      "test_one_and_one (data.test-examples.test3.MyTest) ... ok\n",
      "test_one_and_one_fail (data.test-examples.test3.MyTest) ... FAIL\n",
      "test_one_and_one_fail_assert (data.test-examples.test3.MyTest) ... FAIL\n",
      "\n",
      "======================================================================\n",
      "FAIL: test_lists (data.test-examples.test3.MyTest)\n",
      "----------------------------------------------------------------------\n",
      "Traceback (most recent call last):\n",
      "  File \"/Users/rick446/src/arborian-classes/src/data/test-examples/test3.py\", line 16, in test_lists\n",
      "    self.assertEqual([1, 2, 3], [1, 2, 3, 4])\n",
      "AssertionError: Lists differ: [1, 2, 3] != [1, 2, 3, 4]\n",
      "\n",
      "Second list contains 1 additional elements.\n",
      "First extra element 3:\n",
      "4\n",
      "\n",
      "- [1, 2, 3]\n",
      "+ [1, 2, 3, 4]\n",
      "?         +++\n",
      "\n",
      "\n",
      "======================================================================\n",
      "FAIL: test_one_and_one_fail (data.test-examples.test3.MyTest)\n",
      "----------------------------------------------------------------------\n",
      "Traceback (most recent call last):\n",
      "  File \"/Users/rick446/src/arborian-classes/src/data/test-examples/test3.py\", line 10, in test_one_and_one_fail\n",
      "    self.assertEqual(simple_math.add(1, 1), 4)\n",
      "AssertionError: 2 != 4\n",
      "\n",
      "======================================================================\n",
      "FAIL: test_one_and_one_fail_assert (data.test-examples.test3.MyTest)\n",
      "----------------------------------------------------------------------\n",
      "Traceback (most recent call last):\n",
      "  File \"/Users/rick446/src/arborian-classes/src/data/test-examples/test3.py\", line 13, in test_one_and_one_fail_assert\n",
      "    assert simple_math.add(1,1) == 4\n",
      "AssertionError\n",
      "\n",
      "----------------------------------------------------------------------\n",
      "Ran 4 tests in 0.001s\n",
      "\n",
      "FAILED (failures=3)\n"
     ]
    }
   ],
   "source": [
    "!python -m unittest data/test-examples/test3.py -v"
   ]
  },
  {
   "cell_type": "markdown",
   "metadata": {},
   "source": [
    "### Handling Exceptions\n",
    "\n",
    "You can ensure that expected exceptions are raised manually, or by using the `assertRaises` helpers in `TestCase`:"
   ]
  },
  {
   "cell_type": "code",
   "execution_count": 54,
   "metadata": {},
   "outputs": [
    {
     "name": "stdout",
     "output_type": "stream",
     "text": [
      "Overwriting data/test-examples/test4.py\n"
     ]
    }
   ],
   "source": [
    "%%file data/test-examples/test4.py\n",
    "import unittest\n",
    "from . import simple_math\n",
    "\n",
    "class MyTest(unittest.TestCase):\n",
    "\n",
    "    def test_one_and_one_alt(self):\n",
    "        try:\n",
    "            simple_math.divide(1,0)\n",
    "        except ZeroDivisionError:\n",
    "            pass\n",
    "        else:\n",
    "            raise AssertionError('Exception was not raised')\n",
    "\n",
    "    def test_one_and_one(self):\n",
    "        self.assertRaises(\n",
    "            ZeroDivisionError, simple_math.divide, 1, 0)\n",
    "\n",
    "    def test_one_and_one_alt2(self):\n",
    "        with self.assertRaises(ZeroDivisionError):\n",
    "            simple_math.divide(1, 0)\n",
    "\n",
    "    def test_one_and_one_alt3(self):\n",
    "        with self.assertRaises(ZeroDivisionError):\n",
    "            1 / 0\n",
    "\n",
    "    def test_one_and_one_alt3_fail(self):\n",
    "        with self.assertRaises(ZeroDivisionError):\n",
    "            1 / 1"
   ]
  },
  {
   "cell_type": "code",
   "execution_count": 55,
   "metadata": {},
   "outputs": [
    {
     "name": "stdout",
     "output_type": "stream",
     "text": [
      "....F\r\n",
      "======================================================================\r\n",
      "FAIL: test_one_and_one_alt3_fail (data.test-examples.test4.MyTest)\r\n",
      "----------------------------------------------------------------------\r\n",
      "Traceback (most recent call last):\r\n",
      "  File \"/Users/rick446/src/arborian-classes/src/data/test-examples/test4.py\", line 28, in test_one_and_one_alt3_fail\r\n",
      "    1 / 1\r\n",
      "AssertionError: ZeroDivisionError not raised\r\n",
      "\r\n",
      "----------------------------------------------------------------------\r\n",
      "Ran 5 tests in 0.001s\r\n",
      "\r\n",
      "FAILED (failures=1)\r\n"
     ]
    }
   ],
   "source": [
    "!python -m unittest data/test-examples/test4.py"
   ]
  },
  {
   "cell_type": "markdown",
   "metadata": {},
   "source": [
    "### Test errors\n",
    "\n",
    "Test \"errors\" are displayed differently from test \"failures.\" "
   ]
  },
  {
   "cell_type": "code",
   "execution_count": 58,
   "metadata": {},
   "outputs": [
    {
     "name": "stdout",
     "output_type": "stream",
     "text": [
      "Overwriting data/test-examples/test5.py\n"
     ]
    }
   ],
   "source": [
    "%%file data/test-examples/test5.py\n",
    "import unittest\n",
    "\n",
    "class MyTest(unittest.TestCase):\n",
    "\n",
    "    def test_pass(self):\n",
    "        pass\n",
    "\n",
    "    def test_fail(self):\n",
    "        assert False\n",
    "\n",
    "    def test_also_fail(self):\n",
    "        raise AssertionError()\n",
    "\n",
    "    def test_error(self):\n",
    "        raise ValueError()"
   ]
  },
  {
   "cell_type": "code",
   "execution_count": 60,
   "metadata": {},
   "outputs": [
    {
     "name": "stdout",
     "output_type": "stream",
     "text": [
      "FEF.\r\n",
      "======================================================================\r\n",
      "ERROR: test_error (data.test-examples.test5.MyTest)\r\n",
      "----------------------------------------------------------------------\r\n",
      "Traceback (most recent call last):\r\n",
      "  File \"/Users/rick446/src/arborian-classes/src/data/test-examples/test5.py\", line 15, in test_error\r\n",
      "    raise ValueError()\r\n",
      "ValueError\r\n",
      "\r\n",
      "======================================================================\r\n",
      "FAIL: test_also_fail (data.test-examples.test5.MyTest)\r\n",
      "----------------------------------------------------------------------\r\n",
      "Traceback (most recent call last):\r\n",
      "  File \"/Users/rick446/src/arborian-classes/src/data/test-examples/test5.py\", line 12, in test_also_fail\r\n",
      "    raise AssertionError()\r\n",
      "AssertionError\r\n",
      "\r\n",
      "======================================================================\r\n",
      "FAIL: test_fail (data.test-examples.test5.MyTest)\r\n",
      "----------------------------------------------------------------------\r\n",
      "Traceback (most recent call last):\r\n",
      "  File \"/Users/rick446/src/arborian-classes/src/data/test-examples/test5.py\", line 9, in test_fail\r\n",
      "    assert False\r\n",
      "AssertionError\r\n",
      "\r\n",
      "----------------------------------------------------------------------\r\n",
      "Ran 4 tests in 0.001s\r\n",
      "\r\n",
      "FAILED (failures=2, errors=1)\r\n"
     ]
    }
   ],
   "source": [
    "!python -m unittest data/test-examples/test5.py"
   ]
  },
  {
   "cell_type": "markdown",
   "metadata": {},
   "source": [
    "### Setup / teardown code\n",
    "\n",
    "If you are always writing the same set of code at the beginning/end of your tests, you can refactor it into a `setUp` and/or `tearDown` method in your `TestCase`.\n",
    "\n",
    "Note that `setUp` and `tearDown` are called before/after *each* test, not once at the beginning of the suite and once at the end."
   ]
  },
  {
   "cell_type": "code",
   "execution_count": 63,
   "metadata": {},
   "outputs": [
    {
     "name": "stdout",
     "output_type": "stream",
     "text": [
      "Overwriting data/test-examples/test6.py\n"
     ]
    }
   ],
   "source": [
    "%%file data/test-examples/test6.py\n",
    "import unittest\n",
    "from .simple_math import add, subtract, multiply, divide\n",
    "\n",
    "class MyTest(unittest.TestCase):\n",
    "\n",
    "    def setUp(self):\n",
    "        self.x = 1\n",
    "        self.y = 1\n",
    "        print('setUp')\n",
    "\n",
    "    def tearDown(self):\n",
    "        print('tearDown')\n",
    "\n",
    "    def test_add(self):\n",
    "        self.assertEqual(add(self.x, self.y), 2)\n",
    "\n",
    "    def test_subtract(self):\n",
    "        self.assertEqual(subtract(self.x, self.y), 0)\n",
    "\n",
    "    def test_multiply(self):\n",
    "        self.assertEqual(multiply(self.x, self.y), 1)\n",
    "\n",
    "    def test_divide(self):\n",
    "        self.assertEqual(divide(self.x, self.y), 1)"
   ]
  },
  {
   "cell_type": "code",
   "execution_count": 64,
   "metadata": {},
   "outputs": [
    {
     "name": "stdout",
     "output_type": "stream",
     "text": [
      "setUp\r\n",
      "tearDown\r\n",
      ".setUp\r\n",
      "tearDown\r\n",
      ".setUp\r\n",
      "tearDown\r\n",
      ".setUp\r\n",
      "tearDown\r\n",
      ".\r\n",
      "----------------------------------------------------------------------\r\n",
      "Ran 4 tests in 0.000s\r\n",
      "\r\n",
      "OK\r\n"
     ]
    }
   ],
   "source": [
    "!python -m unittest data/test-examples/test6.py"
   ]
  },
  {
   "cell_type": "markdown",
   "metadata": {},
   "source": [
    "### Docstrings in tests\n",
    "\n",
    "If your test name is not enough to identify exactly what's being tested, you can add a docstring to your test methods:"
   ]
  },
  {
   "cell_type": "code",
   "execution_count": 66,
   "metadata": {},
   "outputs": [
    {
     "name": "stdout",
     "output_type": "stream",
     "text": [
      "Overwriting data/test-examples/test7.py\n"
     ]
    }
   ],
   "source": [
    "%%file data/test-examples/test7.py\n",
    "import unittest\n",
    "\n",
    "class MyTest(unittest.TestCase):\n",
    "\n",
    "    def test_docstring(self):\n",
    "        \"This is a test docstring. It should say what's being tested.\"\n",
    "        pass\n",
    "\n",
    "    def test_no_docstring(self):\n",
    "        pass\n",
    "\n",
    "    def test_docstring_fail(self):\n",
    "        \"This is a test docstring. It should say what's being tested.\"\n",
    "        assert False\n",
    "\n",
    "    def test_no_docstring_fail(self):\n",
    "        assert False\n"
   ]
  },
  {
   "cell_type": "code",
   "execution_count": 68,
   "metadata": {},
   "outputs": [
    {
     "name": "stdout",
     "output_type": "stream",
     "text": [
      ".F.F\r\n",
      "======================================================================\r\n",
      "FAIL: test_docstring_fail (data.test-examples.test7.MyTest)\r\n",
      "This is a test docstring. It should say what's being tested.\r\n",
      "----------------------------------------------------------------------\r\n",
      "Traceback (most recent call last):\r\n",
      "  File \"/Users/rick446/src/arborian-classes/src/data/test-examples/test7.py\", line 14, in test_docstring_fail\r\n",
      "    assert False\r\n",
      "AssertionError\r\n",
      "\r\n",
      "======================================================================\r\n",
      "FAIL: test_no_docstring_fail (data.test-examples.test7.MyTest)\r\n",
      "----------------------------------------------------------------------\r\n",
      "Traceback (most recent call last):\r\n",
      "  File \"/Users/rick446/src/arborian-classes/src/data/test-examples/test7.py\", line 17, in test_no_docstring_fail\r\n",
      "    assert False\r\n",
      "AssertionError\r\n",
      "\r\n",
      "----------------------------------------------------------------------\r\n",
      "Ran 4 tests in 0.001s\r\n",
      "\r\n",
      "FAILED (failures=2)\r\n"
     ]
    }
   ],
   "source": [
    "!python -m unittest data/test-examples/test7.py"
   ]
  },
  {
   "cell_type": "code",
   "execution_count": 69,
   "metadata": {},
   "outputs": [
    {
     "name": "stdout",
     "output_type": "stream",
     "text": [
      "test_docstring (data.test-examples.test7.MyTest)\n",
      "This is a test docstring. It should say what's being tested. ... ok\n",
      "test_docstring_fail (data.test-examples.test7.MyTest)\n",
      "This is a test docstring. It should say what's being tested. ... FAIL\n",
      "test_no_docstring (data.test-examples.test7.MyTest) ... ok\n",
      "test_no_docstring_fail (data.test-examples.test7.MyTest) ... FAIL\n",
      "\n",
      "======================================================================\n",
      "FAIL: test_docstring_fail (data.test-examples.test7.MyTest)\n",
      "This is a test docstring. It should say what's being tested.\n",
      "----------------------------------------------------------------------\n",
      "Traceback (most recent call last):\n",
      "  File \"/Users/rick446/src/arborian-classes/src/data/test-examples/test7.py\", line 14, in test_docstring_fail\n",
      "    assert False\n",
      "AssertionError\n",
      "\n",
      "======================================================================\n",
      "FAIL: test_no_docstring_fail (data.test-examples.test7.MyTest)\n",
      "----------------------------------------------------------------------\n",
      "Traceback (most recent call last):\n",
      "  File \"/Users/rick446/src/arborian-classes/src/data/test-examples/test7.py\", line 17, in test_no_docstring_fail\n",
      "    assert False\n",
      "AssertionError\n",
      "\n",
      "----------------------------------------------------------------------\n",
      "Ran 4 tests in 0.001s\n",
      "\n",
      "FAILED (failures=2)\n"
     ]
    }
   ],
   "source": [
    "!python -m unittest data/test-examples/test7.py -v"
   ]
  },
  {
   "cell_type": "markdown",
   "metadata": {},
   "source": [
    "### Mocking\n",
    "\n",
    "If you need to test code that interacts with external services, you can set up fake objects that 'stand in' for the external service. These are called **Mock** objects, and unittest has a submodule that allows us to create quick, throw-away objects for mocking:"
   ]
  },
  {
   "cell_type": "code",
   "execution_count": 73,
   "metadata": {},
   "outputs": [
    {
     "name": "stdout",
     "output_type": "stream",
     "text": [
      "Overwriting data/test-examples/test8.py\n"
     ]
    }
   ],
   "source": [
    "%%file data/test-examples/test8.py\n",
    "import unittest\n",
    "from unittest import mock\n",
    "\n",
    "\n",
    "def echo_data(socket):\n",
    "    data = socket.recv(42)\n",
    "    socket.send(data)\n",
    "\n",
    "\n",
    "class MyTest(unittest.TestCase):\n",
    "\n",
    "    def test_send_recv(self):\n",
    "        socket = mock.Mock()\n",
    "        socket.recv.return_value = 'Some data'\n",
    "        echo_data(socket)\n",
    "        socket.send.assert_called_with('Some data')\n"
   ]
  },
  {
   "cell_type": "code",
   "execution_count": 74,
   "metadata": {},
   "outputs": [
    {
     "name": "stdout",
     "output_type": "stream",
     "text": [
      ".\r\n",
      "----------------------------------------------------------------------\r\n",
      "Ran 1 test in 0.000s\r\n",
      "\r\n",
      "OK\r\n"
     ]
    }
   ],
   "source": [
    "!python -m unittest data/test-examples/test8.py"
   ]
  },
  {
   "cell_type": "markdown",
   "metadata": {},
   "source": [
    "### Doctest: testing your documentation\n",
    "\n",
    "If you include little snippets of interpreter sessions in your application's docstrings, you can test to ensure that the documentation actually runs correctly by invoking the `doctest` module:"
   ]
  },
  {
   "cell_type": "code",
   "execution_count": 75,
   "metadata": {},
   "outputs": [
    {
     "name": "stdout",
     "output_type": "stream",
     "text": [
      "Overwriting data/test-examples/test9.py\n"
     ]
    }
   ],
   "source": [
    "%%file data/test-examples/test9.py\n",
    "def concat(values):\n",
    "    '''Concatenate multiple strings\n",
    "\n",
    "    >>> concat(['foo', 'bar', 'baz'])\n",
    "    'foobarbaz'\n",
    "    >>> concat(['foo', ' bar ', 'baz'])\n",
    "    'foo bar baz'\n",
    "    '''\n",
    "    result = ''\n",
    "    for value in values:\n",
    "        result += value\n",
    "    return result\n",
    "\n",
    "\n",
    "def average(values):\n",
    "    \"\"\"Computes the arithmetic mean of a list of numbers.\n",
    "\n",
    "    >>> average([20, 30, 70])\n",
    "    40.0\n",
    "    \"\"\"\n",
    "    return sum(values, 0.0) / len(values)"
   ]
  },
  {
   "cell_type": "code",
   "execution_count": 77,
   "metadata": {},
   "outputs": [],
   "source": [
    "!python -m doctest data/test-examples/test9.py"
   ]
  },
  {
   "cell_type": "code",
   "execution_count": 78,
   "metadata": {},
   "outputs": [
    {
     "name": "stdout",
     "output_type": "stream",
     "text": [
      "Trying:\r\n",
      "    average([20, 30, 70])\r\n",
      "Expecting:\r\n",
      "    40.0\r\n",
      "ok\r\n",
      "Trying:\r\n",
      "    concat(['foo', 'bar', 'baz'])\r\n",
      "Expecting:\r\n",
      "    'foobarbaz'\r\n",
      "ok\r\n",
      "Trying:\r\n",
      "    concat(['foo', ' bar ', 'baz'])\r\n",
      "Expecting:\r\n",
      "    'foo bar baz'\r\n",
      "ok\r\n",
      "1 items had no tests:\r\n",
      "    test9\r\n",
      "2 items passed all tests:\r\n",
      "   1 tests in test9.average\r\n",
      "   2 tests in test9.concat\r\n",
      "3 tests in 3 items.\r\n",
      "3 passed and 0 failed.\r\n",
      "Test passed.\r\n"
     ]
    }
   ],
   "source": [
    "!python -m doctest data/test-examples/test9.py -v"
   ]
  },
  {
   "cell_type": "markdown",
   "metadata": {},
   "source": [
    "# Measuring test coverage\n",
    "\n",
    "The `coverage` third-party module provides summary information about what parts of your application your test code has exercised:"
   ]
  },
  {
   "cell_type": "code",
   "execution_count": 79,
   "metadata": {},
   "outputs": [
    {
     "name": "stdout",
     "output_type": "stream",
     "text": [
      "Collecting coverage\n",
      "\u001b[?25l  Downloading https://files.pythonhosted.org/packages/be/88/7e5e548329eda1f003b3ff34e57ba6b2b1f8b8983043e99a0ecf58ae0a06/coverage-4.5.2-cp37-cp37m-macosx_10_13_x86_64.whl (180kB)\n",
      "\u001b[K    100% |████████████████████████████████| 184kB 2.9MB/s ta 0:00:01\n",
      "\u001b[?25hInstalling collected packages: coverage\n",
      "Successfully installed coverage-4.5.2\n",
      "\u001b[33mYou are using pip version 18.1, however version 19.0.2 is available.\n",
      "You should consider upgrading via the 'pip install --upgrade pip' command.\u001b[0m\n"
     ]
    }
   ],
   "source": [
    "!pip install coverage"
   ]
  },
  {
   "cell_type": "code",
   "execution_count": 81,
   "metadata": {},
   "outputs": [
    {
     "name": "stdout",
     "output_type": "stream",
     "text": [
      "Coverage.py, version 4.5.2 with C extension\r\n",
      "Measure, collect, and report on code coverage in Python programs.\r\n",
      "\r\n",
      "usage: coverage <command> [options] [args]\r\n",
      "\r\n",
      "Commands:\r\n",
      "    annotate    Annotate source files with execution information.\r\n",
      "    combine     Combine a number of data files.\r\n",
      "    erase       Erase previously collected coverage data.\r\n",
      "    help        Get help on using coverage.py.\r\n",
      "    html        Create an HTML report.\r\n",
      "    report      Report coverage stats on modules.\r\n",
      "    run         Run a Python program and measure code execution.\r\n",
      "    xml         Create an XML report of coverage results.\r\n",
      "\r\n",
      "Use \"coverage help <command>\" for detailed help on any command.\r\n",
      "For full documentation, see https://coverage.readthedocs.io\r\n"
     ]
    }
   ],
   "source": [
    "!coverage help"
   ]
  },
  {
   "cell_type": "code",
   "execution_count": 101,
   "metadata": {},
   "outputs": [
    {
     "name": "stdout",
     "output_type": "stream",
     "text": [
      "Overwriting data/test-examples/cards.py\n"
     ]
    }
   ],
   "source": [
    "%%file data/test-examples/cards.py\n",
    "import unicodedata\n",
    "\n",
    "ranks = '2 3 4 5 6 7 8 9 10 J Q K A'.split()\n",
    "suits = 'spade heart club diamond'.split()\n",
    "\n",
    "class Card:\n",
    "    suit_repr = {\n",
    "        'spade': unicodedata.lookup('black spade suit'),\n",
    "        'heart': unicodedata.lookup('black heart suit'),\n",
    "        'diamond': unicodedata.lookup('black diamond suit'),\n",
    "        'club': unicodedata.lookup('black club suit')}\n",
    "    \n",
    "    def __init__(self, rank, suit):\n",
    "        if rank not in ranks:\n",
    "            raise ValueError('invalid rank')\n",
    "        if suit not in suits:\n",
    "            raise ValueError('invalid suit')\n",
    "        self.rank, self.suit = rank, suit\n",
    "        \n",
    "    def __eq__(self, other):\n",
    "        return self.rank == other.rank and self.suit == other.suit\n",
    "    \n",
    "    def __hash__(self):\n",
    "        return hash((self.rank, self.suit))\n",
    "    \n",
    "    def __repr__(self):\n",
    "        return f'{self.rank}{self.suit_repr[self.suit]}'\n",
    "    \n",
    "    \n",
    "class CardStack:\n",
    "    \n",
    "    def __init__(self, cards):\n",
    "        self.cards = list(cards)\n",
    "        \n",
    "    def __len__(self):\n",
    "        return len(self.cards)\n",
    "    \n",
    "    def __getitem__(self, i):\n",
    "        return self.cards[i]\n",
    "    \n",
    "    def __repr__(self):\n",
    "        return ' '.join(repr(c) for c in self)\n",
    "    \n",
    "    \n",
    "class Deck(CardStack):\n",
    "    \n",
    "    def __init__(self):\n",
    "        super().__init__(Card(r, s) for r in ranks for s in suits)\n",
    "\n",
    "    def __setitem__(self, i, value):\n",
    "        self.cards[i] = value\n",
    "\n",
    "    def deal(self, n):\n",
    "        return Hand([self.cards.pop() for i in range(n)])\n",
    "    \n",
    "    def draw(self, hand):\n",
    "        hand.add(self.cards.pop())\n",
    "    \n",
    "\n",
    "class Hand(CardStack):\n",
    "    \n",
    "    def score(self):\n",
    "        aces = [c for c in self if c.rank == 'A']\n",
    "        others = [c for c in self if c.rank != 'A']\n",
    "        subtotal = sum(\n",
    "            int(c.rank) if c.rank.isdigit() else 10\n",
    "            for c in others)\n",
    "        subtotal += 11 * len(aces)\n",
    "        while subtotal > 21 and aces:\n",
    "            aces.pop()\n",
    "            subtotal -= 10\n",
    "        return subtotal\n",
    "    \n",
    "    def add(self, card):\n",
    "        self.cards.append(card)\n",
    "            \n",
    "    "
   ]
  },
  {
   "cell_type": "code",
   "execution_count": 102,
   "metadata": {},
   "outputs": [
    {
     "name": "stdout",
     "output_type": "stream",
     "text": [
      "Overwriting data/test-examples/card-test.py\n"
     ]
    }
   ],
   "source": [
    "%%file data/test-examples/card-test.py\n",
    "import unittest\n",
    "\n",
    "from cards import Hand, Card\n",
    "\n",
    "class TestHand(unittest.TestCase):\n",
    "    \n",
    "    def test_simple(self):\n",
    "        hand = Hand([Card(rank='5', suit='spade')])\n",
    "        self.assertEqual(hand.score(), 5)\n",
    "        \n",
    "    def test_soft_17(self):\n",
    "        hand = Hand([\n",
    "            Card(rank='A', suit='spade'),\n",
    "            Card(rank='6', suit='spade'),\n",
    "        ])\n",
    "        self.assertEqual(hand.score(), 17)\n",
    "            \n",
    "    def test_hard_17(self):\n",
    "        hand = Hand([\n",
    "            Card(rank='A', suit='spade'),\n",
    "            Card(rank='K', suit='spade'),\n",
    "            Card(rank='6', suit='spade'),\n",
    "        ])\n",
    "        self.assertEqual(hand.score(), 17)\n",
    "        \n",
    "    def test_really_hard_14(self):\n",
    "        hand = Hand([\n",
    "            Card(rank='A', suit='spade'),\n",
    "            Card(rank='A', suit='club'),\n",
    "            Card(rank='A', suit='heart'),\n",
    "            Card(rank='A', suit='diamond'),\n",
    "            Card(rank='K', suit='spade')\n",
    "        ])\n",
    "        self.assertEqual(hand.score(), 14)\n",
    "        "
   ]
  },
  {
   "cell_type": "code",
   "execution_count": 106,
   "metadata": {},
   "outputs": [
    {
     "name": "stdout",
     "output_type": "stream",
     "text": [
      "Name           Stmts   Miss  Cover   Missing\n",
      "--------------------------------------------\n",
      "card-test.py      15      0   100%\n",
      "cards.py          47     12    74%   15, 17, 21, 24, 27, 36, 42, 48, 51, 54, 57, 75\n",
      "--------------------------------------------\n",
      "TOTAL             62     12    81%\n"
     ]
    },
    {
     "name": "stderr",
     "output_type": "stream",
     "text": [
      "....\n",
      "----------------------------------------------------------------------\n",
      "Ran 4 tests in 0.000s\n",
      "\n",
      "OK\n"
     ]
    }
   ],
   "source": [
    "%%bash\n",
    "cd data/test-examples\n",
    "coverage run -m unittest card-test.py\n",
    "coverage report -m"
   ]
  },
  {
   "cell_type": "code",
   "execution_count": 109,
   "metadata": {
    "scrolled": false
   },
   "outputs": [
    {
     "name": "stdout",
     "output_type": "stream",
     "text": [
      "> import unicodedata\n",
      "  \n",
      "> ranks = '2 3 4 5 6 7 8 9 10 J Q K A'.split()\n",
      "> suits = 'spade heart club diamond'.split()\n",
      "  \n",
      "> class Card:\n",
      ">     suit_repr = {\n",
      ">         'spade': unicodedata.lookup('black spade suit'),\n",
      ">         'heart': unicodedata.lookup('black heart suit'),\n",
      ">         'diamond': unicodedata.lookup('black diamond suit'),\n",
      ">         'club': unicodedata.lookup('black club suit')}\n",
      "      \n",
      ">     def __init__(self, rank, suit):\n",
      ">         if rank not in ranks:\n",
      "!             raise ValueError('invalid rank')\n",
      ">         if suit not in suits:\n",
      "!             raise ValueError('invalid suit')\n",
      ">         self.rank, self.suit = rank, suit\n",
      "          \n",
      ">     def __eq__(self, other):\n",
      "!         return self.rank == other.rank and self.suit == other.suit\n",
      "      \n",
      ">     def __hash__(self):\n",
      "!         return hash((self.rank, self.suit))\n",
      "      \n",
      ">     def __repr__(self):\n",
      "!         return f'{self.rank}{self.suit_repr[self.suit]}'\n",
      "      \n",
      "      \n",
      "> class CardStack:\n",
      "      \n",
      ">     def __init__(self, cards):\n",
      ">         self.cards = list(cards)\n",
      "          \n",
      ">     def __len__(self):\n",
      "!         return len(self.cards)\n",
      "      \n",
      ">     def __getitem__(self, i):\n",
      ">         return self.cards[i]\n",
      "      \n",
      ">     def __repr__(self):\n",
      "!         return ' '.join(repr(c) for c in self)\n",
      "      \n",
      "      \n",
      "> class Deck(CardStack):\n",
      "      \n",
      ">     def __init__(self):\n",
      "!         super().__init__(Card(r, s) for r in ranks for s in suits)\n",
      "  \n",
      ">     def __setitem__(self, i, value):\n",
      "!         self.cards[i] = value\n",
      "  \n",
      ">     def deal(self, n):\n",
      "!         return Hand([self.cards.pop() for i in range(n)])\n",
      "      \n",
      ">     def draw(self, hand):\n",
      "!         hand.add(self.cards.pop())\n",
      "      \n",
      "  \n",
      "> class Hand(CardStack):\n",
      "      \n",
      ">     def score(self):\n",
      ">         aces = [c for c in self if c.rank == 'A']\n",
      ">         others = [c for c in self if c.rank != 'A']\n",
      ">         subtotal = sum(\n",
      ">             int(c.rank) if c.rank.isdigit() else 10\n",
      ">             for c in others)\n",
      ">         subtotal += 11 * len(aces)\n",
      ">         while subtotal > 21 and aces:\n",
      ">             aces.pop()\n",
      ">             subtotal -= 10\n",
      ">         return subtotal\n",
      "      \n",
      ">     def add(self, card):\n",
      "!         self.cards.append(card)\n",
      "              \n",
      "      \n"
     ]
    },
    {
     "name": "stderr",
     "output_type": "stream",
     "text": [
      "....\n",
      "----------------------------------------------------------------------\n",
      "Ran 4 tests in 0.000s\n",
      "\n",
      "OK\n"
     ]
    }
   ],
   "source": [
    "%%bash\n",
    "cd data/test-examples\n",
    "coverage run -m unittest card-test.py\n",
    "coverage annotate\n",
    "cat ./cards.py,cover"
   ]
  },
  {
   "cell_type": "markdown",
   "metadata": {},
   "source": [
    "# Lab\n",
    "\n",
    "Open [Testing lab][unittest-lab]\n",
    "\n",
    "[unittest-lab]: ./unittest-lab.ipynb"
   ]
  },
  {
   "cell_type": "code",
   "execution_count": null,
   "metadata": {},
   "outputs": [],
   "source": []
  }
 ],
 "metadata": {
  "kernelspec": {
   "display_name": "Python 3",
   "language": "python",
   "name": "python3"
  },
  "language_info": {
   "codemirror_mode": {
    "name": "ipython",
    "version": 3
   },
   "file_extension": ".py",
   "mimetype": "text/x-python",
   "name": "python",
   "nbconvert_exporter": "python",
   "pygments_lexer": "ipython3",
   "version": "3.7.2"
  }
 },
 "nbformat": 4,
 "nbformat_minor": 2
}
