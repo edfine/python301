{
 "cells": [
  {
   "cell_type": "markdown",
   "metadata": {},
   "source": [
    "# Introduction to Object-Oriented Programming\n",
    "\n",
    "Up until now, we've been doing things inline in our notebooks or creating functions that we call later.\n",
    "\n",
    "Object-Oriented Programming is a style of programming that lets us encapsulate functions together with the data they operate on. \n",
    "\n",
    "We're going to use some third-party modules, so let's go ahead and install them:"
   ]
  },
  {
   "cell_type": "code",
   "execution_count": 1,
   "metadata": {},
   "outputs": [
    {
     "name": "stdout",
     "output_type": "stream",
     "text": [
      "Requirement already satisfied: numpy in /Users/rick446/.virtualenvs/python-sysadmins/lib/python3.7/site-packages (1.16.1)\n",
      "Requirement already satisfied: pandas in /Users/rick446/.virtualenvs/python-sysadmins/lib/python3.7/site-packages (0.24.1)\n",
      "Requirement already satisfied: matplotlib in /Users/rick446/.virtualenvs/python-sysadmins/lib/python3.7/site-packages (3.0.2)\n",
      "Requirement already satisfied: python-dateutil>=2.5.0 in /Users/rick446/.virtualenvs/python-sysadmins/lib/python3.7/site-packages (from pandas) (2.7.5)\n",
      "Requirement already satisfied: pytz>=2011k in /Users/rick446/.virtualenvs/python-sysadmins/lib/python3.7/site-packages (from pandas) (2018.9)\n",
      "Requirement already satisfied: pyparsing!=2.0.4,!=2.1.2,!=2.1.6,>=2.0.1 in /Users/rick446/.virtualenvs/python-sysadmins/lib/python3.7/site-packages (from matplotlib) (2.3.1)\n",
      "Requirement already satisfied: cycler>=0.10 in /Users/rick446/.virtualenvs/python-sysadmins/lib/python3.7/site-packages (from matplotlib) (0.10.0)\n",
      "Requirement already satisfied: kiwisolver>=1.0.1 in /Users/rick446/.virtualenvs/python-sysadmins/lib/python3.7/site-packages (from matplotlib) (1.0.1)\n",
      "Requirement already satisfied: six>=1.5 in /Users/rick446/.virtualenvs/python-sysadmins/lib/python3.7/site-packages (from python-dateutil>=2.5.0->pandas) (1.12.0)\n",
      "Requirement already satisfied: setuptools in /Users/rick446/.virtualenvs/python-sysadmins/lib/python3.7/site-packages (from kiwisolver>=1.0.1->matplotlib) (40.6.3)\n",
      "\u001b[33mYou are using pip version 18.1, however version 19.0.2 is available.\n",
      "You should consider upgrading via the 'pip install --upgrade pip' command.\u001b[0m\n"
     ]
    }
   ],
   "source": [
    "!pip install numpy pandas matplotlib"
   ]
  },
  {
   "cell_type": "markdown",
   "metadata": {},
   "source": [
    "To create our new encapsulated objects, we use Python's `class` statement to create a custom, user-defined `type`:"
   ]
  },
  {
   "cell_type": "code",
   "execution_count": 2,
   "metadata": {},
   "outputs": [],
   "source": [
    "import numpy as np\n",
    "\n",
    "class OutlierFilter():\n",
    "    \"\"\"\n",
    "    Removes rows from a series or numpy array where the absolute z-score of a point\n",
    "    is greater than some threshold.\n",
    "    \"\"\"\n",
    "    \n",
    "    def __init__(self, z_threshold=5.0):\n",
    "        self.z_threshold = z_threshold\n",
    "        \n",
    "    def execute(self, values):\n",
    "        std = np.std(values)\n",
    "        mean = np.mean(values)\n",
    "        z = (values - mean) / std\n",
    "        return values[np.abs(z) <= self.z_threshold]\n",
    "        "
   ]
  },
  {
   "cell_type": "markdown",
   "metadata": {},
   "source": [
    "## Using a class\n",
    "\n",
    "To use the class, we must first create an **instance** of the class. We do this by \"calling\" the class as if it were a function:"
   ]
  },
  {
   "cell_type": "code",
   "execution_count": 3,
   "metadata": {},
   "outputs": [],
   "source": [
    "myfilter5 = OutlierFilter()\n",
    "myfilter2 = OutlierFilter(2.0)"
   ]
  },
  {
   "cell_type": "code",
   "execution_count": 4,
   "metadata": {},
   "outputs": [
    {
     "data": {
      "text/plain": [
       "0    0.556507\n",
       "1   -1.362676\n",
       "2   -0.891416\n",
       "3   -0.713029\n",
       "4    1.153642\n",
       "dtype: float64"
      ]
     },
     "execution_count": 4,
     "metadata": {},
     "output_type": "execute_result"
    }
   ],
   "source": [
    "%matplotlib inline\n",
    "# Generate some random data so we can see the class in action\n",
    "import numpy as np\n",
    "import pandas as pd\n",
    "data = pd.Series(np.random.randn(100_000))\n",
    "data.head()"
   ]
  },
  {
   "cell_type": "code",
   "execution_count": 5,
   "metadata": {},
   "outputs": [],
   "source": [
    "xlim = (-6,6)"
   ]
  },
  {
   "cell_type": "code",
   "execution_count": 6,
   "metadata": {},
   "outputs": [
    {
     "data": {
      "image/png": "[encoded data removed]",
      "text/plain": [
       "<Figure size 432x288 with 1 Axes>"
      ]
     },
     "metadata": {
      "needs_background": "light"
     },
     "output_type": "display_data"
    }
   ],
   "source": [
    "data.plot.hist(bins=500, xlim=xlim);"
   ]
  },
  {
   "cell_type": "code",
   "execution_count": 7,
   "metadata": {},
   "outputs": [
    {
     "data": {
      "image/png": "[encoded data removed]",
      "text/plain": [
       "<Figure size 432x288 with 1 Axes>"
      ]
     },
     "metadata": {
      "needs_background": "light"
     },
     "output_type": "display_data"
    }
   ],
   "source": [
    "myfilter5.execute(data).plot.hist(bins=500, xlim=xlim);"
   ]
  },
  {
   "cell_type": "code",
   "execution_count": 8,
   "metadata": {},
   "outputs": [
    {
     "data": {
      "image/png": "[encoded data removed]",
      "text/plain": [
       "<Figure size 432x288 with 1 Axes>"
      ]
     },
     "metadata": {
      "needs_background": "light"
     },
     "output_type": "display_data"
    }
   ],
   "source": [
    "myfilter2.execute(data).plot.hist(bins=500, xlim=xlim);"
   ]
  },
  {
   "cell_type": "markdown",
   "metadata": {},
   "source": [
    "## Anatomy of a class definition:\n",
    "\n",
    "Let's look at the class definition in more detail:"
   ]
  },
  {
   "cell_type": "markdown",
   "metadata": {},
   "source": [
    "```python\n",
    "class OutlierFilter():\n",
    "```\n",
    "\n",
    "This snippet says we're defining a new type called `OutlierFilter`. We aren't creating a specialization / extension of an existing type, so the parens `()` are empty (they can also be omitted). If we were specializing an existing type, we would put the type that we are extending inside the parens."
   ]
  },
  {
   "cell_type": "markdown",
   "metadata": {},
   "source": [
    "```python\n",
    "    \"\"\"\n",
    "    Removes rows from a series or numpy array where the absolute z-score of a point\n",
    "    is greater than some threshold.\n",
    "    \"\"\"    \n",
    "```\n",
    "\n",
    "This is a *docstring*. It doesn't get used at execution time, but provides documentation for users of our class:"
   ]
  },
  {
   "cell_type": "code",
   "execution_count": 9,
   "metadata": {},
   "outputs": [
    {
     "name": "stdout",
     "output_type": "stream",
     "text": [
      "Help on class OutlierFilter in module __main__:\n",
      "\n",
      "class OutlierFilter(builtins.object)\n",
      " |  OutlierFilter(z_threshold=5.0)\n",
      " |  \n",
      " |  Removes rows from a series or numpy array where the absolute z-score of a point\n",
      " |  is greater than some threshold.\n",
      " |  \n",
      " |  Methods defined here:\n",
      " |  \n",
      " |  __init__(self, z_threshold=5.0)\n",
      " |      Initialize self.  See help(type(self)) for accurate signature.\n",
      " |  \n",
      " |  execute(self, values)\n",
      " |  \n",
      " |  ----------------------------------------------------------------------\n",
      " |  Data descriptors defined here:\n",
      " |  \n",
      " |  __dict__\n",
      " |      dictionary for instance variables (if defined)\n",
      " |  \n",
      " |  __weakref__\n",
      " |      list of weak references to the object (if defined)\n",
      "\n"
     ]
    }
   ],
   "source": [
    "help(OutlierFilter)"
   ]
  },
  {
   "cell_type": "markdown",
   "metadata": {},
   "source": [
    "Next, we have our first **method** (function attached to a class):\n",
    "\n",
    "```python\n",
    "    def __init__(self, z_threshold=5.0):\n",
    "        self.z_threshold = z_threshold\n",
    "```\n",
    "\n",
    "Here, we define the class *initializer*. This sets up any *attributes* that we want to be available when we're using a particular *instance* of the class. In this case, the only attribute we're interested in is the `z_threshold`.\n",
    "\n",
    "Note that in Python, unlike other languages such as Ruby, Java, Javascript, or C++, you *must* be explicit about the name of the instance variable. The Python convention is to call this parameter `self`, though the language does not enforce that."
   ]
  },
  {
   "cell_type": "markdown",
   "metadata": {},
   "source": [
    "Our next method defines the actual functionality of the class:\n",
    "    \n",
    "```python\n",
    "    def execute(self, values):\n",
    "        std = np.std(values)\n",
    "        mean = np.mean(values)\n",
    "        z = (values - mean) / std\n",
    "        return values[np.abs(z) <= self.z_threshold]\n",
    "```"
   ]
  },
  {
   "cell_type": "markdown",
   "metadata": {},
   "source": [
    "## Common \"magic\" methods\n",
    "\n",
    "You may have noticed the strange naming convention of the initializer `__init__`. Leading and trailing double underscores (pronounced \"dunder\") are used to mark a method as 'magic', meaning that it typically gets called *implicitly* by the Python interpreter rather than being called directly. \n",
    "\n",
    "While there are [many][magic-methods] different magic methods, the following are used most frequently:\n",
    "\n",
    "- `__init__` gets called automatically called when creating an instance of the class. \n",
    "- `__repr__` gets called automatically by the `repr()` built-in function or when showing the 'representation' of an instance\n",
    "- `__str__` gets called automatcially by the `str()` built-in function or when `print()`ing an instance\n",
    "\n",
    "[magic-methods]: https://docs.python.org/3/reference/datamodel.html#special-method-names"
   ]
  },
  {
   "cell_type": "code",
   "execution_count": 10,
   "metadata": {},
   "outputs": [
    {
     "name": "stdout",
     "output_type": "stream",
     "text": [
      "<__main__.OutlierFilter object at 0x10f73cda0>\n"
     ]
    }
   ],
   "source": [
    "print(myfilter5)"
   ]
  },
  {
   "cell_type": "code",
   "execution_count": 11,
   "metadata": {},
   "outputs": [
    {
     "data": {
      "text/plain": [
       "<__main__.OutlierFilter at 0x10f73cda0>"
      ]
     },
     "execution_count": 11,
     "metadata": {},
     "output_type": "execute_result"
    }
   ],
   "source": [
    "myfilter5"
   ]
  },
  {
   "cell_type": "markdown",
   "metadata": {},
   "source": [
    "Let's add a `__repr__`:"
   ]
  },
  {
   "cell_type": "code",
   "execution_count": 12,
   "metadata": {},
   "outputs": [],
   "source": [
    "class OutlierFilter():\n",
    "    \"\"\"\n",
    "    Removes rows from a series or numpy array where the absolute z-score of a point\n",
    "    is greater than some threshold.\n",
    "    \"\"\"\n",
    "    \n",
    "    def __init__(self, z_threshold=5.0):\n",
    "        self.z_threshold = z_threshold\n",
    "        \n",
    "    def execute(self, values):\n",
    "        std = np.std(values)\n",
    "        mean = np.mean(values)\n",
    "        z = (values - mean) / std\n",
    "        return values[np.abs(z) <= self.z_threshold]\n",
    "        \n",
    "    def __repr__(self):\n",
    "        return f'OutlierFilter(z_threshold={self.z_threshold!r})'"
   ]
  },
  {
   "cell_type": "code",
   "execution_count": 13,
   "metadata": {},
   "outputs": [
    {
     "data": {
      "text/plain": [
       "<__main__.OutlierFilter at 0x10f73cda0>"
      ]
     },
     "execution_count": 13,
     "metadata": {},
     "output_type": "execute_result"
    }
   ],
   "source": [
    "myfilter5   # myfilter5 is an instance of our *previously defined* OutlierFilter"
   ]
  },
  {
   "cell_type": "code",
   "execution_count": 14,
   "metadata": {},
   "outputs": [],
   "source": [
    "myfilter5 = OutlierFilter()\n",
    "myfilter2 = OutlierFilter(2.0)"
   ]
  },
  {
   "cell_type": "code",
   "execution_count": 15,
   "metadata": {},
   "outputs": [
    {
     "data": {
      "text/plain": [
       "OutlierFilter(z_threshold=5.0)"
      ]
     },
     "execution_count": 15,
     "metadata": {},
     "output_type": "execute_result"
    }
   ],
   "source": [
    "myfilter5"
   ]
  },
  {
   "cell_type": "code",
   "execution_count": 16,
   "metadata": {},
   "outputs": [
    {
     "data": {
      "text/plain": [
       "OutlierFilter(z_threshold=2.0)"
      ]
     },
     "execution_count": 16,
     "metadata": {},
     "output_type": "execute_result"
    }
   ],
   "source": [
    "myfilter2"
   ]
  },
  {
   "cell_type": "markdown",
   "metadata": {},
   "source": [
    "If we have no `__str__`, Python will just use the `__repr__`, which is often good enough:"
   ]
  },
  {
   "cell_type": "code",
   "execution_count": 17,
   "metadata": {},
   "outputs": [
    {
     "name": "stdout",
     "output_type": "stream",
     "text": [
      "OutlierFilter(z_threshold=2.0)\n"
     ]
    }
   ],
   "source": [
    "print(myfilter2)"
   ]
  },
  {
   "cell_type": "markdown",
   "metadata": {},
   "source": [
    "We can customize the `__str__` if we want:"
   ]
  },
  {
   "cell_type": "code",
   "execution_count": 18,
   "metadata": {},
   "outputs": [],
   "source": [
    "class OutlierFilter():\n",
    "    \"\"\"\n",
    "    Removes rows from a series or numpy array where the absolute z-score of a point\n",
    "    is greater than some threshold.\n",
    "    \"\"\"\n",
    "    \n",
    "    def __init__(self, z_threshold=5.0):\n",
    "        self.z_threshold = z_threshold\n",
    "        \n",
    "    def execute(self, values):\n",
    "        std = np.std(values)\n",
    "        mean = np.mean(values)\n",
    "        z = (values - mean) / std\n",
    "        return values[np.abs(z) <= self.z_threshold]\n",
    "        \n",
    "    def __repr__(self):\n",
    "        return f'OutlierFilter(z_threshold={self.z_threshold!r})'\n",
    "    \n",
    "    def __str__(self):\n",
    "        return f'Filter removing values with abs(z_score) > {self.z_threshold!r}'"
   ]
  },
  {
   "cell_type": "code",
   "execution_count": 19,
   "metadata": {},
   "outputs": [],
   "source": [
    "myfilter5 = OutlierFilter()\n",
    "myfilter2 = OutlierFilter(2.0)"
   ]
  },
  {
   "cell_type": "code",
   "execution_count": 20,
   "metadata": {},
   "outputs": [
    {
     "data": {
      "text/plain": [
       "OutlierFilter(z_threshold=5.0)"
      ]
     },
     "execution_count": 20,
     "metadata": {},
     "output_type": "execute_result"
    }
   ],
   "source": [
    "myfilter5"
   ]
  },
  {
   "cell_type": "code",
   "execution_count": 21,
   "metadata": {},
   "outputs": [
    {
     "name": "stdout",
     "output_type": "stream",
     "text": [
      "Filter removing values with abs(z_score) > 5.0\n"
     ]
    }
   ],
   "source": [
    "print(myfilter5)"
   ]
  },
  {
   "cell_type": "markdown",
   "metadata": {},
   "source": [
    "# \"Private\" variables\n",
    "\n",
    "Most of the time, we may not want to expose our attributes to the users of the class. \n",
    "\n",
    "The convention in Python is to use a single leading underscore to indicate that this attribute is not part of the \"public\" interface of the class:"
   ]
  },
  {
   "cell_type": "code",
   "execution_count": 22,
   "metadata": {},
   "outputs": [],
   "source": [
    "class OutlierFilter():\n",
    "    \"\"\"\n",
    "    Removes rows from a series or numpy array where the absolute z-score of a point\n",
    "    is greater than some threshold.\n",
    "    \"\"\"\n",
    "    \n",
    "    def __init__(self, z_threshold=5.0):\n",
    "        self._z_threshold = z_threshold\n",
    "        \n",
    "    def execute(self, values):\n",
    "        std = np.std(values)\n",
    "        mean = np.mean(values)\n",
    "        z = (values - mean) / std\n",
    "        return values[np.abs(z) <= self._z_threshold]\n",
    "        \n",
    "    def __repr__(self):\n",
    "        return f'OutlierFilter(z_threshold={self._z_threshold!r})'\n",
    "    \n",
    "    def __str__(self):\n",
    "        return f'Filter removing values with abs(z_score) > {self._z_threshold!r}'\n",
    "    \n",
    "myfilter2 = OutlierFilter(2.0)"
   ]
  },
  {
   "cell_type": "markdown",
   "metadata": {},
   "source": [
    "It's not *really* private, though:"
   ]
  },
  {
   "cell_type": "code",
   "execution_count": 23,
   "metadata": {},
   "outputs": [
    {
     "data": {
      "text/plain": [
       "2.0"
      ]
     },
     "execution_count": 23,
     "metadata": {},
     "output_type": "execute_result"
    }
   ],
   "source": [
    "myfilter2._z_threshold"
   ]
  },
  {
   "cell_type": "markdown",
   "metadata": {},
   "source": [
    "Occasionally you'll see code which uses **two** leading underscores to make an attribute \"private\":"
   ]
  },
  {
   "cell_type": "code",
   "execution_count": 24,
   "metadata": {},
   "outputs": [],
   "source": [
    "class OutlierFilter():\n",
    "    \"\"\"\n",
    "    Removes rows from a series or numpy array where the absolute z-score of a point\n",
    "    is greater than some threshold.\n",
    "    \"\"\"\n",
    "    \n",
    "    def __init__(self, z_threshold=5.0):\n",
    "        self.__z_threshold = z_threshold\n",
    "        \n",
    "    def execute(self, values):\n",
    "        std = np.std(values)\n",
    "        mean = np.mean(values)\n",
    "        z = (values - mean) / std\n",
    "        return values[np.abs(z) <= self.__z_threshold]\n",
    "                \n",
    "    def __repr__(self):\n",
    "        return f'OutlierFilter(z_threshold={self.__z_threshold!r})'\n",
    "    \n",
    "    def __str__(self):\n",
    "        return f'Filter removing values with abs(z_score) > {self.__z_threshold!r}'\n",
    "    \n",
    "myfilter2 = OutlierFilter(2.0)"
   ]
  },
  {
   "cell_type": "code",
   "execution_count": 25,
   "metadata": {},
   "outputs": [
    {
     "ename": "AttributeError",
     "evalue": "'OutlierFilter' object has no attribute '__z_threshold'",
     "output_type": "error",
     "traceback": [
      "\u001b[0;31m---------------------------------------------------------------------------\u001b[0m",
      "\u001b[0;31mAttributeError\u001b[0m                            Traceback (most recent call last)",
      "\u001b[0;32m<ipython-input-25-ad9edaf7a68d>\u001b[0m in \u001b[0;36m<module>\u001b[0;34m\u001b[0m\n\u001b[1;32m      1\u001b[0m \u001b[0;31m# Are we private??\u001b[0m\u001b[0;34m\u001b[0m\u001b[0;34m\u001b[0m\u001b[0;34m\u001b[0m\u001b[0m\n\u001b[1;32m      2\u001b[0m \u001b[0;34m\u001b[0m\u001b[0m\n\u001b[0;32m----> 3\u001b[0;31m \u001b[0mmyfilter2\u001b[0m\u001b[0;34m.\u001b[0m\u001b[0m__z_threshold\u001b[0m\u001b[0;34m\u001b[0m\u001b[0;34m\u001b[0m\u001b[0m\n\u001b[0m",
      "\u001b[0;31mAttributeError\u001b[0m: 'OutlierFilter' object has no attribute '__z_threshold'"
     ]
    }
   ],
   "source": [
    "# Are we private??\n",
    "\n",
    "myfilter2.__z_threshold"
   ]
  },
  {
   "cell_type": "code",
   "execution_count": 26,
   "metadata": {},
   "outputs": [
    {
     "data": {
      "text/plain": [
       "2.0"
      ]
     },
     "execution_count": 26,
     "metadata": {},
     "output_type": "execute_result"
    }
   ],
   "source": [
    "myfilter2._OutlierFilter__z_threshold"
   ]
  },
  {
   "cell_type": "code",
   "execution_count": 27,
   "metadata": {},
   "outputs": [
    {
     "data": {
      "text/plain": [
       "{'_OutlierFilter__z_threshold': 2.0}"
      ]
     },
     "execution_count": 27,
     "metadata": {},
     "output_type": "execute_result"
    }
   ],
   "source": [
    "myfilter2.__dict__"
   ]
  },
  {
   "cell_type": "markdown",
   "metadata": {},
   "source": [
    "# Lab\n",
    "\n",
    "Open [OOP Intro lab][oop-intro-lab]\n",
    "\n",
    "[oop-intro-lab]: ./oop-intro-lab.ipynb"
   ]
  }
 ],
 "metadata": {
  "kernelspec": {
   "display_name": "Python 3",
   "language": "python",
   "name": "python3"
  },
  "language_info": {
   "codemirror_mode": {
    "name": "ipython",
    "version": 3
   },
   "file_extension": ".py",
   "mimetype": "text/x-python",
   "name": "python",
   "nbconvert_exporter": "python",
   "pygments_lexer": "ipython3",
   "version": "3.7.2"
  }
 },
 "nbformat": 4,
 "nbformat_minor": 2
}
