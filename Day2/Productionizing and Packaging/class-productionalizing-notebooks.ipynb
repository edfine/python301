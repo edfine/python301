{
 "cells": [
  {
   "cell_type": "markdown",
   "metadata": {},
   "source": [
    "# Productionalizing Your Notebooks\n",
    "\n",
    "Open the file 'class-productionalizing-notebooks.html' and follow the setup instructions below:"
   ]
  },
  {
   "cell_type": "markdown",
   "metadata": {},
   "source": [
    "# While we are waiting\n",
    "\n",
    "- Ensure you have completed the [setup instructions][setup]\n",
    "\n",
    "[setup]: ./Setup-Pip.html"
   ]
  },
  {
   "cell_type": "markdown",
   "metadata": {},
   "source": [
    "# About You and Me\n",
    "* What is your job title/what do you do?\n",
    "* Python/ML experience? Other languages?\n",
    "* What do you want to get out of the course? (Particular topics?)"
   ]
  },
  {
   "cell_type": "markdown",
   "metadata": {},
   "source": [
    "# Course outline\n",
    "\n",
    "- [Using Virtual Environments][virtualenv]\n",
    "- [Packaging Projects for Distribution][packaging]\n",
    "- [Introduction to Object-Oriented Programming][oop-intro]\n",
    "- [Testing][unittest]\n",
    "- [Git Workflow][git-workflow]\n",
    "- [ML Productionalization Workflow][ml-productionalization-workflow]\n",
    "- [Productionalization Project][macys-project]\n",
    "\n",
    "\n",
    "[virtualenv]: ./virtualenv.ipynb\n",
    "[packaging]: ./packaging.ipynb\n",
    "[oop-intro]: ./oop-intro.ipynb\n",
    "[unittest]: ./unittest.ipynb\n",
    "[git-workflow]: ./git-workflow.ipynb\n",
    "[ml-productionalization-workflow]: ./ml-productionalization-workflow.ipynb\n"
   ]
  },
  {
   "cell_type": "code",
   "execution_count": null,
   "metadata": {},
   "outputs": [],
   "source": []
  }
 ],
 "metadata": {
  "kernelspec": {
   "display_name": "Python 3",
   "language": "python",
   "name": "python3"
  },
  "language_info": {
   "codemirror_mode": {
    "name": "ipython",
    "version": 3
   },
   "file_extension": ".py",
   "mimetype": "text/x-python",
   "name": "python",
   "nbconvert_exporter": "python",
   "pygments_lexer": "ipython3",
   "version": "3.7.2"
  }
 },
 "nbformat": 4,
 "nbformat_minor": 2
}
