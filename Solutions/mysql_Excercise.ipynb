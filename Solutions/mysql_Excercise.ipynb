{
  "nbformat": 4,
  "nbformat_minor": 0,
  "metadata": {
    "colab": {
      "name": "mysql_Excercise.ipynb",
      "provenance": [],
      "collapsed_sections": []
    },
    "kernelspec": {
      "name": "python3",
      "display_name": "Python 3"
    },
    "language_info": {
      "name": "python"
    }
  },
  "cells": [
    {
      "cell_type": "markdown",
      "source": [
        "# ***`MySQL Excercise`***"
      ],
      "metadata": {
        "id": "uN1T1XRs9lNc"
      }
    },
    {
      "cell_type": "markdown",
      "source": [
        "## ***1. Write a program to delete a query from the table in the database.***"
      ],
      "metadata": {
        "id": "kLb8GCCI9xmE"
      }
    },
    {
      "cell_type": "code",
      "source": [
        "# importing required library\n",
        "import mysql.connector\n",
        "\n",
        "# connecting to the database\n",
        "dataBase = mysql.connector.connect(\n",
        "\t\t\t\t\thost = \"localhost\",\n",
        "\t\t\t\t\tuser = \"user\",\n",
        "\t\t\t\t\tpasswd = \"pswrd\",\n",
        "\t\t\t\t\tdatabase = \"Test\" )\n",
        "\n",
        "# preparing a cursor object\n",
        "cursorObject = dataBase.cursor()\n",
        "\n",
        "# creating table\n",
        "studentRecord = \"\"\"CREATE TABLE STUDENT (\n",
        "\t\t\t\tNAME VARCHAR(20) NOT NULL,\n",
        "\t\t\t\tBRANCH VARCHAR(50),\n",
        "\t\t\t\tROLL INT NOT NULL,\n",
        "\t\t\t\tSECTION VARCHAR(5),\n",
        "\t\t\t\tAGE INT\n",
        "\t\t\t\t)\"\"\"\n",
        "\n",
        "# table created\n",
        "cursorObject.execute(studentRecord)\n",
        "\n",
        "# inserting data into the table\n",
        "query = \"INSERT INTO STUDENT (NAME, BRANCH, ROLL, SECTION, AGE) VALUES (% s, % s)\"\n",
        "\n",
        "attrValues = (\"Rituraj Saha\", \"Information Technology\", \"1706256\", \"IT-3\", \"20\")\n",
        "cursorObject.execute(query, attrValues)\n",
        "\n",
        "attrValues = (\"Ritam Barik\", \"Information Technology\", \"1706254\", \"IT-3\", \"21\")\n",
        "cursorObject.execute(query, attrValues)\n",
        "\n",
        "attrValues = (\"Rishi Kumar\", \"Information Technology\", \"1706253\", \"IT-3\", \"21\")\n",
        "cursorObject.execute(query, attrValues)\n",
        "\n",
        "# deleting query\n",
        "query = \"DELETE FROM STUDENT WHERE ROLL = 1706256\"\n",
        "cursorObject.execute(query, attrValues)\n",
        "\n",
        "dataBase.commit()\n",
        "\n",
        "# disconnecting from server\n",
        "dataBase.close()\n"
      ],
      "metadata": {
        "id": "yksxWv7d-fCT"
      },
      "execution_count": null,
      "outputs": []
    },
    {
      "cell_type": "markdown",
      "source": [
        "## ***2. Write a Program to demonstrate drop if exists. We will try to drop a table which does not exist in the above database.***"
      ],
      "metadata": {
        "id": "NBNlPwF0-s5D"
      }
    },
    {
      "cell_type": "code",
      "source": [
        "# Python program to demonstrate\n",
        "# drop clause\n",
        "\n",
        "\n",
        "import mysql.connector\n",
        "\n",
        "# Connecting to the Database\n",
        "mydb = mysql.connector.connect(\n",
        "host ='localhost',\n",
        "database ='College',\n",
        "user ='root',\n",
        ")\n",
        "\n",
        "cs = mydb.cursor()\n",
        "\n",
        "# drop clause\n",
        "statement = \"Drop Table if exists Employee\"\n",
        "\n",
        "# Uncommenting statement =\"DROP TABLE employee\"\n",
        "# Will raise an error as the table employee\n",
        "# does not exists\n",
        "\n",
        "cs.execute(statement)\n",
        "\t\n",
        "# Disconnecting from the database\n",
        "mydb.close()\n"
      ],
      "metadata": {
        "id": "VMzm_1ED-yp6"
      },
      "execution_count": null,
      "outputs": []
    },
    {
      "cell_type": "markdown",
      "source": [
        "## ***3. Write a Program to **drop** table Test.***"
      ],
      "metadata": {
        "id": "nDAYEiBJ_NoK"
      }
    },
    {
      "cell_type": "code",
      "source": [
        "# Python program to demonstrate\n",
        "# drop clause\n",
        "\n",
        "\n",
        "import mysql.connector\n",
        "\n",
        "# Connecting to the Database\n",
        "mydb = mysql.connector.connect(\n",
        "host ='localhost',\n",
        "database ='College',\n",
        "user ='root',\n",
        ")\n",
        "\n",
        "cs = mydb.cursor()\n",
        "\n",
        "# drop clause\n",
        "statement =\"DROP TABLE Test\"\n",
        "\n",
        "cs.execute(statement)\n",
        "\t\n",
        "# Disconnecting from the database\n",
        "mydb.close()\n"
      ],
      "metadata": {
        "id": "YLGAXWXs_Puq"
      },
      "execution_count": null,
      "outputs": []
    },
    {
      "cell_type": "markdown",
      "source": [
        "## ***4. Write a program to display only 2 records.***"
      ],
      "metadata": {
        "id": "jaZ6q24YAMNk"
      }
    },
    {
      "cell_type": "code",
      "source": [
        "import mysql.connector\n",
        "\n",
        "# Conencting to the database\n",
        "mydb = mysql.connector.connect(\n",
        "host ='localhost',\n",
        "database ='College',\n",
        "user ='root',\n",
        ")\n",
        "\n",
        "cs = mydb.cursor()\n",
        "\n",
        "# STUDENT and STudent are\n",
        "# two different database\n",
        "statement =\"SELECT * FROM STUDENT LIMIT 2\"\n",
        "\n",
        "cs.execute(statement)\n",
        "result_set = cs.fetchall()\n",
        "\n",
        "for x in result_set:\n",
        "\tprint(x)\n"
      ],
      "metadata": {
        "id": "1uOVpMzWAOXh"
      },
      "execution_count": null,
      "outputs": []
    },
    {
      "cell_type": "markdown",
      "source": [
        "## ***5. Write a program to start from the second record and display the first two records.***"
      ],
      "metadata": {
        "id": "AtpFaLFrQBlY"
      }
    },
    {
      "cell_type": "code",
      "source": [
        "import mysql.connector\n",
        "\n",
        "# Conencting to the database\n",
        "mydb = mysql.connector.connect(\n",
        "host ='localhost',\n",
        "database ='College',\n",
        "user ='root',\n",
        ")\n",
        "\n",
        "cs = mydb.cursor()\n",
        "\n",
        "# STUDENT and STudent are\n",
        "# two different database\n",
        "statement =\"SELECT * FROM STUDENT LIMIT 2 OFFSET 1\"\n",
        "\n",
        "cs.execute(statement)\n",
        "result_set = cs.fetchall()\n",
        "\n",
        "for x in result_set:\n",
        "\tprint(x)\n"
      ],
      "metadata": {
        "id": "1a5zw7vuQDgo"
      },
      "execution_count": null,
      "outputs": []
    },
    {
      "cell_type": "markdown",
      "source": [
        "### ***6. Write a Program to arrange the data in ascending order by name.***"
      ],
      "metadata": {
        "id": "Y02Txx3cDJ7X"
      }
    },
    {
      "cell_type": "code",
      "source": [
        "# Python program to demonstrate\n",
        "# order by clause\n",
        "\n",
        "\n",
        "import mysql.connector\n",
        "\n",
        "# Connecting to the Database\n",
        "mydb = mysql.connector.connect(\n",
        "host ='localhost',\n",
        "database ='College',\n",
        "user ='root',\n",
        "password = ''\n",
        ")\n",
        "\n",
        "cs = mydb.cursor()\n",
        "\n",
        "# Order by clause\n",
        "statement =\"SELECT * FROM Student ORDER BY Name\"\n",
        "cs.execute(statement)\n",
        "\n",
        "result_set = cs.fetchall()\n",
        "\n",
        "for x in result_set:\n",
        "\tprint(x)\n",
        "\t\n",
        "# Disconnecting from the database\n",
        "mydb.close()\n"
      ],
      "metadata": {
        "id": "QLwlIaVeDYmm"
      },
      "execution_count": null,
      "outputs": []
    },
    {
      "cell_type": "markdown",
      "source": [
        "## ***7. Write a Program Arranging the database in descending order***"
      ],
      "metadata": {
        "id": "-pwnilOMDfDX"
      }
    },
    {
      "cell_type": "code",
      "source": [
        "# Python program to demonstrate\n",
        "# order by clause\n",
        "\n",
        "\n",
        "import mysql.connector\n",
        "\n",
        "# Connecting to the Database\n",
        "mydb = mysql.connector.connect(\n",
        "host ='localhost',\n",
        "database ='College',\n",
        "user ='root',\n",
        ")\n",
        "\n",
        "cs = mydb.cursor()\n",
        "\n",
        "# Order by clause\n",
        "statement =\"SELECT * FROM Student ORDER BY Name DESC\"\n",
        "cs.execute(statement)\n",
        "\n",
        "result_set = cs.fetchall()\n",
        "\n",
        "for x in result_set:\n",
        "\tprint(x)\n",
        "\t\n",
        "# Disconnecting from the database\n",
        "mydb.close()\n"
      ],
      "metadata": {
        "id": "rOX_X6YWDpq1"
      },
      "execution_count": null,
      "outputs": []
    },
    {
      "cell_type": "markdown",
      "source": [
        "## ***8.  write a Program to get namefrom the table, arranged in descending order by Roll no.***"
      ],
      "metadata": {
        "id": "kBaGIMarPxQJ"
      }
    },
    {
      "cell_type": "code",
      "source": [
        "# Python program to demonstrate\n",
        "# order by clause\n",
        "\n",
        "\n",
        "import mysql.connector\n",
        "\n",
        "# Connecting to the Database\n",
        "mydb = mysql.connector.connect(\n",
        "host ='localhost',\n",
        "database ='College',\n",
        "user ='root',\n",
        ")\n",
        "\n",
        "cs = mydb.cursor()\n",
        "\n",
        "# Order by clause\n",
        "statement =\"SELECT Name FROM Student ORDER BY Roll_no DESC\"\n",
        "cs.execute(statement)\n",
        "\n",
        "result_set = cs.fetchall()\n",
        "\n",
        "for x in result_set:\n",
        "\tprint(x)\n",
        "\t\n",
        "# Disconnecting from the database\n",
        "mydb.close()\n"
      ],
      "metadata": {
        "id": "XPuP8GTeP6a6"
      },
      "execution_count": null,
      "outputs": []
    }
  ]
}