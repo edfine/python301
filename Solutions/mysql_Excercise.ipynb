{
  "nbformat": 4,
  "nbformat_minor": 0,
  "metadata": {
    "colab": {
      "name": "mysql_Excercise.ipynb",
      "provenance": [],
      "collapsed_sections": []
    },
    "kernelspec": {
      "name": "python3",
      "display_name": "Python 3"
    },
    "language_info": {
      "name": "python"
    }
  },
  "cells": [
    {
      "cell_type": "markdown",
      "source": [
        "# ***`MySQL Excercise`***"
      ],
      "metadata": {
        "id": "uN1T1XRs9lNc"
      }
    },
    {
      "cell_type": "markdown",
      "source": [
        "## ***1. Write a program to delete a query from the table in the database.***"
      ],
      "metadata": {
        "id": "kLb8GCCI9xmE"
      }
    },
    {
      "cell_type": "code",
      "source": [
        "# importing required library\n",
        "import mysql.connector\n",
        "\n",
        "# connecting to the database\n",
        "dataBase = mysql.connector.connect(\n",
        "\t\t\t\t\thost = \"localhost\",\n",
        "\t\t\t\t\tuser = \"user\",\n",
        "\t\t\t\t\tpasswd = \"pswrd\",\n",
        "\t\t\t\t\tdatabase = \"Test\" )\n",
        "\n",
        "# preparing a cursor object\n",
        "cursorObject = dataBase.cursor()\n",
        "\n",
        "# creating table\n",
        "studentRecord = \"\"\"CREATE TABLE STUDENT (\n",
        "\t\t\t\tNAME VARCHAR(20) NOT NULL,\n",
        "\t\t\t\tBRANCH VARCHAR(50),\n",
        "\t\t\t\tROLL INT NOT NULL,\n",
        "\t\t\t\tSECTION VARCHAR(5),\n",
        "\t\t\t\tAGE INT\n",
        "\t\t\t\t)\"\"\"\n",
        "\n",
        "# table created\n",
        "cursorObject.execute(studentRecord)\n",
        "\n",
        "# inserting data into the table\n",
        "query = \"INSERT INTO STUDENT (NAME, BRANCH, ROLL, SECTION, AGE) VALUES (% s, % s)\"\n",
        "\n",
        "attrValues = (\"Rituraj Saha\", \"Information Technology\", \"1706256\", \"IT-3\", \"20\")\n",
        "cursorObject.execute(query, attrValues)\n",
        "\n",
        "attrValues = (\"Ritam Barik\", \"Information Technology\", \"1706254\", \"IT-3\", \"21\")\n",
        "cursorObject.execute(query, attrValues)\n",
        "\n",
        "attrValues = (\"Rishi Kumar\", \"Information Technology\", \"1706253\", \"IT-3\", \"21\")\n",
        "cursorObject.execute(query, attrValues)\n",
        "\n",
        "# deleting query\n",
        "query = \"DELETE FROM STUDENT WHERE ROLL = 1706256\"\n",
        "cursorObject.execute(query, attrValues)\n",
        "\n",
        "dataBase.commit()\n",
        "\n",
        "# disconnecting from server\n",
        "dataBase.close()\n"
      ],
      "metadata": {
        "id": "yksxWv7d-fCT"
      },
      "execution_count": null,
      "outputs": []
    },
    {
      "cell_type": "markdown",
      "source": [
        "## ***2. Write a Program to demonstrate drop if exists. We will try to drop a table which does not exist in the above database.***"
      ],
      "metadata": {
        "id": "NBNlPwF0-s5D"
      }
    },
    {
      "cell_type": "code",
      "source": [
        "# Python program to demonstrate\n",
        "# drop clause\n",
        "\n",
        "\n",
        "import mysql.connector\n",
        "\n",
        "# Connecting to the Database\n",
        "mydb = mysql.connector.connect(\n",
        "host ='localhost',\n",
        "database ='College',\n",
        "user ='root',\n",
        ")\n",
        "\n",
        "cs = mydb.cursor()\n",
        "\n",
        "# drop clause\n",
        "statement = \"Drop Table if exists Employee\"\n",
        "\n",
        "# Uncommenting statement =\"DROP TABLE employee\"\n",
        "# Will raise an error as the table employee\n",
        "# does not exists\n",
        "\n",
        "cs.execute(statement)\n",
        "\t\n",
        "# Disconnecting from the database\n",
        "mydb.close()\n"
      ],
      "metadata": {
        "id": "VMzm_1ED-yp6"
      },
      "execution_count": null,
      "outputs": []
    },
    {
      "cell_type": "markdown",
      "source": [
        "## ***3. Write a Program to **drop** table Test.***"
      ],
      "metadata": {
        "id": "nDAYEiBJ_NoK"
      }
    },
    {
      "cell_type": "code",
      "source": [
        "# Python program to demonstrate\n",
        "# drop clause\n",
        "\n",
        "\n",
        "import mysql.connector\n",
        "\n",
        "# Connecting to the Database\n",
        "mydb = mysql.connector.connect(\n",
        "host ='localhost',\n",
        "database ='College',\n",
        "user ='root',\n",
        ")\n",
        "\n",
        "cs = mydb.cursor()\n",
        "\n",
        "# drop clause\n",
        "statement =\"DROP TABLE Test\"\n",
        "\n",
        "cs.execute(statement)\n",
        "\t\n",
        "# Disconnecting from the database\n",
        "mydb.close()\n"
      ],
      "metadata": {
        "id": "YLGAXWXs_Puq"
      },
      "execution_count": null,
      "outputs": []
    },
    {
      "cell_type": "markdown",
      "source": [
        "## ***4. Write a program to display only 2 records.***"
      ],
      "metadata": {
        "id": "jaZ6q24YAMNk"
      }
    },
    {
      "cell_type": "code",
      "source": [
        "import mysql.connector\n",
        "\n",
        "# Conencting to the database\n",
        "mydb = mysql.connector.connect(\n",
        "host ='localhost',\n",
        "database ='College',\n",
        "user ='root',\n",
        ")\n",
        "\n",
        "cs = mydb.cursor()\n",
        "\n",
        "# STUDENT and STudent are\n",
        "# two different database\n",
        "statement =\"SELECT * FROM STUDENT LIMIT 2\"\n",
        "\n",
        "cs.execute(statement)\n",
        "result_set = cs.fetchall()\n",
        "\n",
        "for x in result_set:\n",
        "\tprint(x)\n"
      ],
      "metadata": {
        "id": "1uOVpMzWAOXh"
      },
      "execution_count": null,
      "outputs": []
    },
    {
      "cell_type": "markdown",
      "source": [
        "## ***5. Write a program to start from the second record and display the first two records.***"
      ],
      "metadata": {
        "id": "AtpFaLFrQBlY"
      }
    },
    {
      "cell_type": "code",
      "source": [
        "import mysql.connector\n",
        "\n",
        "# Conencting to the database\n",
        "mydb = mysql.connector.connect(\n",
        "host ='localhost',\n",
        "database ='College',\n",
        "user ='root',\n",
        ")\n",
        "\n",
        "cs = mydb.cursor()\n",
        "\n",
        "# STUDENT and STudent are\n",
        "# two different database\n",
        "statement =\"SELECT * FROM STUDENT LIMIT 2 OFFSET 1\"\n",
        "\n",
        "cs.execute(statement)\n",
        "result_set = cs.fetchall()\n",
        "\n",
        "for x in result_set:\n",
        "\tprint(x)\n"
      ],
      "metadata": {
        "id": "1a5zw7vuQDgo"
      },
      "execution_count": null,
      "outputs": []
    },
    {
      "cell_type": "markdown",
      "source": [
        "### ***6. Write a Program to arrange the data in ascending order by name.***"
      ],
      "metadata": {
        "id": "Y02Txx3cDJ7X"
      }
    },
    {
      "cell_type": "code",
      "source": [
        "# Python program to demonstrate\n",
        "# order by clause\n",
        "\n",
        "\n",
        "import mysql.connector\n",
        "\n",
        "# Connecting to the Database\n",
        "mydb = mysql.connector.connect(\n",
        "host ='localhost',\n",
        "database ='College',\n",
        "user ='root',\n",
        "password = ''\n",
        ")\n",
        "\n",
        "cs = mydb.cursor()\n",
        "\n",
        "# Order by clause\n",
        "statement =\"SELECT * FROM Student ORDER BY Name\"\n",
        "cs.execute(statement)\n",
        "\n",
        "result_set = cs.fetchall()\n",
        "\n",
        "for x in result_set:\n",
        "\tprint(x)\n",
        "\t\n",
        "# Disconnecting from the database\n",
        "mydb.close()\n"
      ],
      "metadata": {
        "id": "QLwlIaVeDYmm"
      },
      "execution_count": null,
      "outputs": []
    },
    {
      "cell_type": "markdown",
      "source": [
        "## ***7. Write a Program Arranging the database in descending order***"
      ],
      "metadata": {
        "id": "-pwnilOMDfDX"
      }
    },
    {
      "cell_type": "code",
      "source": [
        "# Python program to demonstrate\n",
        "# order by clause\n",
        "\n",
        "\n",
        "import mysql.connector\n",
        "\n",
        "# Connecting to the Database\n",
        "mydb = mysql.connector.connect(\n",
        "host ='localhost',\n",
        "database ='College',\n",
        "user ='root',\n",
        ")\n",
        "\n",
        "cs = mydb.cursor()\n",
        "\n",
        "# Order by clause\n",
        "statement =\"SELECT * FROM Student ORDER BY Name DESC\"\n",
        "cs.execute(statement)\n",
        "\n",
        "result_set = cs.fetchall()\n",
        "\n",
        "for x in result_set:\n",
        "\tprint(x)\n",
        "\t\n",
        "# Disconnecting from the database\n",
        "mydb.close()\n"
      ],
      "metadata": {
        "id": "rOX_X6YWDpq1"
      },
      "execution_count": null,
      "outputs": []
    },
    {
      "cell_type": "markdown",
      "source": [
        "## ***8.  write a Program to get namefrom the table, arranged in descending order by Roll no.***"
      ],
      "metadata": {
        "id": "kBaGIMarPxQJ"
      }
    },
    {
      "cell_type": "code",
      "source": [
        "# Python program to demonstrate\n",
        "# order by clause\n",
        "\n",
        "\n",
        "import mysql.connector\n",
        "\n",
        "# Connecting to the Database\n",
        "mydb = mysql.connector.connect(\n",
        "host ='localhost',\n",
        "database ='College',\n",
        "user ='root',\n",
        ")\n",
        "\n",
        "cs = mydb.cursor()\n",
        "\n",
        "# Order by clause\n",
        "statement =\"SELECT Name FROM Student ORDER BY Roll_no DESC\"\n",
        "cs.execute(statement)\n",
        "\n",
        "result_set = cs.fetchall()\n",
        "\n",
        "for x in result_set:\n",
        "\tprint(x)\n",
        "\t\n",
        "# Disconnecting from the database\n",
        "mydb.close()\n"
      ],
      "metadata": {
        "id": "XPuP8GTeP6a6"
      },
      "execution_count": null,
      "outputs": []
    },
    {
      "cell_type": "markdown",
      "source": [
        "## ***9. Write a statement to create a table named countries including columns country_id,country_name and region_id and make sure that no duplicate data against column country_id will be allowed at the time of insertion.***"
      ],
      "metadata": {
        "id": "e55xLG2ZtiOd"
      }
    },
    {
      "cell_type": "code",
      "source": [
        "CREATE TABLE IF NOT EXISTS countries ( \n",
        "COUNTRY_ID varchar(2) NOT NULL,\n",
        "COUNTRY_NAME varchar(40) NOT NULL,\n",
        "REGION_ID decimal(10,0) NOT NULL,\n",
        "UNIQUE(COUNTRY_ID)\n",
        ");"
      ],
      "metadata": {
        "id": "ZS-VmmlGt06s"
      },
      "execution_count": null,
      "outputs": []
    },
    {
      "cell_type": "markdown",
      "source": [
        "## ***10. Write a query to find the addresses (location_id, street_address, city, state_province, country_name) of all the departments***"
      ],
      "metadata": {
        "id": "g4IEnfYVuIYE"
      }
    },
    {
      "cell_type": "code",
      "source": [
        "SELECT location_id, street_address, city, state_province, country_name\n",
        "FROM locations\n",
        "NATURAL JOIN countries;"
      ],
      "metadata": {
        "id": "qCfibwO6uHr8"
      },
      "execution_count": null,
      "outputs": []
    },
    {
      "cell_type": "markdown",
      "source": [
        "## ***11. Write a statement to change the email and commission_pct column of employees table with 'not available' and 0.10 for those employees whose department_id is 10.***"
      ],
      "metadata": {
        "id": "_3mDQxprucb8"
      }
    },
    {
      "cell_type": "code",
      "source": [
        "UPDATE employees \n",
        "SET email='not available',\n",
        "commission_pct=0.10 \n",
        "WHERE department_id=10;"
      ],
      "metadata": {
        "id": "ZcZjbNDXuduG"
      },
      "execution_count": null,
      "outputs": []
    },
    {
      "cell_type": "markdown",
      "source": [
        "## ***12. Write a statement to insert rows in the job_history table in which one column job_id is containing those values which are exists in job_id column of jobs table***"
      ],
      "metadata": {
        "id": "Tjr7L8kOu7IT"
      }
    },
    {
      "cell_type": "code",
      "source": [
        "CREATE TABLE IF NOT EXISTS jobs ( \n",
        "JOB_ID integer NOT NULL UNIQUE PRIMARY KEY, \n",
        "JOB_TITLE varchar(35) NOT NULL DEFAULT ' ', \n",
        "MIN_SALARY decimal(6,0) DEFAULT 8000, \n",
        "MAX_SALARY decimal(6,0) DEFAULT 20000\n",
        ")ENGINE=InnoDB;\n",
        "\n",
        "INSERT INTO jobs(JOB_ID,JOB_TITLE) VALUES(1001,'OFFICER');\n",
        "INSERT INTO jobs(JOB_ID,JOB_TITLE) VALUES(1002,'CLERK');"
      ],
      "metadata": {
        "id": "U-J0slv7u-F2"
      },
      "execution_count": null,
      "outputs": []
    },
    {
      "cell_type": "code",
      "source": [
        "Sample table job_history;\n",
        "\n",
        "CREATE TABLE job_history ( \n",
        "EMPLOYEE_ID integer NOT NULL PRIMARY KEY, \n",
        "JOB_ID integer NOT NULL, \n",
        "DEPARTMENT_ID integer DEFAULT NULL, \n",
        "FOREIGN KEY (job_id) REFERENCES jobs(job_id)\n",
        ")ENGINE=InnoDB;"
      ],
      "metadata": {
        "id": "0k37b8YRvHeD"
      },
      "execution_count": null,
      "outputs": []
    },
    {
      "cell_type": "code",
      "source": [
        "INSERT INTO job_history VALUES(501,1001,60);"
      ],
      "metadata": {
        "id": "KQpHGotrvJ_b"
      },
      "execution_count": null,
      "outputs": []
    },
    {
      "cell_type": "code",
      "source": [
        "INSERT INTO job_history VALUES(502,1003,80);"
      ],
      "metadata": {
        "id": "59Q9SOYXvMqc"
      },
      "execution_count": null,
      "outputs": []
    },
    {
      "cell_type": "markdown",
      "source": [
        "## ***13. Write a statement to rename the table countries to country_new.***"
      ],
      "metadata": {
        "id": "fMuwlYWZvZ0t"
      }
    },
    {
      "cell_type": "code",
      "source": [
        "ALTER TABLE countries RENAME country_new;"
      ],
      "metadata": {
        "id": "59TpjyTuvcsr"
      },
      "execution_count": null,
      "outputs": []
    },
    {
      "cell_type": "markdown",
      "source": [
        "## ***14. Write a statement to create a simple table countries including columns country_id,country_name and region_id.***"
      ],
      "metadata": {
        "id": "kXbQj_KkvuIM"
      }
    },
    {
      "cell_type": "code",
      "source": [
        "CREATE TABLE countries( \n",
        "COUNTRY_ID varchar(2),\n",
        "COUNTRY_NAME varchar(40),\n",
        "REGION_ID decimal(10,0)\n",
        ");"
      ],
      "metadata": {
        "id": "OH5VbguJvwEE"
      },
      "execution_count": null,
      "outputs": []
    },
    {
      "cell_type": "markdown",
      "source": [
        "## ***15. Write a statement to create a table job_history including columns employee_id, start_date, end_date, job_id and department_id and make sure that, the employee_id column does not contain any duplicate value at the time of insertion and the foreign key column job_id contain only those values which are exists in the jobs table.***"
      ],
      "metadata": {
        "id": "GCaHqV-Gv6l7"
      }
    },
    {
      "cell_type": "code",
      "source": [
        "CREATE TABLE job_history ( \n",
        "EMPLOYEE_ID decimal(6,0) NOT NULL PRIMARY KEY, \n",
        "START_DATE date NOT NULL, \n",
        "END_DATE date NOT NULL, \n",
        "JOB_ID varchar(10) NOT NULL, \n",
        "DEPARTMENT_ID decimal(4,0) DEFAULT NULL, \n",
        "FOREIGN KEY (job_id) REFERENCES jobs(job_id)\n",
        ")ENGINE=InnoDB;"
      ],
      "metadata": {
        "id": "opJQhBRCv-CM"
      },
      "execution_count": null,
      "outputs": []
    },
    {
      "cell_type": "markdown",
      "source": [
        "\n",
        "## ***16. Find the average salary by employee title, round to 2 decimal places and order by descending order.***"
      ],
      "metadata": {
        "id": "r1VyqB8ZwTUE"
      }
    },
    {
      "cell_type": "code",
      "source": [
        "SELECT title, ROUND(AVG(salary), 2) as avg_salary\n",
        "FROM titles t JOIN salaries s ON s.emp_no = t.emp_no\n",
        "GROUP BY title\n",
        "ORDER BY avg_salary DESC;"
      ],
      "metadata": {
        "id": "8IDuSvfbwUZy"
      },
      "execution_count": null,
      "outputs": []
    },
    {
      "cell_type": "markdown",
      "source": [
        "## ***17. Find the number of Male (M) and Female (F) employees in the database and order the counts in descending order.***"
      ],
      "metadata": {
        "id": "-_qIDFvjwgdj"
      }
    },
    {
      "cell_type": "code",
      "source": [
        "SELECT gender, COUNT(*) AS total_count\n",
        "FROM employees \n",
        "GROUP BY gender\n",
        "ORDER BY total_count DESC;"
      ],
      "metadata": {
        "id": "8v0f50etwknC"
      },
      "execution_count": null,
      "outputs": []
    },
    {
      "cell_type": "markdown",
      "source": [
        "## ***18. Find all the employees that have worked in at least 2 departments. Show their first name, last_name and the number of departments they work in. Display all results in ascending order.***"
      ],
      "metadata": {
        "id": "mMM__vlgwqEU"
      }
    },
    {
      "cell_type": "code",
      "source": [
        "SELECT CONCAT(e.first_name, ' ' , e.last_name) AS name, COUNT(*) AS number_of_departments\n",
        "FROM employees e JOIN dept_emp d ON e.emp_no = d.emp_no\n",
        "GROUP BY d.emp_no \n",
        "HAVING COUNT(*) > 1\n",
        "ORDER BY name ASC;"
      ],
      "metadata": {
        "id": "YG5qXknbwrTb"
      },
      "execution_count": null,
      "outputs": []
    },
    {
      "cell_type": "markdown",
      "source": [
        "# ***19. Display the first name, last name, and salary of the highest payed employee.***"
      ],
      "metadata": {
        "id": "z2NVw4vSwzBz"
      }
    },
    {
      "cell_type": "code",
      "source": [
        "SELECT CONCAT(employees.first_name, ' ', employees.last_name) AS employee_name, salaries.salary \n",
        "FROM employees JOIN salaries ON employees.emp_no = salaries.emp_no\n",
        "WHERE salaries.salary = (SELECT MAX(salaries.salary) FROM salaries);"
      ],
      "metadata": {
        "id": "20UwKMUXw1FT"
      },
      "execution_count": null,
      "outputs": []
    },
    {
      "cell_type": "markdown",
      "source": [
        "## ***20. Display the first name, last name, and salary of the second highest payed employee.***"
      ],
      "metadata": {
        "id": "dbswsa7yw7rd"
      }
    },
    {
      "cell_type": "code",
      "source": [
        "SELECT CONCAT(employees.first_name, ' ', employees.last_name) AS employee_name, salaries.salary \n",
        "FROM employees JOIN salaries ON employees.emp_no = salaries.emp_no\n",
        "WHERE salaries.salary < (SELECT MAX(salaries.salary) FROM salaries)\n",
        "ORDER BY salaries.salary DESC\n",
        "LIMIT 1;"
      ],
      "metadata": {
        "id": "rbKpkT4nw6W7"
      },
      "execution_count": null,
      "outputs": []
    },
    {
      "cell_type": "markdown",
      "source": [
        "## ***21. Display each department and the age of the youngest employee at hire date.***"
      ],
      "metadata": {
        "id": "hOkOc53sxAiq"
      }
    },
    {
      "cell_type": "code",
      "source": [
        "SELECT dept.dept_name, \n",
        "       MIN(TIMESTAMPDIFF(YEAR, e.birth_date, e.hire_date)) AS age_hire_date\n",
        "FROM employees e \n",
        "\tJOIN dept_emp d_emp ON e.emp_no = d_emp.emp_no \n",
        "\tJOIN departments dept ON d_emp.dept_no = dept.dept_no\n",
        "GROUP BY dept.dept_name"
      ],
      "metadata": {
        "id": "XC8HvKx0xH6j"
      },
      "execution_count": null,
      "outputs": []
    },
    {
      "cell_type": "markdown",
      "source": [
        "## ***22. Find all the employees that do not contain vowels in their first name and display the department they work in.***"
      ],
      "metadata": {
        "id": "Dc4M4p7SxMEL"
      }
    },
    {
      "cell_type": "markdown",
      "source": [
        "SELECT e.first_name, dep.dept_name\n",
        "FROM employees e JOIN dept_emp de ON e.emp_no = de.emp_no \n",
        "\t\t JOIN departments dep ON de.dept_no = dep.dept_no\n",
        "WHERE e.first_name NOT LIKE '%a%' \n",
        "  AND e.first_name NOT LIKE '%e%'  \n",
        "  AND e.first_name NOT LIKE '%i%' \n",
        "  AND e.first_name NOT LIKE '%o%'\n",
        "  AND e.first_name NOT LIKE '%u%'"
      ],
      "metadata": {
        "id": "9fyeiwGsxOPT"
      }
    }
  ]
}