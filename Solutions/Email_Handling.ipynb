{
 "cells": [
  {
   "cell_type": "markdown",
   "metadata": {},
   "source": [
    "# Email Handling\n",
    "## Sign up for Sendgrid and get your API key\n",
    "https://sendgrid.com/pricing/?utm_source=docs\n",
    "\n",
    "## Set up library\n",
    "`pip install sendgrid`\n"
   ]
  },
  {
   "cell_type": "markdown",
   "metadata": {},
   "source": [
    "## Let's send an email!"
   ]
  },
  {
   "cell_type": "code",
   "execution_count": 1,
   "metadata": {},
   "outputs": [
    {
     "name": "stdout",
     "output_type": "stream",
     "text": [
      "Collecting sendgrid\n",
      "  Downloading sendgrid-6.9.7-py3-none-any.whl (101 kB)\n",
      "\u001b[2K     \u001b[90m━━━━━━━━━━━━━━━━━━━━━━━━━━━━━━━━━━━━━━━\u001b[0m \u001b[32m101.1/101.1 KB\u001b[0m \u001b[31m2.5 MB/s\u001b[0m eta \u001b[36m0:00:00\u001b[0ma \u001b[36m0:00:01\u001b[0m\n",
      "\u001b[?25hCollecting starkbank-ecdsa>=2.0.1\n",
      "  Downloading starkbank-ecdsa-2.0.3.tar.gz (12 kB)\n",
      "  Preparing metadata (setup.py) ... \u001b[?25ldone\n",
      "\u001b[?25hCollecting python-http-client>=3.2.1\n",
      "  Downloading python_http_client-3.3.7-py3-none-any.whl (8.4 kB)\n",
      "Building wheels for collected packages: starkbank-ecdsa\n",
      "  Building wheel for starkbank-ecdsa (setup.py) ... \u001b[?25ldone\n",
      "\u001b[?25h  Created wheel for starkbank-ecdsa: filename=starkbank_ecdsa-2.0.3-py3-none-any.whl size=14229 sha256=c3af24f449adb1cb064fc1fc3985a473f6fd0e9a1415bb4f478580f1a2a5a916\n",
      "  Stored in directory: /Users/edwardfine/Library/Caches/pip/wheels/6e/79/72/6e872654d3987335dcc23356cef0a751973a6ccc59857c876a\n",
      "Successfully built starkbank-ecdsa\n",
      "Installing collected packages: starkbank-ecdsa, python-http-client, sendgrid\n",
      "Successfully installed python-http-client-3.3.7 sendgrid-6.9.7 starkbank-ecdsa-2.0.3\n"
     ]
    }
   ],
   "source": [
    "!pip install sendgrid"
   ]
  },
  {
   "cell_type": "code",
   "execution_count": 6,
   "metadata": {},
   "outputs": [],
   "source": [
    "import sendgrid\n",
    "from getpass import getpass\n",
    "from sendgrid.helpers.mail import *\n",
    "\n",
    "sendgrid_key = getpass(\"Enter your API key: \")\n",
    "sg = sendgrid.SendGridAPIClient(\n",
    "    api_key=sendgrid_key)"
   ]
  },
  {
   "cell_type": "code",
   "execution_count": 7,
   "metadata": {},
   "outputs": [
    {
     "name": "stdout",
     "output_type": "stream",
     "text": [
      "202\n",
      "b''\n",
      "Server: nginx\n",
      "Date: Sun, 24 Apr 2022 05:09:53 GMT\n",
      "Content-Length: 0\n",
      "Connection: close\n",
      "X-Message-Id: xX0EhGTMTtSiAjrph2nq0w\n",
      "Access-Control-Allow-Origin: https://sendgrid.api-docs.io\n",
      "Access-Control-Allow-Methods: POST\n",
      "Access-Control-Allow-Headers: Authorization, Content-Type, On-behalf-of, x-sg-elas-acl\n",
      "Access-Control-Max-Age: 600\n",
      "X-No-CORS-Reason: https://sendgrid.com/docs/Classroom/Basics/API/cors.html\n",
      "Strict-Transport-Security: max-age=600; includeSubDomains\n",
      "\n",
      "\n"
     ]
    }
   ],
   "source": [
    "from_email = Email(\"edward.fine@afinepoint.net\")\n",
    "to_email = To(\"edward.fine@afinepoint.net\")\n",
    "subject = \"Sending with SendGrid is Fun\"\n",
    "\n",
    "content = Content(\"text/plain\", \"and easy to do anywhere, even with Python\")\n",
    "mail = Mail(from_email, to_email, subject, content)\n",
    "response = sg.client.mail.send.post(request_body=mail.get())\n",
    "print(response.status_code)\n",
    "print(response.body)\n",
    "print(response.headers)"
   ]
  },
  {
   "cell_type": "markdown",
   "metadata": {},
   "source": [
    "## Mini-Lab (Partially together)\n",
    "- Create a function that gets the top hacker news stories and emails them to a recipient.\n",
    "- Practice modularity, let's do some scaffolding together."
   ]
  },
  {
   "cell_type": "code",
   "execution_count": null,
   "metadata": {},
   "outputs": [],
   "source": []
  }
 ],
 "metadata": {
  "kernelspec": {
   "display_name": "Python 3",
   "language": "python",
   "name": "python3"
  },
  "language_info": {
   "codemirror_mode": {
    "name": "ipython",
    "version": 3
   },
   "file_extension": ".py",
   "mimetype": "text/x-python",
   "name": "python",
   "nbconvert_exporter": "python",
   "pygments_lexer": "ipython3",
   "version": "3.9.10"
  }
 },
 "nbformat": 4,
 "nbformat_minor": 4
}
