{
  "nbformat": 4,
  "nbformat_minor": 0,
  "metadata": {
    "colab": {
      "name": "dispy.ipynb",
      "provenance": [],
      "collapsed_sections": []
    },
    "kernelspec": {
      "name": "python3",
      "display_name": "Python 3"
    },
    "language_info": {
      "name": "python"
    }
  },
  "cells": [
    {
      "cell_type": "markdown",
      "source": [
        "***1. dispy can be used as a command line tool (for simple cases, scheduling cron jobs); in this case the computations should only be programs and dependencies should only be files.***"
      ],
      "metadata": {
        "id": "MfZD_VrkVORs"
      }
    },
    {
      "cell_type": "code",
      "source": [
        "dispy_cmd.py -f /some/file1 -f file2 -a \"arg11 arg12\" -a \"arg21 arg22\" -a \"arg3\" /some/program"
      ],
      "metadata": {
        "id": "zAfVJQp8VPjl"
      },
      "execution_count": null,
      "outputs": []
    },
    {
      "cell_type": "markdown",
      "source": [
        "**2. A simple client program that distributes a program (say, ‘/path/to/program’), executes them with a sequence of numbers as arguments is:**"
      ],
      "metadata": {
        "id": "WC3-HrxsVSzD"
      }
    },
    {
      "cell_type": "code",
      "source": [
        "import dispy\n",
        "cluster = dispy.JobCluster('/path/to/program')\n",
        "for i in range(50):\n",
        "    cluster.submit(i)"
      ],
      "metadata": {
        "id": "8zTHbTupVTz0"
      },
      "execution_count": null,
      "outputs": []
    },
    {
      "cell_type": "markdown",
      "source": [
        "The program ‘/path/to/program’ on the client computer is transferred to each of the nodes, so if the program is a binary program then all the nodes should have same architecture as the client."
      ],
      "metadata": {
        "id": "ifBIvZCGVXSr"
      }
    },
    {
      "cell_type": "markdown",
      "source": [
        "***3. Create a program. A canonical cluster that distributes computation ‘compute’ (Python function) to nodes (running dispynode (server) on a local network), schedules jobs with the cluster, gets jobs’ results and prints them is***"
      ],
      "metadata": {
        "id": "szOTEtVMWLsc"
      }
    },
    {
      "cell_type": "code",
      "source": [
        "# function 'compute' is distributed and executed with arguments\n",
        "# supplied with 'cluster.submit' below\n",
        "def compute(n):\n",
        "    import time, socket\n",
        "    time.sleep(n)\n",
        "    host = socket.gethostname()\n",
        "    return (host, n)\n",
        "\n",
        "if __name__ == '__main__':\n",
        "    # executed on client only; variables created below, including modules imported,\n",
        "    # are not available in job computations\n",
        "    import dispy, random\n",
        "    # distribute 'compute' to nodes; in this case, 'compute' does not have\n",
        "    # any dependencies to run on nodes\n",
        "    cluster = dispy.JobCluster(compute)\n",
        "    # run 'compute' with 20 random numbers on available CPUs\n",
        "    jobs = []\n",
        "    for i in range(20):\n",
        "        job = cluster.submit(random.randint(5,20))\n",
        "        jobs.append(job)\n",
        "    # cluster.wait() # waits until all jobs finish\n",
        "    for job in jobs:\n",
        "        host, n = job() # waits for job to finish and returns results\n",
        "        print('%s executed job %s at %s with %s' % (host, job.id, job.start_time, n))\n",
        "        # other fields of 'job' that may be useful:\n",
        "        # job.stdout, job.stderr, job.exception, job.ip_addr, job.end_time\n",
        "    cluster.print_status()  # shows which nodes executed how many jobs etc."
      ],
      "metadata": {
        "id": "070ia2HDW-m7"
      },
      "execution_count": null,
      "outputs": []
    },
    {
      "cell_type": "markdown",
      "source": [
        "***4. write a program distributes computation to be executed with instances of a class***"
      ],
      "metadata": {
        "id": "mtGCk0wFX8XD"
      }
    },
    {
      "cell_type": "code",
      "source": [
        "class C(object):\n",
        "    def __init__(self, i, n):\n",
        "        self.i = i\n",
        "        self.n = n\n",
        "\n",
        "    def show(self):\n",
        "        print('%s: %.2f' % (self.i, self.n))\n",
        "\n",
        "def compute(obj):\n",
        "    # obj is an instance of C\n",
        "    import time\n",
        "    time.sleep(obj.n)\n",
        "    obj.show()  # the output is stored in job.stdout\n",
        "    return obj.n\n",
        "\n",
        "if __name__ == '__main__':\n",
        "    import random, dispy\n",
        "    # 'compute' needs definition of class C, so include in 'depends'\n",
        "    cluster = dispy.JobCluster(compute, depends=[C])\n",
        "    jobs = []\n",
        "    for i in range(10):\n",
        "        c = C(i, random.uniform(1, 3)) # create object of C\n",
        "        job = cluster.submit(c) # it is sent to a node for executing 'compute'\n",
        "        job.id = c # store this object for later use\n",
        "        jobs.append(job)\n",
        "    for job in jobs:\n",
        "        job() # wait for job to finish\n",
        "        print('%s: %.2f / %s' % (job.id.i, job.result, job.stdout))"
      ],
      "metadata": {
        "id": "gjtLzE3cYHzZ"
      },
      "execution_count": null,
      "outputs": []
    }
  ]
}