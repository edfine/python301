{
 "cells": [
  {
   "cell_type": "markdown",
   "metadata": {},
   "source": [
    "# Using Virtual Environments\n",
    "\n",
    "- Difference between virtual environments (virtualenv or venv), containers, and virtual machines\n",
    "- Creating a virtual environment\n",
    "- Activating and deactivating virtualenvs\n",
    "- Installing packages in a virtual environment\n",
    "- Using requirements.txt files for reproducability\n",
    "- Using wheels for faster installations\n",
    "- Cleaning up virtualenvs"
   ]
  },
  {
   "cell_type": "markdown",
   "metadata": {},
   "source": [
    "# Virtual Machines, Containers, and Virtualenvs\n",
    "\n",
    "## Virtual Machine\n",
    "\n",
    "- Isolated image (\"guest\") of a computer running its own operating system\n",
    "- Can have different OS than the host\n",
    "- Examples: vmware, virtualbox, Amazon EC2\n",
    "\n",
    "## Container\n",
    "\n",
    "- Partially isolated environment that shares the operating system with the host\n",
    "- Same OS kernel as host, but with potentially different users/libraries/networks/etc. and system limits\n",
    "- Examples: Docker, Heroku, Amazon ECS\n",
    "\n",
    "## Virtualenv\n",
    "\n",
    "- Partially isolated **python** environment running in the same OS as the 'host'\n",
    "- **Only** Python packages and environment are isolated:  basically a \"private copy of Python\"\n",
    "- No _security_ isolation from host OS: a program running inside a virtualenv can do whatever a program running outside a virtualenv can do\n",
    "- Similar to local `node_modules` subfolder in a project for Javascript developers"
   ]
  },
  {
   "cell_type": "markdown",
   "metadata": {},
   "source": [
    "# Why Virtualenvs?\n",
    "\n",
    "- **Dependency management** - If two different Python applications require two different versions of the same package, running each app in its own virtualenv allows both versions to be available to their respective applications\n",
    "- **Keeps your system Python pristine** - Many OSes use Python to implement some of the OS tooling (RedHat in particular). This often results in an older version of Python, or particuar versions of Python packages installed globally that you *should not modify* if you want your system tools to keep working.\n",
    "- **Helps with reproducability** - Virtualenvs allow you to note the versions of all packages installed in your venv in order to recreate the virtualenv on another machine. This prevents the \"Works on My Machine\" certification."
   ]
  },
  {
   "cell_type": "markdown",
   "metadata": {},
   "source": [
    "# Creating a virtualenv\n",
    "\n",
    "\n",
    "## Installing virtualenv\n",
    "\n",
    "Since Python 3.3, Python has included a tool to create virtual environments called `venv` in the standard library. \n",
    "\n",
    "If, however, you are developing on Ubuntu, you must separately install it anyway with `apt-get install python-venv`.\n",
    "\n"
   ]
  },
  {
   "cell_type": "markdown",
   "metadata": {},
   "source": [
    "## Creating the virtualenv\n",
    "\n",
    "To create a virtual environment, you invoke the `venv` module with the virtualenv name:\n",
    "\n",
    "```shell\n",
    "$ python -m venv env-folder\n",
    "```\n",
    "\n",
    "This command\n",
    "\n",
    "- creates a folder named `env-folder`\n",
    "- copies the Python you used to invoke `venv` into that folder\n",
    "- creates a couple of helper scripts inside env-folder to activate/deactivate the virtualenv"
   ]
  },
  {
   "cell_type": "code",
   "execution_count": 1,
   "metadata": {},
   "outputs": [
    {
     "name": "stdout",
     "output_type": "stream",
     "text": [
      "/Users/rick446/.virtualenvs/productionalizing-notebooks/bin/python\r\n"
     ]
    }
   ],
   "source": [
    "!which python"
   ]
  },
  {
   "cell_type": "code",
   "execution_count": 2,
   "metadata": {},
   "outputs": [],
   "source": [
    "!python -m venv data/env-folder"
   ]
  },
  {
   "cell_type": "markdown",
   "metadata": {},
   "source": [
    "We can see the directory structure that the virtual environment created with the `tree` command. If you don't have `tree`, you can install it on a Mac using homebrew:\n",
    "\n",
    "```bash\n",
    "$ brew install tree\n",
    "```"
   ]
  },
  {
   "cell_type": "code",
   "execution_count": 3,
   "metadata": {},
   "outputs": [
    {
     "name": "stdout",
     "output_type": "stream",
     "text": [
      "data/env-folder\r\n",
      "├── bin\r\n",
      "├── include\r\n",
      "└── lib\r\n",
      "    └── python3.7\r\n",
      "        └── site-packages\r\n",
      "            ├── __pycache__\r\n",
      "            ├── pip\r\n",
      "            │   ├── __pycache__\r\n",
      "            │   ├── _internal\r\n",
      "            │   │   ├── __pycache__\r\n",
      "            │   │   ├── cli\r\n",
      "            │   │   │   └── __pycache__\r\n",
      "            │   │   ├── commands\r\n",
      "            │   │   │   └── __pycache__\r\n",
      "            │   │   ├── models\r\n",
      "            │   │   │   └── __pycache__\r\n",
      "            │   │   ├── operations\r\n",
      "            │   │   │   └── __pycache__\r\n",
      "            │   │   ├── req\r\n",
      "            │   │   │   └── __pycache__\r\n",
      "            │   │   ├── utils\r\n",
      "            │   │   │   └── __pycache__\r\n",
      "            │   │   └── vcs\r\n",
      "            │   │       └── __pycache__\r\n",
      "            │   └── _vendor\r\n",
      "            │       ├── __pycache__\r\n",
      "            │       ├── cachecontrol\r\n",
      "            │       │   ├── __pycache__\r\n",
      "            │       │   └── caches\r\n",
      "            │       │       └── __pycache__\r\n",
      "            │       ├── certifi\r\n",
      "            │       │   └── __pycache__\r\n",
      "            │       ├── chardet\r\n",
      "            │       │   ├── __pycache__\r\n",
      "            │       │   └── cli\r\n",
      "            │       │       └── __pycache__\r\n",
      "            │       ├── colorama\r\n",
      "            │       │   └── __pycache__\r\n",
      "            │       ├── distlib\r\n",
      "            │       │   ├── __pycache__\r\n",
      "            │       │   └── _backport\r\n",
      "            │       │       └── __pycache__\r\n",
      "            │       ├── html5lib\r\n",
      "            │       │   ├── __pycache__\r\n",
      "            │       │   ├── _trie\r\n",
      "            │       │   │   └── __pycache__\r\n",
      "            │       │   ├── filters\r\n",
      "            │       │   │   └── __pycache__\r\n",
      "            │       │   ├── treeadapters\r\n",
      "            │       │   │   └── __pycache__\r\n",
      "            │       │   ├── treebuilders\r\n",
      "            │       │   │   └── __pycache__\r\n",
      "            │       │   └── treewalkers\r\n",
      "            │       │       └── __pycache__\r\n",
      "            │       ├── idna\r\n",
      "            │       │   └── __pycache__\r\n",
      "            │       ├── lockfile\r\n",
      "            │       │   └── __pycache__\r\n",
      "            │       ├── msgpack\r\n",
      "            │       │   └── __pycache__\r\n",
      "            │       ├── packaging\r\n",
      "            │       │   └── __pycache__\r\n",
      "            │       ├── pep517\r\n",
      "            │       │   └── __pycache__\r\n",
      "            │       ├── pkg_resources\r\n",
      "            │       │   └── __pycache__\r\n",
      "            │       ├── progress\r\n",
      "            │       │   └── __pycache__\r\n",
      "            │       ├── pytoml\r\n",
      "            │       │   └── __pycache__\r\n",
      "            │       ├── requests\r\n",
      "            │       │   └── __pycache__\r\n",
      "            │       ├── urllib3\r\n",
      "            │       │   ├── __pycache__\r\n",
      "            │       │   ├── contrib\r\n",
      "            │       │   │   ├── __pycache__\r\n",
      "            │       │   │   └── _securetransport\r\n",
      "            │       │   │       └── __pycache__\r\n",
      "            │       │   ├── packages\r\n",
      "            │       │   │   ├── __pycache__\r\n",
      "            │       │   │   ├── backports\r\n",
      "            │       │   │   │   └── __pycache__\r\n",
      "            │       │   │   └── ssl_match_hostname\r\n",
      "            │       │   │       └── __pycache__\r\n",
      "            │       │   └── util\r\n",
      "            │       │       └── __pycache__\r\n",
      "            │       └── webencodings\r\n",
      "            │           └── __pycache__\r\n",
      "            ├── pip-18.1.dist-info\r\n",
      "            ├── pkg_resources\r\n",
      "            │   ├── __pycache__\r\n",
      "            │   ├── _vendor\r\n",
      "            │   │   ├── __pycache__\r\n",
      "            │   │   └── packaging\r\n",
      "            │   │       └── __pycache__\r\n",
      "            │   └── extern\r\n",
      "            │       └── __pycache__\r\n",
      "            ├── setuptools\r\n",
      "            │   ├── __pycache__\r\n",
      "            │   ├── _vendor\r\n",
      "            │   │   ├── __pycache__\r\n",
      "            │   │   └── packaging\r\n",
      "            │   │       └── __pycache__\r\n",
      "            │   ├── command\r\n",
      "            │   │   └── __pycache__\r\n",
      "            │   └── extern\r\n",
      "            │       └── __pycache__\r\n",
      "            └── setuptools-40.6.2.dist-info\r\n",
      "\r\n",
      "108 directories\r\n"
     ]
    }
   ],
   "source": [
    "!tree -d data/env-folder"
   ]
  },
  {
   "cell_type": "code",
   "execution_count": 4,
   "metadata": {},
   "outputs": [
    {
     "name": "stdout",
     "output_type": "stream",
     "text": [
      "activate          \u001b[31measy_install\u001b[m\u001b[m*     \u001b[31mpip3\u001b[m\u001b[m*             \u001b[35mpython3\u001b[m\u001b[m@\r\n",
      "activate.csh      \u001b[31measy_install-3.7\u001b[m\u001b[m* \u001b[31mpip3.7\u001b[m\u001b[m*\r\n",
      "activate.fish     \u001b[31mpip\u001b[m\u001b[m*              \u001b[35mpython\u001b[m\u001b[m@\r\n"
     ]
    }
   ],
   "source": [
    "ls data/env-folder/bin"
   ]
  },
  {
   "cell_type": "markdown",
   "metadata": {},
   "source": [
    "### (windows note)\n",
    "\n",
    "If you are using Windows, there should be a `Scripts` folder under the environment folder instead of `bin`, and it should contain an `activate.bat` file."
   ]
  },
  {
   "cell_type": "markdown",
   "metadata": {},
   "source": [
    "You can invoke the Python in your new virtualenv by specifying the full path:"
   ]
  },
  {
   "cell_type": "code",
   "execution_count": 5,
   "metadata": {},
   "outputs": [
    {
     "name": "stdout",
     "output_type": "stream",
     "text": [
      "Python 3.7.2\r\n"
     ]
    }
   ],
   "source": [
    "!data/env-folder/bin/python --version"
   ]
  },
  {
   "cell_type": "code",
   "execution_count": 6,
   "metadata": {},
   "outputs": [
    {
     "name": "stdout",
     "output_type": "stream",
     "text": [
      "/Users/rick446/src/arborian-classes/data/env-folder/bin/python\r\n"
     ]
    }
   ],
   "source": [
    "!data/env-folder/bin/python -c 'import sys; print(sys.executable)'"
   ]
  },
  {
   "cell_type": "markdown",
   "metadata": {},
   "source": [
    "## Activating virtual environments\n",
    "\n",
    "More commonly, we will *activate* the virtualenv for our current shell by `source`-ing the `activate` script\n",
    "\n",
    "### Linux\n",
    "\n",
    "```shell\n",
    "$ source env-folder/bin/activate\n",
    "(env-folder) $\n",
    "```\n",
    "\n",
    "or\n",
    "\n",
    "```shell\n",
    "$ . env-folder/bin/activate\n",
    "(env-folder) $\n",
    "```\n",
    "\n",
    "### Windows\n",
    "\n",
    "```shell\n",
    "c:\\...> env-folder\\Scripts\\activate.bat\n",
    "(env-folder) c:\\...>\n",
    "```\n",
    "\n",
    "Activating the virtualenv does a few things to your *current shell/terminal window only*:\n",
    "\n",
    "- Puts the virtualenv's executable folder (`bin` or `Scripts`) at the beginning of your path so the virtualenv python will be picked up automatically\n",
    "- Changes your prompt so you see that you are in the virtualenv\n",
    "- Makes a `deactivate` command available to undo the changes"
   ]
  },
  {
   "cell_type": "markdown",
   "metadata": {},
   "source": [
    "## Deactivating virtual environments\n",
    "\n",
    "### Linux\n",
    "\n",
    "```shell\n",
    "(env-folder) $ deactivate\n",
    "$\n",
    "```\n",
    "\n",
    "### Windows\n",
    "\n",
    "```shell\n",
    "(env-folder) c:\\...> deactivate\n",
    "c:\\...> \n",
    "```\n"
   ]
  },
  {
   "cell_type": "code",
   "execution_count": 7,
   "metadata": {},
   "outputs": [
    {
     "name": "stdout",
     "output_type": "stream",
     "text": [
      "/Users/rick446/src/arborian-classes/src/data/env-folder/bin/python\n",
      "My prompt is now (env-folder)\n",
      "/Users/rick446/src/arborian-classes/data/env-folder/bin/python\n",
      "/Users/rick446/.virtualenvs/productionalizing-notebooks/bin/python\n",
      "/Users/rick446/.virtualenvs/productionalizing-notebooks/bin/python\n"
     ]
    }
   ],
   "source": [
    "%%bash\n",
    "source data/env-folder/bin/activate\n",
    "which python\n",
    "echo My prompt is now $PS1\n",
    "python -c 'import sys; print(sys.executable)'\n",
    "deactivate\n",
    "which python\n",
    "python -c 'import sys; print(sys.executable)'"
   ]
  },
  {
   "cell_type": "markdown",
   "metadata": {},
   "source": [
    "# Installing packages in virtual environments\n",
    "\n",
    "When the virtual environment is activated, or when you invoke the version of Python in the virtualenv, you can install third-party packages into the virtualenv without modifying your system Python:"
   ]
  },
  {
   "cell_type": "code",
   "execution_count": 8,
   "metadata": {},
   "outputs": [
    {
     "name": "stdout",
     "output_type": "stream",
     "text": [
      "/Users/rick446/src/arborian-classes/src/data/env-folder/bin/python\n",
      "Collecting pip\n",
      "  Using cached https://files.pythonhosted.org/packages/d7/41/34dd96bd33958e52cb4da2f1bf0818e396514fd4f4725a79199564cd0c20/pip-19.0.2-py2.py3-none-any.whl\n",
      "Installing collected packages: pip\n",
      "  Found existing installation: pip 18.1\n",
      "    Uninstalling pip-18.1:\n",
      "      Successfully uninstalled pip-18.1\n",
      "Successfully installed pip-19.0.2\n",
      "Collecting numpy\n",
      "  Using cached https://files.pythonhosted.org/packages/46/e4/4a0cc770e4bfb34b4e10843805fef67b9a94027e59162a586c776f35c5bb/numpy-1.16.1-cp37-cp37m-macosx_10_6_intel.macosx_10_9_intel.macosx_10_9_x86_64.macosx_10_10_intel.macosx_10_10_x86_64.whl\n",
      "Installing collected packages: numpy\n",
      "Successfully installed numpy-1.16.1\n",
      "<module 'numpy' from '/Users/rick446/src/arborian-classes/data/env-folder/lib/python3.7/site-packages/numpy/__init__.py'>\n"
     ]
    }
   ],
   "source": [
    "%%bash\n",
    "set -e\n",
    "source data/env-folder/bin/activate\n",
    "which python\n",
    "python -m pip install -U pip\n",
    "python -m pip install numpy\n",
    "python -c 'import numpy; print(numpy)'"
   ]
  },
  {
   "cell_type": "markdown",
   "metadata": {},
   "source": [
    "# Using requirements.txt for reproducibility\n",
    "\n",
    "Once you have your app in your virtualenv running, you may need to reproduce the virtualenv on another machine. \n",
    "`pip` has a command `freeze` which outputs the exact versions of all packages installed in a virtualenv:"
   ]
  },
  {
   "cell_type": "code",
   "execution_count": 9,
   "metadata": {},
   "outputs": [
    {
     "name": "stdout",
     "output_type": "stream",
     "text": [
      "numpy==1.16.1\n"
     ]
    }
   ],
   "source": [
    "%%bash\n",
    "set -e\n",
    "source data/env-folder/bin/activate\n",
    "pip freeze"
   ]
  },
  {
   "cell_type": "markdown",
   "metadata": {},
   "source": [
    "Normally, we'll put this into a file `requirements.txt` that we check into source control and distribute with our project:"
   ]
  },
  {
   "cell_type": "code",
   "execution_count": 10,
   "metadata": {},
   "outputs": [],
   "source": [
    "%%bash\n",
    "set -e\n",
    "source data/env-folder/bin/activate\n",
    "pip freeze > data/requirements.txt"
   ]
  },
  {
   "cell_type": "markdown",
   "metadata": {},
   "source": [
    "Once we have the requirements.txt file, we can create a new virtualenv and install all the same versions of packages into it:"
   ]
  },
  {
   "cell_type": "code",
   "execution_count": 11,
   "metadata": {},
   "outputs": [
    {
     "name": "stdout",
     "output_type": "stream",
     "text": [
      "Collecting numpy==1.16.1 (from -r data/requirements.txt (line 1))\n",
      "  Using cached https://files.pythonhosted.org/packages/46/e4/4a0cc770e4bfb34b4e10843805fef67b9a94027e59162a586c776f35c5bb/numpy-1.16.1-cp37-cp37m-macosx_10_6_intel.macosx_10_9_intel.macosx_10_9_x86_64.macosx_10_10_intel.macosx_10_10_x86_64.whl\n",
      "Installing collected packages: numpy\n",
      "Successfully installed numpy-1.16.1\n"
     ]
    },
    {
     "name": "stderr",
     "output_type": "stream",
     "text": [
      "You are using pip version 18.1, however version 19.0.2 is available.\n",
      "You should consider upgrading via the 'pip install --upgrade pip' command.\n"
     ]
    }
   ],
   "source": [
    "%%bash\n",
    "set -e\n",
    "python -m venv data/env-folder-2\n",
    "source data/env-folder-2/bin/activate\n",
    "pip install -r data/requirements.txt"
   ]
  },
  {
   "cell_type": "markdown",
   "metadata": {},
   "source": [
    "# Using wheels for faster installations\n",
    "\n",
    "While `pip` tries to cache as much data as possible, we can do even better by using \"wheels.\" \n",
    "\n",
    "Wheels are Python packages that have been compiled (if necessary) for a particular target architecture and are thus much faster to install. \n",
    "\n",
    "If you're moving to a new machine (for instance, when deploying to production) it can also be useful to have the wheels cached locally so `pip` doesn't try to download the packages from the Python Package Index."
   ]
  },
  {
   "cell_type": "code",
   "execution_count": 12,
   "metadata": {},
   "outputs": [
    {
     "name": "stdout",
     "output_type": "stream",
     "text": [
      "Collecting scipy\n",
      "  Using cached https://files.pythonhosted.org/packages/dd/6c/ccf7403d14f0ab0f20ce611696921f204f4ffce99a4fd383c892a6a7e9eb/scipy-1.2.1-cp37-cp37m-macosx_10_6_intel.macosx_10_9_intel.macosx_10_9_x86_64.macosx_10_10_intel.macosx_10_10_x86_64.whl\n",
      "Collecting sklearn\n",
      "Collecting jupyter\n",
      "  Using cached https://files.pythonhosted.org/packages/83/df/0f5dd132200728a86190397e1ea87cd76244e42d39ec5e88efd25b2abd7e/jupyter-1.0.0-py2.py3-none-any.whl\n",
      "Collecting simplejson\n",
      "Collecting pymongo\n",
      "  Using cached https://files.pythonhosted.org/packages/d7/ac/d2e324c1f9bcf653fa106785371a16b4709506a35b04948655de8b961a85/pymongo-3.7.2-cp37-cp37m-macosx_10_9_x86_64.whl\n",
      "Collecting boto3\n",
      "  Using cached https://files.pythonhosted.org/packages/95/bd/8dc8a8484c49a4c75f3ae0b67e503397e8b932cc3278bd8fa1584aa568b2/boto3-1.9.94-py2.py3-none-any.whl\n",
      "Collecting wheel\n",
      "  Using cached https://files.pythonhosted.org/packages/7c/d7/20bd3c501f53fdb0b7387e75c03bd1fce748a1c3dd342fc53744e28e3de1/wheel-0.33.0-py2.py3-none-any.whl\n",
      "Requirement already satisfied: numpy>=1.8.2 in /Users/rick446/src/arborian-classes/data/env-folder/lib/python3.7/site-packages (from scipy) (1.16.1)\n",
      "Collecting scikit-learn (from sklearn)\n",
      "  Using cached https://files.pythonhosted.org/packages/11/0f/e2279fee7f9834c63b24fe64515412fd21dd81e82adcf6c79dcc93bb8e6a/scikit_learn-0.20.2-cp37-cp37m-macosx_10_6_intel.macosx_10_9_intel.macosx_10_9_x86_64.macosx_10_10_intel.macosx_10_10_x86_64.whl\n",
      "Collecting notebook (from jupyter)\n",
      "  Using cached https://files.pythonhosted.org/packages/f8/a6/dbdf0954d073ab2cf5421cad20334d1e4c780da37205c04522c045298f67/notebook-5.7.4-py2.py3-none-any.whl\n",
      "Collecting jupyter-console (from jupyter)\n",
      "  Using cached https://files.pythonhosted.org/packages/cb/ee/6374ae8c21b7d0847f9c3722dcdfac986b8e54fa9ad9ea66e1eb6320d2b8/jupyter_console-6.0.0-py2.py3-none-any.whl\n",
      "Collecting nbconvert (from jupyter)\n",
      "  Using cached https://files.pythonhosted.org/packages/b8/39/1e67fea74dc9577cc49f9863fe3ec824e525d1304ab6027d95a94cd586f5/nbconvert-5.4.1-py2.py3-none-any.whl\n",
      "Collecting qtconsole (from jupyter)\n",
      "  Using cached https://files.pythonhosted.org/packages/e0/7a/8aefbc0ed078dec7951ac9a06dcd1869243ecd7bcbce26fa47bf5e469a8f/qtconsole-4.4.3-py2.py3-none-any.whl\n",
      "Collecting ipywidgets (from jupyter)\n",
      "  Using cached https://files.pythonhosted.org/packages/30/9a/a008c7b1183fac9e52066d80a379b3c64eab535bd9d86cdc29a0b766fd82/ipywidgets-7.4.2-py2.py3-none-any.whl\n",
      "Collecting ipykernel (from jupyter)\n",
      "  Using cached https://files.pythonhosted.org/packages/d8/b0/f0be5c5ab335196f5cce96e5b889a4fcf5bfe462eb0acc05cd7e2caf65eb/ipykernel-5.1.0-py3-none-any.whl\n",
      "Collecting botocore<1.13.0,>=1.12.94 (from boto3)\n",
      "  Using cached https://files.pythonhosted.org/packages/79/83/de317aa925d335f5b88447b292e38e7252ada58e4825cf1bdfb75c0706aa/botocore-1.12.94-py2.py3-none-any.whl\n",
      "Collecting jmespath<1.0.0,>=0.7.1 (from boto3)\n",
      "  Using cached https://files.pythonhosted.org/packages/b7/31/05c8d001f7f87f0f07289a5fc0fc3832e9a57f2dbd4d3b0fee70e0d51365/jmespath-0.9.3-py2.py3-none-any.whl\n",
      "Collecting s3transfer<0.3.0,>=0.2.0 (from boto3)\n",
      "  Using cached https://files.pythonhosted.org/packages/d7/de/5737f602e22073ecbded7a0c590707085e154e32b68d86545dcc31004c02/s3transfer-0.2.0-py2.py3-none-any.whl\n",
      "Collecting pyzmq>=17 (from notebook->jupyter)\n",
      "  Using cached https://files.pythonhosted.org/packages/bd/ce/d068e7494c29ddf0c6850186fc4a81ec180b4612a30ba187ceb3fd266179/pyzmq-17.1.2-cp37-cp37m-macosx_10_9_x86_64.whl\n",
      "Collecting ipython-genutils (from notebook->jupyter)\n",
      "  Using cached https://files.pythonhosted.org/packages/fa/bc/9bd3b5c2b4774d5f33b2d544f1460be9df7df2fe42f352135381c347c69a/ipython_genutils-0.2.0-py2.py3-none-any.whl\n",
      "Collecting Send2Trash (from notebook->jupyter)\n",
      "  Using cached https://files.pythonhosted.org/packages/49/46/c3dc27481d1cc57b9385aff41c474ceb7714f7935b1247194adae45db714/Send2Trash-1.5.0-py3-none-any.whl\n",
      "Collecting jinja2 (from notebook->jupyter)\n",
      "  Using cached https://files.pythonhosted.org/packages/7f/ff/ae64bacdfc95f27a016a7bed8e8686763ba4d277a78ca76f32659220a731/Jinja2-2.10-py2.py3-none-any.whl\n",
      "Collecting traitlets>=4.2.1 (from notebook->jupyter)\n",
      "  Using cached https://files.pythonhosted.org/packages/93/d6/abcb22de61d78e2fc3959c964628a5771e47e7cc60d53e9342e21ed6cc9a/traitlets-4.3.2-py2.py3-none-any.whl\n",
      "Collecting prometheus-client (from notebook->jupyter)\n",
      "Collecting terminado>=0.8.1 (from notebook->jupyter)\n",
      "  Using cached https://files.pythonhosted.org/packages/2e/20/a26211a24425923d46e1213b376a6ee60dc30bcdf1b0c345e2c3769deb1c/terminado-0.8.1-py2.py3-none-any.whl\n",
      "Collecting tornado>=4 (from notebook->jupyter)\n",
      "Collecting nbformat (from notebook->jupyter)\n",
      "  Using cached https://files.pythonhosted.org/packages/da/27/9a654d2b6cc1eaa517d1c5a4405166c7f6d72f04f6e7eea41855fe808a46/nbformat-4.4.0-py2.py3-none-any.whl\n",
      "Collecting jupyter-core>=4.4.0 (from notebook->jupyter)\n",
      "  Using cached https://files.pythonhosted.org/packages/1d/44/065d2d7bae7bebc06f1dd70d23c36da8c50c0f08b4236716743d706762a8/jupyter_core-4.4.0-py2.py3-none-any.whl\n",
      "Collecting jupyter-client>=5.2.0 (from notebook->jupyter)\n",
      "  Using cached https://files.pythonhosted.org/packages/3b/c3/3043fe9ffd140d03c9d091a056794ccdc427c56ec19b8eea74f9ea0a498f/jupyter_client-5.2.4-py2.py3-none-any.whl\n",
      "Collecting prompt-toolkit<2.1.0,>=2.0.0 (from jupyter-console->jupyter)\n",
      "  Using cached https://files.pythonhosted.org/packages/65/c2/e676da701cda11b32ff42eceb44aa7d8934b597d604bb5e94c0283def064/prompt_toolkit-2.0.8-py3-none-any.whl\n",
      "Collecting pygments (from jupyter-console->jupyter)\n",
      "  Using cached https://files.pythonhosted.org/packages/13/e5/6d710c9cf96c31ac82657bcfb441df328b22df8564d58d0c4cd62612674c/Pygments-2.3.1-py2.py3-none-any.whl\n",
      "Collecting ipython (from jupyter-console->jupyter)\n",
      "  Using cached https://files.pythonhosted.org/packages/f0/b4/a9ea018c73a84ee6280b2e94a1a6af8d63e45903eac2da0640fa63bca4db/ipython-7.2.0-py3-none-any.whl\n",
      "Collecting defusedxml (from nbconvert->jupyter)\n",
      "  Using cached https://files.pythonhosted.org/packages/87/1c/17f3e3935a913dfe2a5ca85fa5ccbef366bfd82eb318b1f75dadbf0affca/defusedxml-0.5.0-py2.py3-none-any.whl\n",
      "Collecting bleach (from nbconvert->jupyter)\n",
      "  Using cached https://files.pythonhosted.org/packages/ab/05/27e1466475e816d3001efb6e0a85a819be17411420494a1e602c36f8299d/bleach-3.1.0-py2.py3-none-any.whl\n",
      "Collecting entrypoints>=0.2.2 (from nbconvert->jupyter)\n",
      "  Using cached https://files.pythonhosted.org/packages/ac/c6/44694103f8c221443ee6b0041f69e2740d89a25641e62fb4f2ee568f2f9c/entrypoints-0.3-py2.py3-none-any.whl\n",
      "Collecting testpath (from nbconvert->jupyter)\n",
      "  Using cached https://files.pythonhosted.org/packages/be/a4/162f9ebb6489421fe46dcca2ae420369edfee4b563c668d93cb4605d12ba/testpath-0.4.2-py2.py3-none-any.whl\n",
      "Collecting pandocfilters>=1.4.1 (from nbconvert->jupyter)\n",
      "Collecting mistune>=0.8.1 (from nbconvert->jupyter)\n",
      "  Using cached https://files.pythonhosted.org/packages/09/ec/4b43dae793655b7d8a25f76119624350b4d65eb663459eb9603d7f1f0345/mistune-0.8.4-py2.py3-none-any.whl\n",
      "Collecting widgetsnbextension~=3.4.0 (from ipywidgets->jupyter)\n",
      "  Using cached https://files.pythonhosted.org/packages/8a/81/35789a3952afb48238289171728072d26d6e76649ddc8b3588657a2d78c1/widgetsnbextension-3.4.2-py2.py3-none-any.whl\n",
      "Collecting docutils>=0.10 (from botocore<1.13.0,>=1.12.94->boto3)\n",
      "  Using cached https://files.pythonhosted.org/packages/36/fa/08e9e6e0e3cbd1d362c3bbee8d01d0aedb2155c4ac112b19ef3cae8eed8d/docutils-0.14-py3-none-any.whl\n",
      "Collecting python-dateutil<3.0.0,>=2.1; python_version >= \"2.7\" (from botocore<1.13.0,>=1.12.94->boto3)\n",
      "  Using cached https://files.pythonhosted.org/packages/41/17/c62faccbfbd163c7f57f3844689e3a78bae1f403648a6afb1d0866d87fbb/python_dateutil-2.8.0-py2.py3-none-any.whl\n",
      "Collecting urllib3<1.25,>=1.20; python_version >= \"3.4\" (from botocore<1.13.0,>=1.12.94->boto3)\n",
      "  Using cached https://files.pythonhosted.org/packages/62/00/ee1d7de624db8ba7090d1226aebefab96a2c71cd5cfa7629d6ad3f61b79e/urllib3-1.24.1-py2.py3-none-any.whl\n",
      "Collecting MarkupSafe>=0.23 (from jinja2->notebook->jupyter)\n",
      "  Using cached https://files.pythonhosted.org/packages/96/52/eef455862764cb6d6c136aa52c7f9fc4e7c1c644790a7107b1244a2b8a53/MarkupSafe-1.1.0-cp37-cp37m-macosx_10_6_intel.whl\n",
      "Collecting six (from traitlets>=4.2.1->notebook->jupyter)\n",
      "  Using cached https://files.pythonhosted.org/packages/73/fb/00a976f728d0d1fecfe898238ce23f502a721c0ac0ecfedb80e0d88c64e9/six-1.12.0-py2.py3-none-any.whl\n",
      "Collecting decorator (from traitlets>=4.2.1->notebook->jupyter)\n",
      "  Using cached https://files.pythonhosted.org/packages/f1/cd/7c8240007e9716b14679bc217a1baefa4432aa30394f7e2ec40a52b1a708/decorator-4.3.2-py2.py3-none-any.whl\n",
      "Collecting ptyprocess; os_name != \"nt\" (from terminado>=0.8.1->notebook->jupyter)\n",
      "  Using cached https://files.pythonhosted.org/packages/d1/29/605c2cc68a9992d18dada28206eeada56ea4bd07a239669da41674648b6f/ptyprocess-0.6.0-py2.py3-none-any.whl\n",
      "Collecting jsonschema!=2.5.0,>=2.4 (from nbformat->notebook->jupyter)\n",
      "  Using cached https://files.pythonhosted.org/packages/77/de/47e35a97b2b05c2fadbec67d44cfcdcd09b8086951b331d82de90d2912da/jsonschema-2.6.0-py2.py3-none-any.whl\n",
      "Collecting wcwidth (from prompt-toolkit<2.1.0,>=2.0.0->jupyter-console->jupyter)\n",
      "  Using cached https://files.pythonhosted.org/packages/7e/9f/526a6947247599b084ee5232e4f9190a38f398d7300d866af3ab571a5bfe/wcwidth-0.1.7-py2.py3-none-any.whl\n",
      "Collecting appnope; sys_platform == \"darwin\" (from ipython->jupyter-console->jupyter)\n",
      "  Using cached https://files.pythonhosted.org/packages/87/a9/7985e6a53402f294c8f0e8eff3151a83f1fb901fa92909bb3ff29b4d22af/appnope-0.1.0-py2.py3-none-any.whl\n",
      "Collecting pickleshare (from ipython->jupyter-console->jupyter)\n",
      "  Using cached https://files.pythonhosted.org/packages/9a/41/220f49aaea88bc6fa6cba8d05ecf24676326156c23b991e80b3f2fc24c77/pickleshare-0.7.5-py2.py3-none-any.whl\n",
      "Collecting backcall (from ipython->jupyter-console->jupyter)\n",
      "Collecting pexpect; sys_platform != \"win32\" (from ipython->jupyter-console->jupyter)\n",
      "  Using cached https://files.pythonhosted.org/packages/89/e6/b5a1de8b0cc4e07ca1b305a4fcc3f9806025c1b651ea302646341222f88b/pexpect-4.6.0-py2.py3-none-any.whl\n",
      "Collecting jedi>=0.10 (from ipython->jupyter-console->jupyter)\n",
      "  Using cached https://files.pythonhosted.org/packages/c2/bc/54d53f5bc4658380d0eca9055d72be4df45e5bfd91a4bac97da224a92553/jedi-0.13.2-py2.py3-none-any.whl\n",
      "Requirement already satisfied: setuptools>=18.5 in /Users/rick446/src/arborian-classes/data/env-folder/lib/python3.7/site-packages (from ipython->jupyter-console->jupyter) (40.6.2)\n",
      "Collecting webencodings (from bleach->nbconvert->jupyter)\n",
      "  Using cached https://files.pythonhosted.org/packages/f4/24/2a3e3df732393fed8b3ebf2ec078f05546de641fe1b667ee316ec1dcf3b7/webencodings-0.5.1-py2.py3-none-any.whl\n",
      "Collecting parso>=0.3.0 (from jedi>=0.10->ipython->jupyter-console->jupyter)\n",
      "  Using cached https://files.pythonhosted.org/packages/19/b1/522b2671cc6d134c9d3f5dfc0d02fee07cab848e908d03d2bffea78cca8f/parso-0.3.4-py2.py3-none-any.whl\n",
      "Installing collected packages: scipy, scikit-learn, sklearn, pyzmq, ipython-genutils, Send2Trash, MarkupSafe, jinja2, six, decorator, traitlets, jsonschema, jupyter-core, nbformat, defusedxml, webencodings, bleach, entrypoints, testpath, pandocfilters, pygments, mistune, nbconvert, prometheus-client, ptyprocess, tornado, terminado, python-dateutil, jupyter-client, appnope, pickleshare, backcall, pexpect, wcwidth, prompt-toolkit, parso, jedi, ipython, ipykernel, notebook, jupyter-console, qtconsole, widgetsnbextension, ipywidgets, jupyter, simplejson, pymongo, docutils, jmespath, urllib3, botocore, s3transfer, boto3, wheel\n",
      "Successfully installed MarkupSafe-1.1.0 Send2Trash-1.5.0 appnope-0.1.0 backcall-0.1.0 bleach-3.1.0 boto3-1.9.94 botocore-1.12.94 decorator-4.3.2 defusedxml-0.5.0 docutils-0.14 entrypoints-0.3 ipykernel-5.1.0 ipython-7.2.0 ipython-genutils-0.2.0 ipywidgets-7.4.2 jedi-0.13.2 jinja2-2.10 jmespath-0.9.3 jsonschema-2.6.0 jupyter-1.0.0 jupyter-client-5.2.4 jupyter-console-6.0.0 jupyter-core-4.4.0 mistune-0.8.4 nbconvert-5.4.1 nbformat-4.4.0 notebook-5.7.4 pandocfilters-1.4.2 parso-0.3.4 pexpect-4.6.0 pickleshare-0.7.5 prometheus-client-0.5.0 prompt-toolkit-2.0.8 ptyprocess-0.6.0 pygments-2.3.1 pymongo-3.7.2 python-dateutil-2.8.0 pyzmq-17.1.2 qtconsole-4.4.3 s3transfer-0.2.0 scikit-learn-0.20.2 scipy-1.2.1 simplejson-3.16.0 six-1.12.0 sklearn-0.0 terminado-0.8.1 testpath-0.4.2 tornado-5.1.1 traitlets-4.3.2 urllib3-1.24.1 wcwidth-0.1.7 webencodings-0.5.1 wheel-0.33.0 widgetsnbextension-3.4.2\n"
     ]
    }
   ],
   "source": [
    "%%bash\n",
    "set -e\n",
    "source data/env-folder/bin/activate\n",
    "pip install scipy sklearn jupyter simplejson pymongo boto3 wheel\n",
    "pip freeze > data/requirements.txt"
   ]
  },
  {
   "cell_type": "code",
   "execution_count": 13,
   "metadata": {},
   "outputs": [
    {
     "name": "stdout",
     "output_type": "stream",
     "text": [
      "Collecting appnope==0.1.0 (from -r data/requirements.txt (line 1))\n",
      "  Using cached https://files.pythonhosted.org/packages/87/a9/7985e6a53402f294c8f0e8eff3151a83f1fb901fa92909bb3ff29b4d22af/appnope-0.1.0-py2.py3-none-any.whl\n",
      "  Saved /Users/rick446/src/arborian-classes/data/wheelhouse/appnope-0.1.0-py2.py3-none-any.whl\n",
      "Collecting backcall==0.1.0 (from -r data/requirements.txt (line 2))\n",
      "  Saved /Users/rick446/src/arborian-classes/data/wheelhouse/backcall-0.1.0-cp37-none-any.whl\n",
      "Collecting bleach==3.1.0 (from -r data/requirements.txt (line 3))\n",
      "  Using cached https://files.pythonhosted.org/packages/ab/05/27e1466475e816d3001efb6e0a85a819be17411420494a1e602c36f8299d/bleach-3.1.0-py2.py3-none-any.whl\n",
      "  Saved /Users/rick446/src/arborian-classes/data/wheelhouse/bleach-3.1.0-py2.py3-none-any.whl\n",
      "Collecting boto3==1.9.94 (from -r data/requirements.txt (line 4))\n",
      "  Using cached https://files.pythonhosted.org/packages/95/bd/8dc8a8484c49a4c75f3ae0b67e503397e8b932cc3278bd8fa1584aa568b2/boto3-1.9.94-py2.py3-none-any.whl\n",
      "  Saved /Users/rick446/src/arborian-classes/data/wheelhouse/boto3-1.9.94-py2.py3-none-any.whl\n",
      "Collecting botocore==1.12.94 (from -r data/requirements.txt (line 5))\n",
      "  Using cached https://files.pythonhosted.org/packages/79/83/de317aa925d335f5b88447b292e38e7252ada58e4825cf1bdfb75c0706aa/botocore-1.12.94-py2.py3-none-any.whl\n",
      "  Saved /Users/rick446/src/arborian-classes/data/wheelhouse/botocore-1.12.94-py2.py3-none-any.whl\n",
      "Collecting decorator==4.3.2 (from -r data/requirements.txt (line 6))\n",
      "  Using cached https://files.pythonhosted.org/packages/f1/cd/7c8240007e9716b14679bc217a1baefa4432aa30394f7e2ec40a52b1a708/decorator-4.3.2-py2.py3-none-any.whl\n",
      "  Saved /Users/rick446/src/arborian-classes/data/wheelhouse/decorator-4.3.2-py2.py3-none-any.whl\n",
      "Collecting defusedxml==0.5.0 (from -r data/requirements.txt (line 7))\n",
      "  Using cached https://files.pythonhosted.org/packages/87/1c/17f3e3935a913dfe2a5ca85fa5ccbef366bfd82eb318b1f75dadbf0affca/defusedxml-0.5.0-py2.py3-none-any.whl\n",
      "  Saved /Users/rick446/src/arborian-classes/data/wheelhouse/defusedxml-0.5.0-py2.py3-none-any.whl\n",
      "Collecting docutils==0.14 (from -r data/requirements.txt (line 8))\n",
      "  Using cached https://files.pythonhosted.org/packages/36/fa/08e9e6e0e3cbd1d362c3bbee8d01d0aedb2155c4ac112b19ef3cae8eed8d/docutils-0.14-py3-none-any.whl\n",
      "  Saved /Users/rick446/src/arborian-classes/data/wheelhouse/docutils-0.14-py3-none-any.whl\n",
      "Collecting entrypoints==0.3 (from -r data/requirements.txt (line 9))\n",
      "  Using cached https://files.pythonhosted.org/packages/ac/c6/44694103f8c221443ee6b0041f69e2740d89a25641e62fb4f2ee568f2f9c/entrypoints-0.3-py2.py3-none-any.whl\n",
      "  Saved /Users/rick446/src/arborian-classes/data/wheelhouse/entrypoints-0.3-py2.py3-none-any.whl\n",
      "Collecting ipykernel==5.1.0 (from -r data/requirements.txt (line 10))\n",
      "  Using cached https://files.pythonhosted.org/packages/d8/b0/f0be5c5ab335196f5cce96e5b889a4fcf5bfe462eb0acc05cd7e2caf65eb/ipykernel-5.1.0-py3-none-any.whl\n",
      "  Saved /Users/rick446/src/arborian-classes/data/wheelhouse/ipykernel-5.1.0-py3-none-any.whl\n",
      "Collecting ipython==7.2.0 (from -r data/requirements.txt (line 11))\n",
      "  Using cached https://files.pythonhosted.org/packages/f0/b4/a9ea018c73a84ee6280b2e94a1a6af8d63e45903eac2da0640fa63bca4db/ipython-7.2.0-py3-none-any.whl\n",
      "  Saved /Users/rick446/src/arborian-classes/data/wheelhouse/ipython-7.2.0-py3-none-any.whl\n",
      "Collecting ipython-genutils==0.2.0 (from -r data/requirements.txt (line 12))\n",
      "  Using cached https://files.pythonhosted.org/packages/fa/bc/9bd3b5c2b4774d5f33b2d544f1460be9df7df2fe42f352135381c347c69a/ipython_genutils-0.2.0-py2.py3-none-any.whl\n",
      "  Saved /Users/rick446/src/arborian-classes/data/wheelhouse/ipython_genutils-0.2.0-py2.py3-none-any.whl\n",
      "Collecting ipywidgets==7.4.2 (from -r data/requirements.txt (line 13))\n",
      "  Using cached https://files.pythonhosted.org/packages/30/9a/a008c7b1183fac9e52066d80a379b3c64eab535bd9d86cdc29a0b766fd82/ipywidgets-7.4.2-py2.py3-none-any.whl\n",
      "  Saved /Users/rick446/src/arborian-classes/data/wheelhouse/ipywidgets-7.4.2-py2.py3-none-any.whl\n",
      "Collecting jedi==0.13.2 (from -r data/requirements.txt (line 14))\n",
      "  Using cached https://files.pythonhosted.org/packages/c2/bc/54d53f5bc4658380d0eca9055d72be4df45e5bfd91a4bac97da224a92553/jedi-0.13.2-py2.py3-none-any.whl\n",
      "  Saved /Users/rick446/src/arborian-classes/data/wheelhouse/jedi-0.13.2-py2.py3-none-any.whl\n",
      "Collecting Jinja2==2.10 (from -r data/requirements.txt (line 15))\n",
      "  Using cached https://files.pythonhosted.org/packages/7f/ff/ae64bacdfc95f27a016a7bed8e8686763ba4d277a78ca76f32659220a731/Jinja2-2.10-py2.py3-none-any.whl\n",
      "  Saved /Users/rick446/src/arborian-classes/data/wheelhouse/Jinja2-2.10-py2.py3-none-any.whl\n",
      "Collecting jmespath==0.9.3 (from -r data/requirements.txt (line 16))\n",
      "  Using cached https://files.pythonhosted.org/packages/b7/31/05c8d001f7f87f0f07289a5fc0fc3832e9a57f2dbd4d3b0fee70e0d51365/jmespath-0.9.3-py2.py3-none-any.whl\n",
      "  Saved /Users/rick446/src/arborian-classes/data/wheelhouse/jmespath-0.9.3-py2.py3-none-any.whl\n",
      "Collecting jsonschema==2.6.0 (from -r data/requirements.txt (line 17))\n",
      "  Using cached https://files.pythonhosted.org/packages/77/de/47e35a97b2b05c2fadbec67d44cfcdcd09b8086951b331d82de90d2912da/jsonschema-2.6.0-py2.py3-none-any.whl\n",
      "  Saved /Users/rick446/src/arborian-classes/data/wheelhouse/jsonschema-2.6.0-py2.py3-none-any.whl\n",
      "Collecting jupyter==1.0.0 (from -r data/requirements.txt (line 18))\n",
      "  Using cached https://files.pythonhosted.org/packages/83/df/0f5dd132200728a86190397e1ea87cd76244e42d39ec5e88efd25b2abd7e/jupyter-1.0.0-py2.py3-none-any.whl\n",
      "  Saved /Users/rick446/src/arborian-classes/data/wheelhouse/jupyter-1.0.0-py2.py3-none-any.whl\n",
      "Collecting jupyter-client==5.2.4 (from -r data/requirements.txt (line 19))\n",
      "  Using cached https://files.pythonhosted.org/packages/3b/c3/3043fe9ffd140d03c9d091a056794ccdc427c56ec19b8eea74f9ea0a498f/jupyter_client-5.2.4-py2.py3-none-any.whl\n",
      "  Saved /Users/rick446/src/arborian-classes/data/wheelhouse/jupyter_client-5.2.4-py2.py3-none-any.whl\n",
      "Collecting jupyter-console==6.0.0 (from -r data/requirements.txt (line 20))\n",
      "  Using cached https://files.pythonhosted.org/packages/cb/ee/6374ae8c21b7d0847f9c3722dcdfac986b8e54fa9ad9ea66e1eb6320d2b8/jupyter_console-6.0.0-py2.py3-none-any.whl\n",
      "  Saved /Users/rick446/src/arborian-classes/data/wheelhouse/jupyter_console-6.0.0-py2.py3-none-any.whl\n",
      "Collecting jupyter-core==4.4.0 (from -r data/requirements.txt (line 21))\n",
      "  Using cached https://files.pythonhosted.org/packages/1d/44/065d2d7bae7bebc06f1dd70d23c36da8c50c0f08b4236716743d706762a8/jupyter_core-4.4.0-py2.py3-none-any.whl\n",
      "  Saved /Users/rick446/src/arborian-classes/data/wheelhouse/jupyter_core-4.4.0-py2.py3-none-any.whl\n",
      "Collecting MarkupSafe==1.1.0 (from -r data/requirements.txt (line 22))\n",
      "  Using cached https://files.pythonhosted.org/packages/96/52/eef455862764cb6d6c136aa52c7f9fc4e7c1c644790a7107b1244a2b8a53/MarkupSafe-1.1.0-cp37-cp37m-macosx_10_6_intel.whl\n",
      "  Saved /Users/rick446/src/arborian-classes/data/wheelhouse/MarkupSafe-1.1.0-cp37-cp37m-macosx_10_6_intel.whl\n",
      "Collecting mistune==0.8.4 (from -r data/requirements.txt (line 23))\n",
      "  Using cached https://files.pythonhosted.org/packages/09/ec/4b43dae793655b7d8a25f76119624350b4d65eb663459eb9603d7f1f0345/mistune-0.8.4-py2.py3-none-any.whl\n",
      "  Saved /Users/rick446/src/arborian-classes/data/wheelhouse/mistune-0.8.4-py2.py3-none-any.whl\n",
      "Collecting nbconvert==5.4.1 (from -r data/requirements.txt (line 24))\n",
      "  Using cached https://files.pythonhosted.org/packages/b8/39/1e67fea74dc9577cc49f9863fe3ec824e525d1304ab6027d95a94cd586f5/nbconvert-5.4.1-py2.py3-none-any.whl\n",
      "  Saved /Users/rick446/src/arborian-classes/data/wheelhouse/nbconvert-5.4.1-py2.py3-none-any.whl\n",
      "Collecting nbformat==4.4.0 (from -r data/requirements.txt (line 25))\n",
      "  Using cached https://files.pythonhosted.org/packages/da/27/9a654d2b6cc1eaa517d1c5a4405166c7f6d72f04f6e7eea41855fe808a46/nbformat-4.4.0-py2.py3-none-any.whl\n",
      "  Saved /Users/rick446/src/arborian-classes/data/wheelhouse/nbformat-4.4.0-py2.py3-none-any.whl\n",
      "Collecting notebook==5.7.4 (from -r data/requirements.txt (line 26))\n",
      "  Using cached https://files.pythonhosted.org/packages/f8/a6/dbdf0954d073ab2cf5421cad20334d1e4c780da37205c04522c045298f67/notebook-5.7.4-py2.py3-none-any.whl\n",
      "  Saved /Users/rick446/src/arborian-classes/data/wheelhouse/notebook-5.7.4-py2.py3-none-any.whl\n",
      "Collecting numpy==1.16.1 (from -r data/requirements.txt (line 27))\n",
      "  Using cached https://files.pythonhosted.org/packages/46/e4/4a0cc770e4bfb34b4e10843805fef67b9a94027e59162a586c776f35c5bb/numpy-1.16.1-cp37-cp37m-macosx_10_6_intel.macosx_10_9_intel.macosx_10_9_x86_64.macosx_10_10_intel.macosx_10_10_x86_64.whl\n",
      "  Saved /Users/rick446/src/arborian-classes/data/wheelhouse/numpy-1.16.1-cp37-cp37m-macosx_10_6_intel.macosx_10_9_intel.macosx_10_9_x86_64.macosx_10_10_intel.macosx_10_10_x86_64.whl\n",
      "Collecting pandocfilters==1.4.2 (from -r data/requirements.txt (line 28))\n",
      "  Saved /Users/rick446/src/arborian-classes/data/wheelhouse/pandocfilters-1.4.2-cp37-none-any.whl\n",
      "Collecting parso==0.3.4 (from -r data/requirements.txt (line 29))\n",
      "  Using cached https://files.pythonhosted.org/packages/19/b1/522b2671cc6d134c9d3f5dfc0d02fee07cab848e908d03d2bffea78cca8f/parso-0.3.4-py2.py3-none-any.whl\n",
      "  Saved /Users/rick446/src/arborian-classes/data/wheelhouse/parso-0.3.4-py2.py3-none-any.whl\n",
      "Collecting pexpect==4.6.0 (from -r data/requirements.txt (line 30))\n",
      "  Using cached https://files.pythonhosted.org/packages/89/e6/b5a1de8b0cc4e07ca1b305a4fcc3f9806025c1b651ea302646341222f88b/pexpect-4.6.0-py2.py3-none-any.whl\n",
      "  Saved /Users/rick446/src/arborian-classes/data/wheelhouse/pexpect-4.6.0-py2.py3-none-any.whl\n",
      "Collecting pickleshare==0.7.5 (from -r data/requirements.txt (line 31))\n",
      "  Using cached https://files.pythonhosted.org/packages/9a/41/220f49aaea88bc6fa6cba8d05ecf24676326156c23b991e80b3f2fc24c77/pickleshare-0.7.5-py2.py3-none-any.whl\n",
      "  Saved /Users/rick446/src/arborian-classes/data/wheelhouse/pickleshare-0.7.5-py2.py3-none-any.whl\n",
      "Collecting prometheus-client==0.5.0 (from -r data/requirements.txt (line 32))\n",
      "  Saved /Users/rick446/src/arborian-classes/data/wheelhouse/prometheus_client-0.5.0-cp37-none-any.whl\n",
      "Collecting prompt-toolkit==2.0.8 (from -r data/requirements.txt (line 33))\n",
      "  Using cached https://files.pythonhosted.org/packages/65/c2/e676da701cda11b32ff42eceb44aa7d8934b597d604bb5e94c0283def064/prompt_toolkit-2.0.8-py3-none-any.whl\n",
      "  Saved /Users/rick446/src/arborian-classes/data/wheelhouse/prompt_toolkit-2.0.8-py3-none-any.whl\n",
      "Collecting ptyprocess==0.6.0 (from -r data/requirements.txt (line 34))\n",
      "  Using cached https://files.pythonhosted.org/packages/d1/29/605c2cc68a9992d18dada28206eeada56ea4bd07a239669da41674648b6f/ptyprocess-0.6.0-py2.py3-none-any.whl\n",
      "  Saved /Users/rick446/src/arborian-classes/data/wheelhouse/ptyprocess-0.6.0-py2.py3-none-any.whl\n",
      "Collecting Pygments==2.3.1 (from -r data/requirements.txt (line 35))\n",
      "  Using cached https://files.pythonhosted.org/packages/13/e5/6d710c9cf96c31ac82657bcfb441df328b22df8564d58d0c4cd62612674c/Pygments-2.3.1-py2.py3-none-any.whl\n",
      "  Saved /Users/rick446/src/arborian-classes/data/wheelhouse/Pygments-2.3.1-py2.py3-none-any.whl\n",
      "Collecting pymongo==3.7.2 (from -r data/requirements.txt (line 36))\n",
      "  Using cached https://files.pythonhosted.org/packages/d7/ac/d2e324c1f9bcf653fa106785371a16b4709506a35b04948655de8b961a85/pymongo-3.7.2-cp37-cp37m-macosx_10_9_x86_64.whl\n",
      "  Saved /Users/rick446/src/arborian-classes/data/wheelhouse/pymongo-3.7.2-cp37-cp37m-macosx_10_9_x86_64.whl\n",
      "Collecting python-dateutil==2.8.0 (from -r data/requirements.txt (line 37))\n",
      "  Using cached https://files.pythonhosted.org/packages/41/17/c62faccbfbd163c7f57f3844689e3a78bae1f403648a6afb1d0866d87fbb/python_dateutil-2.8.0-py2.py3-none-any.whl\n",
      "  Saved /Users/rick446/src/arborian-classes/data/wheelhouse/python_dateutil-2.8.0-py2.py3-none-any.whl\n",
      "Collecting pyzmq==17.1.2 (from -r data/requirements.txt (line 38))\n",
      "  Using cached https://files.pythonhosted.org/packages/bd/ce/d068e7494c29ddf0c6850186fc4a81ec180b4612a30ba187ceb3fd266179/pyzmq-17.1.2-cp37-cp37m-macosx_10_9_x86_64.whl\n",
      "  Saved /Users/rick446/src/arborian-classes/data/wheelhouse/pyzmq-17.1.2-cp37-cp37m-macosx_10_9_x86_64.whl\n",
      "Collecting qtconsole==4.4.3 (from -r data/requirements.txt (line 39))\n",
      "  Using cached https://files.pythonhosted.org/packages/e0/7a/8aefbc0ed078dec7951ac9a06dcd1869243ecd7bcbce26fa47bf5e469a8f/qtconsole-4.4.3-py2.py3-none-any.whl\n",
      "  Saved /Users/rick446/src/arborian-classes/data/wheelhouse/qtconsole-4.4.3-py2.py3-none-any.whl\n",
      "Collecting s3transfer==0.2.0 (from -r data/requirements.txt (line 40))\n",
      "  Using cached https://files.pythonhosted.org/packages/d7/de/5737f602e22073ecbded7a0c590707085e154e32b68d86545dcc31004c02/s3transfer-0.2.0-py2.py3-none-any.whl\n",
      "  Saved /Users/rick446/src/arborian-classes/data/wheelhouse/s3transfer-0.2.0-py2.py3-none-any.whl\n",
      "Collecting scikit-learn==0.20.2 (from -r data/requirements.txt (line 41))\n",
      "  Using cached https://files.pythonhosted.org/packages/11/0f/e2279fee7f9834c63b24fe64515412fd21dd81e82adcf6c79dcc93bb8e6a/scikit_learn-0.20.2-cp37-cp37m-macosx_10_6_intel.macosx_10_9_intel.macosx_10_9_x86_64.macosx_10_10_intel.macosx_10_10_x86_64.whl\n",
      "  Saved /Users/rick446/src/arborian-classes/data/wheelhouse/scikit_learn-0.20.2-cp37-cp37m-macosx_10_6_intel.macosx_10_9_intel.macosx_10_9_x86_64.macosx_10_10_intel.macosx_10_10_x86_64.whl\n",
      "Collecting scipy==1.2.1 (from -r data/requirements.txt (line 42))\n",
      "  Using cached https://files.pythonhosted.org/packages/dd/6c/ccf7403d14f0ab0f20ce611696921f204f4ffce99a4fd383c892a6a7e9eb/scipy-1.2.1-cp37-cp37m-macosx_10_6_intel.macosx_10_9_intel.macosx_10_9_x86_64.macosx_10_10_intel.macosx_10_10_x86_64.whl\n",
      "  Saved /Users/rick446/src/arborian-classes/data/wheelhouse/scipy-1.2.1-cp37-cp37m-macosx_10_6_intel.macosx_10_9_intel.macosx_10_9_x86_64.macosx_10_10_intel.macosx_10_10_x86_64.whl\n",
      "Collecting Send2Trash==1.5.0 (from -r data/requirements.txt (line 43))\n",
      "  Using cached https://files.pythonhosted.org/packages/49/46/c3dc27481d1cc57b9385aff41c474ceb7714f7935b1247194adae45db714/Send2Trash-1.5.0-py3-none-any.whl\n",
      "  Saved /Users/rick446/src/arborian-classes/data/wheelhouse/Send2Trash-1.5.0-py3-none-any.whl\n",
      "Collecting simplejson==3.16.0 (from -r data/requirements.txt (line 44))\n",
      "  Saved /Users/rick446/src/arborian-classes/data/wheelhouse/simplejson-3.16.0-cp37-cp37m-macosx_10_12_x86_64.whl\n",
      "Collecting six==1.12.0 (from -r data/requirements.txt (line 45))\n",
      "  Using cached https://files.pythonhosted.org/packages/73/fb/00a976f728d0d1fecfe898238ce23f502a721c0ac0ecfedb80e0d88c64e9/six-1.12.0-py2.py3-none-any.whl\n",
      "  Saved /Users/rick446/src/arborian-classes/data/wheelhouse/six-1.12.0-py2.py3-none-any.whl\n",
      "Collecting sklearn==0.0 (from -r data/requirements.txt (line 46))\n",
      "  Saved /Users/rick446/src/arborian-classes/data/wheelhouse/sklearn-0.0-py2.py3-none-any.whl\n",
      "Collecting terminado==0.8.1 (from -r data/requirements.txt (line 47))\n",
      "  Using cached https://files.pythonhosted.org/packages/2e/20/a26211a24425923d46e1213b376a6ee60dc30bcdf1b0c345e2c3769deb1c/terminado-0.8.1-py2.py3-none-any.whl\n",
      "  Saved /Users/rick446/src/arborian-classes/data/wheelhouse/terminado-0.8.1-py2.py3-none-any.whl\n",
      "Collecting testpath==0.4.2 (from -r data/requirements.txt (line 48))\n",
      "  Using cached https://files.pythonhosted.org/packages/be/a4/162f9ebb6489421fe46dcca2ae420369edfee4b563c668d93cb4605d12ba/testpath-0.4.2-py2.py3-none-any.whl\n",
      "  Saved /Users/rick446/src/arborian-classes/data/wheelhouse/testpath-0.4.2-py2.py3-none-any.whl\n",
      "Collecting tornado==5.1.1 (from -r data/requirements.txt (line 49))\n",
      "  Saved /Users/rick446/src/arborian-classes/data/wheelhouse/tornado-5.1.1-cp37-cp37m-macosx_10_12_x86_64.whl\n",
      "Collecting traitlets==4.3.2 (from -r data/requirements.txt (line 50))\n",
      "  Using cached https://files.pythonhosted.org/packages/93/d6/abcb22de61d78e2fc3959c964628a5771e47e7cc60d53e9342e21ed6cc9a/traitlets-4.3.2-py2.py3-none-any.whl\n",
      "  Saved /Users/rick446/src/arborian-classes/data/wheelhouse/traitlets-4.3.2-py2.py3-none-any.whl\n",
      "Collecting urllib3==1.24.1 (from -r data/requirements.txt (line 51))\n",
      "  Using cached https://files.pythonhosted.org/packages/62/00/ee1d7de624db8ba7090d1226aebefab96a2c71cd5cfa7629d6ad3f61b79e/urllib3-1.24.1-py2.py3-none-any.whl\n",
      "  Saved /Users/rick446/src/arborian-classes/data/wheelhouse/urllib3-1.24.1-py2.py3-none-any.whl\n",
      "Collecting wcwidth==0.1.7 (from -r data/requirements.txt (line 52))\n",
      "  Using cached https://files.pythonhosted.org/packages/7e/9f/526a6947247599b084ee5232e4f9190a38f398d7300d866af3ab571a5bfe/wcwidth-0.1.7-py2.py3-none-any.whl\n",
      "  Saved /Users/rick446/src/arborian-classes/data/wheelhouse/wcwidth-0.1.7-py2.py3-none-any.whl\n",
      "Collecting webencodings==0.5.1 (from -r data/requirements.txt (line 53))\n",
      "  Using cached https://files.pythonhosted.org/packages/f4/24/2a3e3df732393fed8b3ebf2ec078f05546de641fe1b667ee316ec1dcf3b7/webencodings-0.5.1-py2.py3-none-any.whl\n",
      "  Saved /Users/rick446/src/arborian-classes/data/wheelhouse/webencodings-0.5.1-py2.py3-none-any.whl\n",
      "Collecting widgetsnbextension==3.4.2 (from -r data/requirements.txt (line 54))\n",
      "  Using cached https://files.pythonhosted.org/packages/8a/81/35789a3952afb48238289171728072d26d6e76649ddc8b3588657a2d78c1/widgetsnbextension-3.4.2-py2.py3-none-any.whl\n",
      "  Saved /Users/rick446/src/arborian-classes/data/wheelhouse/widgetsnbextension-3.4.2-py2.py3-none-any.whl\n",
      "Collecting setuptools>=18.5 (from ipython==7.2.0->-r data/requirements.txt (line 11))\n",
      "  Using cached https://files.pythonhosted.org/packages/d1/6a/4b2fcefd2ea0868810e92d519dacac1ddc64a2e53ba9e3422c3b62b378a6/setuptools-40.8.0-py2.py3-none-any.whl\n",
      "  Saved /Users/rick446/src/arborian-classes/data/wheelhouse/setuptools-40.8.0-py2.py3-none-any.whl\n",
      "Skipping appnope, due to already being wheel.\n",
      "Skipping backcall, due to already being wheel.\n",
      "Skipping bleach, due to already being wheel.\n",
      "Skipping boto3, due to already being wheel.\n",
      "Skipping botocore, due to already being wheel.\n",
      "Skipping decorator, due to already being wheel.\n",
      "Skipping defusedxml, due to already being wheel.\n",
      "Skipping docutils, due to already being wheel.\n",
      "Skipping entrypoints, due to already being wheel.\n",
      "Skipping ipykernel, due to already being wheel.\n",
      "Skipping ipython, due to already being wheel.\n",
      "Skipping ipython-genutils, due to already being wheel.\n",
      "Skipping ipywidgets, due to already being wheel.\n",
      "Skipping jedi, due to already being wheel.\n",
      "Skipping Jinja2, due to already being wheel.\n",
      "Skipping jmespath, due to already being wheel.\n",
      "Skipping jsonschema, due to already being wheel.\n",
      "Skipping jupyter, due to already being wheel.\n",
      "Skipping jupyter-client, due to already being wheel.\n",
      "Skipping jupyter-console, due to already being wheel.\n",
      "Skipping jupyter-core, due to already being wheel.\n",
      "Skipping MarkupSafe, due to already being wheel.\n",
      "Skipping mistune, due to already being wheel.\n",
      "Skipping nbconvert, due to already being wheel.\n",
      "Skipping nbformat, due to already being wheel.\n",
      "Skipping notebook, due to already being wheel.\n",
      "Skipping numpy, due to already being wheel.\n",
      "Skipping pandocfilters, due to already being wheel.\n",
      "Skipping parso, due to already being wheel.\n",
      "Skipping pexpect, due to already being wheel.\n",
      "Skipping pickleshare, due to already being wheel.\n",
      "Skipping prometheus-client, due to already being wheel.\n",
      "Skipping prompt-toolkit, due to already being wheel.\n",
      "Skipping ptyprocess, due to already being wheel.\n",
      "Skipping Pygments, due to already being wheel.\n",
      "Skipping pymongo, due to already being wheel.\n",
      "Skipping python-dateutil, due to already being wheel.\n",
      "Skipping pyzmq, due to already being wheel.\n",
      "Skipping qtconsole, due to already being wheel.\n",
      "Skipping s3transfer, due to already being wheel.\n",
      "Skipping scikit-learn, due to already being wheel.\n",
      "Skipping scipy, due to already being wheel.\n",
      "Skipping Send2Trash, due to already being wheel.\n",
      "Skipping simplejson, due to already being wheel.\n",
      "Skipping six, due to already being wheel.\n",
      "Skipping sklearn, due to already being wheel.\n",
      "Skipping terminado, due to already being wheel.\n",
      "Skipping testpath, due to already being wheel.\n",
      "Skipping tornado, due to already being wheel.\n",
      "Skipping traitlets, due to already being wheel.\n",
      "Skipping urllib3, due to already being wheel.\n",
      "Skipping wcwidth, due to already being wheel.\n",
      "Skipping webencodings, due to already being wheel.\n",
      "Skipping widgetsnbextension, due to already being wheel.\n",
      "Skipping setuptools, due to already being wheel.\n"
     ]
    }
   ],
   "source": [
    "%%bash\n",
    "set -e\n",
    "source data/env-folder/bin/activate\n",
    "pip wheel -w data/wheelhouse -r data/requirements.txt"
   ]
  },
  {
   "cell_type": "markdown",
   "metadata": {},
   "source": [
    "Now we can distribute the `data/wheelhouse` directory with our project and install everything from the wheelhouse and not fetch from PyPI:"
   ]
  },
  {
   "cell_type": "code",
   "execution_count": 14,
   "metadata": {
    "scrolled": false
   },
   "outputs": [
    {
     "name": "stdout",
     "output_type": "stream",
     "text": [
      "Looking in links: data/wheelhouse\n",
      "Collecting appnope==0.1.0 (from -r data/requirements.txt (line 1))\n",
      "Collecting backcall==0.1.0 (from -r data/requirements.txt (line 2))\n",
      "Collecting bleach==3.1.0 (from -r data/requirements.txt (line 3))\n",
      "Collecting boto3==1.9.94 (from -r data/requirements.txt (line 4))\n",
      "Collecting botocore==1.12.94 (from -r data/requirements.txt (line 5))\n",
      "Collecting decorator==4.3.2 (from -r data/requirements.txt (line 6))\n",
      "Collecting defusedxml==0.5.0 (from -r data/requirements.txt (line 7))\n",
      "Collecting docutils==0.14 (from -r data/requirements.txt (line 8))\n",
      "Collecting entrypoints==0.3 (from -r data/requirements.txt (line 9))\n",
      "Collecting ipykernel==5.1.0 (from -r data/requirements.txt (line 10))\n",
      "Collecting ipython==7.2.0 (from -r data/requirements.txt (line 11))\n",
      "Collecting ipython-genutils==0.2.0 (from -r data/requirements.txt (line 12))\n",
      "Collecting ipywidgets==7.4.2 (from -r data/requirements.txt (line 13))\n",
      "Collecting jedi==0.13.2 (from -r data/requirements.txt (line 14))\n",
      "Collecting Jinja2==2.10 (from -r data/requirements.txt (line 15))\n",
      "Collecting jmespath==0.9.3 (from -r data/requirements.txt (line 16))\n",
      "Collecting jsonschema==2.6.0 (from -r data/requirements.txt (line 17))\n",
      "Collecting jupyter==1.0.0 (from -r data/requirements.txt (line 18))\n",
      "Collecting jupyter-client==5.2.4 (from -r data/requirements.txt (line 19))\n",
      "Collecting jupyter-console==6.0.0 (from -r data/requirements.txt (line 20))\n",
      "Collecting jupyter-core==4.4.0 (from -r data/requirements.txt (line 21))\n",
      "Collecting MarkupSafe==1.1.0 (from -r data/requirements.txt (line 22))\n",
      "Collecting mistune==0.8.4 (from -r data/requirements.txt (line 23))\n",
      "Collecting nbconvert==5.4.1 (from -r data/requirements.txt (line 24))\n",
      "Collecting nbformat==4.4.0 (from -r data/requirements.txt (line 25))\n",
      "Collecting notebook==5.7.4 (from -r data/requirements.txt (line 26))\n",
      "Requirement already satisfied: numpy==1.16.1 in /Users/rick446/src/arborian-classes/data/env-folder-2/lib/python3.7/site-packages (from -r data/requirements.txt (line 27)) (1.16.1)\n",
      "Collecting pandocfilters==1.4.2 (from -r data/requirements.txt (line 28))\n",
      "Collecting parso==0.3.4 (from -r data/requirements.txt (line 29))\n",
      "Collecting pexpect==4.6.0 (from -r data/requirements.txt (line 30))\n",
      "Collecting pickleshare==0.7.5 (from -r data/requirements.txt (line 31))\n",
      "Collecting prometheus-client==0.5.0 (from -r data/requirements.txt (line 32))\n",
      "Collecting prompt-toolkit==2.0.8 (from -r data/requirements.txt (line 33))\n",
      "Collecting ptyprocess==0.6.0 (from -r data/requirements.txt (line 34))\n",
      "Collecting Pygments==2.3.1 (from -r data/requirements.txt (line 35))\n",
      "Collecting pymongo==3.7.2 (from -r data/requirements.txt (line 36))\n",
      "Collecting python-dateutil==2.8.0 (from -r data/requirements.txt (line 37))\n",
      "Collecting pyzmq==17.1.2 (from -r data/requirements.txt (line 38))\n",
      "Collecting qtconsole==4.4.3 (from -r data/requirements.txt (line 39))\n",
      "Collecting s3transfer==0.2.0 (from -r data/requirements.txt (line 40))\n",
      "Collecting scikit-learn==0.20.2 (from -r data/requirements.txt (line 41))\n",
      "Collecting scipy==1.2.1 (from -r data/requirements.txt (line 42))\n",
      "Collecting Send2Trash==1.5.0 (from -r data/requirements.txt (line 43))\n",
      "Collecting simplejson==3.16.0 (from -r data/requirements.txt (line 44))\n",
      "Collecting six==1.12.0 (from -r data/requirements.txt (line 45))\n",
      "Collecting sklearn==0.0 (from -r data/requirements.txt (line 46))\n",
      "Collecting terminado==0.8.1 (from -r data/requirements.txt (line 47))\n",
      "Collecting testpath==0.4.2 (from -r data/requirements.txt (line 48))\n",
      "Collecting tornado==5.1.1 (from -r data/requirements.txt (line 49))\n",
      "Collecting traitlets==4.3.2 (from -r data/requirements.txt (line 50))\n",
      "Collecting urllib3==1.24.1 (from -r data/requirements.txt (line 51))\n",
      "Collecting wcwidth==0.1.7 (from -r data/requirements.txt (line 52))\n",
      "Collecting webencodings==0.5.1 (from -r data/requirements.txt (line 53))\n",
      "Collecting widgetsnbextension==3.4.2 (from -r data/requirements.txt (line 54))\n",
      "Requirement already satisfied: setuptools>=18.5 in /Users/rick446/src/arborian-classes/data/env-folder-2/lib/python3.7/site-packages (from ipython==7.2.0->-r data/requirements.txt (line 11)) (40.6.2)\n",
      "Installing collected packages: appnope, backcall, six, webencodings, bleach, docutils, python-dateutil, jmespath, urllib3, botocore, s3transfer, boto3, decorator, defusedxml, entrypoints, Pygments, ptyprocess, pexpect, ipython-genutils, traitlets, parso, jedi, wcwidth, prompt-toolkit, pickleshare, ipython, tornado, pyzmq, jupyter-core, jupyter-client, ipykernel, jsonschema, nbformat, Send2Trash, testpath, mistune, MarkupSafe, Jinja2, pandocfilters, nbconvert, terminado, prometheus-client, notebook, widgetsnbextension, ipywidgets, jupyter-console, qtconsole, jupyter, pymongo, scipy, scikit-learn, simplejson, sklearn\n",
      "Successfully installed Jinja2-2.10 MarkupSafe-1.1.0 Pygments-2.3.1 Send2Trash-1.5.0 appnope-0.1.0 backcall-0.1.0 bleach-3.1.0 boto3-1.9.94 botocore-1.12.94 decorator-4.3.2 defusedxml-0.5.0 docutils-0.14 entrypoints-0.3 ipykernel-5.1.0 ipython-7.2.0 ipython-genutils-0.2.0 ipywidgets-7.4.2 jedi-0.13.2 jmespath-0.9.3 jsonschema-2.6.0 jupyter-1.0.0 jupyter-client-5.2.4 jupyter-console-6.0.0 jupyter-core-4.4.0 mistune-0.8.4 nbconvert-5.4.1 nbformat-4.4.0 notebook-5.7.4 pandocfilters-1.4.2 parso-0.3.4 pexpect-4.6.0 pickleshare-0.7.5 prometheus-client-0.5.0 prompt-toolkit-2.0.8 ptyprocess-0.6.0 pymongo-3.7.2 python-dateutil-2.8.0 pyzmq-17.1.2 qtconsole-4.4.3 s3transfer-0.2.0 scikit-learn-0.20.2 scipy-1.2.1 simplejson-3.16.0 six-1.12.0 sklearn-0.0 terminado-0.8.1 testpath-0.4.2 tornado-5.1.1 traitlets-4.3.2 urllib3-1.24.1 wcwidth-0.1.7 webencodings-0.5.1 widgetsnbextension-3.4.2\n"
     ]
    }
   ],
   "source": [
    "%%bash\n",
    "set -e\n",
    "source data/env-folder-2/bin/activate\n",
    "pip install --no-index -f data/wheelhouse -r data/requirements.txt"
   ]
  },
  {
   "cell_type": "markdown",
   "metadata": {},
   "source": [
    "# Cleaning up virtualenvs\n",
    "\n",
    "Since a virtualenv is just a directory, we can 'clean it up' by removing the directory:"
   ]
  },
  {
   "cell_type": "code",
   "execution_count": 15,
   "metadata": {},
   "outputs": [],
   "source": [
    "!rm -r data/env-folder data/env-folder-2 data/wheelhouse data/requirements.txt"
   ]
  },
  {
   "cell_type": "markdown",
   "metadata": {},
   "source": [
    "# Lab\n",
    "\n",
    "Open [virtualenv lab][virtualenv-lab]\n",
    "\n",
    "[virtualenv-lab]: ./virtualenv-lab.ipynb"
   ]
  }
 ],
 "metadata": {
  "kernelspec": {
   "display_name": "Python 3",
   "language": "python",
   "name": "python3"
  },
  "language_info": {
   "codemirror_mode": {
    "name": "ipython",
    "version": 3
   },
   "file_extension": ".py",
   "mimetype": "text/x-python",
   "name": "python",
   "nbconvert_exporter": "python",
   "pygments_lexer": "ipython3",
   "version": "3.7.2"
  }
 },
 "nbformat": 4,
 "nbformat_minor": 2
}
