{
 "cells": [
  {
   "cell_type": "markdown",
   "metadata": {},
   "source": [
    "# Introduction / review of Git + Github workflow\n",
    "\n",
    "- Git model: repositories, blobs, trees, commits, and branches\n",
    "- Using remote git repositories: clone, push, pull, remote\n",
    "- Using Github pull requests"
   ]
  },
  {
   "cell_type": "markdown",
   "metadata": {},
   "source": [
    "# Basic git concepts\n",
    "\n",
    "## Respository\n",
    "\n",
    "The basic unit of organization in git; this is where your commits, trees, branches, etc. are all managed. Usually exists as a `.git` directory at the root of your working folder\n",
    "\n",
    "## Blob\n",
    "\n",
    "This is what Git calls its files. A **blob** is a snapshot of the contents of a file at a certain point in time.\n",
    "\n",
    "## Tree\n",
    "\n",
    "This is what Git calls its folders. A **tree** is a snapshot of pointers to all the **blobs** and/or **trees** that are inside a folder at a certain point in time."
   ]
  },
  {
   "cell_type": "markdown",
   "metadata": {},
   "source": [
    "## Commit\n",
    "\n",
    "Git repositories are stored as a linked list of **commit** objects. A **commit** contains the following information:\n",
    "\n",
    "- The author of the commit \n",
    "- The \"parent\"(s) (predecessor(s) of the commit)\n",
    "- A commit message\n",
    "- A pointer to the root **tree** of that commit"
   ]
  },
  {
   "cell_type": "markdown",
   "metadata": {},
   "source": [
    "# Creating a git repository\n",
    "\n",
    "\n",
    "To create a git repository (\"repo\"), just use the `git init` command:"
   ]
  },
  {
   "cell_type": "code",
   "execution_count": 1,
   "metadata": {},
   "outputs": [
    {
     "name": "stdout",
     "output_type": "stream",
     "text": [
      "/Users/rick446/src/arborian-classes/data/git-example\n"
     ]
    }
   ],
   "source": [
    "cd data/git-example"
   ]
  },
  {
   "cell_type": "code",
   "execution_count": 3,
   "metadata": {},
   "outputs": [
    {
     "name": "stdout",
     "output_type": "stream",
     "text": [
      "Reinitialized existing Git repository in /Users/rick446/src/arborian-classes/data/git-example/my-repo/.git/\r\n"
     ]
    }
   ],
   "source": [
    "# could also do the following:\n",
    "#    $ mkdir my-repo\n",
    "#    $ cd my-repo\n",
    "#    $ git init \n",
    "!git init my-repo"
   ]
  },
  {
   "cell_type": "markdown",
   "metadata": {},
   "source": [
    "### Git configuration\n",
    "\n",
    "Before we get too deep into using git, we need to tell it who we are and what kind of editor we use:"
   ]
  },
  {
   "cell_type": "code",
   "execution_count": 11,
   "metadata": {},
   "outputs": [
    {
     "name": "stdout",
     "output_type": "stream",
     "text": [
      "Rick Copeland\n",
      "rick@arborian.com\n",
      "subl -w\n"
     ]
    }
   ],
   "source": [
    "%%bash\n",
    "git config --global user.name\n",
    "git config --global user.email\n",
    "git config --global core.editor"
   ]
  },
  {
   "cell_type": "markdown",
   "metadata": {},
   "source": [
    "To add your own configuration, just repeat the following commands with your actual data:\n",
    "\n",
    "```bash\n",
    "$ git config --global user.name YOURNAME\n",
    "$ git config --global user.email YOUREMAIL\n",
    "$ git config --global core.editor YOUREDITOR\n",
    "```"
   ]
  },
  {
   "cell_type": "markdown",
   "metadata": {},
   "source": [
    "### Creating a new file\n",
    "\n",
    "We can start creating files under the 'my-repo' that we want to add to git:"
   ]
  },
  {
   "cell_type": "code",
   "execution_count": 5,
   "metadata": {},
   "outputs": [
    {
     "name": "stdout",
     "output_type": "stream",
     "text": [
      "/Users/rick446/src/arborian-classes/data/git-example/my-repo\n"
     ]
    }
   ],
   "source": [
    "cd my-repo"
   ]
  },
  {
   "cell_type": "code",
   "execution_count": 6,
   "metadata": {},
   "outputs": [
    {
     "name": "stdout",
     "output_type": "stream",
     "text": [
      "Writing README.md\n"
     ]
    }
   ],
   "source": [
    "%%file README.md\n",
    "# My very first project\n",
    "\n",
    "This is my first git repo."
   ]
  },
  {
   "cell_type": "markdown",
   "metadata": {},
   "source": [
    "### Adding the file to the repo via the \"index\" (staging area)\n",
    "\n",
    "Although the file exists on our filesystem, the **repo** doesn't (yet) know anything about it. \n",
    "\n",
    "Unlike other version control systems, git requires you to be very explicit about what you want to change in the repo. In this case, we want git to pick up the fact that something has changed about the file `README.md`, so we'll **add** (\"stage\") the file for our next commit:"
   ]
  },
  {
   "cell_type": "code",
   "execution_count": 7,
   "metadata": {},
   "outputs": [],
   "source": [
    "!git add README.md"
   ]
  },
  {
   "cell_type": "markdown",
   "metadata": {},
   "source": [
    "### Checking the status of the repository\n",
    "\n",
    "At any time, we can ask git what it knows about different kinds of objects using the `git status` command:"
   ]
  },
  {
   "cell_type": "code",
   "execution_count": 9,
   "metadata": {},
   "outputs": [
    {
     "name": "stdout",
     "output_type": "stream",
     "text": [
      "On branch master\r\n",
      "\r\n",
      "No commits yet\r\n",
      "\r\n",
      "Changes to be committed:\r\n",
      "  (use \"git rm --cached <file>...\" to unstage)\r\n",
      "\r\n",
      "\t\u001b[33mnew file:   README.md\u001b[m\r\n",
      "\r\n"
     ]
    }
   ],
   "source": [
    "!git status"
   ]
  },
  {
   "cell_type": "markdown",
   "metadata": {},
   "source": [
    "### Creating a commit\n",
    "\n",
    "We can go ahead and create a commit that references our new file with the `git commit` command. The following command will open up your editor and ask for a commit message:"
   ]
  },
  {
   "cell_type": "code",
   "execution_count": 12,
   "metadata": {},
   "outputs": [
    {
     "name": "stdout",
     "output_type": "stream",
     "text": [
      "[master (root-commit) 67f5fe4] This is my message\r\n",
      " 1 file changed, 3 insertions(+)\r\n",
      " create mode 100644 README.md\r\n"
     ]
    }
   ],
   "source": [
    "!git commit"
   ]
  },
  {
   "cell_type": "markdown",
   "metadata": {},
   "source": [
    "### Modifying a file\n",
    "\n",
    "We can modify the file we've created and make another commit:"
   ]
  },
  {
   "cell_type": "code",
   "execution_count": 13,
   "metadata": {},
   "outputs": [
    {
     "name": "stdout",
     "output_type": "stream",
     "text": [
      "Overwriting README.md\n"
     ]
    }
   ],
   "source": [
    "%%file README.md\n",
    "# My very first project\n",
    "\n",
    "This is my first git repo.\n",
    "\n",
    "Here is some more text"
   ]
  },
  {
   "cell_type": "code",
   "execution_count": 14,
   "metadata": {},
   "outputs": [
    {
     "name": "stdout",
     "output_type": "stream",
     "text": [
      "On branch master\r\n",
      "Changes not staged for commit:\r\n",
      "  (use \"git add <file>...\" to update what will be committed)\r\n",
      "  (use \"git checkout -- <file>...\" to discard changes in working directory)\r\n",
      "\r\n",
      "\t\u001b[36mmodified:   README.md\u001b[m\r\n",
      "\r\n",
      "no changes added to commit (use \"git add\" and/or \"git commit -a\")\r\n"
     ]
    }
   ],
   "source": [
    "!git status"
   ]
  },
  {
   "cell_type": "code",
   "execution_count": 15,
   "metadata": {},
   "outputs": [
    {
     "name": "stdout",
     "output_type": "stream",
     "text": [
      "\u001b[1;33mdiff --git a/README.md b/README.md\u001b[m\r\n",
      "\u001b[1;33mindex ac42323..3b6485b 100644\u001b[m\r\n",
      "\u001b[1;33m--- a/README.md\u001b[m\r\n",
      "\u001b[1;33m+++ b/README.md\u001b[m\r\n",
      "\u001b[1;35m@@ -1,3 +1,5 @@\u001b[m\r\n",
      " # My very first project\u001b[m\r\n",
      " \u001b[m\r\n",
      " This is my first git repo.\u001b[m\r\n",
      "\u001b[1;32m+\u001b[m\r\n",
      "\u001b[1;32m+\u001b[m\u001b[1;32mHere is some more text\u001b[m\r\n"
     ]
    }
   ],
   "source": [
    "!git diff"
   ]
  },
  {
   "cell_type": "code",
   "execution_count": 16,
   "metadata": {},
   "outputs": [
    {
     "name": "stdout",
     "output_type": "stream",
     "text": [
      "On branch master\r\n",
      "Changes not staged for commit:\r\n",
      "\t\u001b[36mmodified:   README.md\u001b[m\r\n",
      "\r\n",
      "no changes added to commit\r\n"
     ]
    }
   ],
   "source": [
    "!git commit"
   ]
  },
  {
   "cell_type": "markdown",
   "metadata": {},
   "source": [
    "# Nothing happened -- why?"
   ]
  },
  {
   "cell_type": "code",
   "execution_count": null,
   "metadata": {},
   "outputs": [],
   "source": []
  },
  {
   "cell_type": "code",
   "execution_count": null,
   "metadata": {},
   "outputs": [],
   "source": []
  },
  {
   "cell_type": "code",
   "execution_count": null,
   "metadata": {},
   "outputs": [],
   "source": []
  },
  {
   "cell_type": "code",
   "execution_count": null,
   "metadata": {},
   "outputs": [],
   "source": []
  },
  {
   "cell_type": "code",
   "execution_count": null,
   "metadata": {},
   "outputs": [],
   "source": []
  },
  {
   "cell_type": "code",
   "execution_count": null,
   "metadata": {},
   "outputs": [],
   "source": []
  },
  {
   "cell_type": "code",
   "execution_count": null,
   "metadata": {},
   "outputs": [],
   "source": []
  },
  {
   "cell_type": "code",
   "execution_count": null,
   "metadata": {},
   "outputs": [],
   "source": []
  },
  {
   "cell_type": "code",
   "execution_count": null,
   "metadata": {},
   "outputs": [],
   "source": []
  },
  {
   "cell_type": "markdown",
   "metadata": {},
   "source": [
    "# Let's let git know we'd like to \"add\" the change to the next commit"
   ]
  },
  {
   "cell_type": "code",
   "execution_count": 18,
   "metadata": {},
   "outputs": [],
   "source": [
    "!git add README.md"
   ]
  },
  {
   "cell_type": "code",
   "execution_count": 19,
   "metadata": {},
   "outputs": [
    {
     "name": "stdout",
     "output_type": "stream",
     "text": [
      "On branch master\r\n",
      "Changes to be committed:\r\n",
      "  (use \"git reset HEAD <file>...\" to unstage)\r\n",
      "\r\n",
      "\t\u001b[33mmodified:   README.md\u001b[m\r\n",
      "\r\n"
     ]
    }
   ],
   "source": [
    "!git status"
   ]
  },
  {
   "cell_type": "code",
   "execution_count": 20,
   "metadata": {},
   "outputs": [
    {
     "name": "stdout",
     "output_type": "stream",
     "text": [
      "[master 763daca] You can also specify your commit message on the command-line\r\n",
      " 1 file changed, 2 insertions(+)\r\n"
     ]
    }
   ],
   "source": [
    "!git commit -m 'You can also specify your commit message on the command-line'"
   ]
  },
  {
   "cell_type": "markdown",
   "metadata": {},
   "source": [
    "### Getting the history with `git log`"
   ]
  },
  {
   "cell_type": "code",
   "execution_count": 22,
   "metadata": {},
   "outputs": [
    {
     "name": "stdout",
     "output_type": "stream",
     "text": [
      "\u001b[33mcommit 763daca1fb050d623652754de945e8881337d46a\u001b[m\u001b[33m (\u001b[m\u001b[1;36mHEAD -> \u001b[m\u001b[1;32mmaster\u001b[m\u001b[33m)\u001b[m\r\n",
      "Author: Rick Copeland <rick@arborian.com>\r\n",
      "Date:   Mon Feb 18 15:46:18 2019 -0500\r\n",
      "\r\n",
      "    You can also specify your commit message on the command-line\r\n",
      "\r\n",
      "\u001b[33mcommit 67f5fe45ca5a46a99e201eee52bbfa3c1c4cfac2\u001b[m\r\n",
      "Author: Rick Copeland <rick@arborian.com>\r\n",
      "Date:   Mon Feb 18 15:43:29 2019 -0500\r\n",
      "\r\n",
      "    This is my message\r\n"
     ]
    }
   ],
   "source": [
    "!git log"
   ]
  },
  {
   "cell_type": "markdown",
   "metadata": {},
   "source": [
    "### What's the deal with the hex strings?\n",
    "\n",
    "These are actually *hashes* of the content of the objects (blobs, trees, and commits) stored inside git. You can think of them as pointers to objects that git is tracking."
   ]
  },
  {
   "cell_type": "code",
   "execution_count": 23,
   "metadata": {},
   "outputs": [
    {
     "name": "stdout",
     "output_type": "stream",
     "text": [
      "tree 835b23433c6d2ec42baff3541ad90e39c5bb2724\r\n",
      "parent 67f5fe45ca5a46a99e201eee52bbfa3c1c4cfac2\r\n",
      "author Rick Copeland <rick@arborian.com> 1550522778 -0500\r\n",
      "committer Rick Copeland <rick@arborian.com> 1550522778 -0500\r\n",
      "\r\n",
      "You can also specify your commit message on the command-line\r\n"
     ]
    }
   ],
   "source": [
    "!git cat-file commit 763daca1fb050d623652754de945e8881337d46a"
   ]
  },
  {
   "cell_type": "code",
   "execution_count": 24,
   "metadata": {},
   "outputs": [
    {
     "name": "stdout",
     "output_type": "stream",
     "text": [
      "100644 README.md\u0000;d����0����}\"jQ+-�\u0018"
     ]
    }
   ],
   "source": [
    "!git cat-file tree 835b23433c6d2ec42baff3541ad90e39c5bb2724"
   ]
  },
  {
   "cell_type": "markdown",
   "metadata": {},
   "source": [
    "### Branches - working on more than one thing at once\n",
    "\n",
    "Git provides you with the ability to create *lightweight*, *moveable* references to commits called *branches*.\n",
    "\n",
    "To create a new branch, we just need to execute the `git branch` command:"
   ]
  },
  {
   "cell_type": "code",
   "execution_count": 25,
   "metadata": {},
   "outputs": [],
   "source": [
    "!git branch branch1"
   ]
  },
  {
   "cell_type": "code",
   "execution_count": 26,
   "metadata": {},
   "outputs": [
    {
     "name": "stdout",
     "output_type": "stream",
     "text": [
      "  \u001b[33mbranch1\u001b[m\r\n",
      "* \u001b[7;33mmaster\u001b[m\r\n"
     ]
    }
   ],
   "source": [
    "!git branch"
   ]
  },
  {
   "cell_type": "markdown",
   "metadata": {},
   "source": [
    "If we make a commit right now, then the *master* branch will move so that it points ot our new commit. \n",
    "\n",
    "We don't want to do that, so we'll *switch* to branch1 by executing `git checkout`, which sets the current branch and updates our working directory to match the new current branch:"
   ]
  },
  {
   "cell_type": "code",
   "execution_count": 27,
   "metadata": {},
   "outputs": [
    {
     "name": "stdout",
     "output_type": "stream",
     "text": [
      "Switched to branch 'branch1'\r\n"
     ]
    }
   ],
   "source": [
    "!git checkout branch1"
   ]
  },
  {
   "cell_type": "code",
   "execution_count": 28,
   "metadata": {},
   "outputs": [
    {
     "name": "stdout",
     "output_type": "stream",
     "text": [
      "* \u001b[7;33mbranch1\u001b[m\r\n",
      "  \u001b[33mmaster\u001b[m\r\n"
     ]
    }
   ],
   "source": [
    "!git branch"
   ]
  },
  {
   "cell_type": "markdown",
   "metadata": {},
   "source": [
    "Now we can make another commit (on branch1 this time) and see what the log shows us. Let's create a new file:"
   ]
  },
  {
   "cell_type": "code",
   "execution_count": 29,
   "metadata": {},
   "outputs": [
    {
     "name": "stdout",
     "output_type": "stream",
     "text": [
      "Writing LICENSE.txt\n"
     ]
    }
   ],
   "source": [
    "%%file LICENSE.txt\n",
    "All rights reserved."
   ]
  },
  {
   "cell_type": "code",
   "execution_count": 30,
   "metadata": {},
   "outputs": [],
   "source": [
    "!git add LICENSE.txt"
   ]
  },
  {
   "cell_type": "code",
   "execution_count": 31,
   "metadata": {},
   "outputs": [
    {
     "name": "stdout",
     "output_type": "stream",
     "text": [
      "[branch1 761a39e] Added license so our stuff doesn't get stolen\r\n",
      " 1 file changed, 1 insertion(+)\r\n",
      " create mode 100644 LICENSE.txt\r\n"
     ]
    }
   ],
   "source": [
    "!git commit -m \"Added license so our stuff doesn't get stolen\""
   ]
  },
  {
   "cell_type": "code",
   "execution_count": 35,
   "metadata": {},
   "outputs": [
    {
     "name": "stdout",
     "output_type": "stream",
     "text": [
      "\u001b[33mcommit 761a39eba3815742a1ae06eea14ed6434521118e\u001b[m\u001b[33m (\u001b[m\u001b[1;36mHEAD -> \u001b[m\u001b[1;32mbranch1\u001b[m\u001b[33m)\u001b[m\r\n",
      "Author: Rick Copeland <rick@arborian.com>\r\n",
      "Date:   Mon Feb 18 15:53:37 2019 -0500\r\n",
      "\r\n",
      "    Added license so our stuff doesn't get stolen\r\n",
      "\r\n",
      "\u001b[33mcommit 763daca1fb050d623652754de945e8881337d46a\u001b[m\u001b[33m (\u001b[m\u001b[1;32mmaster\u001b[m\u001b[33m)\u001b[m\r\n",
      "Author: Rick Copeland <rick@arborian.com>\r\n",
      "Date:   Mon Feb 18 15:46:18 2019 -0500\r\n",
      "\r\n",
      "    You can also specify your commit message on the command-line\r\n",
      "\r\n",
      "\u001b[33mcommit 67f5fe45ca5a46a99e201eee52bbfa3c1c4cfac2\u001b[m\r\n",
      "Author: Rick Copeland <rick@arborian.com>\r\n",
      "Date:   Mon Feb 18 15:43:29 2019 -0500\r\n",
      "\r\n",
      "    This is my message\r\n"
     ]
    }
   ],
   "source": [
    "!git log --decorate"
   ]
  },
  {
   "cell_type": "markdown",
   "metadata": {},
   "source": [
    "Note that, while *branch1* points to the new commit, *master* is still pointing to our previous commit.\n",
    "\n",
    "Let's create another branch:"
   ]
  },
  {
   "cell_type": "code",
   "execution_count": 36,
   "metadata": {},
   "outputs": [
    {
     "name": "stderr",
     "output_type": "stream",
     "text": [
      "Switched to branch 'master'\n",
      "Switched to branch 'branch2'\n"
     ]
    }
   ],
   "source": [
    "%%bash\n",
    "git checkout master   # we want to branch off master, not branch1\n",
    "git branch branch2    # create the new branch\n",
    "git checkout branch2  # ... and switch to it"
   ]
  },
  {
   "cell_type": "code",
   "execution_count": 37,
   "metadata": {},
   "outputs": [
    {
     "name": "stdout",
     "output_type": "stream",
     "text": [
      "\u001b[33mcommit 763daca1fb050d623652754de945e8881337d46a\u001b[m\u001b[33m (\u001b[m\u001b[1;36mHEAD -> \u001b[m\u001b[1;32mbranch2\u001b[m\u001b[33m, \u001b[m\u001b[1;32mmaster\u001b[m\u001b[33m)\u001b[m\r\n",
      "Author: Rick Copeland <rick@arborian.com>\r\n",
      "Date:   Mon Feb 18 15:46:18 2019 -0500\r\n",
      "\r\n",
      "    You can also specify your commit message on the command-line\r\n",
      "\r\n",
      "\u001b[33mcommit 67f5fe45ca5a46a99e201eee52bbfa3c1c4cfac2\u001b[m\r\n",
      "Author: Rick Copeland <rick@arborian.com>\r\n",
      "Date:   Mon Feb 18 15:43:29 2019 -0500\r\n",
      "\r\n",
      "    This is my message\r\n"
     ]
    }
   ],
   "source": [
    "!git log --decorate"
   ]
  },
  {
   "cell_type": "code",
   "execution_count": 38,
   "metadata": {},
   "outputs": [
    {
     "name": "stdout",
     "output_type": "stream",
     "text": [
      "On branch branch2\r\n",
      "nothing to commit, working tree clean\r\n"
     ]
    }
   ],
   "source": [
    "!git status"
   ]
  },
  {
   "cell_type": "code",
   "execution_count": 39,
   "metadata": {},
   "outputs": [
    {
     "name": "stdout",
     "output_type": "stream",
     "text": [
      "Overwriting README.md\n"
     ]
    }
   ],
   "source": [
    "%%file README.md\n",
    "# My very first project\n",
    "\n",
    "This is my first git repo.\n",
    "\n",
    "Here is some more text.\n",
    "\n",
    "Here, I'm adding some text on branch1 because I want to see how merging works"
   ]
  },
  {
   "cell_type": "code",
   "execution_count": 40,
   "metadata": {},
   "outputs": [
    {
     "name": "stdout",
     "output_type": "stream",
     "text": [
      "[branch2 23bcd7b] Make a change on branch1\r\n",
      " 1 file changed, 3 insertions(+), 1 deletion(-)\r\n"
     ]
    }
   ],
   "source": [
    "!git add README.md\n",
    "!git commit -m 'Make a change on branch1'"
   ]
  },
  {
   "cell_type": "code",
   "execution_count": 41,
   "metadata": {},
   "outputs": [
    {
     "name": "stdout",
     "output_type": "stream",
     "text": [
      "\u001b[33mcommit 23bcd7b719dab56f48ebfde270e10dece98135ac\u001b[m\u001b[33m (\u001b[m\u001b[1;36mHEAD -> \u001b[m\u001b[1;32mbranch2\u001b[m\u001b[33m)\u001b[m\r\n",
      "Author: Rick Copeland <rick@arborian.com>\r\n",
      "Date:   Mon Feb 18 15:57:51 2019 -0500\r\n",
      "\r\n",
      "    Make a change on branch1\r\n",
      "\r\n",
      "\u001b[33mcommit 761a39eba3815742a1ae06eea14ed6434521118e\u001b[m\u001b[33m (\u001b[m\u001b[1;32mbranch1\u001b[m\u001b[33m)\u001b[m\r\n",
      "Author: Rick Copeland <rick@arborian.com>\r\n",
      "Date:   Mon Feb 18 15:53:37 2019 -0500\r\n",
      "\r\n",
      "    Added license so our stuff doesn't get stolen\r\n",
      "\r\n",
      "\u001b[33mcommit 763daca1fb050d623652754de945e8881337d46a\u001b[m\u001b[33m (\u001b[m\u001b[1;32mmaster\u001b[m\u001b[33m)\u001b[m\r\n",
      "Author: Rick Copeland <rick@arborian.com>\r\n",
      "Date:   Mon Feb 18 15:46:18 2019 -0500\r\n",
      "\r\n",
      "    You can also specify your commit message on the command-line\r\n",
      "\r\n",
      "\u001b[33mcommit 67f5fe45ca5a46a99e201eee52bbfa3c1c4cfac2\u001b[m\r\n",
      "Author: Rick Copeland <rick@arborian.com>\r\n",
      "Date:   Mon Feb 18 15:43:29 2019 -0500\r\n",
      "\r\n",
      "    This is my message\r\n"
     ]
    }
   ],
   "source": [
    "!git log --decorate --all"
   ]
  },
  {
   "cell_type": "markdown",
   "metadata": {},
   "source": [
    "There's a couple of nice flags we can use with `git log` to see our branches graphically:\n",
    "\n",
    "- `--decorate` - show which commits branches point to \n",
    "- `--all` - show all branches, not just the current one\n",
    "- `--oneline` - only use a single line per commit\n",
    "- `--graph` - show the branching graphically"
   ]
  },
  {
   "cell_type": "code",
   "execution_count": 42,
   "metadata": {},
   "outputs": [
    {
     "name": "stdout",
     "output_type": "stream",
     "text": [
      "* \u001b[33m23bcd7b\u001b[m\u001b[33m (\u001b[m\u001b[1;36mHEAD -> \u001b[m\u001b[1;32mbranch2\u001b[m\u001b[33m)\u001b[m Make a change on branch1\r\n",
      "\u001b[31m|\u001b[m * \u001b[33m761a39e\u001b[m\u001b[33m (\u001b[m\u001b[1;32mbranch1\u001b[m\u001b[33m)\u001b[m Added license so our stuff doesn't get stolen\r\n",
      "\u001b[31m|\u001b[m\u001b[31m/\u001b[m  \r\n",
      "* \u001b[33m763daca\u001b[m\u001b[33m (\u001b[m\u001b[1;32mmaster\u001b[m\u001b[33m)\u001b[m You can also specify your commit message on the command-line\r\n",
      "* \u001b[33m67f5fe4\u001b[m This is my message\r\n"
     ]
    }
   ],
   "source": [
    "!git log --decorate --all --oneline --graph"
   ]
  },
  {
   "cell_type": "markdown",
   "metadata": {},
   "source": [
    "### Merging commits: fast-forward\n",
    "\n",
    "We can incorporate the changes from one branch onto another branch by \"merging\" the branch. This can take one of two forms. The first is a \"fast-forward\" merge. It turns out that we can merge \"branch1\" onto \"master\" by just moving master to point to the same commit that branch1 is pointing to:"
   ]
  },
  {
   "cell_type": "code",
   "execution_count": 43,
   "metadata": {},
   "outputs": [
    {
     "name": "stdout",
     "output_type": "stream",
     "text": [
      "Switched to branch 'master'\n",
      "Updating 763daca..761a39e\n",
      "Fast-forward\n",
      " LICENSE.txt | 1 \u001b[1;32m+\u001b[m\n",
      " 1 file changed, 1 insertion(+)\n",
      " create mode 100644 LICENSE.txt\n"
     ]
    }
   ],
   "source": [
    "!git checkout master    # checkout the \"target\" branch of the merge\n",
    "!git merge branch1      # merge the changes from branch1 into the current branch"
   ]
  },
  {
   "cell_type": "code",
   "execution_count": 44,
   "metadata": {},
   "outputs": [
    {
     "name": "stdout",
     "output_type": "stream",
     "text": [
      "* \u001b[33m23bcd7b\u001b[m\u001b[33m (\u001b[m\u001b[1;32mbranch2\u001b[m\u001b[33m)\u001b[m Make a change on branch1\r\n",
      "\u001b[31m|\u001b[m * \u001b[33m761a39e\u001b[m\u001b[33m (\u001b[m\u001b[1;36mHEAD -> \u001b[m\u001b[1;32mmaster\u001b[m\u001b[33m, \u001b[m\u001b[1;32mbranch1\u001b[m\u001b[33m)\u001b[m Added license so our stuff doesn't get stolen\r\n",
      "\u001b[31m|\u001b[m\u001b[31m/\u001b[m  \r\n",
      "* \u001b[33m763daca\u001b[m You can also specify your commit message on the command-line\r\n",
      "* \u001b[33m67f5fe4\u001b[m This is my message\r\n"
     ]
    }
   ],
   "source": [
    "!git log --decorate --all --oneline --graph"
   ]
  },
  {
   "cell_type": "markdown",
   "metadata": {},
   "source": [
    "### Merging commits without fast-forward\n",
    "\n",
    "It turns out that it's not always possible to merge commits by fast-forwarding the target branch. In these cases, git creates a *merge commit* which contains git's best guess (which is usually pretty good) of a commit which incorporates the contents of both branches:"
   ]
  },
  {
   "cell_type": "code",
   "execution_count": 45,
   "metadata": {},
   "outputs": [
    {
     "name": "stdout",
     "output_type": "stream",
     "text": [
      "Merge made by the 'recursive' strategy.\r\n",
      " README.md | 4 \u001b[1;32m+++\u001b[m\u001b[1;31m-\u001b[m\r\n",
      " 1 file changed, 3 insertions(+), 1 deletion(-)\r\n"
     ]
    }
   ],
   "source": [
    "!git merge branch2"
   ]
  },
  {
   "cell_type": "code",
   "execution_count": 46,
   "metadata": {},
   "outputs": [
    {
     "name": "stdout",
     "output_type": "stream",
     "text": [
      "*   \u001b[33m911f10a\u001b[m\u001b[33m (\u001b[m\u001b[1;36mHEAD -> \u001b[m\u001b[1;32mmaster\u001b[m\u001b[33m)\u001b[m Merge branch 'branch2'\r\n",
      "\u001b[31m|\u001b[m\u001b[32m\\\u001b[m  \r\n",
      "\u001b[31m|\u001b[m * \u001b[33m23bcd7b\u001b[m\u001b[33m (\u001b[m\u001b[1;32mbranch2\u001b[m\u001b[33m)\u001b[m Make a change on branch1\r\n",
      "* \u001b[32m|\u001b[m \u001b[33m761a39e\u001b[m\u001b[33m (\u001b[m\u001b[1;32mbranch1\u001b[m\u001b[33m)\u001b[m Added license so our stuff doesn't get stolen\r\n",
      "\u001b[32m|\u001b[m\u001b[32m/\u001b[m  \r\n",
      "* \u001b[33m763daca\u001b[m You can also specify your commit message on the command-line\r\n",
      "* \u001b[33m67f5fe4\u001b[m This is my message\r\n"
     ]
    }
   ],
   "source": [
    "!git log --decorate --all --oneline --graph"
   ]
  },
  {
   "cell_type": "markdown",
   "metadata": {},
   "source": [
    "### Cleaning up old branches\n",
    "\n",
    "When we're done with a branch, we can delete it with `git branch -d`:"
   ]
  },
  {
   "cell_type": "code",
   "execution_count": 48,
   "metadata": {},
   "outputs": [
    {
     "name": "stdout",
     "output_type": "stream",
     "text": [
      "Deleted branch branch1 (was 761a39e).\r\n",
      "Deleted branch branch2 (was 23bcd7b).\r\n"
     ]
    }
   ],
   "source": [
    "!git branch -d branch1 branch2"
   ]
  },
  {
   "cell_type": "code",
   "execution_count": 49,
   "metadata": {},
   "outputs": [
    {
     "name": "stdout",
     "output_type": "stream",
     "text": [
      "*   \u001b[33m911f10a\u001b[m\u001b[33m (\u001b[m\u001b[1;36mHEAD -> \u001b[m\u001b[1;32mmaster\u001b[m\u001b[33m)\u001b[m Merge branch 'branch2'\r\n",
      "\u001b[31m|\u001b[m\u001b[32m\\\u001b[m  \r\n",
      "\u001b[31m|\u001b[m * \u001b[33m23bcd7b\u001b[m Make a change on branch1\r\n",
      "* \u001b[32m|\u001b[m \u001b[33m761a39e\u001b[m Added license so our stuff doesn't get stolen\r\n",
      "\u001b[32m|\u001b[m\u001b[32m/\u001b[m  \r\n",
      "* \u001b[33m763daca\u001b[m You can also specify your commit message on the command-line\r\n",
      "* \u001b[33m67f5fe4\u001b[m This is my message\r\n"
     ]
    }
   ],
   "source": [
    "!git log --decorate --all --oneline --graph"
   ]
  },
  {
   "cell_type": "code",
   "execution_count": 51,
   "metadata": {},
   "outputs": [
    {
     "name": "stdout",
     "output_type": "stream",
     "text": [
      "* \u001b[7;33mmaster\u001b[m\r\n"
     ]
    }
   ],
   "source": [
    "!git branch"
   ]
  },
  {
   "cell_type": "markdown",
   "metadata": {},
   "source": [
    "# Using git remotes and github\n",
    "\n",
    "Normally, we won't be just doing things locally, but we will be working on a \"clone\" (a local copy) of a repo on another machine.\n",
    "\n",
    "Git can keep track of repos on other machines by using \"remotes,\" but we won't usually do much with those. Instead, we'll usually start our project by cloning a repo from Github:"
   ]
  },
  {
   "cell_type": "code",
   "execution_count": 53,
   "metadata": {},
   "outputs": [
    {
     "name": "stdout",
     "output_type": "stream",
     "text": [
      "/Users/rick446/src/arborian-classes/data/git-example\n"
     ]
    }
   ],
   "source": [
    "%%bash\n",
    "cd ..\n",
    "rm -fr my-repo"
   ]
  },
  {
   "cell_type": "code",
   "execution_count": 55,
   "metadata": {},
   "outputs": [
    {
     "name": "stdout",
     "output_type": "stream",
     "text": [
      "Cloning into 'my-repo'...\n",
      "remote: Enumerating objects: 14, done.\u001b[K\n",
      "remote: Counting objects: 100% (14/14), done.\u001b[K\n",
      "remote: Compressing objects: 100% (7/7), done.\u001b[K\n",
      "remote: Total 14 (delta 3), reused 14 (delta 3), pack-reused 0\u001b[K\n",
      "Unpacking objects: 100% (14/14), done.\n"
     ]
    }
   ],
   "source": [
    "!git clone https://github.com/Arborian/my-repo.git"
   ]
  },
  {
   "cell_type": "code",
   "execution_count": 56,
   "metadata": {},
   "outputs": [
    {
     "name": "stdout",
     "output_type": "stream",
     "text": [
      "/Users/rick446/src/arborian-classes/data/git-example/my-repo\n"
     ]
    }
   ],
   "source": [
    "cd my-repo"
   ]
  },
  {
   "cell_type": "markdown",
   "metadata": {},
   "source": [
    "### Pushing local changes to the remote\n",
    "\n",
    "If we've made some local commits that we'd like to sync up to the remote, we can do a 'push' of those commits to the remote with the `git push` command:"
   ]
  },
  {
   "cell_type": "code",
   "execution_count": 64,
   "metadata": {},
   "outputs": [
    {
     "name": "stdout",
     "output_type": "stream",
     "text": [
      "Overwriting README.md\n"
     ]
    }
   ],
   "source": [
    "%%file README.md\n",
    "# My very first project\n",
    "\n",
    "This is my first git repo.\n",
    "\n",
    "Here is some more text.\n",
    "\n",
    "This is a commit that will be pushed to the remote"
   ]
  },
  {
   "cell_type": "code",
   "execution_count": 65,
   "metadata": {},
   "outputs": [
    {
     "name": "stdout",
     "output_type": "stream",
     "text": [
      "[master 05cfbd0] Change for remote pushing\n",
      " 1 file changed, 1 insertion(+), 1 deletion(-)\n",
      "On branch master\n",
      "Your branch is ahead of 'origin/master' by 1 commit.\n",
      "  (use \"git push\" to publish your local commits)\n",
      "\n",
      "nothing to commit, working tree clean\n"
     ]
    }
   ],
   "source": [
    "!git add README.md\n",
    "!git commit -m 'Change for remote pushing'\n",
    "!git status"
   ]
  },
  {
   "cell_type": "code",
   "execution_count": 66,
   "metadata": {},
   "outputs": [
    {
     "name": "stdout",
     "output_type": "stream",
     "text": [
      "Warning: untrusted X11 forwarding setup failed: xauth key data not generated\n",
      "Counting objects: 3, done.\n",
      "Delta compression using up to 8 threads.\n",
      "Compressing objects: 100% (3/3), done.\n",
      "Writing objects: 100% (3/3), 387 bytes | 387.00 KiB/s, done.\n",
      "Total 3 (delta 0), reused 0 (delta 0)\n",
      "To github.com:rick446/my-repo.git\n",
      "   911f10a..05cfbd0  master -> master\n"
     ]
    }
   ],
   "source": [
    "!git push"
   ]
  },
  {
   "cell_type": "markdown",
   "metadata": {},
   "source": [
    "# Working with \"forks\"\n",
    "\n",
    "Github introduced a concept known as a \"fork.\" \n",
    "\n",
    "A fork is a **remote clone** of another repo (typically referred to as the \"upstream\" repo) that *you own.*\n",
    "\n",
    "To create a fork, you visit the upstream repo on Github and click the 'fork' button.\n",
    "\n",
    "Once you've created your fork, you `git clone` your fork, and then you can push/pull to/from your fork whenever you want."
   ]
  },
  {
   "cell_type": "markdown",
   "metadata": {},
   "source": [
    "### Managing the upstream with a second remote\n",
    "\n",
    "Sometimes it can be handy to have a remote reference to both the upstream (which we'll call 'upstream') and your fork (which we'll call 'origin'). In order to add a new remote, we just use the `git remote add` command:"
   ]
  },
  {
   "cell_type": "code",
   "execution_count": 67,
   "metadata": {},
   "outputs": [
    {
     "name": "stdout",
     "output_type": "stream",
     "text": [
      "/Users/rick446/src/arborian-classes/data\n"
     ]
    }
   ],
   "source": [
    "cd .."
   ]
  },
  {
   "cell_type": "code",
   "execution_count": 68,
   "metadata": {},
   "outputs": [],
   "source": [
    "!rm -fr my-repo"
   ]
  },
  {
   "cell_type": "code",
   "execution_count": null,
   "metadata": {},
   "outputs": [],
   "source": [
    "!git clone https://github.com/rick446/my-repo.git"
   ]
  },
  {
   "cell_type": "code",
   "execution_count": 73,
   "metadata": {},
   "outputs": [
    {
     "name": "stdout",
     "output_type": "stream",
     "text": [
      "/Users/rick446/src/arborian-classes/data/my-repo\n"
     ]
    }
   ],
   "source": [
    "cd my-repo/"
   ]
  },
  {
   "cell_type": "code",
   "execution_count": 75,
   "metadata": {},
   "outputs": [],
   "source": [
    "!git remote add upstream https://github.com/Arborian/my-repo.git"
   ]
  },
  {
   "cell_type": "markdown",
   "metadata": {},
   "source": [
    "# Fetching changes from upstream\n",
    "\n",
    "Once we have our upstream reference, suppose someone makes a change to it and we need to merge those changes into our local 'master.' To do this, we can use the `git pull upstream` command to merge the chagnes from upstream's master into our local branch:"
   ]
  },
  {
   "cell_type": "code",
   "execution_count": 76,
   "metadata": {},
   "outputs": [
    {
     "name": "stdout",
     "output_type": "stream",
     "text": [
      "From https://github.com/Arborian/my-repo\n",
      " * branch            master     -> FETCH_HEAD\n",
      "Updating 05cfbd0..2362d18\n",
      "Fast-forward\n",
      " README.md | 3 \u001b[1;32m+++\u001b[m\n",
      " 1 file changed, 3 insertions(+)\n",
      "Current branch master is up to date.\n"
     ]
    }
   ],
   "source": [
    "!git pull upstream master"
   ]
  },
  {
   "cell_type": "code",
   "execution_count": 77,
   "metadata": {},
   "outputs": [
    {
     "name": "stdout",
     "output_type": "stream",
     "text": [
      "* \u001b[33m2362d18\u001b[m\u001b[33m (\u001b[m\u001b[1;36mHEAD -> \u001b[m\u001b[1;32mmaster\u001b[m\u001b[33m, \u001b[m\u001b[1;31mupstream/master\u001b[m\u001b[33m)\u001b[m Update README.md\r\n",
      "* \u001b[33m05cfbd0\u001b[m\u001b[33m (\u001b[m\u001b[1;31morigin/master\u001b[m\u001b[33m, \u001b[m\u001b[1;31morigin/HEAD\u001b[m\u001b[33m)\u001b[m Change for remote pushing\r\n",
      "*   \u001b[33m911f10a\u001b[m Merge branch 'branch2'\r\n",
      "\u001b[32m|\u001b[m\u001b[33m\\\u001b[m  \r\n",
      "\u001b[32m|\u001b[m * \u001b[33m23bcd7b\u001b[m Make a change on branch1\r\n",
      "* \u001b[33m|\u001b[m \u001b[33m761a39e\u001b[m Added license so our stuff doesn't get stolen\r\n",
      "\u001b[33m|\u001b[m\u001b[33m/\u001b[m  \r\n",
      "* \u001b[33m763daca\u001b[m You can also specify your commit message on the command-line\r\n",
      "* \u001b[33m67f5fe4\u001b[m This is my message\r\n"
     ]
    }
   ],
   "source": [
    "!git log --oneline --graph --decorate --all"
   ]
  },
  {
   "cell_type": "markdown",
   "metadata": {},
   "source": [
    "Once I have the changes locally, I can push them to my fork to make sure everything stays up-to-date:"
   ]
  },
  {
   "cell_type": "code",
   "execution_count": 78,
   "metadata": {},
   "outputs": [
    {
     "name": "stdout",
     "output_type": "stream",
     "text": [
      "Warning: untrusted X11 forwarding setup failed: xauth key data not generated\n",
      "Counting objects: 3, done.\n",
      "Delta compression using up to 8 threads.\n",
      "Compressing objects: 100% (3/3), done.\n",
      "Writing objects: 100% (3/3), 759 bytes | 759.00 KiB/s, done.\n",
      "Total 3 (delta 1), reused 0 (delta 0)\n",
      "remote: Resolving deltas: 100% (1/1), completed with 1 local object.\u001b[K\n",
      "To github.com:rick446/my-repo.git\n",
      "   05cfbd0..2362d18  master -> master\n"
     ]
    }
   ],
   "source": [
    "!git push"
   ]
  },
  {
   "cell_type": "markdown",
   "metadata": {},
   "source": [
    "### Requesting that our changes be incorporated upstream with \"pull requests\"\n",
    "\n",
    "Suppose we've made a number of changes to our fork (pushing them all up from our local clone) and we'd like to have them incorporated into the upstream. \n",
    "\n",
    "For this case, Github introduced the concept of \"pull requests,\" which are requests on github.com that a maintainer of the upstream project merge in changes from your fork. "
   ]
  },
  {
   "cell_type": "code",
   "execution_count": 79,
   "metadata": {},
   "outputs": [
    {
     "name": "stdout",
     "output_type": "stream",
     "text": [
      "Overwriting README.md\n"
     ]
    }
   ],
   "source": [
    "%%file README.md\n",
    "# My very first project\n",
    "\n",
    "This is my first git repo.\n",
    "\n",
    "Here is some more text.\n",
    "\n",
    "This is a commit that will be pushed to the remote\n",
    "\n",
    "This is a change so I can do a pull request"
   ]
  },
  {
   "cell_type": "code",
   "execution_count": 80,
   "metadata": {},
   "outputs": [],
   "source": [
    "!git add README.md"
   ]
  },
  {
   "cell_type": "code",
   "execution_count": 81,
   "metadata": {},
   "outputs": [
    {
     "name": "stdout",
     "output_type": "stream",
     "text": [
      "[master e002746] Change for pull request\r\n",
      " 1 file changed, 1 insertion(+), 2 deletions(-)\r\n"
     ]
    }
   ],
   "source": [
    "!git commit -m 'Change for pull request'"
   ]
  },
  {
   "cell_type": "code",
   "execution_count": 83,
   "metadata": {},
   "outputs": [
    {
     "name": "stdout",
     "output_type": "stream",
     "text": [
      "Warning: untrusted X11 forwarding setup failed: xauth key data not generated\n",
      "Counting objects: 3, done.\n",
      "Delta compression using up to 8 threads.\n",
      "Compressing objects: 100% (3/3), done.\n",
      "Writing objects: 100% (3/3), 357 bytes | 357.00 KiB/s, done.\n",
      "Total 3 (delta 1), reused 0 (delta 0)\n",
      "remote: Resolving deltas: 100% (1/1), completed with 1 local object.\u001b[K\n",
      "To github.com:rick446/my-repo.git\n",
      "   2362d18..e002746  master -> master\n"
     ]
    }
   ],
   "source": [
    "!git push"
   ]
  },
  {
   "cell_type": "markdown",
   "metadata": {},
   "source": [
    "If I go to my fork on Github now, I can click the displayed button to create a pull request:\n",
    "\n",
    "<img src=\"data/img/pull-request-1.png\">"
   ]
  },
  {
   "cell_type": "markdown",
   "metadata": {},
   "source": [
    "If I go ahead and complete creating the pull request by filling out the forms, then the upstream maintainer is notified of the request and can choose to incorporate the changes by simply clicking 'merge pull request:'\n",
    "\n",
    "<img src=\"data/img/pull-request-upstream.png\">"
   ]
  },
  {
   "cell_type": "markdown",
   "metadata": {},
   "source": [
    "# Workflow\n",
    "\n",
    "Overall, then, we can work with forks, remotes, and clones with the following diagram as a guide:\n",
    "\n",
    "<img src=\"data/img/github-workflow.png\">\n",
    "\n",
    "### Setup\n",
    "\n",
    "1. (on github.com) fork the upstream repository\n",
    "1. (locally) clone fork to your local machine\n",
    "1. (locally) create a reference to the upstream with `git remote add`\n",
    "\n",
    "### Day-to-day work\n",
    "\n",
    "1. (locally) make changes and commits\n",
    "1. (locally) push changes to your fork\n",
    "\n",
    "### Keeping up-to-date with upstream\n",
    "\n",
    "1. (locally) `git pull upstream master` \n",
    "\n",
    "### Requesting that your work be incorporated upstream\n",
    "\n",
    "1. (locally) push all changes to your fork\n",
    "1. (on github.com) create a pull request"
   ]
  },
  {
   "cell_type": "markdown",
   "metadata": {},
   "source": [
    "# Lab\n",
    "\n",
    "Open [Github lab][github-lab]\n",
    "\n",
    "[github-lab]: ./github-lab.ipynb"
   ]
  }
 ],
 "metadata": {
  "kernelspec": {
   "display_name": "Python 3",
   "language": "python",
   "name": "python3"
  },
  "language_info": {
   "codemirror_mode": {
    "name": "ipython",
    "version": 3
   },
   "file_extension": ".py",
   "mimetype": "text/x-python",
   "name": "python",
   "nbconvert_exporter": "python",
   "pygments_lexer": "ipython3",
   "version": "3.7.2"
  }
 },
 "nbformat": 4,
 "nbformat_minor": 2
}
