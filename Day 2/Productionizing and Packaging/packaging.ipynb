{
 "cells": [
  {
   "cell_type": "markdown",
   "metadata": {},
   "source": [
    "# Packaging Projects for Distribution\n",
    "\n",
    "- Creating a basic Python project with `setup.py` and `setup.cfg`\n",
    "- Specifying dependencies\n",
    "- Activating projects in a virtualenv with `setup.py develop`\n",
    "- Distributing data with your project\n",
    "- Using entry points to create console scripts\n",
    "- Uploading source distributions to PyPI"
   ]
  },
  {
   "cell_type": "markdown",
   "metadata": {},
   "source": [
    "# First, some terminology...\n",
    "\n",
    "- a Python **module** is typically a single file ending in `.py` located somewhere along `sys.path` that you can use with the Python `import` statement\n",
    "- a Python **package** is a folder located somewhere along `sys.path` containing a \"magic\" file `__init__.py` which can also be imported. If you import a package, Python is actually importing the `__init__.py` *module* in that *package*. You can also import modules or subpackages from a package.\n",
    "- a Python **project** is a unit of distribution of Python code (it's something you can `pip install`)"
   ]
  },
  {
   "cell_type": "markdown",
   "metadata": {},
   "source": [
    "# Creating a basic Python project with `setup.py` and `setup.cfg`\n",
    "\n",
    "To create a project for distribution, you'll need to create a directory with:\n",
    "\n",
    "- one or more Python packages to distribute\n",
    "- a `setup.py` file\n",
    "- (optionally) a `setup.cfg` file"
   ]
  },
  {
   "cell_type": "code",
   "execution_count": 45,
   "metadata": {
    "scrolled": true
   },
   "outputs": [
    {
     "name": "stdout",
     "output_type": "stream",
     "text": [
      "Overwriting data/MyProject/mypackage/__init__.py\n"
     ]
    }
   ],
   "source": [
    "%%file data/MyProject/mypackage/__init__.py\n",
    "print('This is the __init__ file for mypackage')"
   ]
  },
  {
   "cell_type": "code",
   "execution_count": 46,
   "metadata": {},
   "outputs": [
    {
     "name": "stdout",
     "output_type": "stream",
     "text": [
      "Overwriting data/MyProject/mypackage/mymodule.py\n"
     ]
    }
   ],
   "source": [
    "%%file data/MyProject/mypackage/mymodule.py\n",
    "print('This is mymodule')\n",
    "\n",
    "\n",
    "def greet(name):\n",
    "    print(f'Hello, {name}!')"
   ]
  },
  {
   "cell_type": "markdown",
   "metadata": {},
   "source": [
    "For this demo, we'll use `setup.cfg` to provide metadata for our project, so we only need a minimal setup.py:"
   ]
  },
  {
   "cell_type": "code",
   "execution_count": 47,
   "metadata": {},
   "outputs": [
    {
     "name": "stdout",
     "output_type": "stream",
     "text": [
      "Overwriting data/MyProject/setup.py\n"
     ]
    }
   ],
   "source": [
    "%%file data/MyProject/setup.py\n",
    "from setuptools import setup\n",
    "\n",
    "\n",
    "setup()"
   ]
  },
  {
   "cell_type": "markdown",
   "metadata": {},
   "source": [
    "We can create the `setup.cfg` file to specify how `setuptools` will build and distribute our project:"
   ]
  },
  {
   "cell_type": "code",
   "execution_count": 48,
   "metadata": {},
   "outputs": [
    {
     "name": "stdout",
     "output_type": "stream",
     "text": [
      "Overwriting data/MyProject/setup.cfg\n"
     ]
    }
   ],
   "source": [
    "%%file data/MyProject/setup.cfg\n",
    "[metadata]\n",
    "name = MyProject\n",
    "url = file:///\n",
    "author = Some Person\n",
    "author_email = somebody@example.com\n",
    "version = 0.1\n",
    "description = This should be a short description of our project\n",
    "long_description = file: README.md\n",
    "classifiers =\n",
    "    Programming Language :: Python :: 3\n",
    "    Programming Language :: Python :: 3.7\n",
    "keywords = test, class"
   ]
  },
  {
   "cell_type": "markdown",
   "metadata": {},
   "source": [
    "It's always nice to provide a README as well:"
   ]
  },
  {
   "cell_type": "code",
   "execution_count": 49,
   "metadata": {},
   "outputs": [
    {
     "name": "stdout",
     "output_type": "stream",
     "text": [
      "Overwriting data/MyProject/README.md\n"
     ]
    }
   ],
   "source": [
    "%%file data/MyProject/README.md\n",
    "# MyProject\n",
    "\n",
    "This project is a test setuptools project."
   ]
  },
  {
   "cell_type": "markdown",
   "metadata": {},
   "source": [
    "## Creating a source distribution\n",
    "\n",
    "The entry point for all our project management commands is `setup.py`.\n",
    "\n",
    "We can create a simple source distribution of our project by calling `python setup.py sdist`:"
   ]
  },
  {
   "cell_type": "code",
   "execution_count": 52,
   "metadata": {},
   "outputs": [
    {
     "name": "stdout",
     "output_type": "stream",
     "text": [
      "running sdist\n",
      "running egg_info\n",
      "creating MyProject.egg-info\n",
      "writing MyProject.egg-info/PKG-INFO\n",
      "writing dependency_links to MyProject.egg-info/dependency_links.txt\n",
      "writing top-level names to MyProject.egg-info/top_level.txt\n",
      "writing manifest file 'MyProject.egg-info/SOURCES.txt'\n",
      "reading manifest file 'MyProject.egg-info/SOURCES.txt'\n",
      "writing manifest file 'MyProject.egg-info/SOURCES.txt'\n",
      "running check\n",
      "creating MyProject-0.1\n",
      "creating MyProject-0.1/MyProject.egg-info\n",
      "copying files to MyProject-0.1...\n",
      "copying README.md -> MyProject-0.1\n",
      "copying setup.cfg -> MyProject-0.1\n",
      "copying setup.py -> MyProject-0.1\n",
      "copying MyProject.egg-info/PKG-INFO -> MyProject-0.1/MyProject.egg-info\n",
      "copying MyProject.egg-info/SOURCES.txt -> MyProject-0.1/MyProject.egg-info\n",
      "copying MyProject.egg-info/dependency_links.txt -> MyProject-0.1/MyProject.egg-info\n",
      "copying MyProject.egg-info/top_level.txt -> MyProject-0.1/MyProject.egg-info\n",
      "Writing MyProject-0.1/setup.cfg\n",
      "creating dist\n",
      "Creating tar archive\n",
      "removing 'MyProject-0.1' (and everything under it)\n"
     ]
    }
   ],
   "source": [
    "%%bash\n",
    "cd data/MyProject\n",
    "python setup.py sdist"
   ]
  },
  {
   "cell_type": "code",
   "execution_count": 53,
   "metadata": {},
   "outputs": [
    {
     "name": "stdout",
     "output_type": "stream",
     "text": [
      "MyProject-0.1/\r\n",
      "MyProject-0.1/MyProject.egg-info/\r\n",
      "MyProject-0.1/MyProject.egg-info/PKG-INFO\r\n",
      "MyProject-0.1/MyProject.egg-info/SOURCES.txt\r\n",
      "MyProject-0.1/MyProject.egg-info/dependency_links.txt\r\n",
      "MyProject-0.1/MyProject.egg-info/top_level.txt\r\n",
      "MyProject-0.1/PKG-INFO\r\n",
      "MyProject-0.1/README.md\r\n",
      "MyProject-0.1/setup.cfg\r\n",
      "MyProject-0.1/setup.py\r\n"
     ]
    }
   ],
   "source": [
    "!tar tzf data/MyProject/dist/MyProject-0.1.tar.gz"
   ]
  },
  {
   "cell_type": "markdown",
   "metadata": {},
   "source": [
    "## Adding our packages\n",
    "\n",
    "So we have an empty project (no packages/modules). We need to tell setuptools to actually include our package explicitly:"
   ]
  },
  {
   "cell_type": "code",
   "execution_count": 54,
   "metadata": {},
   "outputs": [
    {
     "name": "stdout",
     "output_type": "stream",
     "text": [
      "Overwriting data/MyProject/setup.cfg\n"
     ]
    }
   ],
   "source": [
    "%%file data/MyProject/setup.cfg\n",
    "[metadata]\n",
    "name = MyProject\n",
    "url = file:///\n",
    "author = Some Person\n",
    "author_email = somebody@example.com\n",
    "version = 0.1\n",
    "description = This should be a short description of our project\n",
    "long_description = file: README.md\n",
    "classifiers =\n",
    "    Programming Language :: Python :: 3\n",
    "    Programming Language :: Python :: 3.7\n",
    "keywords = test, class\n",
    "\n",
    "[options]\n",
    "packages = mypackage"
   ]
  },
  {
   "cell_type": "code",
   "execution_count": 55,
   "metadata": {},
   "outputs": [
    {
     "name": "stdout",
     "output_type": "stream",
     "text": [
      "running sdist\n",
      "running egg_info\n",
      "writing MyProject.egg-info/PKG-INFO\n",
      "writing dependency_links to MyProject.egg-info/dependency_links.txt\n",
      "writing top-level names to MyProject.egg-info/top_level.txt\n",
      "reading manifest file 'MyProject.egg-info/SOURCES.txt'\n",
      "writing manifest file 'MyProject.egg-info/SOURCES.txt'\n",
      "running check\n",
      "creating MyProject-0.1\n",
      "creating MyProject-0.1/MyProject.egg-info\n",
      "creating MyProject-0.1/mypackage\n",
      "copying files to MyProject-0.1...\n",
      "copying README.md -> MyProject-0.1\n",
      "copying setup.cfg -> MyProject-0.1\n",
      "copying setup.py -> MyProject-0.1\n",
      "copying MyProject.egg-info/PKG-INFO -> MyProject-0.1/MyProject.egg-info\n",
      "copying MyProject.egg-info/SOURCES.txt -> MyProject-0.1/MyProject.egg-info\n",
      "copying MyProject.egg-info/dependency_links.txt -> MyProject-0.1/MyProject.egg-info\n",
      "copying MyProject.egg-info/top_level.txt -> MyProject-0.1/MyProject.egg-info\n",
      "copying mypackage/__init__.py -> MyProject-0.1/mypackage\n",
      "copying mypackage/mymodule.py -> MyProject-0.1/mypackage\n",
      "Writing MyProject-0.1/setup.cfg\n",
      "Creating tar archive\n",
      "removing 'MyProject-0.1' (and everything under it)\n"
     ]
    }
   ],
   "source": [
    "%%bash\n",
    "cd data/MyProject\n",
    "python setup.py sdist"
   ]
  },
  {
   "cell_type": "markdown",
   "metadata": {},
   "source": [
    "## Specifying dependencies\n",
    "\n",
    "We can tell setuptools that we depend on particular versions (or version ranges) of other packages with an `install_requires` option:"
   ]
  },
  {
   "cell_type": "code",
   "execution_count": 56,
   "metadata": {},
   "outputs": [
    {
     "name": "stdout",
     "output_type": "stream",
     "text": [
      "Overwriting data/MyProject/setup.cfg\n"
     ]
    }
   ],
   "source": [
    "%%file data/MyProject/setup.cfg\n",
    "[metadata]\n",
    "name = MyProject\n",
    "url = file:///\n",
    "author = Some Person\n",
    "author_email = somebody@example.com\n",
    "version = 0.1\n",
    "description = This should be a short description of our project\n",
    "long_description = file: README.md\n",
    "classifiers =\n",
    "    Programming Language :: Python :: 3\n",
    "    Programming Language :: Python :: 3.7\n",
    "keywords = test, class\n",
    "\n",
    "[options]\n",
    "packages = mypackage\n",
    "install_requires = \n",
    "    jupyter\n",
    "    flask\n",
    "    numpy>=1.16.0<1.17"
   ]
  },
  {
   "cell_type": "code",
   "execution_count": 57,
   "metadata": {},
   "outputs": [
    {
     "name": "stdout",
     "output_type": "stream",
     "text": [
      "running sdist\n",
      "running egg_info\n",
      "writing MyProject.egg-info/PKG-INFO\n",
      "writing dependency_links to MyProject.egg-info/dependency_links.txt\n",
      "writing requirements to MyProject.egg-info/requires.txt\n",
      "writing top-level names to MyProject.egg-info/top_level.txt\n",
      "reading manifest file 'MyProject.egg-info/SOURCES.txt'\n",
      "writing manifest file 'MyProject.egg-info/SOURCES.txt'\n",
      "running check\n",
      "creating MyProject-0.1\n",
      "creating MyProject-0.1/MyProject.egg-info\n",
      "creating MyProject-0.1/mypackage\n",
      "copying files to MyProject-0.1...\n",
      "copying README.md -> MyProject-0.1\n",
      "copying setup.cfg -> MyProject-0.1\n",
      "copying setup.py -> MyProject-0.1\n",
      "copying MyProject.egg-info/PKG-INFO -> MyProject-0.1/MyProject.egg-info\n",
      "copying MyProject.egg-info/SOURCES.txt -> MyProject-0.1/MyProject.egg-info\n",
      "copying MyProject.egg-info/dependency_links.txt -> MyProject-0.1/MyProject.egg-info\n",
      "copying MyProject.egg-info/requires.txt -> MyProject-0.1/MyProject.egg-info\n",
      "copying MyProject.egg-info/top_level.txt -> MyProject-0.1/MyProject.egg-info\n",
      "copying mypackage/__init__.py -> MyProject-0.1/mypackage\n",
      "copying mypackage/mymodule.py -> MyProject-0.1/mypackage\n",
      "Writing MyProject-0.1/setup.cfg\n",
      "Creating tar archive\n",
      "removing 'MyProject-0.1' (and everything under it)\n"
     ]
    }
   ],
   "source": [
    "%%bash\n",
    "cd data/MyProject\n",
    "python setup.py sdist"
   ]
  },
  {
   "cell_type": "markdown",
   "metadata": {},
   "source": [
    "# Activating projects using `setup.py develop`\n",
    "\n",
    "When we're developing our project, we probably want its packages to be importable as though it were 'installed' in our virtualenv. To do this, we can invoke `setup.py` with the `develop` option. \n",
    "\n",
    "This creates a `MyProject.egg-link` file in a location along `sys.path` which makes your packages importable from anwhere that uses the virtualenv."
   ]
  },
  {
   "cell_type": "code",
   "execution_count": 58,
   "metadata": {},
   "outputs": [
    {
     "name": "stdout",
     "output_type": "stream",
     "text": [
      "running develop\n",
      "running egg_info\n",
      "writing MyProject.egg-info/PKG-INFO\n",
      "writing dependency_links to MyProject.egg-info/dependency_links.txt\n",
      "writing requirements to MyProject.egg-info/requires.txt\n",
      "writing top-level names to MyProject.egg-info/top_level.txt\n",
      "reading manifest file 'MyProject.egg-info/SOURCES.txt'\n",
      "writing manifest file 'MyProject.egg-info/SOURCES.txt'\n",
      "running build_ext\n",
      "Creating /Users/rick446/src/arborian-classes/data/MyProject/env/lib/python3.7/site-packages/MyProject.egg-link (link to .)\n",
      "MyProject 0.1 is already the active version in easy-install.pth\n",
      "\n",
      "Installed /Users/rick446/src/arborian-classes/data/MyProject\n",
      "Processing dependencies for MyProject==0.1\n",
      "Searching for numpy==1.16.1\n",
      "Best match: numpy 1.16.1\n",
      "Processing numpy-1.16.1-py3.7-macosx-10.14-x86_64.egg\n",
      "numpy 1.16.1 is already the active version in easy-install.pth\n",
      "Installing f2py script to /Users/rick446/src/arborian-classes/data/MyProject/env/bin\n",
      "Installing f2py3 script to /Users/rick446/src/arborian-classes/data/MyProject/env/bin\n",
      "Installing f2py3.7 script to /Users/rick446/src/arborian-classes/data/MyProject/env/bin\n",
      "\n",
      "Using /Users/rick446/src/arborian-classes/data/MyProject/env/lib/python3.7/site-packages/numpy-1.16.1-py3.7-macosx-10.14-x86_64.egg\n",
      "Searching for Flask==1.0.2\n",
      "Best match: Flask 1.0.2\n",
      "Processing Flask-1.0.2-py3.7.egg\n",
      "Flask 1.0.2 is already the active version in easy-install.pth\n",
      "Installing flask script to /Users/rick446/src/arborian-classes/data/MyProject/env/bin\n",
      "\n",
      "Using /Users/rick446/src/arborian-classes/data/MyProject/env/lib/python3.7/site-packages/Flask-1.0.2-py3.7.egg\n",
      "Searching for jupyter==1.0.0\n",
      "Best match: jupyter 1.0.0\n",
      "Processing jupyter-1.0.0-py3.7.egg\n",
      "jupyter 1.0.0 is already the active version in easy-install.pth\n",
      "\n",
      "Using /Users/rick446/src/arborian-classes/data/MyProject/env/lib/python3.7/site-packages/jupyter-1.0.0-py3.7.egg\n",
      "Searching for itsdangerous==1.1.0\n",
      "Best match: itsdangerous 1.1.0\n",
      "Processing itsdangerous-1.1.0-py3.7.egg\n",
      "itsdangerous 1.1.0 is already the active version in easy-install.pth\n",
      "\n",
      "Using /Users/rick446/src/arborian-classes/data/MyProject/env/lib/python3.7/site-packages/itsdangerous-1.1.0-py3.7.egg\n",
      "Searching for Click==7.0\n",
      "Best match: Click 7.0\n",
      "Processing Click-7.0-py3.7.egg\n",
      "Click 7.0 is already the active version in easy-install.pth\n",
      "\n",
      "Using /Users/rick446/src/arborian-classes/data/MyProject/env/lib/python3.7/site-packages/Click-7.0-py3.7.egg\n",
      "Searching for Werkzeug==0.14.1\n",
      "Best match: Werkzeug 0.14.1\n",
      "Processing Werkzeug-0.14.1-py3.7.egg\n",
      "Werkzeug 0.14.1 is already the active version in easy-install.pth\n",
      "\n",
      "Using /Users/rick446/src/arborian-classes/data/MyProject/env/lib/python3.7/site-packages/Werkzeug-0.14.1-py3.7.egg\n",
      "Searching for Jinja2==2.10\n",
      "Best match: Jinja2 2.10\n",
      "Processing Jinja2-2.10-py3.7.egg\n",
      "Jinja2 2.10 is already the active version in easy-install.pth\n",
      "\n",
      "Using /Users/rick446/src/arborian-classes/data/MyProject/env/lib/python3.7/site-packages/Jinja2-2.10-py3.7.egg\n",
      "Searching for qtconsole==4.4.3\n",
      "Best match: qtconsole 4.4.3\n",
      "Processing qtconsole-4.4.3-py3.7.egg\n",
      "qtconsole 4.4.3 is already the active version in easy-install.pth\n",
      "Installing jupyter-qtconsole script to /Users/rick446/src/arborian-classes/data/MyProject/env/bin\n",
      "\n",
      "Using /Users/rick446/src/arborian-classes/data/MyProject/env/lib/python3.7/site-packages/qtconsole-4.4.3-py3.7.egg\n",
      "Searching for notebook==5.7.4\n",
      "Best match: notebook 5.7.4\n",
      "Processing notebook-5.7.4-py3.7.egg\n",
      "notebook 5.7.4 is already the active version in easy-install.pth\n",
      "Installing jupyter-bundlerextension script to /Users/rick446/src/arborian-classes/data/MyProject/env/bin\n",
      "Installing jupyter-nbextension script to /Users/rick446/src/arborian-classes/data/MyProject/env/bin\n",
      "Installing jupyter-notebook script to /Users/rick446/src/arborian-classes/data/MyProject/env/bin\n",
      "Installing jupyter-serverextension script to /Users/rick446/src/arborian-classes/data/MyProject/env/bin\n",
      "\n",
      "Using /Users/rick446/src/arborian-classes/data/MyProject/env/lib/python3.7/site-packages/notebook-5.7.4-py3.7.egg\n",
      "Searching for nbconvert==5.4.1\n",
      "Best match: nbconvert 5.4.1\n",
      "Processing nbconvert-5.4.1-py3.7.egg\n",
      "nbconvert 5.4.1 is already the active version in easy-install.pth\n",
      "Installing jupyter-nbconvert script to /Users/rick446/src/arborian-classes/data/MyProject/env/bin\n",
      "\n",
      "Using /Users/rick446/src/arborian-classes/data/MyProject/env/lib/python3.7/site-packages/nbconvert-5.4.1-py3.7.egg\n",
      "Searching for jupyter-console==6.0.0\n",
      "Best match: jupyter-console 6.0.0\n",
      "Processing jupyter_console-6.0.0-py3.7.egg\n",
      "jupyter-console 6.0.0 is already the active version in easy-install.pth\n",
      "Installing jupyter-console script to /Users/rick446/src/arborian-classes/data/MyProject/env/bin\n",
      "\n",
      "Using /Users/rick446/src/arborian-classes/data/MyProject/env/lib/python3.7/site-packages/jupyter_console-6.0.0-py3.7.egg\n",
      "Searching for ipywidgets==7.4.2\n",
      "Best match: ipywidgets 7.4.2\n",
      "Processing ipywidgets-7.4.2-py3.7.egg\n",
      "ipywidgets 7.4.2 is already the active version in easy-install.pth\n",
      "\n",
      "Using /Users/rick446/src/arborian-classes/data/MyProject/env/lib/python3.7/site-packages/ipywidgets-7.4.2-py3.7.egg\n",
      "Searching for ipykernel==5.1.0\n",
      "Best match: ipykernel 5.1.0\n",
      "Processing ipykernel-5.1.0-py3.7.egg\n",
      "ipykernel 5.1.0 is already the active version in easy-install.pth\n",
      "\n",
      "Using /Users/rick446/src/arborian-classes/data/MyProject/env/lib/python3.7/site-packages/ipykernel-5.1.0-py3.7.egg\n",
      "Searching for MarkupSafe==1.1.0\n",
      "Best match: MarkupSafe 1.1.0\n",
      "Processing MarkupSafe-1.1.0-py3.7-macosx-10.14-x86_64.egg\n",
      "MarkupSafe 1.1.0 is already the active version in easy-install.pth\n",
      "\n",
      "Using /Users/rick446/src/arborian-classes/data/MyProject/env/lib/python3.7/site-packages/MarkupSafe-1.1.0-py3.7-macosx-10.14-x86_64.egg\n",
      "Searching for traitlets==4.3.2\n",
      "Best match: traitlets 4.3.2\n",
      "Processing traitlets-4.3.2-py3.7.egg\n",
      "traitlets 4.3.2 is already the active version in easy-install.pth\n",
      "\n",
      "Using /Users/rick446/src/arborian-classes/data/MyProject/env/lib/python3.7/site-packages/traitlets-4.3.2-py3.7.egg\n",
      "Searching for Pygments==2.3.1\n",
      "Best match: Pygments 2.3.1\n",
      "Processing Pygments-2.3.1-py3.7.egg\n",
      "Pygments 2.3.1 is already the active version in easy-install.pth\n",
      "Installing pygmentize script to /Users/rick446/src/arborian-classes/data/MyProject/env/bin\n",
      "\n",
      "Using /Users/rick446/src/arborian-classes/data/MyProject/env/lib/python3.7/site-packages/Pygments-2.3.1-py3.7.egg\n",
      "Searching for jupyter-core==4.4.0\n",
      "Best match: jupyter-core 4.4.0\n",
      "Processing jupyter_core-4.4.0-py3.7.egg\n",
      "jupyter-core 4.4.0 is already the active version in easy-install.pth\n",
      "Installing jupyter script to /Users/rick446/src/arborian-classes/data/MyProject/env/bin\n",
      "Installing jupyter-migrate script to /Users/rick446/src/arborian-classes/data/MyProject/env/bin\n",
      "Installing jupyter-troubleshoot script to /Users/rick446/src/arborian-classes/data/MyProject/env/bin\n",
      "\n",
      "Using /Users/rick446/src/arborian-classes/data/MyProject/env/lib/python3.7/site-packages/jupyter_core-4.4.0-py3.7.egg\n",
      "Searching for jupyter-client==5.2.4\n",
      "Best match: jupyter-client 5.2.4\n",
      "Processing jupyter_client-5.2.4-py3.7.egg\n",
      "jupyter-client 5.2.4 is already the active version in easy-install.pth\n",
      "Installing jupyter-kernel script to /Users/rick446/src/arborian-classes/data/MyProject/env/bin\n",
      "Installing jupyter-kernelspec script to /Users/rick446/src/arborian-classes/data/MyProject/env/bin\n",
      "Installing jupyter-run script to /Users/rick446/src/arborian-classes/data/MyProject/env/bin\n",
      "\n",
      "Using /Users/rick446/src/arborian-classes/data/MyProject/env/lib/python3.7/site-packages/jupyter_client-5.2.4-py3.7.egg\n",
      "Searching for ipython-genutils==0.2.0\n",
      "Best match: ipython-genutils 0.2.0\n",
      "Processing ipython_genutils-0.2.0-py3.7.egg\n",
      "ipython-genutils 0.2.0 is already the active version in easy-install.pth\n",
      "\n",
      "Using /Users/rick446/src/arborian-classes/data/MyProject/env/lib/python3.7/site-packages/ipython_genutils-0.2.0-py3.7.egg\n",
      "Searching for tornado==6.0b1\n",
      "Best match: tornado 6.0b1\n",
      "Processing tornado-6.0b1-py3.7-macosx-10.14-x86_64.egg\n",
      "tornado 6.0b1 is already the active version in easy-install.pth\n",
      "\n",
      "Using /Users/rick446/src/arborian-classes/data/MyProject/env/lib/python3.7/site-packages/tornado-6.0b1-py3.7-macosx-10.14-x86_64.egg\n",
      "Searching for terminado==0.8.1\n",
      "Best match: terminado 0.8.1\n",
      "Processing terminado-0.8.1-py3.7.egg\n",
      "terminado 0.8.1 is already the active version in easy-install.pth\n",
      "\n",
      "Using /Users/rick446/src/arborian-classes/data/MyProject/env/lib/python3.7/site-packages/terminado-0.8.1-py3.7.egg\n",
      "Searching for pyzmq==17.1.2\n",
      "Best match: pyzmq 17.1.2\n",
      "Processing pyzmq-17.1.2-py3.7-macosx-10.14-x86_64.egg\n",
      "pyzmq 17.1.2 is already the active version in easy-install.pth\n",
      "\n",
      "Using /Users/rick446/src/arborian-classes/data/MyProject/env/lib/python3.7/site-packages/pyzmq-17.1.2-py3.7-macosx-10.14-x86_64.egg\n",
      "Searching for prometheus-client==0.5.0\n",
      "Best match: prometheus-client 0.5.0\n",
      "Processing prometheus_client-0.5.0-py3.7.egg\n",
      "prometheus-client 0.5.0 is already the active version in easy-install.pth\n",
      "\n",
      "Using /Users/rick446/src/arborian-classes/data/MyProject/env/lib/python3.7/site-packages/prometheus_client-0.5.0-py3.7.egg\n",
      "Searching for nbformat==4.4.0\n",
      "Best match: nbformat 4.4.0\n",
      "Processing nbformat-4.4.0-py3.7.egg\n",
      "nbformat 4.4.0 is already the active version in easy-install.pth\n",
      "Installing jupyter-trust script to /Users/rick446/src/arborian-classes/data/MyProject/env/bin\n",
      "\n",
      "Using /Users/rick446/src/arborian-classes/data/MyProject/env/lib/python3.7/site-packages/nbformat-4.4.0-py3.7.egg\n",
      "Searching for Send2Trash==1.5.0\n",
      "Best match: Send2Trash 1.5.0\n",
      "Processing Send2Trash-1.5.0-py3.7.egg\n",
      "Send2Trash 1.5.0 is already the active version in easy-install.pth\n",
      "\n",
      "Using /Users/rick446/src/arborian-classes/data/MyProject/env/lib/python3.7/site-packages/Send2Trash-1.5.0-py3.7.egg\n",
      "Searching for testpath==0.4.2\n",
      "Best match: testpath 0.4.2\n",
      "Processing testpath-0.4.2-py3.7.egg\n",
      "testpath 0.4.2 is already the active version in easy-install.pth\n",
      "\n",
      "Using /Users/rick446/src/arborian-classes/data/MyProject/env/lib/python3.7/site-packages/testpath-0.4.2-py3.7.egg\n",
      "Searching for pandocfilters==1.4.2\n",
      "Best match: pandocfilters 1.4.2\n",
      "Processing pandocfilters-1.4.2-py3.7.egg\n",
      "pandocfilters 1.4.2 is already the active version in easy-install.pth\n",
      "\n",
      "Using /Users/rick446/src/arborian-classes/data/MyProject/env/lib/python3.7/site-packages/pandocfilters-1.4.2-py3.7.egg\n",
      "Searching for mistune==0.8.4\n",
      "Best match: mistune 0.8.4\n",
      "Processing mistune-0.8.4-py3.7.egg\n",
      "mistune 0.8.4 is already the active version in easy-install.pth\n",
      "\n",
      "Using /Users/rick446/src/arborian-classes/data/MyProject/env/lib/python3.7/site-packages/mistune-0.8.4-py3.7.egg\n",
      "Searching for entrypoints==0.3\n",
      "Best match: entrypoints 0.3\n",
      "Processing entrypoints-0.3-py3.7.egg\n",
      "entrypoints 0.3 is already the active version in easy-install.pth\n",
      "\n",
      "Using /Users/rick446/src/arborian-classes/data/MyProject/env/lib/python3.7/site-packages/entrypoints-0.3-py3.7.egg\n",
      "Searching for defusedxml==0.5.0\n",
      "Best match: defusedxml 0.5.0\n",
      "Processing defusedxml-0.5.0-py3.7.egg\n",
      "defusedxml 0.5.0 is already the active version in easy-install.pth\n",
      "\n",
      "Using /Users/rick446/src/arborian-classes/data/MyProject/env/lib/python3.7/site-packages/defusedxml-0.5.0-py3.7.egg\n",
      "Searching for bleach==3.1.0\n",
      "Best match: bleach 3.1.0\n",
      "Processing bleach-3.1.0-py3.7.egg\n",
      "bleach 3.1.0 is already the active version in easy-install.pth\n",
      "\n",
      "Using /Users/rick446/src/arborian-classes/data/MyProject/env/lib/python3.7/site-packages/bleach-3.1.0-py3.7.egg\n",
      "Searching for prompt-toolkit==2.0.8\n",
      "Best match: prompt-toolkit 2.0.8\n",
      "Processing prompt_toolkit-2.0.8-py3.7.egg\n",
      "prompt-toolkit 2.0.8 is already the active version in easy-install.pth\n",
      "\n",
      "Using /Users/rick446/src/arborian-classes/data/MyProject/env/lib/python3.7/site-packages/prompt_toolkit-2.0.8-py3.7.egg\n",
      "Searching for ipython==7.2.0\n",
      "Best match: ipython 7.2.0\n",
      "Processing ipython-7.2.0-py3.7.egg\n",
      "ipython 7.2.0 is already the active version in easy-install.pth\n",
      "Installing iptest script to /Users/rick446/src/arborian-classes/data/MyProject/env/bin\n",
      "Installing iptest3 script to /Users/rick446/src/arborian-classes/data/MyProject/env/bin\n",
      "Installing ipython script to /Users/rick446/src/arborian-classes/data/MyProject/env/bin\n",
      "Installing ipython3 script to /Users/rick446/src/arborian-classes/data/MyProject/env/bin\n",
      "\n",
      "Using /Users/rick446/src/arborian-classes/data/MyProject/env/lib/python3.7/site-packages/ipython-7.2.0-py3.7.egg\n",
      "Searching for widgetsnbextension==3.4.2\n",
      "Best match: widgetsnbextension 3.4.2\n",
      "Processing widgetsnbextension-3.4.2-py3.7.egg\n",
      "widgetsnbextension 3.4.2 is already the active version in easy-install.pth\n",
      "\n",
      "Using /Users/rick446/src/arborian-classes/data/MyProject/env/lib/python3.7/site-packages/widgetsnbextension-3.4.2-py3.7.egg\n",
      "Searching for six==1.12.0\n",
      "Best match: six 1.12.0\n",
      "Processing six-1.12.0-py3.7.egg\n",
      "six 1.12.0 is already the active version in easy-install.pth\n",
      "\n",
      "Using /Users/rick446/src/arborian-classes/data/MyProject/env/lib/python3.7/site-packages/six-1.12.0-py3.7.egg\n",
      "Searching for decorator==4.3.2\n",
      "Best match: decorator 4.3.2\n",
      "Processing decorator-4.3.2-py3.7.egg\n",
      "decorator 4.3.2 is already the active version in easy-install.pth\n",
      "\n",
      "Using /Users/rick446/src/arborian-classes/data/MyProject/env/lib/python3.7/site-packages/decorator-4.3.2-py3.7.egg\n",
      "Searching for python-dateutil==2.8.0\n",
      "Best match: python-dateutil 2.8.0\n",
      "Processing python_dateutil-2.8.0-py3.7.egg\n",
      "python-dateutil 2.8.0 is already the active version in easy-install.pth\n",
      "\n",
      "Using /Users/rick446/src/arborian-classes/data/MyProject/env/lib/python3.7/site-packages/python_dateutil-2.8.0-py3.7.egg\n",
      "Searching for ptyprocess==0.6.0\n",
      "Best match: ptyprocess 0.6.0\n",
      "Processing ptyprocess-0.6.0-py3.7.egg\n",
      "ptyprocess 0.6.0 is already the active version in easy-install.pth\n",
      "\n",
      "Using /Users/rick446/src/arborian-classes/data/MyProject/env/lib/python3.7/site-packages/ptyprocess-0.6.0-py3.7.egg\n",
      "Searching for jsonschema==3.0.0b3\n",
      "Best match: jsonschema 3.0.0b3\n",
      "Processing jsonschema-3.0.0b3-py3.7.egg\n",
      "jsonschema 3.0.0b3 is already the active version in easy-install.pth\n",
      "Installing jsonschema script to /Users/rick446/src/arborian-classes/data/MyProject/env/bin\n",
      "\n",
      "Using /Users/rick446/src/arborian-classes/data/MyProject/env/lib/python3.7/site-packages/jsonschema-3.0.0b3-py3.7.egg\n",
      "Searching for webencodings==0.5.1\n",
      "Best match: webencodings 0.5.1\n",
      "Processing webencodings-0.5.1-py3.7.egg\n",
      "webencodings 0.5.1 is already the active version in easy-install.pth\n",
      "\n",
      "Using /Users/rick446/src/arborian-classes/data/MyProject/env/lib/python3.7/site-packages/webencodings-0.5.1-py3.7.egg\n",
      "Searching for wcwidth==0.1.7\n",
      "Best match: wcwidth 0.1.7\n",
      "Processing wcwidth-0.1.7-py3.7.egg\n",
      "wcwidth 0.1.7 is already the active version in easy-install.pth\n",
      "\n",
      "Using /Users/rick446/src/arborian-classes/data/MyProject/env/lib/python3.7/site-packages/wcwidth-0.1.7-py3.7.egg\n",
      "Searching for setuptools==40.6.2\n",
      "Best match: setuptools 40.6.2\n",
      "Adding setuptools 40.6.2 to easy-install.pth file\n",
      "Installing easy_install script to /Users/rick446/src/arborian-classes/data/MyProject/env/bin\n",
      "Installing easy_install-3.6 script to /Users/rick446/src/arborian-classes/data/MyProject/env/bin\n",
      "\n",
      "Using /Users/rick446/src/arborian-classes/data/MyProject/env/lib/python3.7/site-packages\n",
      "Searching for pickleshare==0.7.5\n",
      "Best match: pickleshare 0.7.5\n",
      "Processing pickleshare-0.7.5-py3.7.egg\n",
      "pickleshare 0.7.5 is already the active version in easy-install.pth\n",
      "\n",
      "Using /Users/rick446/src/arborian-classes/data/MyProject/env/lib/python3.7/site-packages/pickleshare-0.7.5-py3.7.egg\n",
      "Searching for pexpect==4.6.0\n",
      "Best match: pexpect 4.6.0\n",
      "Processing pexpect-4.6.0-py3.7.egg\n",
      "pexpect 4.6.0 is already the active version in easy-install.pth\n",
      "\n",
      "Using /Users/rick446/src/arborian-classes/data/MyProject/env/lib/python3.7/site-packages/pexpect-4.6.0-py3.7.egg\n",
      "Searching for jedi==0.13.2\n",
      "Best match: jedi 0.13.2\n",
      "Processing jedi-0.13.2-py3.7.egg\n",
      "jedi 0.13.2 is already the active version in easy-install.pth\n",
      "\n",
      "Using /Users/rick446/src/arborian-classes/data/MyProject/env/lib/python3.7/site-packages/jedi-0.13.2-py3.7.egg\n",
      "Searching for backcall==0.1.0\n",
      "Best match: backcall 0.1.0\n",
      "Processing backcall-0.1.0-py3.7.egg\n",
      "backcall 0.1.0 is already the active version in easy-install.pth\n",
      "\n",
      "Using /Users/rick446/src/arborian-classes/data/MyProject/env/lib/python3.7/site-packages/backcall-0.1.0-py3.7.egg\n",
      "Searching for appnope==0.1.0\n",
      "Best match: appnope 0.1.0\n",
      "Processing appnope-0.1.0-py3.7.egg\n",
      "appnope 0.1.0 is already the active version in easy-install.pth\n",
      "\n",
      "Using /Users/rick446/src/arborian-classes/data/MyProject/env/lib/python3.7/site-packages/appnope-0.1.0-py3.7.egg\n",
      "Searching for pyrsistent==0.14.10\n",
      "Best match: pyrsistent 0.14.10\n",
      "Processing pyrsistent-0.14.10-py3.7-macosx-10.14-x86_64.egg\n",
      "pyrsistent 0.14.10 is already the active version in easy-install.pth\n",
      "\n",
      "Using /Users/rick446/src/arborian-classes/data/MyProject/env/lib/python3.7/site-packages/pyrsistent-0.14.10-py3.7-macosx-10.14-x86_64.egg\n",
      "Searching for attrs==18.2.0\n",
      "Best match: attrs 18.2.0\n",
      "Processing attrs-18.2.0-py3.7.egg\n",
      "attrs 18.2.0 is already the active version in easy-install.pth\n",
      "\n",
      "Using /Users/rick446/src/arborian-classes/data/MyProject/env/lib/python3.7/site-packages/attrs-18.2.0-py3.7.egg\n",
      "Searching for parso==0.3.4\n",
      "Best match: parso 0.3.4\n",
      "Processing parso-0.3.4-py3.7.egg\n",
      "parso 0.3.4 is already the active version in easy-install.pth\n",
      "\n",
      "Using /Users/rick446/src/arborian-classes/data/MyProject/env/lib/python3.7/site-packages/parso-0.3.4-py3.7.egg\n",
      "Finished processing dependencies for MyProject==0.1\n"
     ]
    }
   ],
   "source": [
    "%%bash\n",
    "cd data/MyProject\n",
    "python -m venv env\n",
    "source env/bin/activate\n",
    "python setup.py develop"
   ]
  },
  {
   "cell_type": "code",
   "execution_count": 64,
   "metadata": {},
   "outputs": [
    {
     "name": "stdout",
     "output_type": "stream",
     "text": [
      "/Users/rick446/src/arborian-classes/data/MyProject\r\n",
      "."
     ]
    }
   ],
   "source": [
    "cat data/MyProject/env/lib/python3.7/site-packages/MyProject.egg-link"
   ]
  },
  {
   "cell_type": "code",
   "execution_count": 66,
   "metadata": {},
   "outputs": [
    {
     "name": "stdout",
     "output_type": "stream",
     "text": [
      "This is the __init__ file for mypackage\n",
      "This is mymodule\n",
      "Hello, class!\n"
     ]
    }
   ],
   "source": [
    "%%bash\n",
    "source data/MyProject/env/bin/activate\n",
    "python -c 'import mypackage.mymodule; mypackage.mymodule.greet(\"class\")'"
   ]
  },
  {
   "cell_type": "markdown",
   "metadata": {},
   "source": [
    "## Distributing data with our project\n",
    "\n",
    "Normally, only Python files are included with our project. In order to include non-Python files, we need to specify those as well:"
   ]
  },
  {
   "cell_type": "code",
   "execution_count": 67,
   "metadata": {},
   "outputs": [
    {
     "name": "stdout",
     "output_type": "stream",
     "text": [
      "Overwriting data/MyProject/mypackage/template.txt\n"
     ]
    }
   ],
   "source": [
    "%%file data/MyProject/mypackage/template.txt\n",
    "This is an awesome template that greets you.\n",
    "\n",
    "Hello, ${name}!"
   ]
  },
  {
   "cell_type": "code",
   "execution_count": 85,
   "metadata": {},
   "outputs": [
    {
     "name": "stdout",
     "output_type": "stream",
     "text": [
      "Overwriting data/MyProject/mypackage/mymodule.py\n"
     ]
    }
   ],
   "source": [
    "%%file data/MyProject/mypackage/mymodule.py\n",
    "import os, string\n",
    "\n",
    "\n",
    "def greet(name):\n",
    "    with open(os.path.join(\n",
    "        os.path.dirname(__file__),\n",
    "        'template.txt'\n",
    "    )) as f:\n",
    "        template = string.Template(f.read())\n",
    "    print(template.safe_substitute({'name': name}))"
   ]
  },
  {
   "cell_type": "code",
   "execution_count": 76,
   "metadata": {},
   "outputs": [
    {
     "name": "stdout",
     "output_type": "stream",
     "text": [
      "Overwriting data/MyProject/setup.cfg\n"
     ]
    }
   ],
   "source": [
    "%%file data/MyProject/setup.cfg\n",
    "[metadata]\n",
    "name = MyProject\n",
    "url = file:///\n",
    "author = Some Person\n",
    "author_email = somebody@example.com\n",
    "version = 0.1\n",
    "description = This should be a short description of our project\n",
    "long_description = file: README.md\n",
    "classifiers =\n",
    "    Programming Language :: Python :: 3\n",
    "    Programming Language :: Python :: 3.7\n",
    "keywords = test, class\n",
    "\n",
    "[options]\n",
    "packages = mypackage\n",
    "install_requires = \n",
    "    jupyter\n",
    "    flask\n",
    "    numpy>=1.16.0<1.17\n",
    "    \n",
    "[options.package_data]\n",
    "* = *.txt"
   ]
  },
  {
   "cell_type": "code",
   "execution_count": 77,
   "metadata": {},
   "outputs": [
    {
     "name": "stdout",
     "output_type": "stream",
     "text": [
      "running sdist\n",
      "running egg_info\n",
      "writing MyProject.egg-info/PKG-INFO\n",
      "writing dependency_links to MyProject.egg-info/dependency_links.txt\n",
      "writing requirements to MyProject.egg-info/requires.txt\n",
      "writing top-level names to MyProject.egg-info/top_level.txt\n",
      "reading manifest file 'MyProject.egg-info/SOURCES.txt'\n",
      "writing manifest file 'MyProject.egg-info/SOURCES.txt'\n",
      "running check\n",
      "creating MyProject-0.1\n",
      "creating MyProject-0.1/MyProject.egg-info\n",
      "creating MyProject-0.1/mypackage\n",
      "copying files to MyProject-0.1...\n",
      "copying README.md -> MyProject-0.1\n",
      "copying setup.cfg -> MyProject-0.1\n",
      "copying setup.py -> MyProject-0.1\n",
      "copying MyProject.egg-info/PKG-INFO -> MyProject-0.1/MyProject.egg-info\n",
      "copying MyProject.egg-info/SOURCES.txt -> MyProject-0.1/MyProject.egg-info\n",
      "copying MyProject.egg-info/dependency_links.txt -> MyProject-0.1/MyProject.egg-info\n",
      "copying MyProject.egg-info/requires.txt -> MyProject-0.1/MyProject.egg-info\n",
      "copying MyProject.egg-info/top_level.txt -> MyProject-0.1/MyProject.egg-info\n",
      "copying mypackage/__init__.py -> MyProject-0.1/mypackage\n",
      "copying mypackage/mymodule.py -> MyProject-0.1/mypackage\n",
      "copying mypackage/template.txt -> MyProject-0.1/mypackage\n",
      "Writing MyProject-0.1/setup.cfg\n",
      "Creating tar archive\n",
      "removing 'MyProject-0.1' (and everything under it)\n"
     ]
    }
   ],
   "source": [
    "%%bash\n",
    "cd data/MyProject\n",
    "python setup.py sdist"
   ]
  },
  {
   "cell_type": "code",
   "execution_count": 86,
   "metadata": {},
   "outputs": [
    {
     "name": "stdout",
     "output_type": "stream",
     "text": [
      "This is the __init__ file for mypackage\n",
      "This is an awesome template that greets you.\n",
      "\n",
      "Hello, class!\n",
      "\n"
     ]
    }
   ],
   "source": [
    "%%bash\n",
    "source data/MyProject/env/bin/activate\n",
    "python -c 'import mypackage.mymodule; mypackage.mymodule.greet(\"class\")'"
   ]
  },
  {
   "cell_type": "markdown",
   "metadata": {},
   "source": [
    "# Using entry_points for console_scripts\n",
    "\n",
    "If you need to create a new command-line tool, a nice approach is to use the `entry_points` feature of `setuptools`:"
   ]
  },
  {
   "cell_type": "code",
   "execution_count": 89,
   "metadata": {},
   "outputs": [
    {
     "name": "stdout",
     "output_type": "stream",
     "text": [
      "Overwriting data/MyProject/setup.cfg\n"
     ]
    }
   ],
   "source": [
    "%%file data/MyProject/setup.cfg\n",
    "[metadata]\n",
    "name = MyProject\n",
    "url = file:///\n",
    "author = Some Person\n",
    "author_email = somebody@example.com\n",
    "version = 0.1\n",
    "description = This should be a short description of our project\n",
    "long_description = file: README.md\n",
    "classifiers =\n",
    "    Programming Language :: Python :: 3\n",
    "    Programming Language :: Python :: 3.7\n",
    "keywords = test, class\n",
    "\n",
    "[options]\n",
    "packages = mypackage\n",
    "install_requires = \n",
    "    jupyter\n",
    "    flask\n",
    "    numpy>=1.16.0<1.17\n",
    "    \n",
    "[options.package_data]\n",
    "* = *.txt\n",
    "\n",
    "[options.entry_points]\n",
    "console_scripts =\n",
    "  my-greet=mypackage.mymodule:greet_main"
   ]
  },
  {
   "cell_type": "code",
   "execution_count": 94,
   "metadata": {},
   "outputs": [
    {
     "name": "stdout",
     "output_type": "stream",
     "text": [
      "Overwriting data/MyProject/mypackage/mymodule.py\n"
     ]
    }
   ],
   "source": [
    "%%file data/MyProject/mypackage/mymodule.py\n",
    "import os, sys, string\n",
    "\n",
    "\n",
    "def greet(name):\n",
    "    with open(os.path.join(\n",
    "        os.path.dirname(__file__),\n",
    "        'template.txt'\n",
    "    )) as f:\n",
    "        template = string.Template(f.read())\n",
    "    print(template.safe_substitute({'name': name}))\n",
    "    \n",
    "    \n",
    "def greet_main():\n",
    "    if len(sys.argv) > 1:\n",
    "        name = sys.argv[1]\n",
    "    else:\n",
    "        name = 'unknown human'\n",
    "    greet(name)"
   ]
  },
  {
   "cell_type": "code",
   "execution_count": 95,
   "metadata": {},
   "outputs": [
    {
     "name": "stdout",
     "output_type": "stream",
     "text": [
      "running develop\n",
      "running egg_info\n",
      "writing MyProject.egg-info/PKG-INFO\n",
      "writing dependency_links to MyProject.egg-info/dependency_links.txt\n",
      "writing entry points to MyProject.egg-info/entry_points.txt\n",
      "writing requirements to MyProject.egg-info/requires.txt\n",
      "writing top-level names to MyProject.egg-info/top_level.txt\n",
      "reading manifest file 'MyProject.egg-info/SOURCES.txt'\n",
      "writing manifest file 'MyProject.egg-info/SOURCES.txt'\n",
      "running build_ext\n",
      "Creating /Users/rick446/src/arborian-classes/data/MyProject/env/lib/python3.7/site-packages/MyProject.egg-link (link to .)\n",
      "MyProject 0.1 is already the active version in easy-install.pth\n",
      "Installing my-greet script to /Users/rick446/src/arborian-classes/data/MyProject/env/bin\n",
      "\n",
      "Installed /Users/rick446/src/arborian-classes/data/MyProject\n",
      "Processing dependencies for MyProject==0.1\n",
      "Searching for numpy==1.16.1\n",
      "Best match: numpy 1.16.1\n",
      "Processing numpy-1.16.1-py3.7-macosx-10.14-x86_64.egg\n",
      "numpy 1.16.1 is already the active version in easy-install.pth\n",
      "Installing f2py script to /Users/rick446/src/arborian-classes/data/MyProject/env/bin\n",
      "Installing f2py3 script to /Users/rick446/src/arborian-classes/data/MyProject/env/bin\n",
      "Installing f2py3.7 script to /Users/rick446/src/arborian-classes/data/MyProject/env/bin\n",
      "\n",
      "Using /Users/rick446/src/arborian-classes/data/MyProject/env/lib/python3.7/site-packages/numpy-1.16.1-py3.7-macosx-10.14-x86_64.egg\n",
      "Searching for Flask==1.0.2\n",
      "Best match: Flask 1.0.2\n",
      "Processing Flask-1.0.2-py3.7.egg\n",
      "Flask 1.0.2 is already the active version in easy-install.pth\n",
      "Installing flask script to /Users/rick446/src/arborian-classes/data/MyProject/env/bin\n",
      "\n",
      "Using /Users/rick446/src/arborian-classes/data/MyProject/env/lib/python3.7/site-packages/Flask-1.0.2-py3.7.egg\n",
      "Searching for jupyter==1.0.0\n",
      "Best match: jupyter 1.0.0\n",
      "Processing jupyter-1.0.0-py3.7.egg\n",
      "jupyter 1.0.0 is already the active version in easy-install.pth\n",
      "\n",
      "Using /Users/rick446/src/arborian-classes/data/MyProject/env/lib/python3.7/site-packages/jupyter-1.0.0-py3.7.egg\n",
      "Searching for itsdangerous==1.1.0\n",
      "Best match: itsdangerous 1.1.0\n",
      "Processing itsdangerous-1.1.0-py3.7.egg\n",
      "itsdangerous 1.1.0 is already the active version in easy-install.pth\n",
      "\n",
      "Using /Users/rick446/src/arborian-classes/data/MyProject/env/lib/python3.7/site-packages/itsdangerous-1.1.0-py3.7.egg\n",
      "Searching for Click==7.0\n",
      "Best match: Click 7.0\n",
      "Processing Click-7.0-py3.7.egg\n",
      "Click 7.0 is already the active version in easy-install.pth\n",
      "\n",
      "Using /Users/rick446/src/arborian-classes/data/MyProject/env/lib/python3.7/site-packages/Click-7.0-py3.7.egg\n",
      "Searching for Werkzeug==0.14.1\n",
      "Best match: Werkzeug 0.14.1\n",
      "Processing Werkzeug-0.14.1-py3.7.egg\n",
      "Werkzeug 0.14.1 is already the active version in easy-install.pth\n",
      "\n",
      "Using /Users/rick446/src/arborian-classes/data/MyProject/env/lib/python3.7/site-packages/Werkzeug-0.14.1-py3.7.egg\n",
      "Searching for Jinja2==2.10\n",
      "Best match: Jinja2 2.10\n",
      "Processing Jinja2-2.10-py3.7.egg\n",
      "Jinja2 2.10 is already the active version in easy-install.pth\n",
      "\n",
      "Using /Users/rick446/src/arborian-classes/data/MyProject/env/lib/python3.7/site-packages/Jinja2-2.10-py3.7.egg\n",
      "Searching for qtconsole==4.4.3\n",
      "Best match: qtconsole 4.4.3\n",
      "Processing qtconsole-4.4.3-py3.7.egg\n",
      "qtconsole 4.4.3 is already the active version in easy-install.pth\n",
      "Installing jupyter-qtconsole script to /Users/rick446/src/arborian-classes/data/MyProject/env/bin\n",
      "\n",
      "Using /Users/rick446/src/arborian-classes/data/MyProject/env/lib/python3.7/site-packages/qtconsole-4.4.3-py3.7.egg\n",
      "Searching for notebook==5.7.4\n",
      "Best match: notebook 5.7.4\n",
      "Processing notebook-5.7.4-py3.7.egg\n",
      "notebook 5.7.4 is already the active version in easy-install.pth\n",
      "Installing jupyter-bundlerextension script to /Users/rick446/src/arborian-classes/data/MyProject/env/bin\n",
      "Installing jupyter-nbextension script to /Users/rick446/src/arborian-classes/data/MyProject/env/bin\n",
      "Installing jupyter-notebook script to /Users/rick446/src/arborian-classes/data/MyProject/env/bin\n",
      "Installing jupyter-serverextension script to /Users/rick446/src/arborian-classes/data/MyProject/env/bin\n",
      "\n",
      "Using /Users/rick446/src/arborian-classes/data/MyProject/env/lib/python3.7/site-packages/notebook-5.7.4-py3.7.egg\n",
      "Searching for nbconvert==5.4.1\n",
      "Best match: nbconvert 5.4.1\n",
      "Processing nbconvert-5.4.1-py3.7.egg\n",
      "nbconvert 5.4.1 is already the active version in easy-install.pth\n",
      "Installing jupyter-nbconvert script to /Users/rick446/src/arborian-classes/data/MyProject/env/bin\n",
      "\n",
      "Using /Users/rick446/src/arborian-classes/data/MyProject/env/lib/python3.7/site-packages/nbconvert-5.4.1-py3.7.egg\n",
      "Searching for jupyter-console==6.0.0\n",
      "Best match: jupyter-console 6.0.0\n",
      "Processing jupyter_console-6.0.0-py3.7.egg\n",
      "jupyter-console 6.0.0 is already the active version in easy-install.pth\n",
      "Installing jupyter-console script to /Users/rick446/src/arborian-classes/data/MyProject/env/bin\n",
      "\n",
      "Using /Users/rick446/src/arborian-classes/data/MyProject/env/lib/python3.7/site-packages/jupyter_console-6.0.0-py3.7.egg\n",
      "Searching for ipywidgets==7.4.2\n",
      "Best match: ipywidgets 7.4.2\n",
      "Processing ipywidgets-7.4.2-py3.7.egg\n",
      "ipywidgets 7.4.2 is already the active version in easy-install.pth\n",
      "\n",
      "Using /Users/rick446/src/arborian-classes/data/MyProject/env/lib/python3.7/site-packages/ipywidgets-7.4.2-py3.7.egg\n",
      "Searching for ipykernel==5.1.0\n",
      "Best match: ipykernel 5.1.0\n",
      "Processing ipykernel-5.1.0-py3.7.egg\n",
      "ipykernel 5.1.0 is already the active version in easy-install.pth\n",
      "\n",
      "Using /Users/rick446/src/arborian-classes/data/MyProject/env/lib/python3.7/site-packages/ipykernel-5.1.0-py3.7.egg\n",
      "Searching for MarkupSafe==1.1.0\n",
      "Best match: MarkupSafe 1.1.0\n",
      "Processing MarkupSafe-1.1.0-py3.7-macosx-10.14-x86_64.egg\n",
      "MarkupSafe 1.1.0 is already the active version in easy-install.pth\n",
      "\n",
      "Using /Users/rick446/src/arborian-classes/data/MyProject/env/lib/python3.7/site-packages/MarkupSafe-1.1.0-py3.7-macosx-10.14-x86_64.egg\n",
      "Searching for traitlets==4.3.2\n",
      "Best match: traitlets 4.3.2\n",
      "Processing traitlets-4.3.2-py3.7.egg\n",
      "traitlets 4.3.2 is already the active version in easy-install.pth\n",
      "\n",
      "Using /Users/rick446/src/arborian-classes/data/MyProject/env/lib/python3.7/site-packages/traitlets-4.3.2-py3.7.egg\n",
      "Searching for Pygments==2.3.1\n",
      "Best match: Pygments 2.3.1\n",
      "Processing Pygments-2.3.1-py3.7.egg\n",
      "Pygments 2.3.1 is already the active version in easy-install.pth\n",
      "Installing pygmentize script to /Users/rick446/src/arborian-classes/data/MyProject/env/bin\n",
      "\n",
      "Using /Users/rick446/src/arborian-classes/data/MyProject/env/lib/python3.7/site-packages/Pygments-2.3.1-py3.7.egg\n",
      "Searching for jupyter-core==4.4.0\n",
      "Best match: jupyter-core 4.4.0\n",
      "Processing jupyter_core-4.4.0-py3.7.egg\n",
      "jupyter-core 4.4.0 is already the active version in easy-install.pth\n",
      "Installing jupyter script to /Users/rick446/src/arborian-classes/data/MyProject/env/bin\n",
      "Installing jupyter-migrate script to /Users/rick446/src/arborian-classes/data/MyProject/env/bin\n",
      "Installing jupyter-troubleshoot script to /Users/rick446/src/arborian-classes/data/MyProject/env/bin\n",
      "\n",
      "Using /Users/rick446/src/arborian-classes/data/MyProject/env/lib/python3.7/site-packages/jupyter_core-4.4.0-py3.7.egg\n",
      "Searching for jupyter-client==5.2.4\n",
      "Best match: jupyter-client 5.2.4\n",
      "Processing jupyter_client-5.2.4-py3.7.egg\n",
      "jupyter-client 5.2.4 is already the active version in easy-install.pth\n",
      "Installing jupyter-kernel script to /Users/rick446/src/arborian-classes/data/MyProject/env/bin\n",
      "Installing jupyter-kernelspec script to /Users/rick446/src/arborian-classes/data/MyProject/env/bin\n",
      "Installing jupyter-run script to /Users/rick446/src/arborian-classes/data/MyProject/env/bin\n",
      "\n",
      "Using /Users/rick446/src/arborian-classes/data/MyProject/env/lib/python3.7/site-packages/jupyter_client-5.2.4-py3.7.egg\n",
      "Searching for ipython-genutils==0.2.0\n",
      "Best match: ipython-genutils 0.2.0\n",
      "Processing ipython_genutils-0.2.0-py3.7.egg\n",
      "ipython-genutils 0.2.0 is already the active version in easy-install.pth\n",
      "\n",
      "Using /Users/rick446/src/arborian-classes/data/MyProject/env/lib/python3.7/site-packages/ipython_genutils-0.2.0-py3.7.egg\n",
      "Searching for tornado==6.0b1\n",
      "Best match: tornado 6.0b1\n",
      "Processing tornado-6.0b1-py3.7-macosx-10.14-x86_64.egg\n",
      "tornado 6.0b1 is already the active version in easy-install.pth\n",
      "\n",
      "Using /Users/rick446/src/arborian-classes/data/MyProject/env/lib/python3.7/site-packages/tornado-6.0b1-py3.7-macosx-10.14-x86_64.egg\n",
      "Searching for terminado==0.8.1\n",
      "Best match: terminado 0.8.1\n",
      "Processing terminado-0.8.1-py3.7.egg\n",
      "terminado 0.8.1 is already the active version in easy-install.pth\n",
      "\n",
      "Using /Users/rick446/src/arborian-classes/data/MyProject/env/lib/python3.7/site-packages/terminado-0.8.1-py3.7.egg\n",
      "Searching for pyzmq==17.1.2\n",
      "Best match: pyzmq 17.1.2\n",
      "Processing pyzmq-17.1.2-py3.7-macosx-10.14-x86_64.egg\n",
      "pyzmq 17.1.2 is already the active version in easy-install.pth\n",
      "\n",
      "Using /Users/rick446/src/arborian-classes/data/MyProject/env/lib/python3.7/site-packages/pyzmq-17.1.2-py3.7-macosx-10.14-x86_64.egg\n",
      "Searching for prometheus-client==0.5.0\n",
      "Best match: prometheus-client 0.5.0\n",
      "Processing prometheus_client-0.5.0-py3.7.egg\n",
      "prometheus-client 0.5.0 is already the active version in easy-install.pth\n",
      "\n",
      "Using /Users/rick446/src/arborian-classes/data/MyProject/env/lib/python3.7/site-packages/prometheus_client-0.5.0-py3.7.egg\n",
      "Searching for nbformat==4.4.0\n",
      "Best match: nbformat 4.4.0\n",
      "Processing nbformat-4.4.0-py3.7.egg\n",
      "nbformat 4.4.0 is already the active version in easy-install.pth\n",
      "Installing jupyter-trust script to /Users/rick446/src/arborian-classes/data/MyProject/env/bin\n",
      "\n",
      "Using /Users/rick446/src/arborian-classes/data/MyProject/env/lib/python3.7/site-packages/nbformat-4.4.0-py3.7.egg\n",
      "Searching for Send2Trash==1.5.0\n",
      "Best match: Send2Trash 1.5.0\n",
      "Processing Send2Trash-1.5.0-py3.7.egg\n",
      "Send2Trash 1.5.0 is already the active version in easy-install.pth\n",
      "\n",
      "Using /Users/rick446/src/arborian-classes/data/MyProject/env/lib/python3.7/site-packages/Send2Trash-1.5.0-py3.7.egg\n",
      "Searching for testpath==0.4.2\n",
      "Best match: testpath 0.4.2\n",
      "Processing testpath-0.4.2-py3.7.egg\n",
      "testpath 0.4.2 is already the active version in easy-install.pth\n",
      "\n",
      "Using /Users/rick446/src/arborian-classes/data/MyProject/env/lib/python3.7/site-packages/testpath-0.4.2-py3.7.egg\n",
      "Searching for pandocfilters==1.4.2\n",
      "Best match: pandocfilters 1.4.2\n",
      "Processing pandocfilters-1.4.2-py3.7.egg\n",
      "pandocfilters 1.4.2 is already the active version in easy-install.pth\n",
      "\n",
      "Using /Users/rick446/src/arborian-classes/data/MyProject/env/lib/python3.7/site-packages/pandocfilters-1.4.2-py3.7.egg\n",
      "Searching for mistune==0.8.4\n",
      "Best match: mistune 0.8.4\n",
      "Processing mistune-0.8.4-py3.7.egg\n",
      "mistune 0.8.4 is already the active version in easy-install.pth\n",
      "\n",
      "Using /Users/rick446/src/arborian-classes/data/MyProject/env/lib/python3.7/site-packages/mistune-0.8.4-py3.7.egg\n",
      "Searching for entrypoints==0.3\n",
      "Best match: entrypoints 0.3\n",
      "Processing entrypoints-0.3-py3.7.egg\n",
      "entrypoints 0.3 is already the active version in easy-install.pth\n",
      "\n",
      "Using /Users/rick446/src/arborian-classes/data/MyProject/env/lib/python3.7/site-packages/entrypoints-0.3-py3.7.egg\n",
      "Searching for defusedxml==0.5.0\n",
      "Best match: defusedxml 0.5.0\n",
      "Processing defusedxml-0.5.0-py3.7.egg\n",
      "defusedxml 0.5.0 is already the active version in easy-install.pth\n",
      "\n",
      "Using /Users/rick446/src/arborian-classes/data/MyProject/env/lib/python3.7/site-packages/defusedxml-0.5.0-py3.7.egg\n",
      "Searching for bleach==3.1.0\n",
      "Best match: bleach 3.1.0\n",
      "Processing bleach-3.1.0-py3.7.egg\n",
      "bleach 3.1.0 is already the active version in easy-install.pth\n",
      "\n",
      "Using /Users/rick446/src/arborian-classes/data/MyProject/env/lib/python3.7/site-packages/bleach-3.1.0-py3.7.egg\n",
      "Searching for prompt-toolkit==2.0.8\n",
      "Best match: prompt-toolkit 2.0.8\n",
      "Processing prompt_toolkit-2.0.8-py3.7.egg\n",
      "prompt-toolkit 2.0.8 is already the active version in easy-install.pth\n",
      "\n",
      "Using /Users/rick446/src/arborian-classes/data/MyProject/env/lib/python3.7/site-packages/prompt_toolkit-2.0.8-py3.7.egg\n",
      "Searching for ipython==7.2.0\n",
      "Best match: ipython 7.2.0\n",
      "Processing ipython-7.2.0-py3.7.egg\n",
      "ipython 7.2.0 is already the active version in easy-install.pth\n",
      "Installing iptest script to /Users/rick446/src/arborian-classes/data/MyProject/env/bin\n",
      "Installing iptest3 script to /Users/rick446/src/arborian-classes/data/MyProject/env/bin\n",
      "Installing ipython script to /Users/rick446/src/arborian-classes/data/MyProject/env/bin\n",
      "Installing ipython3 script to /Users/rick446/src/arborian-classes/data/MyProject/env/bin\n",
      "\n",
      "Using /Users/rick446/src/arborian-classes/data/MyProject/env/lib/python3.7/site-packages/ipython-7.2.0-py3.7.egg\n",
      "Searching for widgetsnbextension==3.4.2\n",
      "Best match: widgetsnbextension 3.4.2\n",
      "Processing widgetsnbextension-3.4.2-py3.7.egg\n",
      "widgetsnbextension 3.4.2 is already the active version in easy-install.pth\n",
      "\n",
      "Using /Users/rick446/src/arborian-classes/data/MyProject/env/lib/python3.7/site-packages/widgetsnbextension-3.4.2-py3.7.egg\n",
      "Searching for six==1.12.0\n",
      "Best match: six 1.12.0\n",
      "Processing six-1.12.0-py3.7.egg\n",
      "six 1.12.0 is already the active version in easy-install.pth\n",
      "\n",
      "Using /Users/rick446/src/arborian-classes/data/MyProject/env/lib/python3.7/site-packages/six-1.12.0-py3.7.egg\n",
      "Searching for decorator==4.3.2\n",
      "Best match: decorator 4.3.2\n",
      "Processing decorator-4.3.2-py3.7.egg\n",
      "decorator 4.3.2 is already the active version in easy-install.pth\n",
      "\n",
      "Using /Users/rick446/src/arborian-classes/data/MyProject/env/lib/python3.7/site-packages/decorator-4.3.2-py3.7.egg\n",
      "Searching for python-dateutil==2.8.0\n",
      "Best match: python-dateutil 2.8.0\n",
      "Processing python_dateutil-2.8.0-py3.7.egg\n",
      "python-dateutil 2.8.0 is already the active version in easy-install.pth\n",
      "\n",
      "Using /Users/rick446/src/arborian-classes/data/MyProject/env/lib/python3.7/site-packages/python_dateutil-2.8.0-py3.7.egg\n",
      "Searching for ptyprocess==0.6.0\n",
      "Best match: ptyprocess 0.6.0\n",
      "Processing ptyprocess-0.6.0-py3.7.egg\n",
      "ptyprocess 0.6.0 is already the active version in easy-install.pth\n",
      "\n",
      "Using /Users/rick446/src/arborian-classes/data/MyProject/env/lib/python3.7/site-packages/ptyprocess-0.6.0-py3.7.egg\n",
      "Searching for jsonschema==3.0.0b3\n",
      "Best match: jsonschema 3.0.0b3\n",
      "Processing jsonschema-3.0.0b3-py3.7.egg\n",
      "jsonschema 3.0.0b3 is already the active version in easy-install.pth\n",
      "Installing jsonschema script to /Users/rick446/src/arborian-classes/data/MyProject/env/bin\n",
      "\n",
      "Using /Users/rick446/src/arborian-classes/data/MyProject/env/lib/python3.7/site-packages/jsonschema-3.0.0b3-py3.7.egg\n",
      "Searching for webencodings==0.5.1\n",
      "Best match: webencodings 0.5.1\n",
      "Processing webencodings-0.5.1-py3.7.egg\n",
      "webencodings 0.5.1 is already the active version in easy-install.pth\n",
      "\n",
      "Using /Users/rick446/src/arborian-classes/data/MyProject/env/lib/python3.7/site-packages/webencodings-0.5.1-py3.7.egg\n",
      "Searching for wcwidth==0.1.7\n",
      "Best match: wcwidth 0.1.7\n",
      "Processing wcwidth-0.1.7-py3.7.egg\n",
      "wcwidth 0.1.7 is already the active version in easy-install.pth\n",
      "\n",
      "Using /Users/rick446/src/arborian-classes/data/MyProject/env/lib/python3.7/site-packages/wcwidth-0.1.7-py3.7.egg\n",
      "Searching for setuptools==40.6.2\n",
      "Best match: setuptools 40.6.2\n",
      "Adding setuptools 40.6.2 to easy-install.pth file\n",
      "Installing easy_install script to /Users/rick446/src/arborian-classes/data/MyProject/env/bin\n",
      "Installing easy_install-3.6 script to /Users/rick446/src/arborian-classes/data/MyProject/env/bin\n",
      "\n",
      "Using /Users/rick446/src/arborian-classes/data/MyProject/env/lib/python3.7/site-packages\n",
      "Searching for pickleshare==0.7.5\n",
      "Best match: pickleshare 0.7.5\n",
      "Processing pickleshare-0.7.5-py3.7.egg\n",
      "pickleshare 0.7.5 is already the active version in easy-install.pth\n",
      "\n",
      "Using /Users/rick446/src/arborian-classes/data/MyProject/env/lib/python3.7/site-packages/pickleshare-0.7.5-py3.7.egg\n",
      "Searching for pexpect==4.6.0\n",
      "Best match: pexpect 4.6.0\n",
      "Processing pexpect-4.6.0-py3.7.egg\n",
      "pexpect 4.6.0 is already the active version in easy-install.pth\n",
      "\n",
      "Using /Users/rick446/src/arborian-classes/data/MyProject/env/lib/python3.7/site-packages/pexpect-4.6.0-py3.7.egg\n",
      "Searching for jedi==0.13.2\n",
      "Best match: jedi 0.13.2\n",
      "Processing jedi-0.13.2-py3.7.egg\n",
      "jedi 0.13.2 is already the active version in easy-install.pth\n",
      "\n",
      "Using /Users/rick446/src/arborian-classes/data/MyProject/env/lib/python3.7/site-packages/jedi-0.13.2-py3.7.egg\n",
      "Searching for backcall==0.1.0\n",
      "Best match: backcall 0.1.0\n",
      "Processing backcall-0.1.0-py3.7.egg\n",
      "backcall 0.1.0 is already the active version in easy-install.pth\n",
      "\n",
      "Using /Users/rick446/src/arborian-classes/data/MyProject/env/lib/python3.7/site-packages/backcall-0.1.0-py3.7.egg\n",
      "Searching for appnope==0.1.0\n",
      "Best match: appnope 0.1.0\n",
      "Processing appnope-0.1.0-py3.7.egg\n",
      "appnope 0.1.0 is already the active version in easy-install.pth\n",
      "\n",
      "Using /Users/rick446/src/arborian-classes/data/MyProject/env/lib/python3.7/site-packages/appnope-0.1.0-py3.7.egg\n",
      "Searching for pyrsistent==0.14.10\n",
      "Best match: pyrsistent 0.14.10\n",
      "Processing pyrsistent-0.14.10-py3.7-macosx-10.14-x86_64.egg\n",
      "pyrsistent 0.14.10 is already the active version in easy-install.pth\n",
      "\n",
      "Using /Users/rick446/src/arborian-classes/data/MyProject/env/lib/python3.7/site-packages/pyrsistent-0.14.10-py3.7-macosx-10.14-x86_64.egg\n",
      "Searching for attrs==18.2.0\n",
      "Best match: attrs 18.2.0\n",
      "Processing attrs-18.2.0-py3.7.egg\n",
      "attrs 18.2.0 is already the active version in easy-install.pth\n",
      "\n",
      "Using /Users/rick446/src/arborian-classes/data/MyProject/env/lib/python3.7/site-packages/attrs-18.2.0-py3.7.egg\n",
      "Searching for parso==0.3.4\n",
      "Best match: parso 0.3.4\n",
      "Processing parso-0.3.4-py3.7.egg\n",
      "parso 0.3.4 is already the active version in easy-install.pth\n",
      "\n",
      "Using /Users/rick446/src/arborian-classes/data/MyProject/env/lib/python3.7/site-packages/parso-0.3.4-py3.7.egg\n",
      "Finished processing dependencies for MyProject==0.1\n"
     ]
    }
   ],
   "source": [
    "%%bash\n",
    "cd data/MyProject\n",
    "python -m venv env\n",
    "source env/bin/activate\n",
    "python setup.py develop"
   ]
  },
  {
   "cell_type": "code",
   "execution_count": 97,
   "metadata": {},
   "outputs": [
    {
     "name": "stdout",
     "output_type": "stream",
     "text": [
      "This is the __init__ file for mypackage\r\n",
      "This is an awesome template that greets you.\r\n",
      "\r\n",
      "Hello, unknown human!\r\n",
      "\r\n"
     ]
    }
   ],
   "source": [
    "!data/MyProject/env/bin/my-greet"
   ]
  },
  {
   "cell_type": "code",
   "execution_count": 98,
   "metadata": {},
   "outputs": [
    {
     "name": "stdout",
     "output_type": "stream",
     "text": [
      "This is the __init__ file for mypackage\r\n",
      "This is an awesome template that greets you.\r\n",
      "\r\n",
      "Hello, class!\r\n",
      "\r\n"
     ]
    }
   ],
   "source": [
    "!data/MyProject/env/bin/my-greet class"
   ]
  },
  {
   "cell_type": "markdown",
   "metadata": {},
   "source": [
    "# Registering with PyPI\n",
    "\n",
    "You'll need to create an account at\n",
    "\n",
    "...and then login using\n",
    "\n",
    "\n"
   ]
  },
  {
   "cell_type": "code",
   "execution_count": 111,
   "metadata": {},
   "outputs": [
    {
     "name": "stdout",
     "output_type": "stream",
     "text": [
      "Overwriting data/MyProject/setup.cfg\n"
     ]
    }
   ],
   "source": [
    "%%file data/MyProject/setup.cfg\n",
    "[metadata]\n",
    ";; change name to make it unique\n",
    "name = ProductionalizingProject-1\n",
    "url = https://github.com/DevelopIntelligence\n",
    "author = Some Person\n",
    "author_email = somebody@example.com\n",
    "version = 0.2\n",
    "description = This should be a short description of our project\n",
    "long_description = file: README.md\n",
    "classifiers =\n",
    "    Programming Language :: Python :: 3\n",
    "    Programming Language :: Python :: 3.7\n",
    "keywords = test, class\n",
    "\n",
    "[options]\n",
    "packages = mypackage\n",
    "install_requires = \n",
    "    jupyter\n",
    "    flask\n",
    "    numpy>=1.16.0<1.17\n",
    "    \n",
    "[options.package_data]\n",
    "* = *.txt"
   ]
  },
  {
   "cell_type": "code",
   "execution_count": 112,
   "metadata": {},
   "outputs": [
    {
     "name": "stdout",
     "output_type": "stream",
     "text": [
      "Requirement already satisfied: twine in ./env/lib/python3.7/site-packages (1.13.0)\n",
      "Requirement already satisfied: pkginfo>=1.4.2 in ./env/lib/python3.7/site-packages (from twine) (1.5.0.1)\n",
      "Requirement already satisfied: requests-toolbelt!=0.9.0,>=0.8.0 in ./env/lib/python3.7/site-packages (from twine) (0.9.1)\n",
      "Requirement already satisfied: readme-renderer>=21.0 in ./env/lib/python3.7/site-packages (from twine) (24.0)\n",
      "Requirement already satisfied: requests!=2.15,!=2.16,>=2.5.0 in ./env/lib/python3.7/site-packages (from twine) (2.21.0)\n",
      "Requirement already satisfied: setuptools>=0.7.0 in ./env/lib/python3.7/site-packages (from twine) (40.6.2)\n",
      "Requirement already satisfied: tqdm>=4.14 in ./env/lib/python3.7/site-packages (from twine) (4.31.1)\n",
      "Requirement already satisfied: six in ./env/lib/python3.7/site-packages/six-1.12.0-py3.7.egg (from readme-renderer>=21.0->twine) (1.12.0)\n",
      "Requirement already satisfied: bleach>=2.1.0 in ./env/lib/python3.7/site-packages/bleach-3.1.0-py3.7.egg (from readme-renderer>=21.0->twine) (3.1.0)\n",
      "Requirement already satisfied: docutils>=0.13.1 in ./env/lib/python3.7/site-packages (from readme-renderer>=21.0->twine) (0.14)\n",
      "Requirement already satisfied: Pygments in ./env/lib/python3.7/site-packages/Pygments-2.3.1-py3.7.egg (from readme-renderer>=21.0->twine) (2.3.1)\n",
      "Requirement already satisfied: chardet<3.1.0,>=3.0.2 in ./env/lib/python3.7/site-packages (from requests!=2.15,!=2.16,>=2.5.0->twine) (3.0.4)\n",
      "Requirement already satisfied: idna<2.9,>=2.5 in ./env/lib/python3.7/site-packages (from requests!=2.15,!=2.16,>=2.5.0->twine) (2.8)\n",
      "Requirement already satisfied: certifi>=2017.4.17 in ./env/lib/python3.7/site-packages (from requests!=2.15,!=2.16,>=2.5.0->twine) (2018.11.29)\n",
      "Requirement already satisfied: urllib3<1.25,>=1.21.1 in ./env/lib/python3.7/site-packages (from requests!=2.15,!=2.16,>=2.5.0->twine) (1.24.1)\n",
      "Requirement already satisfied: webencodings in ./env/lib/python3.7/site-packages/webencodings-0.5.1-py3.7.egg (from bleach>=2.1.0->readme-renderer>=21.0->twine) (0.5.1)\n",
      "running sdist\n",
      "running egg_info\n",
      "writing ProductionalizingProject_1.egg-info/PKG-INFO\n",
      "writing dependency_links to ProductionalizingProject_1.egg-info/dependency_links.txt\n",
      "writing requirements to ProductionalizingProject_1.egg-info/requires.txt\n",
      "writing top-level names to ProductionalizingProject_1.egg-info/top_level.txt\n",
      "reading manifest file 'ProductionalizingProject_1.egg-info/SOURCES.txt'\n",
      "writing manifest file 'ProductionalizingProject_1.egg-info/SOURCES.txt'\n",
      "running check\n",
      "creating ProductionalizingProject-1-0.2\n",
      "creating ProductionalizingProject-1-0.2/ProductionalizingProject_1.egg-info\n",
      "creating ProductionalizingProject-1-0.2/mypackage\n",
      "copying files to ProductionalizingProject-1-0.2...\n",
      "copying README.md -> ProductionalizingProject-1-0.2\n",
      "copying setup.cfg -> ProductionalizingProject-1-0.2\n",
      "copying setup.py -> ProductionalizingProject-1-0.2\n",
      "copying ProductionalizingProject_1.egg-info/PKG-INFO -> ProductionalizingProject-1-0.2/ProductionalizingProject_1.egg-info\n",
      "copying ProductionalizingProject_1.egg-info/SOURCES.txt -> ProductionalizingProject-1-0.2/ProductionalizingProject_1.egg-info\n",
      "copying ProductionalizingProject_1.egg-info/dependency_links.txt -> ProductionalizingProject-1-0.2/ProductionalizingProject_1.egg-info\n",
      "copying ProductionalizingProject_1.egg-info/requires.txt -> ProductionalizingProject-1-0.2/ProductionalizingProject_1.egg-info\n",
      "copying ProductionalizingProject_1.egg-info/top_level.txt -> ProductionalizingProject-1-0.2/ProductionalizingProject_1.egg-info\n",
      "copying mypackage/__init__.py -> ProductionalizingProject-1-0.2/mypackage\n",
      "copying mypackage/mymodule.py -> ProductionalizingProject-1-0.2/mypackage\n",
      "copying mypackage/template.txt -> ProductionalizingProject-1-0.2/mypackage\n",
      "Writing ProductionalizingProject-1-0.2/setup.cfg\n",
      "Creating tar archive\n",
      "removing 'ProductionalizingProject-1-0.2' (and everything under it)\n",
      "Uploading distributions to https://upload.pypi.org/legacy/\n",
      "Uploading ProductionalizingProject-1-0.2.tar.gz\n",
      "\r",
      "  0%|          | 0.00/4.34k [00:00<?, ?B/s]\r",
      "100%|██████████| 4.34k/4.34k [00:00<00:00, 20.5kB/s]\n"
     ]
    },
    {
     "name": "stderr",
     "output_type": "stream",
     "text": [
      "You are using pip version 18.1, however version 19.0.2 is available.\n",
      "You should consider upgrading via the 'pip install --upgrade pip' command.\n"
     ]
    }
   ],
   "source": [
    "%%bash\n",
    "cd data/MyProject\n",
    "rm dist/*   # clean up old distributions\n",
    "source env/bin/activate\n",
    "pip install twine\n",
    "python setup.py sdist\n",
    "twine upload dist/*"
   ]
  },
  {
   "cell_type": "markdown",
   "metadata": {},
   "source": [
    "# Lab\n",
    "\n",
    "Open [packaging lab][packaging-lab]\n",
    "\n",
    "[packaging-lab]: ./packaging-lab.ipynb"
   ]
  }
 ],
 "metadata": {
  "kernelspec": {
   "display_name": "Python 3",
   "language": "python",
   "name": "python3"
  },
  "language_info": {
   "codemirror_mode": {
    "name": "ipython",
    "version": 3
   },
   "file_extension": ".py",
   "mimetype": "text/x-python",
   "name": "python",
   "nbconvert_exporter": "python",
   "pygments_lexer": "ipython3",
   "version": "3.7.2"
  }
 },
 "nbformat": 4,
 "nbformat_minor": 2
}
