{
 "cells": [
  {
   "cell_type": "markdown",
   "metadata": {},
   "source": [
    "# Agenda for Advanced Python\n",
    "## Day 1\n",
    "1. [Done except last few solutions] [Review key intermediate Python concepts](/Day1/Review_key_intermediate_Python_concepts.ipynb)\n",
    "2. [DONE] [Decorators](/Day1/Decorators.ipynb)\n",
    "3. [DONE, but no solution] [Iterators](/Day1/Iterators.ipynb)\n",
    "1. [Done, need end lab solution] [Generators](/Day1/Generators.ipynb)\n",
    "5. [DONE, need mini-lab solutions] [Python_and_DBs](/Day1/Python_and_DBs.ipynb)\n",
    "\n",
    "## Day 2\n",
    "1. [2 hrs] Virtualenv & Packaging and using setup tools\n",
    "2. [1 hr] Bottle Web Framework\n",
    "3. [1.5 hrs] HTML parsing\n",
    "4. [1.5 hrs] Testing\n",
    "5. Email handling\n",
    "6. Intro to Django\n",
    "7. (Optional) Metaprogramming\n",
    "\n",
    "## Day 3\n",
    "1. Django\n",
    "2. Socket Programming\n",
    "3. Web programming: urllib and WSGI\n",
    "4. Co-routines\n",
    "5. Processing pipelines\n",
    "6. Event streams\n",
    "5. (Optional) dispy\n",
    "6. (Optional) asyncoro\n",
    "7. (Optional) Python and Mongo\n",
    "7. (Optional) Final Lab"
   ]
  },
  {
   "cell_type": "markdown",
   "metadata": {},
   "source": [
    "[test](array-seq.ipynb)\n",
    "\n",
    "[django](Day3/Django.ipynb)"
   ]
  },
  {
   "cell_type": "markdown",
   "metadata": {},
   "source": []
  },
  {
   "cell_type": "code",
   "execution_count": null,
   "metadata": {},
   "outputs": [],
   "source": []
  }
 ],
 "metadata": {
  "kernelspec": {
   "display_name": "Python 3",
   "language": "python",
   "name": "python3"
  },
  "language_info": {
   "codemirror_mode": {
    "name": "ipython",
    "version": 3
   },
   "file_extension": ".py",
   "mimetype": "text/x-python",
   "name": "python",
   "nbconvert_exporter": "python",
   "pygments_lexer": "ipython3",
   "version": "3.8.5"
  }
 },
 "nbformat": 4,
 "nbformat_minor": 4
}
